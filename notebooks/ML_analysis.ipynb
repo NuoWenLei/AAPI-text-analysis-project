{
  "nbformat": 4,
  "nbformat_minor": 0,
  "metadata": {
    "colab": {
      "name": "ML_analysis.ipynb",
      "provenance": [],
      "collapsed_sections": [
        "2W3qiINsQjdX",
        "YGjWd2P_Qljt",
        "X2tB19a4RfC8",
        "HbLXO81-vqjY",
        "n2F29sJaWglF",
        "fBhJYDGdWoCw",
        "IBYG4dszWrI8",
        "UK-sJEg8v6et",
        "iEbAoUjw0DzV",
        "Il82PTc10Lz-",
        "Tj75RZfL0X6u",
        "UxVxY0bq2lKo",
        "cNYFSvjt2pHN",
        "Saz6u8tv28OK",
        "mm54AanE3TKs",
        "i5Q00ylm3tXg",
        "G2905hdA83O7",
        "iA_D1wfb9hvq"
      ],
      "authorship_tag": "ABX9TyMYSeh21k58GMWVt44cylBF",
      "include_colab_link": true
    },
    "kernelspec": {
      "name": "python3",
      "display_name": "Python 3"
    },
    "language_info": {
      "name": "python"
    }
  },
  "cells": [
    {
      "cell_type": "markdown",
      "metadata": {
        "id": "view-in-github",
        "colab_type": "text"
      },
      "source": [
        "<a href=\"https://colab.research.google.com/github/NuoWenLei/AAPI-text-analysis-project/blob/main/notebooks/ML_analysis.ipynb\" target=\"_parent\"><img src=\"https://colab.research.google.com/assets/colab-badge.svg\" alt=\"Open In Colab\"/></a>"
      ]
    },
    {
      "cell_type": "markdown",
      "metadata": {
        "id": "KTv4mPBvP7nK"
      },
      "source": [
        "# Use Simple ML Models to Analyze Feature Importance"
      ]
    },
    {
      "cell_type": "markdown",
      "metadata": {
        "id": "2W3qiINsQjdX"
      },
      "source": [
        "## Setup"
      ]
    },
    {
      "cell_type": "code",
      "metadata": {
        "colab": {
          "base_uri": "https://localhost:8080/"
        },
        "id": "BLd3HntYM8BC",
        "outputId": "c53ac234-448a-4ea8-ac23-6ec38a1da8a3"
      },
      "source": [
        "from google.colab import drive\n",
        "drive.mount(\"/content/gdrive\")"
      ],
      "execution_count": 1,
      "outputs": [
        {
          "output_type": "stream",
          "text": [
            "Mounted at /content/gdrive\n"
          ],
          "name": "stdout"
        }
      ]
    },
    {
      "cell_type": "code",
      "metadata": {
        "id": "mp8U2E8QNGZ-"
      },
      "source": [
        "import numpy as np, pandas as pd, matplotlib.pyplot as plt, seaborn as sns, os\n",
        "from sklearn.preprocessing import MinMaxScaler\n",
        "from sklearn.linear_model import LogisticRegression\n",
        "from sklearn.tree import DecisionTreeClassifier\n",
        "from sklearn.ensemble import RandomForestClassifier, GradientBoostingClassifier\n",
        "from sklearn.naive_bayes import GaussianNB, MultinomialNB\n",
        "from sklearn.model_selection import train_test_split"
      ],
      "execution_count": 2,
      "outputs": []
    },
    {
      "cell_type": "code",
      "metadata": {
        "id": "J2a5JuNtQtNP"
      },
      "source": [
        "main_path = \"/content/gdrive/MyDrive/AAPI_text_analysis_project/\""
      ],
      "execution_count": 3,
      "outputs": []
    },
    {
      "cell_type": "markdown",
      "metadata": {
        "id": "qXgJY4pWQnCu"
      },
      "source": [
        "## Part of Speech"
      ]
    },
    {
      "cell_type": "markdown",
      "metadata": {
        "id": "YGjWd2P_Qljt"
      },
      "source": [
        "### Load Data"
      ]
    },
    {
      "cell_type": "code",
      "metadata": {
        "colab": {
          "base_uri": "https://localhost:8080/",
          "height": 0
        },
        "id": "yUiFGDqmP6t5",
        "outputId": "619a086b-8e50-4578-84c3-da45272baf63"
      },
      "source": [
        "df = pd.read_csv(os.path.join(main_path, \"full_df_7_5_2021.csv\"))\n",
        "df.head()"
      ],
      "execution_count": 46,
      "outputs": [
        {
          "output_type": "execute_result",
          "data": {
            "text/html": [
              "<div>\n",
              "<style scoped>\n",
              "    .dataframe tbody tr th:only-of-type {\n",
              "        vertical-align: middle;\n",
              "    }\n",
              "\n",
              "    .dataframe tbody tr th {\n",
              "        vertical-align: top;\n",
              "    }\n",
              "\n",
              "    .dataframe thead th {\n",
              "        text-align: right;\n",
              "    }\n",
              "</style>\n",
              "<table border=\"1\" class=\"dataframe\">\n",
              "  <thead>\n",
              "    <tr style=\"text-align: right;\">\n",
              "      <th></th>\n",
              "      <th>sentiment</th>\n",
              "      <th>relevance</th>\n",
              "      <th>uri</th>\n",
              "      <th>title</th>\n",
              "      <th>body</th>\n",
              "      <th>source_uri</th>\n",
              "      <th>source_name</th>\n",
              "      <th>source_alexaCountryRank</th>\n",
              "      <th>source_alexaGlobalRank</th>\n",
              "      <th>source_importanceRank</th>\n",
              "      <th>source_valid_location</th>\n",
              "      <th>date</th>\n",
              "      <th>location</th>\n",
              "      <th>title_length</th>\n",
              "      <th>body_length</th>\n",
              "      <th>source_score</th>\n",
              "      <th>source_link</th>\n",
              "      <th>source_position</th>\n",
              "      <th>source_pos_int</th>\n",
              "      <th>title_doc</th>\n",
              "      <th>body_doc</th>\n",
              "      <th>title_JJ</th>\n",
              "      <th>title_NNS</th>\n",
              "      <th>title_VBP</th>\n",
              "      <th>title_NN</th>\n",
              "      <th>title_NNP</th>\n",
              "      <th>title_:</th>\n",
              "      <th>title_VBZ</th>\n",
              "      <th>title_JJR</th>\n",
              "      <th>title_MD</th>\n",
              "      <th>title_VBN</th>\n",
              "      <th>title_VB</th>\n",
              "      <th>title_VBD</th>\n",
              "      <th>title_NNPS</th>\n",
              "      <th>title_VBG</th>\n",
              "      <th>title_IN</th>\n",
              "      <th>title_,</th>\n",
              "      <th>title_POS</th>\n",
              "      <th>title_''</th>\n",
              "      <th>title_DT</th>\n",
              "      <th>...</th>\n",
              "      <th>title_''_per_word</th>\n",
              "      <th>title_DT_per_word</th>\n",
              "      <th>title_CD_per_word</th>\n",
              "      <th>title_WRB_per_word</th>\n",
              "      <th>title_RB_per_word</th>\n",
              "      <th>title_PRP_per_word</th>\n",
              "      <th>title_PRP$_per_word</th>\n",
              "      <th>title_RP_per_word</th>\n",
              "      <th>title_PDT_per_word</th>\n",
              "      <th>title_TO_per_word</th>\n",
              "      <th>title_``_per_word</th>\n",
              "      <th>title_FW_per_word</th>\n",
              "      <th>title_CC_per_word</th>\n",
              "      <th>title_._per_word</th>\n",
              "      <th>title_WP_per_word</th>\n",
              "      <th>title_JJS_per_word</th>\n",
              "      <th>title_(_per_word</th>\n",
              "      <th>title_)_per_word</th>\n",
              "      <th>title_$_per_word</th>\n",
              "      <th>title_UH_per_word</th>\n",
              "      <th>title_RBS_per_word</th>\n",
              "      <th>position_adjusted</th>\n",
              "      <th>nltk_body_sentiment_compound</th>\n",
              "      <th>nltk_title_sentiment_compound</th>\n",
              "      <th>nltk_body_sentiment_neg</th>\n",
              "      <th>nltk_title_sentiment_neg</th>\n",
              "      <th>nltk_body_sentiment_neu</th>\n",
              "      <th>nltk_title_sentiment_neu</th>\n",
              "      <th>nltk_body_sentiment_pos</th>\n",
              "      <th>nltk_title_sentiment_pos</th>\n",
              "      <th>title_negation</th>\n",
              "      <th>body_negation</th>\n",
              "      <th>title_negation_per_word</th>\n",
              "      <th>body_negation_per_word</th>\n",
              "      <th>title_stem</th>\n",
              "      <th>title_stem_pos</th>\n",
              "      <th>body_stem</th>\n",
              "      <th>body_stem_pos</th>\n",
              "      <th>categories</th>\n",
              "      <th>concepts</th>\n",
              "    </tr>\n",
              "  </thead>\n",
              "  <tbody>\n",
              "    <tr>\n",
              "      <th>0</th>\n",
              "      <td>-0.168627</td>\n",
              "      <td>38</td>\n",
              "      <td>6601183495</td>\n",
              "      <td>Racial tensions simmer as Southern Baptists ho...</td>\n",
              "      <td>NASHVILLE, Tenn. -- Race-related tensions with...</td>\n",
              "      <td>abcnews.go.com</td>\n",
              "      <td>ABC News</td>\n",
              "      <td>171</td>\n",
              "      <td>615</td>\n",
              "      <td>150359</td>\n",
              "      <td>True</td>\n",
              "      <td>2021-06-11</td>\n",
              "      <td>Nashville, Tennessee</td>\n",
              "      <td>9</td>\n",
              "      <td>1454</td>\n",
              "      <td>355101</td>\n",
              "      <td>/news-source/abc-news-media-bias</td>\n",
              "      <td>Lean Left</td>\n",
              "      <td>0</td>\n",
              "      <td>[\"Racial\", \"tensions\", \"simmer\", \"as\", \"Southe...</td>\n",
              "      <td>[\"NASHVILLE\", \",\", \"Tenn.\", \"--\", \"Race-relate...</td>\n",
              "      <td>3</td>\n",
              "      <td>2</td>\n",
              "      <td>2</td>\n",
              "      <td>1</td>\n",
              "      <td>0</td>\n",
              "      <td>0</td>\n",
              "      <td>0</td>\n",
              "      <td>0</td>\n",
              "      <td>0</td>\n",
              "      <td>0</td>\n",
              "      <td>0</td>\n",
              "      <td>0</td>\n",
              "      <td>0</td>\n",
              "      <td>0</td>\n",
              "      <td>0</td>\n",
              "      <td>0</td>\n",
              "      <td>0</td>\n",
              "      <td>0</td>\n",
              "      <td>0</td>\n",
              "      <td>...</td>\n",
              "      <td>0.0</td>\n",
              "      <td>0.0</td>\n",
              "      <td>0.0</td>\n",
              "      <td>0.0</td>\n",
              "      <td>0.0</td>\n",
              "      <td>0.0</td>\n",
              "      <td>0.0</td>\n",
              "      <td>0.0</td>\n",
              "      <td>0.0</td>\n",
              "      <td>0.0</td>\n",
              "      <td>0.0</td>\n",
              "      <td>0.0</td>\n",
              "      <td>0.0</td>\n",
              "      <td>0.0</td>\n",
              "      <td>0.0</td>\n",
              "      <td>0.0</td>\n",
              "      <td>0.0</td>\n",
              "      <td>0.0</td>\n",
              "      <td>0.0</td>\n",
              "      <td>0.0</td>\n",
              "      <td>0.0</td>\n",
              "      <td>left</td>\n",
              "      <td>0.9906</td>\n",
              "      <td>-0.4019</td>\n",
              "      <td>0.075</td>\n",
              "      <td>0.252</td>\n",
              "      <td>0.824</td>\n",
              "      <td>0.748</td>\n",
              "      <td>0.100</td>\n",
              "      <td>0.0</td>\n",
              "      <td>0</td>\n",
              "      <td>140</td>\n",
              "      <td>0.0</td>\n",
              "      <td>0.096286</td>\n",
              "      <td>[\"racial\", \"tension\", \"simmer\", \"southern\", \"b...</td>\n",
              "      <td>[\"JJ\", \"NN\", \"VB\", \"JJ\", \"NN\", \"VB\", \"JJ\", \"NN\"]</td>\n",
              "      <td>[\"nashvil\", \"tenn.\", \"race-rel\", \"tension\", \"w...</td>\n",
              "      <td>[\"NN\", \"NN\", \"JJ\", \"NN\", \"IN\", \"JJ\", \"NN\", \"NN...</td>\n",
              "      <td>[{\"uri\": \"dmoz/Society\", \"label\": \"dmoz/Societ...</td>\n",
              "      <td>[{\"uri\": \"http://en.wikipedia.org/wiki/Black_c...</td>\n",
              "    </tr>\n",
              "    <tr>\n",
              "      <th>1</th>\n",
              "      <td>-0.498039</td>\n",
              "      <td>64</td>\n",
              "      <td>6589548036</td>\n",
              "      <td>Asian American and Pacific Islander hate: Grap...</td>\n",
              "      <td>The U.S. has seen a disturbing surge in hate i...</td>\n",
              "      <td>abcnews.go.com</td>\n",
              "      <td>ABC News</td>\n",
              "      <td>171</td>\n",
              "      <td>615</td>\n",
              "      <td>150359</td>\n",
              "      <td>True</td>\n",
              "      <td>2021-06-03</td>\n",
              "      <td>United States</td>\n",
              "      <td>13</td>\n",
              "      <td>156</td>\n",
              "      <td>355101</td>\n",
              "      <td>/news-source/abc-news-media-bias</td>\n",
              "      <td>Lean Left</td>\n",
              "      <td>0</td>\n",
              "      <td>[\"Asian\", \"American\", \"and\", \"Pacific\", \"Islan...</td>\n",
              "      <td>[\"The\", \"U.S.\", \"has\", \"seen\", \"a\", \"disturbin...</td>\n",
              "      <td>1</td>\n",
              "      <td>2</td>\n",
              "      <td>0</td>\n",
              "      <td>1</td>\n",
              "      <td>4</td>\n",
              "      <td>1</td>\n",
              "      <td>1</td>\n",
              "      <td>0</td>\n",
              "      <td>0</td>\n",
              "      <td>0</td>\n",
              "      <td>0</td>\n",
              "      <td>0</td>\n",
              "      <td>0</td>\n",
              "      <td>0</td>\n",
              "      <td>0</td>\n",
              "      <td>0</td>\n",
              "      <td>0</td>\n",
              "      <td>0</td>\n",
              "      <td>0</td>\n",
              "      <td>...</td>\n",
              "      <td>0.0</td>\n",
              "      <td>0.0</td>\n",
              "      <td>0.0</td>\n",
              "      <td>0.0</td>\n",
              "      <td>0.0</td>\n",
              "      <td>0.0</td>\n",
              "      <td>0.0</td>\n",
              "      <td>0.0</td>\n",
              "      <td>0.0</td>\n",
              "      <td>0.0</td>\n",
              "      <td>0.0</td>\n",
              "      <td>0.0</td>\n",
              "      <td>0.0</td>\n",
              "      <td>0.0</td>\n",
              "      <td>0.0</td>\n",
              "      <td>0.0</td>\n",
              "      <td>0.0</td>\n",
              "      <td>0.0</td>\n",
              "      <td>0.0</td>\n",
              "      <td>0.0</td>\n",
              "      <td>0.0</td>\n",
              "      <td>left</td>\n",
              "      <td>-0.9833</td>\n",
              "      <td>-0.7184</td>\n",
              "      <td>0.201</td>\n",
              "      <td>0.375</td>\n",
              "      <td>0.778</td>\n",
              "      <td>0.625</td>\n",
              "      <td>0.021</td>\n",
              "      <td>0.0</td>\n",
              "      <td>0</td>\n",
              "      <td>0</td>\n",
              "      <td>0.0</td>\n",
              "      <td>0.000000</td>\n",
              "      <td>[\"asian\", \"american\", \"pacif\", \"island\", \"hate...</td>\n",
              "      <td>[\"JJ\", \"NN\", \"NN\", \"NN\", \"NN\", \"NN\", \"VB\", \"NN...</td>\n",
              "      <td>[\"the\", \"u.s.\", \"seen\", \"disturb\", \"surg\", \"ha...</td>\n",
              "      <td>[\"DT\", \"NN\", \"VB\", \"VB\", \"NN\", \"JJ\", \"NN\", \"JJ...</td>\n",
              "      <td>[{\"uri\": \"dmoz/Society/Issues\", \"label\": \"dmoz...</td>\n",
              "      <td>[{\"uri\": \"http://en.wikipedia.org/wiki/United_...</td>\n",
              "    </tr>\n",
              "    <tr>\n",
              "      <th>2</th>\n",
              "      <td>0.003922</td>\n",
              "      <td>118</td>\n",
              "      <td>6578408470</td>\n",
              "      <td>AP-NORC poll: More Americans believe anti-Asia...</td>\n",
              "      <td>WASHINGTON -- A majority of Americans across r...</td>\n",
              "      <td>abcnews.go.com</td>\n",
              "      <td>ABC News</td>\n",
              "      <td>171</td>\n",
              "      <td>615</td>\n",
              "      <td>150359</td>\n",
              "      <td>True</td>\n",
              "      <td>2021-05-26</td>\n",
              "      <td>Washington (state)</td>\n",
              "      <td>9</td>\n",
              "      <td>1091</td>\n",
              "      <td>355101</td>\n",
              "      <td>/news-source/abc-news-media-bias</td>\n",
              "      <td>Lean Left</td>\n",
              "      <td>0</td>\n",
              "      <td>[\"AP-NORC\", \"poll\", \":\", \"More\", \"Americans\", ...</td>\n",
              "      <td>[\"WASHINGTON\", \"--\", \"A\", \"majority\", \"of\", \"A...</td>\n",
              "      <td>2</td>\n",
              "      <td>1</td>\n",
              "      <td>1</td>\n",
              "      <td>3</td>\n",
              "      <td>0</td>\n",
              "      <td>1</td>\n",
              "      <td>0</td>\n",
              "      <td>1</td>\n",
              "      <td>0</td>\n",
              "      <td>0</td>\n",
              "      <td>0</td>\n",
              "      <td>0</td>\n",
              "      <td>0</td>\n",
              "      <td>0</td>\n",
              "      <td>0</td>\n",
              "      <td>0</td>\n",
              "      <td>0</td>\n",
              "      <td>0</td>\n",
              "      <td>0</td>\n",
              "      <td>...</td>\n",
              "      <td>0.0</td>\n",
              "      <td>0.0</td>\n",
              "      <td>0.0</td>\n",
              "      <td>0.0</td>\n",
              "      <td>0.0</td>\n",
              "      <td>0.0</td>\n",
              "      <td>0.0</td>\n",
              "      <td>0.0</td>\n",
              "      <td>0.0</td>\n",
              "      <td>0.0</td>\n",
              "      <td>0.0</td>\n",
              "      <td>0.0</td>\n",
              "      <td>0.0</td>\n",
              "      <td>0.0</td>\n",
              "      <td>0.0</td>\n",
              "      <td>0.0</td>\n",
              "      <td>0.0</td>\n",
              "      <td>0.0</td>\n",
              "      <td>0.0</td>\n",
              "      <td>0.0</td>\n",
              "      <td>0.0</td>\n",
              "      <td>left</td>\n",
              "      <td>-0.9982</td>\n",
              "      <td>-0.5719</td>\n",
              "      <td>0.141</td>\n",
              "      <td>0.346</td>\n",
              "      <td>0.795</td>\n",
              "      <td>0.654</td>\n",
              "      <td>0.065</td>\n",
              "      <td>0.0</td>\n",
              "      <td>0</td>\n",
              "      <td>91</td>\n",
              "      <td>0.0</td>\n",
              "      <td>0.083410</td>\n",
              "      <td>[\"ap-norc\", \"poll\", \"more\", \"american\", \"belie...</td>\n",
              "      <td>[\"JJ\", \"NN\", \"JJ\", \"NN\", \"VB\", \"JJ\", \"NN\", \"NN\"]</td>\n",
              "      <td>[\"washington\", \"A\", \"major\", \"american\", \"acro...</td>\n",
              "      <td>[\"NN\", \"DT\", \"NN\", \"NN\", \"IN\", \"JJ\", \"JJ\", \"NN...</td>\n",
              "      <td>[{\"uri\": \"news/Politics\", \"label\": \"news/Polit...</td>\n",
              "      <td>[{\"uri\": \"http://en.wikipedia.org/wiki/Asian_A...</td>\n",
              "    </tr>\n",
              "    <tr>\n",
              "      <th>3</th>\n",
              "      <td>-0.325490</td>\n",
              "      <td>39</td>\n",
              "      <td>6573140750</td>\n",
              "      <td>Floyd legislation reveals divide in police-ref...</td>\n",
              "      <td>NEW YORK -- Monifa Bandele became a community ...</td>\n",
              "      <td>abcnews.go.com</td>\n",
              "      <td>ABC News</td>\n",
              "      <td>171</td>\n",
              "      <td>615</td>\n",
              "      <td>150359</td>\n",
              "      <td>True</td>\n",
              "      <td>2021-05-22</td>\n",
              "      <td>New York City</td>\n",
              "      <td>7</td>\n",
              "      <td>1409</td>\n",
              "      <td>355101</td>\n",
              "      <td>/news-source/abc-news-media-bias</td>\n",
              "      <td>Lean Left</td>\n",
              "      <td>0</td>\n",
              "      <td>[\"Floyd\", \"legislation\", \"reveals\", \"divide\", ...</td>\n",
              "      <td>[\"NEW\", \"YORK\", \"--\", \"Monifa\", \"Bandele\", \"be...</td>\n",
              "      <td>1</td>\n",
              "      <td>1</td>\n",
              "      <td>1</td>\n",
              "      <td>2</td>\n",
              "      <td>1</td>\n",
              "      <td>0</td>\n",
              "      <td>0</td>\n",
              "      <td>0</td>\n",
              "      <td>0</td>\n",
              "      <td>0</td>\n",
              "      <td>0</td>\n",
              "      <td>0</td>\n",
              "      <td>0</td>\n",
              "      <td>0</td>\n",
              "      <td>0</td>\n",
              "      <td>0</td>\n",
              "      <td>0</td>\n",
              "      <td>0</td>\n",
              "      <td>0</td>\n",
              "      <td>...</td>\n",
              "      <td>0.0</td>\n",
              "      <td>0.0</td>\n",
              "      <td>0.0</td>\n",
              "      <td>0.0</td>\n",
              "      <td>0.0</td>\n",
              "      <td>0.0</td>\n",
              "      <td>0.0</td>\n",
              "      <td>0.0</td>\n",
              "      <td>0.0</td>\n",
              "      <td>0.0</td>\n",
              "      <td>0.0</td>\n",
              "      <td>0.0</td>\n",
              "      <td>0.0</td>\n",
              "      <td>0.0</td>\n",
              "      <td>0.0</td>\n",
              "      <td>0.0</td>\n",
              "      <td>0.0</td>\n",
              "      <td>0.0</td>\n",
              "      <td>0.0</td>\n",
              "      <td>0.0</td>\n",
              "      <td>0.0</td>\n",
              "      <td>left</td>\n",
              "      <td>0.9601</td>\n",
              "      <td>0.0000</td>\n",
              "      <td>0.073</td>\n",
              "      <td>0.000</td>\n",
              "      <td>0.838</td>\n",
              "      <td>1.000</td>\n",
              "      <td>0.089</td>\n",
              "      <td>0.0</td>\n",
              "      <td>0</td>\n",
              "      <td>94</td>\n",
              "      <td>0.0</td>\n",
              "      <td>0.066714</td>\n",
              "      <td>[\"floyd\", \"legisl\", \"reveal\", \"divid\", \"police...</td>\n",
              "      <td>[\"NN\", \"NN\", \"NN\", \"VB\", \"JJ\", \"NN\"]</td>\n",
              "      <td>[\"new\", \"york\", \"monifa\", \"bandel\", \"becam\", \"...</td>\n",
              "      <td>[\"NN\", \"NN\", \"NN\", \"NN\", \"VB\", \"NN\", \"NN\", \"JJ...</td>\n",
              "      <td>[{\"uri\": \"dmoz/Society/Issues/Crime_and_Justic...</td>\n",
              "      <td>[{\"uri\": \"http://en.wikipedia.org/wiki/George_...</td>\n",
              "    </tr>\n",
              "    <tr>\n",
              "      <th>4</th>\n",
              "      <td>-0.152941</td>\n",
              "      <td>15</td>\n",
              "      <td>6571115219</td>\n",
              "      <td>Police say antisemitic attacks in Los Angeles ...</td>\n",
              "      <td>LOS ANGELES -- Los Angeles police are investig...</td>\n",
              "      <td>abcnews.go.com</td>\n",
              "      <td>ABC News</td>\n",
              "      <td>171</td>\n",
              "      <td>615</td>\n",
              "      <td>150359</td>\n",
              "      <td>True</td>\n",
              "      <td>2021-05-21</td>\n",
              "      <td>Los Angeles</td>\n",
              "      <td>10</td>\n",
              "      <td>612</td>\n",
              "      <td>355101</td>\n",
              "      <td>/news-source/abc-news-media-bias</td>\n",
              "      <td>Lean Left</td>\n",
              "      <td>0</td>\n",
              "      <td>[\"Police\", \"say\", \"antisemitic\", \"attacks\", \"i...</td>\n",
              "      <td>[\"LOS\", \"ANGELES\", \"--\", \"Los\", \"Angeles\", \"po...</td>\n",
              "      <td>1</td>\n",
              "      <td>2</td>\n",
              "      <td>1</td>\n",
              "      <td>0</td>\n",
              "      <td>2</td>\n",
              "      <td>0</td>\n",
              "      <td>0</td>\n",
              "      <td>0</td>\n",
              "      <td>1</td>\n",
              "      <td>1</td>\n",
              "      <td>0</td>\n",
              "      <td>0</td>\n",
              "      <td>0</td>\n",
              "      <td>0</td>\n",
              "      <td>0</td>\n",
              "      <td>0</td>\n",
              "      <td>0</td>\n",
              "      <td>0</td>\n",
              "      <td>0</td>\n",
              "      <td>...</td>\n",
              "      <td>0.0</td>\n",
              "      <td>0.0</td>\n",
              "      <td>0.0</td>\n",
              "      <td>0.0</td>\n",
              "      <td>0.0</td>\n",
              "      <td>0.0</td>\n",
              "      <td>0.0</td>\n",
              "      <td>0.0</td>\n",
              "      <td>0.0</td>\n",
              "      <td>0.0</td>\n",
              "      <td>0.0</td>\n",
              "      <td>0.0</td>\n",
              "      <td>0.0</td>\n",
              "      <td>0.0</td>\n",
              "      <td>0.0</td>\n",
              "      <td>0.0</td>\n",
              "      <td>0.0</td>\n",
              "      <td>0.0</td>\n",
              "      <td>0.0</td>\n",
              "      <td>0.0</td>\n",
              "      <td>0.0</td>\n",
              "      <td>left</td>\n",
              "      <td>-0.9868</td>\n",
              "      <td>-0.4404</td>\n",
              "      <td>0.117</td>\n",
              "      <td>0.244</td>\n",
              "      <td>0.814</td>\n",
              "      <td>0.756</td>\n",
              "      <td>0.068</td>\n",
              "      <td>0.0</td>\n",
              "      <td>0</td>\n",
              "      <td>44</td>\n",
              "      <td>0.0</td>\n",
              "      <td>0.071895</td>\n",
              "      <td>[\"polic\", \"say\", \"antisemit\", \"attack\", \"lo\", ...</td>\n",
              "      <td>[\"NN\", \"VB\", \"JJ\", \"NN\", \"NN\", \"NN\", \"MD\", \"VB\"]</td>\n",
              "      <td>[\"lo\", \"angel\", \"lo\", \"angel\", \"polic\", \"inves...</td>\n",
              "      <td>[\"NN\", \"NN\", \"NN\", \"NN\", \"NN\", \"VB\", \"JJ\", \"NN...</td>\n",
              "      <td>[{\"uri\": \"dmoz/Society/Crime\", \"label\": \"dmoz/...</td>\n",
              "      <td>[{\"uri\": \"http://en.wikipedia.org/wiki/Los_Ang...</td>\n",
              "    </tr>\n",
              "  </tbody>\n",
              "</table>\n",
              "<p>5 rows × 204 columns</p>\n",
              "</div>"
            ],
            "text/plain": [
              "   sentiment  ...                                           concepts\n",
              "0  -0.168627  ...  [{\"uri\": \"http://en.wikipedia.org/wiki/Black_c...\n",
              "1  -0.498039  ...  [{\"uri\": \"http://en.wikipedia.org/wiki/United_...\n",
              "2   0.003922  ...  [{\"uri\": \"http://en.wikipedia.org/wiki/Asian_A...\n",
              "3  -0.325490  ...  [{\"uri\": \"http://en.wikipedia.org/wiki/George_...\n",
              "4  -0.152941  ...  [{\"uri\": \"http://en.wikipedia.org/wiki/Los_Ang...\n",
              "\n",
              "[5 rows x 204 columns]"
            ]
          },
          "metadata": {
            "tags": []
          },
          "execution_count": 46
        }
      ]
    },
    {
      "cell_type": "code",
      "metadata": {
        "id": "NyDOdOpISJh6"
      },
      "source": [
        "limit_df = df[df['source_position'].isin(['Left',  'Right'])].copy()\n",
        "limit_df['y_'] = np.where(limit_df['source_position'] == \"Left\", 1, 0)"
      ],
      "execution_count": 47,
      "outputs": []
    },
    {
      "cell_type": "code",
      "metadata": {
        "colab": {
          "base_uri": "https://localhost:8080/",
          "height": 0
        },
        "id": "SqDlZzduS3Af",
        "outputId": "85cc9859-69ee-47ee-c235-ef028eb620a1"
      },
      "source": [
        "wider_df = df[df['source_position'] != 'Center'].copy()\n",
        "wider_df['y_'] = np.where(wider_df['source_position'].isin([\"Left\", \"Lean Left\"]), 1, 0)\n",
        "wider_df.head()"
      ],
      "execution_count": 48,
      "outputs": [
        {
          "output_type": "execute_result",
          "data": {
            "text/html": [
              "<div>\n",
              "<style scoped>\n",
              "    .dataframe tbody tr th:only-of-type {\n",
              "        vertical-align: middle;\n",
              "    }\n",
              "\n",
              "    .dataframe tbody tr th {\n",
              "        vertical-align: top;\n",
              "    }\n",
              "\n",
              "    .dataframe thead th {\n",
              "        text-align: right;\n",
              "    }\n",
              "</style>\n",
              "<table border=\"1\" class=\"dataframe\">\n",
              "  <thead>\n",
              "    <tr style=\"text-align: right;\">\n",
              "      <th></th>\n",
              "      <th>sentiment</th>\n",
              "      <th>relevance</th>\n",
              "      <th>uri</th>\n",
              "      <th>title</th>\n",
              "      <th>body</th>\n",
              "      <th>source_uri</th>\n",
              "      <th>source_name</th>\n",
              "      <th>source_alexaCountryRank</th>\n",
              "      <th>source_alexaGlobalRank</th>\n",
              "      <th>source_importanceRank</th>\n",
              "      <th>source_valid_location</th>\n",
              "      <th>date</th>\n",
              "      <th>location</th>\n",
              "      <th>title_length</th>\n",
              "      <th>body_length</th>\n",
              "      <th>source_score</th>\n",
              "      <th>source_link</th>\n",
              "      <th>source_position</th>\n",
              "      <th>source_pos_int</th>\n",
              "      <th>title_doc</th>\n",
              "      <th>body_doc</th>\n",
              "      <th>title_JJ</th>\n",
              "      <th>title_NNS</th>\n",
              "      <th>title_VBP</th>\n",
              "      <th>title_NN</th>\n",
              "      <th>title_NNP</th>\n",
              "      <th>title_:</th>\n",
              "      <th>title_VBZ</th>\n",
              "      <th>title_JJR</th>\n",
              "      <th>title_MD</th>\n",
              "      <th>title_VBN</th>\n",
              "      <th>title_VB</th>\n",
              "      <th>title_VBD</th>\n",
              "      <th>title_NNPS</th>\n",
              "      <th>title_VBG</th>\n",
              "      <th>title_IN</th>\n",
              "      <th>title_,</th>\n",
              "      <th>title_POS</th>\n",
              "      <th>title_''</th>\n",
              "      <th>title_DT</th>\n",
              "      <th>...</th>\n",
              "      <th>title_DT_per_word</th>\n",
              "      <th>title_CD_per_word</th>\n",
              "      <th>title_WRB_per_word</th>\n",
              "      <th>title_RB_per_word</th>\n",
              "      <th>title_PRP_per_word</th>\n",
              "      <th>title_PRP$_per_word</th>\n",
              "      <th>title_RP_per_word</th>\n",
              "      <th>title_PDT_per_word</th>\n",
              "      <th>title_TO_per_word</th>\n",
              "      <th>title_``_per_word</th>\n",
              "      <th>title_FW_per_word</th>\n",
              "      <th>title_CC_per_word</th>\n",
              "      <th>title_._per_word</th>\n",
              "      <th>title_WP_per_word</th>\n",
              "      <th>title_JJS_per_word</th>\n",
              "      <th>title_(_per_word</th>\n",
              "      <th>title_)_per_word</th>\n",
              "      <th>title_$_per_word</th>\n",
              "      <th>title_UH_per_word</th>\n",
              "      <th>title_RBS_per_word</th>\n",
              "      <th>position_adjusted</th>\n",
              "      <th>nltk_body_sentiment_compound</th>\n",
              "      <th>nltk_title_sentiment_compound</th>\n",
              "      <th>nltk_body_sentiment_neg</th>\n",
              "      <th>nltk_title_sentiment_neg</th>\n",
              "      <th>nltk_body_sentiment_neu</th>\n",
              "      <th>nltk_title_sentiment_neu</th>\n",
              "      <th>nltk_body_sentiment_pos</th>\n",
              "      <th>nltk_title_sentiment_pos</th>\n",
              "      <th>title_negation</th>\n",
              "      <th>body_negation</th>\n",
              "      <th>title_negation_per_word</th>\n",
              "      <th>body_negation_per_word</th>\n",
              "      <th>title_stem</th>\n",
              "      <th>title_stem_pos</th>\n",
              "      <th>body_stem</th>\n",
              "      <th>body_stem_pos</th>\n",
              "      <th>categories</th>\n",
              "      <th>concepts</th>\n",
              "      <th>y_</th>\n",
              "    </tr>\n",
              "  </thead>\n",
              "  <tbody>\n",
              "    <tr>\n",
              "      <th>0</th>\n",
              "      <td>-0.168627</td>\n",
              "      <td>38</td>\n",
              "      <td>6601183495</td>\n",
              "      <td>Racial tensions simmer as Southern Baptists ho...</td>\n",
              "      <td>NASHVILLE, Tenn. -- Race-related tensions with...</td>\n",
              "      <td>abcnews.go.com</td>\n",
              "      <td>ABC News</td>\n",
              "      <td>171</td>\n",
              "      <td>615</td>\n",
              "      <td>150359</td>\n",
              "      <td>True</td>\n",
              "      <td>2021-06-11</td>\n",
              "      <td>Nashville, Tennessee</td>\n",
              "      <td>9</td>\n",
              "      <td>1454</td>\n",
              "      <td>355101</td>\n",
              "      <td>/news-source/abc-news-media-bias</td>\n",
              "      <td>Lean Left</td>\n",
              "      <td>0</td>\n",
              "      <td>[\"Racial\", \"tensions\", \"simmer\", \"as\", \"Southe...</td>\n",
              "      <td>[\"NASHVILLE\", \",\", \"Tenn.\", \"--\", \"Race-relate...</td>\n",
              "      <td>3</td>\n",
              "      <td>2</td>\n",
              "      <td>2</td>\n",
              "      <td>1</td>\n",
              "      <td>0</td>\n",
              "      <td>0</td>\n",
              "      <td>0</td>\n",
              "      <td>0</td>\n",
              "      <td>0</td>\n",
              "      <td>0</td>\n",
              "      <td>0</td>\n",
              "      <td>0</td>\n",
              "      <td>0</td>\n",
              "      <td>0</td>\n",
              "      <td>0</td>\n",
              "      <td>0</td>\n",
              "      <td>0</td>\n",
              "      <td>0</td>\n",
              "      <td>0</td>\n",
              "      <td>...</td>\n",
              "      <td>0.0</td>\n",
              "      <td>0.0</td>\n",
              "      <td>0.0</td>\n",
              "      <td>0.0</td>\n",
              "      <td>0.0</td>\n",
              "      <td>0.0</td>\n",
              "      <td>0.0</td>\n",
              "      <td>0.0</td>\n",
              "      <td>0.0</td>\n",
              "      <td>0.0</td>\n",
              "      <td>0.0</td>\n",
              "      <td>0.0</td>\n",
              "      <td>0.0</td>\n",
              "      <td>0.0</td>\n",
              "      <td>0.0</td>\n",
              "      <td>0.0</td>\n",
              "      <td>0.0</td>\n",
              "      <td>0.0</td>\n",
              "      <td>0.0</td>\n",
              "      <td>0.0</td>\n",
              "      <td>left</td>\n",
              "      <td>0.9906</td>\n",
              "      <td>-0.4019</td>\n",
              "      <td>0.075</td>\n",
              "      <td>0.252</td>\n",
              "      <td>0.824</td>\n",
              "      <td>0.748</td>\n",
              "      <td>0.100</td>\n",
              "      <td>0.0</td>\n",
              "      <td>0</td>\n",
              "      <td>140</td>\n",
              "      <td>0.0</td>\n",
              "      <td>0.096286</td>\n",
              "      <td>[\"racial\", \"tension\", \"simmer\", \"southern\", \"b...</td>\n",
              "      <td>[\"JJ\", \"NN\", \"VB\", \"JJ\", \"NN\", \"VB\", \"JJ\", \"NN\"]</td>\n",
              "      <td>[\"nashvil\", \"tenn.\", \"race-rel\", \"tension\", \"w...</td>\n",
              "      <td>[\"NN\", \"NN\", \"JJ\", \"NN\", \"IN\", \"JJ\", \"NN\", \"NN...</td>\n",
              "      <td>[{\"uri\": \"dmoz/Society\", \"label\": \"dmoz/Societ...</td>\n",
              "      <td>[{\"uri\": \"http://en.wikipedia.org/wiki/Black_c...</td>\n",
              "      <td>1</td>\n",
              "    </tr>\n",
              "    <tr>\n",
              "      <th>1</th>\n",
              "      <td>-0.498039</td>\n",
              "      <td>64</td>\n",
              "      <td>6589548036</td>\n",
              "      <td>Asian American and Pacific Islander hate: Grap...</td>\n",
              "      <td>The U.S. has seen a disturbing surge in hate i...</td>\n",
              "      <td>abcnews.go.com</td>\n",
              "      <td>ABC News</td>\n",
              "      <td>171</td>\n",
              "      <td>615</td>\n",
              "      <td>150359</td>\n",
              "      <td>True</td>\n",
              "      <td>2021-06-03</td>\n",
              "      <td>United States</td>\n",
              "      <td>13</td>\n",
              "      <td>156</td>\n",
              "      <td>355101</td>\n",
              "      <td>/news-source/abc-news-media-bias</td>\n",
              "      <td>Lean Left</td>\n",
              "      <td>0</td>\n",
              "      <td>[\"Asian\", \"American\", \"and\", \"Pacific\", \"Islan...</td>\n",
              "      <td>[\"The\", \"U.S.\", \"has\", \"seen\", \"a\", \"disturbin...</td>\n",
              "      <td>1</td>\n",
              "      <td>2</td>\n",
              "      <td>0</td>\n",
              "      <td>1</td>\n",
              "      <td>4</td>\n",
              "      <td>1</td>\n",
              "      <td>1</td>\n",
              "      <td>0</td>\n",
              "      <td>0</td>\n",
              "      <td>0</td>\n",
              "      <td>0</td>\n",
              "      <td>0</td>\n",
              "      <td>0</td>\n",
              "      <td>0</td>\n",
              "      <td>0</td>\n",
              "      <td>0</td>\n",
              "      <td>0</td>\n",
              "      <td>0</td>\n",
              "      <td>0</td>\n",
              "      <td>...</td>\n",
              "      <td>0.0</td>\n",
              "      <td>0.0</td>\n",
              "      <td>0.0</td>\n",
              "      <td>0.0</td>\n",
              "      <td>0.0</td>\n",
              "      <td>0.0</td>\n",
              "      <td>0.0</td>\n",
              "      <td>0.0</td>\n",
              "      <td>0.0</td>\n",
              "      <td>0.0</td>\n",
              "      <td>0.0</td>\n",
              "      <td>0.0</td>\n",
              "      <td>0.0</td>\n",
              "      <td>0.0</td>\n",
              "      <td>0.0</td>\n",
              "      <td>0.0</td>\n",
              "      <td>0.0</td>\n",
              "      <td>0.0</td>\n",
              "      <td>0.0</td>\n",
              "      <td>0.0</td>\n",
              "      <td>left</td>\n",
              "      <td>-0.9833</td>\n",
              "      <td>-0.7184</td>\n",
              "      <td>0.201</td>\n",
              "      <td>0.375</td>\n",
              "      <td>0.778</td>\n",
              "      <td>0.625</td>\n",
              "      <td>0.021</td>\n",
              "      <td>0.0</td>\n",
              "      <td>0</td>\n",
              "      <td>0</td>\n",
              "      <td>0.0</td>\n",
              "      <td>0.000000</td>\n",
              "      <td>[\"asian\", \"american\", \"pacif\", \"island\", \"hate...</td>\n",
              "      <td>[\"JJ\", \"NN\", \"NN\", \"NN\", \"NN\", \"NN\", \"VB\", \"NN...</td>\n",
              "      <td>[\"the\", \"u.s.\", \"seen\", \"disturb\", \"surg\", \"ha...</td>\n",
              "      <td>[\"DT\", \"NN\", \"VB\", \"VB\", \"NN\", \"JJ\", \"NN\", \"JJ...</td>\n",
              "      <td>[{\"uri\": \"dmoz/Society/Issues\", \"label\": \"dmoz...</td>\n",
              "      <td>[{\"uri\": \"http://en.wikipedia.org/wiki/United_...</td>\n",
              "      <td>1</td>\n",
              "    </tr>\n",
              "    <tr>\n",
              "      <th>2</th>\n",
              "      <td>0.003922</td>\n",
              "      <td>118</td>\n",
              "      <td>6578408470</td>\n",
              "      <td>AP-NORC poll: More Americans believe anti-Asia...</td>\n",
              "      <td>WASHINGTON -- A majority of Americans across r...</td>\n",
              "      <td>abcnews.go.com</td>\n",
              "      <td>ABC News</td>\n",
              "      <td>171</td>\n",
              "      <td>615</td>\n",
              "      <td>150359</td>\n",
              "      <td>True</td>\n",
              "      <td>2021-05-26</td>\n",
              "      <td>Washington (state)</td>\n",
              "      <td>9</td>\n",
              "      <td>1091</td>\n",
              "      <td>355101</td>\n",
              "      <td>/news-source/abc-news-media-bias</td>\n",
              "      <td>Lean Left</td>\n",
              "      <td>0</td>\n",
              "      <td>[\"AP-NORC\", \"poll\", \":\", \"More\", \"Americans\", ...</td>\n",
              "      <td>[\"WASHINGTON\", \"--\", \"A\", \"majority\", \"of\", \"A...</td>\n",
              "      <td>2</td>\n",
              "      <td>1</td>\n",
              "      <td>1</td>\n",
              "      <td>3</td>\n",
              "      <td>0</td>\n",
              "      <td>1</td>\n",
              "      <td>0</td>\n",
              "      <td>1</td>\n",
              "      <td>0</td>\n",
              "      <td>0</td>\n",
              "      <td>0</td>\n",
              "      <td>0</td>\n",
              "      <td>0</td>\n",
              "      <td>0</td>\n",
              "      <td>0</td>\n",
              "      <td>0</td>\n",
              "      <td>0</td>\n",
              "      <td>0</td>\n",
              "      <td>0</td>\n",
              "      <td>...</td>\n",
              "      <td>0.0</td>\n",
              "      <td>0.0</td>\n",
              "      <td>0.0</td>\n",
              "      <td>0.0</td>\n",
              "      <td>0.0</td>\n",
              "      <td>0.0</td>\n",
              "      <td>0.0</td>\n",
              "      <td>0.0</td>\n",
              "      <td>0.0</td>\n",
              "      <td>0.0</td>\n",
              "      <td>0.0</td>\n",
              "      <td>0.0</td>\n",
              "      <td>0.0</td>\n",
              "      <td>0.0</td>\n",
              "      <td>0.0</td>\n",
              "      <td>0.0</td>\n",
              "      <td>0.0</td>\n",
              "      <td>0.0</td>\n",
              "      <td>0.0</td>\n",
              "      <td>0.0</td>\n",
              "      <td>left</td>\n",
              "      <td>-0.9982</td>\n",
              "      <td>-0.5719</td>\n",
              "      <td>0.141</td>\n",
              "      <td>0.346</td>\n",
              "      <td>0.795</td>\n",
              "      <td>0.654</td>\n",
              "      <td>0.065</td>\n",
              "      <td>0.0</td>\n",
              "      <td>0</td>\n",
              "      <td>91</td>\n",
              "      <td>0.0</td>\n",
              "      <td>0.083410</td>\n",
              "      <td>[\"ap-norc\", \"poll\", \"more\", \"american\", \"belie...</td>\n",
              "      <td>[\"JJ\", \"NN\", \"JJ\", \"NN\", \"VB\", \"JJ\", \"NN\", \"NN\"]</td>\n",
              "      <td>[\"washington\", \"A\", \"major\", \"american\", \"acro...</td>\n",
              "      <td>[\"NN\", \"DT\", \"NN\", \"NN\", \"IN\", \"JJ\", \"JJ\", \"NN...</td>\n",
              "      <td>[{\"uri\": \"news/Politics\", \"label\": \"news/Polit...</td>\n",
              "      <td>[{\"uri\": \"http://en.wikipedia.org/wiki/Asian_A...</td>\n",
              "      <td>1</td>\n",
              "    </tr>\n",
              "    <tr>\n",
              "      <th>3</th>\n",
              "      <td>-0.325490</td>\n",
              "      <td>39</td>\n",
              "      <td>6573140750</td>\n",
              "      <td>Floyd legislation reveals divide in police-ref...</td>\n",
              "      <td>NEW YORK -- Monifa Bandele became a community ...</td>\n",
              "      <td>abcnews.go.com</td>\n",
              "      <td>ABC News</td>\n",
              "      <td>171</td>\n",
              "      <td>615</td>\n",
              "      <td>150359</td>\n",
              "      <td>True</td>\n",
              "      <td>2021-05-22</td>\n",
              "      <td>New York City</td>\n",
              "      <td>7</td>\n",
              "      <td>1409</td>\n",
              "      <td>355101</td>\n",
              "      <td>/news-source/abc-news-media-bias</td>\n",
              "      <td>Lean Left</td>\n",
              "      <td>0</td>\n",
              "      <td>[\"Floyd\", \"legislation\", \"reveals\", \"divide\", ...</td>\n",
              "      <td>[\"NEW\", \"YORK\", \"--\", \"Monifa\", \"Bandele\", \"be...</td>\n",
              "      <td>1</td>\n",
              "      <td>1</td>\n",
              "      <td>1</td>\n",
              "      <td>2</td>\n",
              "      <td>1</td>\n",
              "      <td>0</td>\n",
              "      <td>0</td>\n",
              "      <td>0</td>\n",
              "      <td>0</td>\n",
              "      <td>0</td>\n",
              "      <td>0</td>\n",
              "      <td>0</td>\n",
              "      <td>0</td>\n",
              "      <td>0</td>\n",
              "      <td>0</td>\n",
              "      <td>0</td>\n",
              "      <td>0</td>\n",
              "      <td>0</td>\n",
              "      <td>0</td>\n",
              "      <td>...</td>\n",
              "      <td>0.0</td>\n",
              "      <td>0.0</td>\n",
              "      <td>0.0</td>\n",
              "      <td>0.0</td>\n",
              "      <td>0.0</td>\n",
              "      <td>0.0</td>\n",
              "      <td>0.0</td>\n",
              "      <td>0.0</td>\n",
              "      <td>0.0</td>\n",
              "      <td>0.0</td>\n",
              "      <td>0.0</td>\n",
              "      <td>0.0</td>\n",
              "      <td>0.0</td>\n",
              "      <td>0.0</td>\n",
              "      <td>0.0</td>\n",
              "      <td>0.0</td>\n",
              "      <td>0.0</td>\n",
              "      <td>0.0</td>\n",
              "      <td>0.0</td>\n",
              "      <td>0.0</td>\n",
              "      <td>left</td>\n",
              "      <td>0.9601</td>\n",
              "      <td>0.0000</td>\n",
              "      <td>0.073</td>\n",
              "      <td>0.000</td>\n",
              "      <td>0.838</td>\n",
              "      <td>1.000</td>\n",
              "      <td>0.089</td>\n",
              "      <td>0.0</td>\n",
              "      <td>0</td>\n",
              "      <td>94</td>\n",
              "      <td>0.0</td>\n",
              "      <td>0.066714</td>\n",
              "      <td>[\"floyd\", \"legisl\", \"reveal\", \"divid\", \"police...</td>\n",
              "      <td>[\"NN\", \"NN\", \"NN\", \"VB\", \"JJ\", \"NN\"]</td>\n",
              "      <td>[\"new\", \"york\", \"monifa\", \"bandel\", \"becam\", \"...</td>\n",
              "      <td>[\"NN\", \"NN\", \"NN\", \"NN\", \"VB\", \"NN\", \"NN\", \"JJ...</td>\n",
              "      <td>[{\"uri\": \"dmoz/Society/Issues/Crime_and_Justic...</td>\n",
              "      <td>[{\"uri\": \"http://en.wikipedia.org/wiki/George_...</td>\n",
              "      <td>1</td>\n",
              "    </tr>\n",
              "    <tr>\n",
              "      <th>4</th>\n",
              "      <td>-0.152941</td>\n",
              "      <td>15</td>\n",
              "      <td>6571115219</td>\n",
              "      <td>Police say antisemitic attacks in Los Angeles ...</td>\n",
              "      <td>LOS ANGELES -- Los Angeles police are investig...</td>\n",
              "      <td>abcnews.go.com</td>\n",
              "      <td>ABC News</td>\n",
              "      <td>171</td>\n",
              "      <td>615</td>\n",
              "      <td>150359</td>\n",
              "      <td>True</td>\n",
              "      <td>2021-05-21</td>\n",
              "      <td>Los Angeles</td>\n",
              "      <td>10</td>\n",
              "      <td>612</td>\n",
              "      <td>355101</td>\n",
              "      <td>/news-source/abc-news-media-bias</td>\n",
              "      <td>Lean Left</td>\n",
              "      <td>0</td>\n",
              "      <td>[\"Police\", \"say\", \"antisemitic\", \"attacks\", \"i...</td>\n",
              "      <td>[\"LOS\", \"ANGELES\", \"--\", \"Los\", \"Angeles\", \"po...</td>\n",
              "      <td>1</td>\n",
              "      <td>2</td>\n",
              "      <td>1</td>\n",
              "      <td>0</td>\n",
              "      <td>2</td>\n",
              "      <td>0</td>\n",
              "      <td>0</td>\n",
              "      <td>0</td>\n",
              "      <td>1</td>\n",
              "      <td>1</td>\n",
              "      <td>0</td>\n",
              "      <td>0</td>\n",
              "      <td>0</td>\n",
              "      <td>0</td>\n",
              "      <td>0</td>\n",
              "      <td>0</td>\n",
              "      <td>0</td>\n",
              "      <td>0</td>\n",
              "      <td>0</td>\n",
              "      <td>...</td>\n",
              "      <td>0.0</td>\n",
              "      <td>0.0</td>\n",
              "      <td>0.0</td>\n",
              "      <td>0.0</td>\n",
              "      <td>0.0</td>\n",
              "      <td>0.0</td>\n",
              "      <td>0.0</td>\n",
              "      <td>0.0</td>\n",
              "      <td>0.0</td>\n",
              "      <td>0.0</td>\n",
              "      <td>0.0</td>\n",
              "      <td>0.0</td>\n",
              "      <td>0.0</td>\n",
              "      <td>0.0</td>\n",
              "      <td>0.0</td>\n",
              "      <td>0.0</td>\n",
              "      <td>0.0</td>\n",
              "      <td>0.0</td>\n",
              "      <td>0.0</td>\n",
              "      <td>0.0</td>\n",
              "      <td>left</td>\n",
              "      <td>-0.9868</td>\n",
              "      <td>-0.4404</td>\n",
              "      <td>0.117</td>\n",
              "      <td>0.244</td>\n",
              "      <td>0.814</td>\n",
              "      <td>0.756</td>\n",
              "      <td>0.068</td>\n",
              "      <td>0.0</td>\n",
              "      <td>0</td>\n",
              "      <td>44</td>\n",
              "      <td>0.0</td>\n",
              "      <td>0.071895</td>\n",
              "      <td>[\"polic\", \"say\", \"antisemit\", \"attack\", \"lo\", ...</td>\n",
              "      <td>[\"NN\", \"VB\", \"JJ\", \"NN\", \"NN\", \"NN\", \"MD\", \"VB\"]</td>\n",
              "      <td>[\"lo\", \"angel\", \"lo\", \"angel\", \"polic\", \"inves...</td>\n",
              "      <td>[\"NN\", \"NN\", \"NN\", \"NN\", \"NN\", \"VB\", \"JJ\", \"NN...</td>\n",
              "      <td>[{\"uri\": \"dmoz/Society/Crime\", \"label\": \"dmoz/...</td>\n",
              "      <td>[{\"uri\": \"http://en.wikipedia.org/wiki/Los_Ang...</td>\n",
              "      <td>1</td>\n",
              "    </tr>\n",
              "  </tbody>\n",
              "</table>\n",
              "<p>5 rows × 205 columns</p>\n",
              "</div>"
            ],
            "text/plain": [
              "   sentiment  relevance  ...                                           concepts y_\n",
              "0  -0.168627         38  ...  [{\"uri\": \"http://en.wikipedia.org/wiki/Black_c...  1\n",
              "1  -0.498039         64  ...  [{\"uri\": \"http://en.wikipedia.org/wiki/United_...  1\n",
              "2   0.003922        118  ...  [{\"uri\": \"http://en.wikipedia.org/wiki/Asian_A...  1\n",
              "3  -0.325490         39  ...  [{\"uri\": \"http://en.wikipedia.org/wiki/George_...  1\n",
              "4  -0.152941         15  ...  [{\"uri\": \"http://en.wikipedia.org/wiki/Los_Ang...  1\n",
              "\n",
              "[5 rows x 205 columns]"
            ]
          },
          "metadata": {
            "tags": []
          },
          "execution_count": 48
        }
      ]
    },
    {
      "cell_type": "markdown",
      "metadata": {
        "id": "X2tB19a4RfC8"
      },
      "source": [
        "### Data Preprocessing"
      ]
    },
    {
      "cell_type": "code",
      "metadata": {
        "colab": {
          "base_uri": "https://localhost:8080/"
        },
        "id": "3dkq5i_7Q6Wf",
        "outputId": "da2ba858-4233-48ce-883c-0b82f24df029"
      },
      "source": [
        "# Select all part of speech columns\n",
        "pos_cols = [i for i in df.columns.values if i.endswith('per_word')]\n",
        "pos_cols[:5]"
      ],
      "execution_count": 49,
      "outputs": [
        {
          "output_type": "execute_result",
          "data": {
            "text/plain": [
              "['body_NNP_per_word',\n",
              " 'body_,_per_word',\n",
              " 'body_:_per_word',\n",
              " 'body_JJ_per_word',\n",
              " 'body_NNS_per_word']"
            ]
          },
          "metadata": {
            "tags": []
          },
          "execution_count": 49
        }
      ]
    },
    {
      "cell_type": "code",
      "metadata": {
        "colab": {
          "base_uri": "https://localhost:8080/"
        },
        "id": "_Yx-sMctRAV0",
        "outputId": "f8a23b77-3218-44ad-aca1-51b67142dda2"
      },
      "source": [
        "# Scale \n",
        "minmax = MinMaxScaler()\n",
        "pos_X = minmax.fit_transform(wider_df[pos_cols])\n",
        "pos_X.shape"
      ],
      "execution_count": 50,
      "outputs": [
        {
          "output_type": "execute_result",
          "data": {
            "text/plain": [
              "(277, 83)"
            ]
          },
          "metadata": {
            "tags": []
          },
          "execution_count": 50
        }
      ]
    },
    {
      "cell_type": "markdown",
      "metadata": {
        "id": "HbLXO81-vqjY"
      },
      "source": [
        "### ML Model Analysis"
      ]
    },
    {
      "cell_type": "code",
      "metadata": {
        "id": "VnRgotsyT3uX"
      },
      "source": [
        "X_train, X_test, y_train, y_test = train_test_split(pos_X, wider_df['y_'], random_state=0, train_size=0.8)"
      ],
      "execution_count": 51,
      "outputs": []
    },
    {
      "cell_type": "code",
      "metadata": {
        "colab": {
          "base_uri": "https://localhost:8080/"
        },
        "id": "NTN2DD2sTjFo",
        "outputId": "44c6c054-7722-47ac-cafc-5984246b7452"
      },
      "source": [
        "# Define and Train ML Models\n",
        "clfs = [\n",
        "        LogisticRegression(),\n",
        "        DecisionTreeClassifier(),\n",
        "        RandomForestClassifier(),\n",
        "        GradientBoostingClassifier(),\n",
        "        GaussianNB(),\n",
        "        MultinomialNB()\n",
        "]\n",
        "\n",
        "clf_pred_data = []\n",
        "\n",
        "for clf in clfs:\n",
        "  print(str(clf))\n",
        "  clf.fit(X_train, y_train)\n",
        "  sc = clf.score(X_test, y_test)\n",
        "  print(f\"Score: {sc}\")\n",
        "  clf_pred_data.append([str(clf), sc, clf])\n"
      ],
      "execution_count": 52,
      "outputs": [
        {
          "output_type": "stream",
          "text": [
            "LogisticRegression(C=1.0, class_weight=None, dual=False, fit_intercept=True,\n",
            "                   intercept_scaling=1, l1_ratio=None, max_iter=100,\n",
            "                   multi_class='auto', n_jobs=None, penalty='l2',\n",
            "                   random_state=None, solver='lbfgs', tol=0.0001, verbose=0,\n",
            "                   warm_start=False)\n",
            "Score: 0.6785714285714286\n",
            "DecisionTreeClassifier(ccp_alpha=0.0, class_weight=None, criterion='gini',\n",
            "                       max_depth=None, max_features=None, max_leaf_nodes=None,\n",
            "                       min_impurity_decrease=0.0, min_impurity_split=None,\n",
            "                       min_samples_leaf=1, min_samples_split=2,\n",
            "                       min_weight_fraction_leaf=0.0, presort='deprecated',\n",
            "                       random_state=None, splitter='best')\n",
            "Score: 0.6428571428571429\n",
            "RandomForestClassifier(bootstrap=True, ccp_alpha=0.0, class_weight=None,\n",
            "                       criterion='gini', max_depth=None, max_features='auto',\n",
            "                       max_leaf_nodes=None, max_samples=None,\n",
            "                       min_impurity_decrease=0.0, min_impurity_split=None,\n",
            "                       min_samples_leaf=1, min_samples_split=2,\n",
            "                       min_weight_fraction_leaf=0.0, n_estimators=100,\n",
            "                       n_jobs=None, oob_score=False, random_state=None,\n",
            "                       verbose=0, warm_start=False)\n",
            "Score: 0.6428571428571429\n",
            "GradientBoostingClassifier(ccp_alpha=0.0, criterion='friedman_mse', init=None,\n",
            "                           learning_rate=0.1, loss='deviance', max_depth=3,\n",
            "                           max_features=None, max_leaf_nodes=None,\n",
            "                           min_impurity_decrease=0.0, min_impurity_split=None,\n",
            "                           min_samples_leaf=1, min_samples_split=2,\n",
            "                           min_weight_fraction_leaf=0.0, n_estimators=100,\n",
            "                           n_iter_no_change=None, presort='deprecated',\n",
            "                           random_state=None, subsample=1.0, tol=0.0001,\n",
            "                           validation_fraction=0.1, verbose=0,\n",
            "                           warm_start=False)\n",
            "Score: 0.6785714285714286\n",
            "GaussianNB(priors=None, var_smoothing=1e-09)\n",
            "Score: 0.4107142857142857\n",
            "MultinomialNB(alpha=1.0, class_prior=None, fit_prior=True)\n",
            "Score: 0.6607142857142857\n"
          ],
          "name": "stdout"
        }
      ]
    },
    {
      "cell_type": "code",
      "metadata": {
        "colab": {
          "base_uri": "https://localhost:8080/",
          "height": 0
        },
        "id": "8Ok4_UCdUYKR",
        "outputId": "ef4ebcc6-fc92-41ce-80a1-d15bb8b2c420"
      },
      "source": [
        "clf_pred_df = pd.DataFrame(clf_pred_data, columns = [\"clf_name\", \"score\", \"clf\"])\n",
        "clf_pred_df"
      ],
      "execution_count": 53,
      "outputs": [
        {
          "output_type": "execute_result",
          "data": {
            "text/html": [
              "<div>\n",
              "<style scoped>\n",
              "    .dataframe tbody tr th:only-of-type {\n",
              "        vertical-align: middle;\n",
              "    }\n",
              "\n",
              "    .dataframe tbody tr th {\n",
              "        vertical-align: top;\n",
              "    }\n",
              "\n",
              "    .dataframe thead th {\n",
              "        text-align: right;\n",
              "    }\n",
              "</style>\n",
              "<table border=\"1\" class=\"dataframe\">\n",
              "  <thead>\n",
              "    <tr style=\"text-align: right;\">\n",
              "      <th></th>\n",
              "      <th>clf_name</th>\n",
              "      <th>score</th>\n",
              "      <th>clf</th>\n",
              "    </tr>\n",
              "  </thead>\n",
              "  <tbody>\n",
              "    <tr>\n",
              "      <th>0</th>\n",
              "      <td>LogisticRegression(C=1.0, class_weight=None, d...</td>\n",
              "      <td>0.678571</td>\n",
              "      <td>LogisticRegression(C=1.0, class_weight=None, d...</td>\n",
              "    </tr>\n",
              "    <tr>\n",
              "      <th>1</th>\n",
              "      <td>DecisionTreeClassifier(ccp_alpha=0.0, class_we...</td>\n",
              "      <td>0.642857</td>\n",
              "      <td>DecisionTreeClassifier(ccp_alpha=0.0, class_we...</td>\n",
              "    </tr>\n",
              "    <tr>\n",
              "      <th>2</th>\n",
              "      <td>RandomForestClassifier(bootstrap=True, ccp_alp...</td>\n",
              "      <td>0.642857</td>\n",
              "      <td>(DecisionTreeClassifier(ccp_alpha=0.0, class_w...</td>\n",
              "    </tr>\n",
              "    <tr>\n",
              "      <th>3</th>\n",
              "      <td>GradientBoostingClassifier(ccp_alpha=0.0, crit...</td>\n",
              "      <td>0.678571</td>\n",
              "      <td>([DecisionTreeRegressor(ccp_alpha=0.0, criteri...</td>\n",
              "    </tr>\n",
              "    <tr>\n",
              "      <th>4</th>\n",
              "      <td>GaussianNB(priors=None, var_smoothing=1e-09)</td>\n",
              "      <td>0.410714</td>\n",
              "      <td>GaussianNB(priors=None, var_smoothing=1e-09)</td>\n",
              "    </tr>\n",
              "    <tr>\n",
              "      <th>5</th>\n",
              "      <td>MultinomialNB(alpha=1.0, class_prior=None, fit...</td>\n",
              "      <td>0.660714</td>\n",
              "      <td>MultinomialNB(alpha=1.0, class_prior=None, fit...</td>\n",
              "    </tr>\n",
              "  </tbody>\n",
              "</table>\n",
              "</div>"
            ],
            "text/plain": [
              "                                            clf_name  ...                                                clf\n",
              "0  LogisticRegression(C=1.0, class_weight=None, d...  ...  LogisticRegression(C=1.0, class_weight=None, d...\n",
              "1  DecisionTreeClassifier(ccp_alpha=0.0, class_we...  ...  DecisionTreeClassifier(ccp_alpha=0.0, class_we...\n",
              "2  RandomForestClassifier(bootstrap=True, ccp_alp...  ...  (DecisionTreeClassifier(ccp_alpha=0.0, class_w...\n",
              "3  GradientBoostingClassifier(ccp_alpha=0.0, crit...  ...  ([DecisionTreeRegressor(ccp_alpha=0.0, criteri...\n",
              "4       GaussianNB(priors=None, var_smoothing=1e-09)  ...       GaussianNB(priors=None, var_smoothing=1e-09)\n",
              "5  MultinomialNB(alpha=1.0, class_prior=None, fit...  ...  MultinomialNB(alpha=1.0, class_prior=None, fit...\n",
              "\n",
              "[6 rows x 3 columns]"
            ]
          },
          "metadata": {
            "tags": []
          },
          "execution_count": 53
        }
      ]
    },
    {
      "cell_type": "markdown",
      "metadata": {
        "id": "n2F29sJaWglF"
      },
      "source": [
        "#### Gradient Boosting Features"
      ]
    },
    {
      "cell_type": "code",
      "metadata": {
        "id": "adlQ7tk6UnV8"
      },
      "source": [
        "gradient_boost_features = list(sorted(zip(wider_df[pos_cols].columns.values, clf_pred_df['clf'].iloc[3].feature_importances_), key = lambda x: x[1], reverse = True))"
      ],
      "execution_count": null,
      "outputs": []
    },
    {
      "cell_type": "code",
      "metadata": {
        "colab": {
          "base_uri": "https://localhost:8080/"
        },
        "id": "VCggXNjzVCZ7",
        "outputId": "16df2c8e-3835-4ada-c982-606d5e6e4d44"
      },
      "source": [
        "gradient_boost_features[:10]"
      ],
      "execution_count": null,
      "outputs": [
        {
          "output_type": "execute_result",
          "data": {
            "text/plain": [
              "[('body_NN_per_word', 0.11358763414122904),\n",
              " ('body_)_per_word', 0.07020073875791459),\n",
              " ('body_NNPS_per_word', 0.06599550446797196),\n",
              " ('body_._per_word', 0.06169180588108166),\n",
              " ('body_(_per_word', 0.0614598675807045),\n",
              " ('body_VBG_per_word', 0.058251795223740424),\n",
              " ('body_NNP_per_word', 0.05528308065200819),\n",
              " ('title_NNP_per_word', 0.05447362097992952),\n",
              " ('body_WP$_per_word', 0.04251078116753591),\n",
              " ('body_VBZ_per_word', 0.04095709342445697)]"
            ]
          },
          "metadata": {
            "tags": []
          },
          "execution_count": 13
        }
      ]
    },
    {
      "cell_type": "markdown",
      "metadata": {
        "id": "fBhJYDGdWoCw"
      },
      "source": [
        "#### Logistic Regression Features"
      ]
    },
    {
      "cell_type": "code",
      "metadata": {
        "colab": {
          "base_uri": "https://localhost:8080/"
        },
        "id": "T4niYjrbV6lU",
        "outputId": "31142d0e-d8cb-4d20-ae2c-74788b02f11b"
      },
      "source": [
        "clf_pred_df['clf'].iloc[0].coef_.shape"
      ],
      "execution_count": null,
      "outputs": [
        {
          "output_type": "execute_result",
          "data": {
            "text/plain": [
              "(1, 83)"
            ]
          },
          "metadata": {
            "tags": []
          },
          "execution_count": 14
        }
      ]
    },
    {
      "cell_type": "code",
      "metadata": {
        "id": "Jz2WFukrVqCt"
      },
      "source": [
        "log_reg_features = list(sorted(zip(wider_df[pos_cols].columns.values, clf_pred_df['clf'].iloc[0].coef_[0]), key = lambda x: x[1], reverse = True))"
      ],
      "execution_count": null,
      "outputs": []
    },
    {
      "cell_type": "code",
      "metadata": {
        "colab": {
          "base_uri": "https://localhost:8080/"
        },
        "id": "yUIOhe_oV1CT",
        "outputId": "cc83244c-c994-4700-8587-15c5fa3f1d1b"
      },
      "source": [
        "log_reg_features[:5] # Most Indicative of Left Media"
      ],
      "execution_count": null,
      "outputs": [
        {
          "output_type": "execute_result",
          "data": {
            "text/plain": [
              "[('body_VB_per_word', 1.0771721117164228),\n",
              " ('body_NN_per_word', 0.9983560577963879),\n",
              " ('title_RB_per_word', 0.8254950444552932),\n",
              " ('title_VBD_per_word', 0.7497087934291109),\n",
              " ('body_RBR_per_word', 0.6318631382914993)]"
            ]
          },
          "metadata": {
            "tags": []
          },
          "execution_count": 16
        }
      ]
    },
    {
      "cell_type": "code",
      "metadata": {
        "colab": {
          "base_uri": "https://localhost:8080/"
        },
        "id": "PXZtR2C1WDSG",
        "outputId": "58da87f4-13ae-4507-d944-0d46a1f47802"
      },
      "source": [
        "log_reg_features[-5:] # Most Indicative of Right Media"
      ],
      "execution_count": null,
      "outputs": [
        {
          "output_type": "execute_result",
          "data": {
            "text/plain": [
              "[('body_WRB_per_word', -0.6737956002229745),\n",
              " ('title_TO_per_word', -0.6768760567931136),\n",
              " ('body_NNP_per_word', -0.8924345722453336),\n",
              " ('body_NNPS_per_word', -0.9705572160033403),\n",
              " ('title_JJR_per_word', -0.9769917900842598)]"
            ]
          },
          "metadata": {
            "tags": []
          },
          "execution_count": 17
        }
      ]
    },
    {
      "cell_type": "markdown",
      "metadata": {
        "id": "IBYG4dszWrI8"
      },
      "source": [
        "#### Multinomial Naive Bayes Features"
      ]
    },
    {
      "cell_type": "code",
      "metadata": {
        "colab": {
          "base_uri": "https://localhost:8080/"
        },
        "id": "WQt-_LeuWEuv",
        "outputId": "857b6d72-ce69-4eea-95dd-280ad40dd663"
      },
      "source": [
        "clf_pred_df['clf'].iloc[5]._get_coef().shape"
      ],
      "execution_count": null,
      "outputs": [
        {
          "output_type": "execute_result",
          "data": {
            "text/plain": [
              "(1, 83)"
            ]
          },
          "metadata": {
            "tags": []
          },
          "execution_count": 18
        }
      ]
    },
    {
      "cell_type": "code",
      "metadata": {
        "id": "W1Spu4YxWUHJ"
      },
      "source": [
        "mult_nb_features = list(sorted(zip(wider_df[pos_cols].columns.values, clf_pred_df['clf'].iloc[5]._get_coef()[0]), key = lambda x: x[1], reverse = True))"
      ],
      "execution_count": null,
      "outputs": []
    },
    {
      "cell_type": "code",
      "metadata": {
        "colab": {
          "base_uri": "https://localhost:8080/"
        },
        "id": "UHJQJVoqWzMI",
        "outputId": "eb856eb2-a106-4a88-ec70-b8d6ab2b5c89"
      },
      "source": [
        "mult_nb_features[:5]"
      ],
      "execution_count": null,
      "outputs": [
        {
          "output_type": "execute_result",
          "data": {
            "text/plain": [
              "[('body_``_per_word', -3.195036116006733),\n",
              " ('body_,_per_word', -3.2456382670727395),\n",
              " ('body_._per_word', -3.2590968874395188),\n",
              " ('body_VBG_per_word', -3.2605039530355464),\n",
              " (\"body_''_per_word\", -3.2804713106102996)]"
            ]
          },
          "metadata": {
            "tags": []
          },
          "execution_count": 20
        }
      ]
    },
    {
      "cell_type": "code",
      "metadata": {
        "colab": {
          "base_uri": "https://localhost:8080/"
        },
        "id": "XrR8bUTcW0US",
        "outputId": "4af5450d-92a1-4010-8d09-2f2b3a1a06d7"
      },
      "source": [
        "mult_nb_features[-5:]"
      ],
      "execution_count": null,
      "outputs": [
        {
          "output_type": "execute_result",
          "data": {
            "text/plain": [
              "[('title_PDT_per_word', -6.965495475484977),\n",
              " ('title_$_per_word', -6.965495475484977),\n",
              " ('title_TO_per_word', -7.145320152080345),\n",
              " ('title_UH_per_word', -7.658642656044923),\n",
              " ('title_RBS_per_word', -7.658642656044923)]"
            ]
          },
          "metadata": {
            "tags": []
          },
          "execution_count": 21
        }
      ]
    },
    {
      "cell_type": "markdown",
      "metadata": {
        "id": "vvy3t1pVv0SO"
      },
      "source": [
        "### Dimension Reduction Analysis"
      ]
    },
    {
      "cell_type": "markdown",
      "metadata": {
        "id": "qLvCaxzIQRzN"
      },
      "source": [
        "#### PCA Analysis"
      ]
    },
    {
      "cell_type": "code",
      "metadata": {
        "id": "JA7TBfpcXCQM"
      },
      "source": [
        "from sklearn.decomposition import PCA"
      ],
      "execution_count": null,
      "outputs": []
    },
    {
      "cell_type": "code",
      "metadata": {
        "id": "5oNkGvfoQr-f"
      },
      "source": [
        "pca = PCA(n_components=2)"
      ],
      "execution_count": null,
      "outputs": []
    },
    {
      "cell_type": "code",
      "metadata": {
        "id": "Bbu1v2doQz0g"
      },
      "source": [
        "decomposed_X = pca.fit_transform(wider_df[pos_cols])"
      ],
      "execution_count": null,
      "outputs": []
    },
    {
      "cell_type": "code",
      "metadata": {
        "colab": {
          "base_uri": "https://localhost:8080/"
        },
        "id": "bT74lzx4Q-Y_",
        "outputId": "05e0d0dd-d046-4de3-f132-81df48477432"
      },
      "source": [
        "print(pca.explained_variance_ratio_)"
      ],
      "execution_count": null,
      "outputs": [
        {
          "output_type": "stream",
          "text": [
            "[0.45375008 0.1326666 ]\n"
          ],
          "name": "stdout"
        }
      ]
    },
    {
      "cell_type": "code",
      "metadata": {
        "colab": {
          "base_uri": "https://localhost:8080/"
        },
        "id": "LigHzNihRWjp",
        "outputId": "be816b14-f1a8-4a13-c677-afc94c061836"
      },
      "source": [
        "decomposed_X.shape"
      ],
      "execution_count": null,
      "outputs": [
        {
          "output_type": "execute_result",
          "data": {
            "text/plain": [
              "(277, 2)"
            ]
          },
          "metadata": {
            "tags": []
          },
          "execution_count": 51
        }
      ]
    },
    {
      "cell_type": "code",
      "metadata": {
        "colab": {
          "base_uri": "https://localhost:8080/"
        },
        "id": "hwbNrD9BRnD5",
        "outputId": "6cd2d569-f30e-4a17-b76a-5320a88107b2"
      },
      "source": [
        "wider_df[pos_cols].shape"
      ],
      "execution_count": null,
      "outputs": [
        {
          "output_type": "execute_result",
          "data": {
            "text/plain": [
              "(277, 83)"
            ]
          },
          "metadata": {
            "tags": []
          },
          "execution_count": 52
        }
      ]
    },
    {
      "cell_type": "code",
      "metadata": {
        "id": "yU1JblApSIeH"
      },
      "source": [
        "minmax = MinMaxScaler()\n",
        "decomp_minmax_X = pd.DataFrame(minmax.fit_transform(decomposed_X), columns = [\"0\", \"1\"])\n",
        "decomp_minmax_X['y_'] = wider_df['y_']"
      ],
      "execution_count": null,
      "outputs": []
    },
    {
      "cell_type": "code",
      "metadata": {
        "colab": {
          "base_uri": "https://localhost:8080/",
          "height": 296
        },
        "id": "gaIqs9jQTjQw",
        "outputId": "ffd5bb3f-917a-44c1-8026-5609b1b24807"
      },
      "source": [
        "sns.scatterplot(data = decomp_minmax_X, x = \"0\", y = \"1\", hue = \"y_\")"
      ],
      "execution_count": null,
      "outputs": [
        {
          "output_type": "execute_result",
          "data": {
            "text/plain": [
              "<matplotlib.axes._subplots.AxesSubplot at 0x7fb061f0e750>"
            ]
          },
          "metadata": {
            "tags": []
          },
          "execution_count": 57
        },
        {
          "output_type": "display_data",
          "data": {
            "image/png": "[encoded data removed]",
            "text/plain": [
              "<Figure size 432x288 with 1 Axes>"
            ]
          },
          "metadata": {
            "tags": [],
            "needs_background": "light"
          }
        }
      ]
    },
    {
      "cell_type": "code",
      "metadata": {
        "id": "unEQFGMKS_JP"
      },
      "source": [
        ""
      ],
      "execution_count": null,
      "outputs": []
    },
    {
      "cell_type": "markdown",
      "metadata": {
        "id": "M9imsHPCvxUj"
      },
      "source": [
        "#### TSNE Analysis"
      ]
    },
    {
      "cell_type": "code",
      "metadata": {
        "id": "js9Tz5MJv326"
      },
      "source": [
        "from sklearn.manifold import TSNE\n",
        "import time"
      ],
      "execution_count": null,
      "outputs": []
    },
    {
      "cell_type": "code",
      "metadata": {
        "colab": {
          "base_uri": "https://localhost:8080/"
        },
        "id": "Wo-PUhFNwFTP",
        "outputId": "ed9d3af7-c89f-4439-af93-74ddd1ce590a"
      },
      "source": [
        "time_start = time.time()\n",
        "tsne = TSNE(n_components=2, verbose=1, perplexity=15, n_iter=300)\n",
        "tsne_processed_X = tsne.fit_transform(wider_df[pos_cols])\n",
        "print('t-SNE done! Time elapsed: {} seconds'.format(time.time()-time_start))"
      ],
      "execution_count": null,
      "outputs": [
        {
          "output_type": "stream",
          "text": [
            "[t-SNE] Computing 46 nearest neighbors...\n",
            "[t-SNE] Indexed 277 samples in 0.002s...\n",
            "[t-SNE] Computed neighbors for 277 samples in 0.022s...\n",
            "[t-SNE] Computed conditional probabilities for sample 277 / 277\n",
            "[t-SNE] Mean sigma: 0.107058\n",
            "[t-SNE] KL divergence after 250 iterations with early exaggeration: 69.738831\n",
            "[t-SNE] KL divergence after 300 iterations: 0.949706\n",
            "t-SNE done! Time elapsed: 0.49987077713012695 seconds\n"
          ],
          "name": "stdout"
        }
      ]
    },
    {
      "cell_type": "code",
      "metadata": {
        "id": "aDjqqGOjwbPQ"
      },
      "source": [
        "minmax = MinMaxScaler()\n",
        "minmaxed_X = pd.DataFrame(minmax.fit_transform(tsne_processed_X), columns = [\"0\", \"1\"])\n",
        "minmaxed_X['y_'] = wider_df['y_']"
      ],
      "execution_count": null,
      "outputs": []
    },
    {
      "cell_type": "code",
      "metadata": {
        "colab": {
          "base_uri": "https://localhost:8080/",
          "height": 296
        },
        "id": "2OvFabLwwvlk",
        "outputId": "2dd6eb57-577a-46ca-bc1d-187bc3fe186a"
      },
      "source": [
        "sns.scatterplot(data = minmaxed_X, x = \"0\", y = \"1\", hue = \"y_\")"
      ],
      "execution_count": null,
      "outputs": [
        {
          "output_type": "execute_result",
          "data": {
            "text/plain": [
              "<matplotlib.axes._subplots.AxesSubplot at 0x7fc4f7949750>"
            ]
          },
          "metadata": {
            "tags": []
          },
          "execution_count": 19
        },
        {
          "output_type": "display_data",
          "data": {
            "image/png": "[encoded data removed]",
            "text/plain": [
              "<Figure size 432x288 with 1 Axes>"
            ]
          },
          "metadata": {
            "tags": [],
            "needs_background": "light"
          }
        }
      ]
    },
    {
      "cell_type": "markdown",
      "metadata": {
        "id": "VBewh7pQu6pU"
      },
      "source": [
        "## T testing"
      ]
    },
    {
      "cell_type": "markdown",
      "metadata": {
        "id": "UK-sJEg8v6et"
      },
      "source": [
        "### Load Data"
      ]
    },
    {
      "cell_type": "code",
      "metadata": {
        "id": "2GSQY9ecv22w"
      },
      "source": [
        "from scipy import stats\n",
        "from itertools import combinations"
      ],
      "execution_count": 80,
      "outputs": []
    },
    {
      "cell_type": "code",
      "metadata": {
        "id": "KW9vHUA060UZ"
      },
      "source": [
        "position_list = [\"0_per_article_left\", \"1_per_article_lean_left\", \"2_per_article_center\", \"3_per_article_lean_right\", \"4_per_article_right\"]"
      ],
      "execution_count": 76,
      "outputs": []
    },
    {
      "cell_type": "code",
      "metadata": {
        "colab": {
          "base_uri": "https://localhost:8080/",
          "height": 241
        },
        "id": "ittvwp99v5Fa",
        "outputId": "320d4295-a8e6-4a0a-b377-876f5a877e48"
      },
      "source": [
        "title_df = pd.read_csv(os.path.join(main_path, \"title_stem_dataframe.csv\"))\n",
        "title_df.head()"
      ],
      "execution_count": 17,
      "outputs": [
        {
          "output_type": "execute_result",
          "data": {
            "text/html": [
              "<div>\n",
              "<style scoped>\n",
              "    .dataframe tbody tr th:only-of-type {\n",
              "        vertical-align: middle;\n",
              "    }\n",
              "\n",
              "    .dataframe tbody tr th {\n",
              "        vertical-align: top;\n",
              "    }\n",
              "\n",
              "    .dataframe thead th {\n",
              "        text-align: right;\n",
              "    }\n",
              "</style>\n",
              "<table border=\"1\" class=\"dataframe\">\n",
              "  <thead>\n",
              "    <tr style=\"text-align: right;\">\n",
              "      <th></th>\n",
              "      <th>Lean Left</th>\n",
              "      <th>Left</th>\n",
              "      <th>Center</th>\n",
              "      <th>Lean Right</th>\n",
              "      <th>Right</th>\n",
              "      <th>stem</th>\n",
              "      <th>pos</th>\n",
              "      <th>usage_sum</th>\n",
              "      <th>0_per_article_left</th>\n",
              "      <th>1_per_article_lean_left</th>\n",
              "      <th>4_per_article_right</th>\n",
              "      <th>3_per_article_lean_right</th>\n",
              "      <th>2_per_article_center</th>\n",
              "      <th>0_per_article_left_copy</th>\n",
              "      <th>1_per_article_lean_left_copy</th>\n",
              "      <th>4_per_article_right_copy</th>\n",
              "      <th>3_per_article_lean_right_copy</th>\n",
              "      <th>2_per_article_center_copy</th>\n",
              "    </tr>\n",
              "  </thead>\n",
              "  <tbody>\n",
              "    <tr>\n",
              "      <th>0</th>\n",
              "      <td>11</td>\n",
              "      <td>0</td>\n",
              "      <td>15</td>\n",
              "      <td>0</td>\n",
              "      <td>4</td>\n",
              "      <td>racial</td>\n",
              "      <td>JJ</td>\n",
              "      <td>30</td>\n",
              "      <td>0.000000</td>\n",
              "      <td>0.063584</td>\n",
              "      <td>0.105263</td>\n",
              "      <td>0.0</td>\n",
              "      <td>0.066372</td>\n",
              "      <td>0.000000</td>\n",
              "      <td>0.063584</td>\n",
              "      <td>0.105263</td>\n",
              "      <td>0.0</td>\n",
              "      <td>0.066372</td>\n",
              "    </tr>\n",
              "    <tr>\n",
              "      <th>1</th>\n",
              "      <td>3</td>\n",
              "      <td>1</td>\n",
              "      <td>1</td>\n",
              "      <td>0</td>\n",
              "      <td>0</td>\n",
              "      <td>tension</td>\n",
              "      <td>NN</td>\n",
              "      <td>5</td>\n",
              "      <td>0.027027</td>\n",
              "      <td>0.017341</td>\n",
              "      <td>0.000000</td>\n",
              "      <td>0.0</td>\n",
              "      <td>0.004425</td>\n",
              "      <td>0.027027</td>\n",
              "      <td>0.017341</td>\n",
              "      <td>0.000000</td>\n",
              "      <td>0.0</td>\n",
              "      <td>0.004425</td>\n",
              "    </tr>\n",
              "    <tr>\n",
              "      <th>2</th>\n",
              "      <td>2</td>\n",
              "      <td>1</td>\n",
              "      <td>1</td>\n",
              "      <td>0</td>\n",
              "      <td>0</td>\n",
              "      <td>simmer</td>\n",
              "      <td>VB</td>\n",
              "      <td>4</td>\n",
              "      <td>0.027027</td>\n",
              "      <td>0.011561</td>\n",
              "      <td>0.000000</td>\n",
              "      <td>0.0</td>\n",
              "      <td>0.004425</td>\n",
              "      <td>0.027027</td>\n",
              "      <td>0.011561</td>\n",
              "      <td>0.000000</td>\n",
              "      <td>0.0</td>\n",
              "      <td>0.004425</td>\n",
              "    </tr>\n",
              "    <tr>\n",
              "      <th>3</th>\n",
              "      <td>3</td>\n",
              "      <td>1</td>\n",
              "      <td>1</td>\n",
              "      <td>0</td>\n",
              "      <td>0</td>\n",
              "      <td>southern</td>\n",
              "      <td>JJ</td>\n",
              "      <td>5</td>\n",
              "      <td>0.027027</td>\n",
              "      <td>0.017341</td>\n",
              "      <td>0.000000</td>\n",
              "      <td>0.0</td>\n",
              "      <td>0.004425</td>\n",
              "      <td>0.027027</td>\n",
              "      <td>0.017341</td>\n",
              "      <td>0.000000</td>\n",
              "      <td>0.0</td>\n",
              "      <td>0.004425</td>\n",
              "    </tr>\n",
              "    <tr>\n",
              "      <th>4</th>\n",
              "      <td>4</td>\n",
              "      <td>1</td>\n",
              "      <td>2</td>\n",
              "      <td>0</td>\n",
              "      <td>0</td>\n",
              "      <td>baptist</td>\n",
              "      <td>NN</td>\n",
              "      <td>7</td>\n",
              "      <td>0.027027</td>\n",
              "      <td>0.023121</td>\n",
              "      <td>0.000000</td>\n",
              "      <td>0.0</td>\n",
              "      <td>0.008850</td>\n",
              "      <td>0.027027</td>\n",
              "      <td>0.023121</td>\n",
              "      <td>0.000000</td>\n",
              "      <td>0.0</td>\n",
              "      <td>0.008850</td>\n",
              "    </tr>\n",
              "  </tbody>\n",
              "</table>\n",
              "</div>"
            ],
            "text/plain": [
              "   Lean Left  Left  ...  3_per_article_lean_right_copy  2_per_article_center_copy\n",
              "0         11     0  ...                            0.0                   0.066372\n",
              "1          3     1  ...                            0.0                   0.004425\n",
              "2          2     1  ...                            0.0                   0.004425\n",
              "3          3     1  ...                            0.0                   0.004425\n",
              "4          4     1  ...                            0.0                   0.008850\n",
              "\n",
              "[5 rows x 18 columns]"
            ]
          },
          "metadata": {
            "tags": []
          },
          "execution_count": 17
        }
      ]
    },
    {
      "cell_type": "code",
      "metadata": {
        "colab": {
          "base_uri": "https://localhost:8080/",
          "height": 258
        },
        "id": "WAxdWhJDwC6-",
        "outputId": "070cb7eb-f29e-4817-e486-ac0e93075a50"
      },
      "source": [
        "body_df = pd.read_csv(os.path.join(main_path, \"body_stem_dataframe.csv\"))\n",
        "body_df.head()"
      ],
      "execution_count": 18,
      "outputs": [
        {
          "output_type": "execute_result",
          "data": {
            "text/html": [
              "<div>\n",
              "<style scoped>\n",
              "    .dataframe tbody tr th:only-of-type {\n",
              "        vertical-align: middle;\n",
              "    }\n",
              "\n",
              "    .dataframe tbody tr th {\n",
              "        vertical-align: top;\n",
              "    }\n",
              "\n",
              "    .dataframe thead th {\n",
              "        text-align: right;\n",
              "    }\n",
              "</style>\n",
              "<table border=\"1\" class=\"dataframe\">\n",
              "  <thead>\n",
              "    <tr style=\"text-align: right;\">\n",
              "      <th></th>\n",
              "      <th>Lean Left</th>\n",
              "      <th>Left</th>\n",
              "      <th>Center</th>\n",
              "      <th>Lean Right</th>\n",
              "      <th>Right</th>\n",
              "      <th>stem</th>\n",
              "      <th>pos</th>\n",
              "      <th>usage_sum</th>\n",
              "      <th>0_per_article_left</th>\n",
              "      <th>1_per_article_lean_left</th>\n",
              "      <th>4_per_article_right</th>\n",
              "      <th>3_per_article_lean_right</th>\n",
              "      <th>2_per_article_center</th>\n",
              "      <th>0_per_article_left_copy</th>\n",
              "      <th>1_per_article_lean_left_copy</th>\n",
              "      <th>4_per_article_right_copy</th>\n",
              "      <th>3_per_article_lean_right_copy</th>\n",
              "      <th>2_per_article_center_copy</th>\n",
              "    </tr>\n",
              "  </thead>\n",
              "  <tbody>\n",
              "    <tr>\n",
              "      <th>0</th>\n",
              "      <td>10</td>\n",
              "      <td>3</td>\n",
              "      <td>4</td>\n",
              "      <td>0</td>\n",
              "      <td>0</td>\n",
              "      <td>nashvil</td>\n",
              "      <td>NN</td>\n",
              "      <td>17</td>\n",
              "      <td>0.081081</td>\n",
              "      <td>0.057803</td>\n",
              "      <td>0.000000</td>\n",
              "      <td>0.000000</td>\n",
              "      <td>0.017699</td>\n",
              "      <td>0.081081</td>\n",
              "      <td>0.057803</td>\n",
              "      <td>0.000000</td>\n",
              "      <td>0.000000</td>\n",
              "      <td>0.017699</td>\n",
              "    </tr>\n",
              "    <tr>\n",
              "      <th>1</th>\n",
              "      <td>4</td>\n",
              "      <td>0</td>\n",
              "      <td>1</td>\n",
              "      <td>0</td>\n",
              "      <td>0</td>\n",
              "      <td>tenn.</td>\n",
              "      <td>NN</td>\n",
              "      <td>5</td>\n",
              "      <td>0.000000</td>\n",
              "      <td>0.023121</td>\n",
              "      <td>0.000000</td>\n",
              "      <td>0.000000</td>\n",
              "      <td>0.004425</td>\n",
              "      <td>0.000000</td>\n",
              "      <td>0.023121</td>\n",
              "      <td>0.000000</td>\n",
              "      <td>0.000000</td>\n",
              "      <td>0.004425</td>\n",
              "    </tr>\n",
              "    <tr>\n",
              "      <th>2</th>\n",
              "      <td>7</td>\n",
              "      <td>2</td>\n",
              "      <td>3</td>\n",
              "      <td>0</td>\n",
              "      <td>1</td>\n",
              "      <td>race-rel</td>\n",
              "      <td>JJ</td>\n",
              "      <td>13</td>\n",
              "      <td>0.054054</td>\n",
              "      <td>0.040462</td>\n",
              "      <td>0.026316</td>\n",
              "      <td>0.000000</td>\n",
              "      <td>0.013274</td>\n",
              "      <td>0.054054</td>\n",
              "      <td>0.040462</td>\n",
              "      <td>0.026316</td>\n",
              "      <td>0.000000</td>\n",
              "      <td>0.013274</td>\n",
              "    </tr>\n",
              "    <tr>\n",
              "      <th>3</th>\n",
              "      <td>24</td>\n",
              "      <td>3</td>\n",
              "      <td>20</td>\n",
              "      <td>2</td>\n",
              "      <td>2</td>\n",
              "      <td>tension</td>\n",
              "      <td>NN</td>\n",
              "      <td>51</td>\n",
              "      <td>0.081081</td>\n",
              "      <td>0.138728</td>\n",
              "      <td>0.052632</td>\n",
              "      <td>0.068966</td>\n",
              "      <td>0.088496</td>\n",
              "      <td>0.081081</td>\n",
              "      <td>0.138728</td>\n",
              "      <td>0.052632</td>\n",
              "      <td>0.068966</td>\n",
              "      <td>0.088496</td>\n",
              "    </tr>\n",
              "    <tr>\n",
              "      <th>4</th>\n",
              "      <td>34</td>\n",
              "      <td>6</td>\n",
              "      <td>43</td>\n",
              "      <td>4</td>\n",
              "      <td>10</td>\n",
              "      <td>within</td>\n",
              "      <td>IN</td>\n",
              "      <td>97</td>\n",
              "      <td>0.162162</td>\n",
              "      <td>0.196532</td>\n",
              "      <td>0.263158</td>\n",
              "      <td>0.137931</td>\n",
              "      <td>0.190265</td>\n",
              "      <td>0.162162</td>\n",
              "      <td>0.196532</td>\n",
              "      <td>0.263158</td>\n",
              "      <td>0.137931</td>\n",
              "      <td>0.190265</td>\n",
              "    </tr>\n",
              "  </tbody>\n",
              "</table>\n",
              "</div>"
            ],
            "text/plain": [
              "   Lean Left  Left  ...  3_per_article_lean_right_copy  2_per_article_center_copy\n",
              "0         10     3  ...                       0.000000                   0.017699\n",
              "1          4     0  ...                       0.000000                   0.004425\n",
              "2          7     2  ...                       0.000000                   0.013274\n",
              "3         24     3  ...                       0.068966                   0.088496\n",
              "4         34     6  ...                       0.137931                   0.190265\n",
              "\n",
              "[5 rows x 18 columns]"
            ]
          },
          "metadata": {
            "tags": []
          },
          "execution_count": 18
        }
      ]
    },
    {
      "cell_type": "code",
      "metadata": {
        "colab": {
          "base_uri": "https://localhost:8080/",
          "height": 496
        },
        "id": "5NefP-imzmuj",
        "outputId": "6f6516fe-3bce-4bee-8f66-36694e8b61bd"
      },
      "source": [
        "concept_df = pd.read_csv(os.path.join(main_path, \"concept_dataframe.csv\"))\n",
        "concept_df.head()"
      ],
      "execution_count": 37,
      "outputs": [
        {
          "output_type": "execute_result",
          "data": {
            "text/html": [
              "<div>\n",
              "<style scoped>\n",
              "    .dataframe tbody tr th:only-of-type {\n",
              "        vertical-align: middle;\n",
              "    }\n",
              "\n",
              "    .dataframe tbody tr th {\n",
              "        vertical-align: top;\n",
              "    }\n",
              "\n",
              "    .dataframe thead th {\n",
              "        text-align: right;\n",
              "    }\n",
              "</style>\n",
              "<table border=\"1\" class=\"dataframe\">\n",
              "  <thead>\n",
              "    <tr style=\"text-align: right;\">\n",
              "      <th></th>\n",
              "      <th>Left</th>\n",
              "      <th>Lean Left</th>\n",
              "      <th>Center</th>\n",
              "      <th>Lean Right</th>\n",
              "      <th>Right</th>\n",
              "      <th>concept_data</th>\n",
              "      <th>concept_label</th>\n",
              "      <th>usage_sum</th>\n",
              "      <th>0_per_article_left</th>\n",
              "      <th>1_per_article_lean_left</th>\n",
              "      <th>4_per_article_right</th>\n",
              "      <th>3_per_article_lean_right</th>\n",
              "      <th>2_per_article_center</th>\n",
              "      <th>0_per_article_left_copy</th>\n",
              "      <th>1_per_article_lean_left_copy</th>\n",
              "      <th>4_per_article_right_copy</th>\n",
              "      <th>3_per_article_lean_right_copy</th>\n",
              "      <th>2_per_article_center_copy</th>\n",
              "      <th>concept_type</th>\n",
              "    </tr>\n",
              "  </thead>\n",
              "  <tbody>\n",
              "    <tr>\n",
              "      <th>0</th>\n",
              "      <td>1</td>\n",
              "      <td>4</td>\n",
              "      <td>1</td>\n",
              "      <td>0</td>\n",
              "      <td>0</td>\n",
              "      <td>{\"label\": \"Black church\", \"score\": 5, \"type\": ...</td>\n",
              "      <td>Black church</td>\n",
              "      <td>6</td>\n",
              "      <td>0.027027</td>\n",
              "      <td>0.023121</td>\n",
              "      <td>0.000000</td>\n",
              "      <td>0.000000</td>\n",
              "      <td>0.004425</td>\n",
              "      <td>0.027027</td>\n",
              "      <td>0.023121</td>\n",
              "      <td>0.000000</td>\n",
              "      <td>0.000000</td>\n",
              "      <td>0.004425</td>\n",
              "      <td>person</td>\n",
              "    </tr>\n",
              "    <tr>\n",
              "      <th>1</th>\n",
              "      <td>1</td>\n",
              "      <td>3</td>\n",
              "      <td>1</td>\n",
              "      <td>0</td>\n",
              "      <td>0</td>\n",
              "      <td>{\"label\": \"The Reverend\", \"score\": 5, \"type\": ...</td>\n",
              "      <td>The Reverend</td>\n",
              "      <td>5</td>\n",
              "      <td>0.027027</td>\n",
              "      <td>0.017341</td>\n",
              "      <td>0.000000</td>\n",
              "      <td>0.000000</td>\n",
              "      <td>0.004425</td>\n",
              "      <td>0.027027</td>\n",
              "      <td>0.017341</td>\n",
              "      <td>0.000000</td>\n",
              "      <td>0.000000</td>\n",
              "      <td>0.004425</td>\n",
              "      <td>person</td>\n",
              "    </tr>\n",
              "    <tr>\n",
              "      <th>2</th>\n",
              "      <td>1</td>\n",
              "      <td>3</td>\n",
              "      <td>2</td>\n",
              "      <td>0</td>\n",
              "      <td>0</td>\n",
              "      <td>{\"label\": \"Christian denomination\", \"score\": 5...</td>\n",
              "      <td>Christian denomination</td>\n",
              "      <td>6</td>\n",
              "      <td>0.027027</td>\n",
              "      <td>0.017341</td>\n",
              "      <td>0.000000</td>\n",
              "      <td>0.000000</td>\n",
              "      <td>0.008850</td>\n",
              "      <td>0.027027</td>\n",
              "      <td>0.017341</td>\n",
              "      <td>0.000000</td>\n",
              "      <td>0.000000</td>\n",
              "      <td>0.008850</td>\n",
              "      <td>wiki</td>\n",
              "    </tr>\n",
              "    <tr>\n",
              "      <th>3</th>\n",
              "      <td>1</td>\n",
              "      <td>3</td>\n",
              "      <td>2</td>\n",
              "      <td>0</td>\n",
              "      <td>0</td>\n",
              "      <td>{\"label\": \"Southern Baptist Convention\", \"scor...</td>\n",
              "      <td>Southern Baptist Convention</td>\n",
              "      <td>6</td>\n",
              "      <td>0.027027</td>\n",
              "      <td>0.017341</td>\n",
              "      <td>0.000000</td>\n",
              "      <td>0.000000</td>\n",
              "      <td>0.008850</td>\n",
              "      <td>0.027027</td>\n",
              "      <td>0.017341</td>\n",
              "      <td>0.000000</td>\n",
              "      <td>0.000000</td>\n",
              "      <td>0.008850</td>\n",
              "      <td>org</td>\n",
              "    </tr>\n",
              "    <tr>\n",
              "      <th>4</th>\n",
              "      <td>0</td>\n",
              "      <td>5</td>\n",
              "      <td>1</td>\n",
              "      <td>1</td>\n",
              "      <td>1</td>\n",
              "      <td>{\"label\": \"Critical race theory\", \"score\": 5, ...</td>\n",
              "      <td>Critical race theory</td>\n",
              "      <td>8</td>\n",
              "      <td>0.000000</td>\n",
              "      <td>0.028902</td>\n",
              "      <td>0.026316</td>\n",
              "      <td>0.034483</td>\n",
              "      <td>0.004425</td>\n",
              "      <td>0.000000</td>\n",
              "      <td>0.028902</td>\n",
              "      <td>0.026316</td>\n",
              "      <td>0.034483</td>\n",
              "      <td>0.004425</td>\n",
              "      <td>wiki</td>\n",
              "    </tr>\n",
              "  </tbody>\n",
              "</table>\n",
              "</div>"
            ],
            "text/plain": [
              "   Left  Lean Left  ...  2_per_article_center_copy  concept_type\n",
              "0     1          4  ...                   0.004425        person\n",
              "1     1          3  ...                   0.004425        person\n",
              "2     1          3  ...                   0.008850          wiki\n",
              "3     1          3  ...                   0.008850           org\n",
              "4     0          5  ...                   0.004425          wiki\n",
              "\n",
              "[5 rows x 19 columns]"
            ]
          },
          "metadata": {
            "tags": []
          },
          "execution_count": 37
        }
      ]
    },
    {
      "cell_type": "code",
      "metadata": {
        "id": "XcnddNG1z3vZ"
      },
      "source": [
        "category_df = pd.read_csv(os.path.join(main_path, \"category_dataframe.csv\"))"
      ],
      "execution_count": 38,
      "outputs": []
    },
    {
      "cell_type": "code",
      "metadata": {
        "colab": {
          "base_uri": "https://localhost:8080/",
          "height": 258
        },
        "id": "LtUP0dGqz8EI",
        "outputId": "e30576d1-70d1-4a1c-e6f7-14b8c7ca9e75"
      },
      "source": [
        "category_df.head()"
      ],
      "execution_count": 39,
      "outputs": [
        {
          "output_type": "execute_result",
          "data": {
            "text/html": [
              "<div>\n",
              "<style scoped>\n",
              "    .dataframe tbody tr th:only-of-type {\n",
              "        vertical-align: middle;\n",
              "    }\n",
              "\n",
              "    .dataframe tbody tr th {\n",
              "        vertical-align: top;\n",
              "    }\n",
              "\n",
              "    .dataframe thead th {\n",
              "        text-align: right;\n",
              "    }\n",
              "</style>\n",
              "<table border=\"1\" class=\"dataframe\">\n",
              "  <thead>\n",
              "    <tr style=\"text-align: right;\">\n",
              "      <th></th>\n",
              "      <th>Left</th>\n",
              "      <th>Lean Left</th>\n",
              "      <th>Center</th>\n",
              "      <th>Lean Right</th>\n",
              "      <th>Right</th>\n",
              "      <th>category</th>\n",
              "      <th>usage_sum</th>\n",
              "      <th>0_per_article_left</th>\n",
              "      <th>1_per_article_lean_left</th>\n",
              "      <th>4_per_article_right</th>\n",
              "      <th>3_per_article_lean_right</th>\n",
              "      <th>2_per_article_center</th>\n",
              "      <th>0_per_article_left_copy</th>\n",
              "      <th>1_per_article_lean_left_copy</th>\n",
              "      <th>4_per_article_right_copy</th>\n",
              "      <th>3_per_article_lean_right_copy</th>\n",
              "      <th>2_per_article_center_copy</th>\n",
              "    </tr>\n",
              "  </thead>\n",
              "  <tbody>\n",
              "    <tr>\n",
              "      <th>0</th>\n",
              "      <td>1</td>\n",
              "      <td>5</td>\n",
              "      <td>2</td>\n",
              "      <td>0</td>\n",
              "      <td>0</td>\n",
              "      <td>dmoz/Society</td>\n",
              "      <td>8</td>\n",
              "      <td>0.027027</td>\n",
              "      <td>0.028902</td>\n",
              "      <td>0.000000</td>\n",
              "      <td>0.000000</td>\n",
              "      <td>0.008850</td>\n",
              "      <td>0.027027</td>\n",
              "      <td>0.028902</td>\n",
              "      <td>0.000000</td>\n",
              "      <td>0.000000</td>\n",
              "      <td>0.008850</td>\n",
              "    </tr>\n",
              "    <tr>\n",
              "      <th>1</th>\n",
              "      <td>22</td>\n",
              "      <td>116</td>\n",
              "      <td>147</td>\n",
              "      <td>21</td>\n",
              "      <td>23</td>\n",
              "      <td>news/Politics</td>\n",
              "      <td>329</td>\n",
              "      <td>0.594595</td>\n",
              "      <td>0.670520</td>\n",
              "      <td>0.605263</td>\n",
              "      <td>0.724138</td>\n",
              "      <td>0.650442</td>\n",
              "      <td>0.594595</td>\n",
              "      <td>0.670520</td>\n",
              "      <td>0.605263</td>\n",
              "      <td>0.724138</td>\n",
              "      <td>0.650442</td>\n",
              "    </tr>\n",
              "    <tr>\n",
              "      <th>2</th>\n",
              "      <td>1</td>\n",
              "      <td>4</td>\n",
              "      <td>2</td>\n",
              "      <td>0</td>\n",
              "      <td>0</td>\n",
              "      <td>dmoz/Society/Religion_and_Spirituality</td>\n",
              "      <td>7</td>\n",
              "      <td>0.027027</td>\n",
              "      <td>0.023121</td>\n",
              "      <td>0.000000</td>\n",
              "      <td>0.000000</td>\n",
              "      <td>0.008850</td>\n",
              "      <td>0.027027</td>\n",
              "      <td>0.023121</td>\n",
              "      <td>0.000000</td>\n",
              "      <td>0.000000</td>\n",
              "      <td>0.008850</td>\n",
              "    </tr>\n",
              "    <tr>\n",
              "      <th>3</th>\n",
              "      <td>37</td>\n",
              "      <td>173</td>\n",
              "      <td>226</td>\n",
              "      <td>29</td>\n",
              "      <td>38</td>\n",
              "      <td>dmoz/Society/Issues/Race-Ethnic-Religious_Rela...</td>\n",
              "      <td>503</td>\n",
              "      <td>1.000000</td>\n",
              "      <td>1.000000</td>\n",
              "      <td>1.000000</td>\n",
              "      <td>1.000000</td>\n",
              "      <td>1.000000</td>\n",
              "      <td>1.000000</td>\n",
              "      <td>1.000000</td>\n",
              "      <td>1.000000</td>\n",
              "      <td>1.000000</td>\n",
              "      <td>1.000000</td>\n",
              "    </tr>\n",
              "    <tr>\n",
              "      <th>4</th>\n",
              "      <td>1</td>\n",
              "      <td>4</td>\n",
              "      <td>2</td>\n",
              "      <td>0</td>\n",
              "      <td>0</td>\n",
              "      <td>dmoz/Society/Religion_and_Spirituality/Christi...</td>\n",
              "      <td>7</td>\n",
              "      <td>0.027027</td>\n",
              "      <td>0.023121</td>\n",
              "      <td>0.000000</td>\n",
              "      <td>0.000000</td>\n",
              "      <td>0.008850</td>\n",
              "      <td>0.027027</td>\n",
              "      <td>0.023121</td>\n",
              "      <td>0.000000</td>\n",
              "      <td>0.000000</td>\n",
              "      <td>0.008850</td>\n",
              "    </tr>\n",
              "  </tbody>\n",
              "</table>\n",
              "</div>"
            ],
            "text/plain": [
              "   Left  Lean Left  ...  3_per_article_lean_right_copy  2_per_article_center_copy\n",
              "0     1          5  ...                       0.000000                   0.008850\n",
              "1    22        116  ...                       0.724138                   0.650442\n",
              "2     1          4  ...                       0.000000                   0.008850\n",
              "3    37        173  ...                       1.000000                   1.000000\n",
              "4     1          4  ...                       0.000000                   0.008850\n",
              "\n",
              "[5 rows x 17 columns]"
            ]
          },
          "metadata": {
            "tags": []
          },
          "execution_count": 39
        }
      ]
    },
    {
      "cell_type": "markdown",
      "metadata": {
        "id": "zeedp_6Uz8_Y"
      },
      "source": [
        "### Word Choice and Part of Speech"
      ]
    },
    {
      "cell_type": "code",
      "metadata": {
        "id": "Jf_8sjt2w-Dp"
      },
      "source": [
        "# T-Test each Part of Speech by 2-sample testing left and right per_article"
      ],
      "execution_count": 19,
      "outputs": []
    },
    {
      "cell_type": "markdown",
      "metadata": {
        "id": "HeHZNfnZyHLj"
      },
      "source": [
        "#### Title Test"
      ]
    },
    {
      "cell_type": "code",
      "metadata": {
        "id": "VnsqL6E3xNWj"
      },
      "source": [
        "pos_dict_title = {}\n",
        "for pos in title_df[\"pos\"].unique():\n",
        "  pos_dict_title[pos] = title_df[title_df[\"pos\"] == pos]"
      ],
      "execution_count": 65,
      "outputs": []
    },
    {
      "cell_type": "code",
      "metadata": {
        "colab": {
          "base_uri": "https://localhost:8080/"
        },
        "id": "zVU6lTKqxs6r",
        "outputId": "986458a7-1f0b-4497-b88e-de432bb67e7c"
      },
      "source": [
        "pos_dict_title.keys()"
      ],
      "execution_count": 66,
      "outputs": [
        {
          "output_type": "execute_result",
          "data": {
            "text/plain": [
              "dict_keys(['JJ', 'NN', 'VB', 'MD', 'IN', 'DT', 'CD', 'WR', 'RB', 'PR', 'RP', 'PD', 'TO', 'FW', 'WP', 'UH'])"
            ]
          },
          "metadata": {
            "tags": []
          },
          "execution_count": 66
        }
      ]
    },
    {
      "cell_type": "code",
      "metadata": {
        "colab": {
          "base_uri": "https://localhost:8080/"
        },
        "id": "UJt-dEik4ZJz",
        "outputId": "8088f290-1086-4422-a796-603e88a4a0a7"
      },
      "source": [
        "for pair in combinations(position_list, 2):\n",
        "  print(f\"Overall T-test for Variables: {pair}\")\n",
        "  print(stats.ttest_ind(title_df[pair[0]], title_df[pair[1]]))\n",
        "  print()\n",
        "  print(\"Specific T-test per POS\")\n",
        "  for k in pos_dict_title.keys():\n",
        "    try:\n",
        "      print(k)\n",
        "      print(stats.ttest_ind(pos_dict_title[k][pair[0]], pos_dict_title[k][pair[1]]))\n",
        "    except:\n",
        "      pass\n",
        "  print()\n",
        "  print()"
      ],
      "execution_count": 81,
      "outputs": [
        {
          "output_type": "stream",
          "text": [
            "Overall T-test for Variables: ('0_per_article_left', '1_per_article_lean_left')\n",
            "Ttest_indResult(statistic=-0.06827058055455752, pvalue=0.9455759015476233)\n",
            "\n",
            "Specific T-test per POS\n",
            "JJ\n",
            "Ttest_indResult(statistic=-1.010322576557726, pvalue=0.3132130379041699)\n",
            "NN\n",
            "Ttest_indResult(statistic=0.289006347024447, pvalue=0.7726173821206147)\n",
            "VB\n",
            "Ttest_indResult(statistic=-0.26289058614538946, pvalue=0.7927486602440571)\n",
            "MD\n",
            "Ttest_indResult(statistic=-2.713602101199872, pvalue=0.026509885484624286)\n",
            "IN\n",
            "Ttest_indResult(statistic=0.6279068260972062, pvalue=0.5340281684389822)\n",
            "DT\n",
            "Ttest_indResult(statistic=1.4420059831698175, pvalue=0.17488720532618)\n",
            "CD\n",
            "Ttest_indResult(statistic=0.7020723057296794, pvalue=0.4865068214628203)\n",
            "WR\n",
            "Ttest_indResult(statistic=0.10980872167831707, pvalue=0.9225865196629492)\n",
            "RB\n",
            "Ttest_indResult(statistic=-2.32794489958032, pvalue=0.02457616593069109)\n",
            "PR\n",
            "Ttest_indResult(statistic=0.7994429198606129, pvalue=0.43738793372509777)\n",
            "RP\n",
            "Ttest_indResult(statistic=nan, pvalue=nan)\n",
            "PD\n",
            "Ttest_indResult(statistic=nan, pvalue=nan)\n",
            "TO\n",
            "Ttest_indResult(statistic=nan, pvalue=nan)\n",
            "FW\n",
            "Ttest_indResult(statistic=nan, pvalue=nan)\n",
            "WP\n",
            "Ttest_indResult(statistic=0.7687420106041164, pvalue=0.5224158527873641)\n",
            "UH\n",
            "Ttest_indResult(statistic=nan, pvalue=nan)\n",
            "\n",
            "\n",
            "Overall T-test for Variables: ('0_per_article_left', '2_per_article_center')\n",
            "Ttest_indResult(statistic=-0.13033404641965493, pvalue=0.8963130130211924)\n",
            "\n",
            "Specific T-test per POS\n",
            "JJ\n",
            "Ttest_indResult(statistic=-1.145970062002552, pvalue=0.252785979878606)\n",
            "NN\n",
            "Ttest_indResult(statistic=0.2838771965803586, pvalue=0.7765445788429999)\n",
            "VB\n",
            "Ttest_indResult(statistic=-0.4679572078932469, pvalue=0.6400293760437488)\n",
            "MD\n",
            "Ttest_indResult(statistic=-1.2617865362880898, pvalue=0.24256977319583153)\n",
            "IN\n",
            "Ttest_indResult(statistic=1.2561716732938866, pvalue=0.21714480964591928)\n",
            "DT\n",
            "Ttest_indResult(statistic=1.531425516518716, pvalue=0.15159215314545954)\n",
            "CD\n",
            "Ttest_indResult(statistic=-0.18494886875449268, pvalue=0.8541593619019525)\n",
            "WR\n",
            "Ttest_indResult(statistic=0.016820387901120375, pvalue=0.988107030829093)\n",
            "RB\n",
            "Ttest_indResult(statistic=-1.3883643504170575, pvalue=0.17201547731109346)\n",
            "PR\n",
            "Ttest_indResult(statistic=1.0229703530307213, pvalue=0.3236741849290946)\n",
            "RP\n",
            "Ttest_indResult(statistic=nan, pvalue=nan)\n",
            "PD\n",
            "Ttest_indResult(statistic=nan, pvalue=nan)\n",
            "TO\n",
            "Ttest_indResult(statistic=nan, pvalue=nan)\n",
            "FW\n",
            "Ttest_indResult(statistic=nan, pvalue=nan)\n",
            "WP\n",
            "Ttest_indResult(statistic=0.5021642548891342, pvalue=0.665385071076832)\n",
            "UH\n",
            "Ttest_indResult(statistic=nan, pvalue=nan)\n",
            "\n",
            "\n",
            "Overall T-test for Variables: ('0_per_article_left', '3_per_article_lean_right')\n",
            "Ttest_indResult(statistic=0.15523242806736415, pvalue=0.8766510730957827)\n",
            "\n",
            "Specific T-test per POS\n",
            "JJ\n",
            "Ttest_indResult(statistic=-0.8487001114986135, pvalue=0.39677316445125455)\n",
            "NN\n",
            "Ttest_indResult(statistic=0.6227381687625686, pvalue=0.5335534499909238)\n",
            "VB\n",
            "Ttest_indResult(statistic=-0.21735978730275232, pvalue=0.8280211043064902)\n",
            "MD\n",
            "Ttest_indResult(statistic=-1.3719886811400708, pvalue=0.20730483995919904)\n",
            "IN\n",
            "Ttest_indResult(statistic=1.7384172315884916, pvalue=0.09068472644567258)\n",
            "DT\n",
            "Ttest_indResult(statistic=1.3659536639851844, pvalue=0.19700750339861897)\n",
            "CD\n",
            "Ttest_indResult(statistic=-0.4891508566872823, pvalue=0.6272797611198817)\n",
            "WR\n",
            "Ttest_indResult(statistic=-0.17017425192460656, pvalue=0.8805304617821004)\n",
            "RB\n",
            "Ttest_indResult(statistic=1.0000000000000002, pvalue=0.3227784787543092)\n",
            "PR\n",
            "Ttest_indResult(statistic=1.4255728899344744, pvalue=0.17590582553590609)\n",
            "RP\n",
            "Ttest_indResult(statistic=nan, pvalue=nan)\n",
            "PD\n",
            "Ttest_indResult(statistic=nan, pvalue=nan)\n",
            "TO\n",
            "Ttest_indResult(statistic=nan, pvalue=nan)\n",
            "FW\n",
            "Ttest_indResult(statistic=nan, pvalue=nan)\n",
            "WP\n",
            "Ttest_indResult(statistic=1.0, pvalue=0.42264973081037427)\n",
            "UH\n",
            "Ttest_indResult(statistic=nan, pvalue=nan)\n",
            "\n",
            "\n",
            "Overall T-test for Variables: ('0_per_article_left', '4_per_article_right')\n",
            "Ttest_indResult(statistic=-0.11018322838054606, pvalue=0.9122732295210172)\n",
            "\n",
            "Specific T-test per POS\n",
            "JJ\n",
            "Ttest_indResult(statistic=-0.7308661315927334, pvalue=0.465472057043389)\n",
            "NN\n",
            "Ttest_indResult(statistic=-0.11533324680711612, pvalue=0.9081967818216302)\n",
            "VB\n",
            "Ttest_indResult(statistic=0.32910595650371516, pvalue=0.742220354831907)\n",
            "MD\n",
            "Ttest_indResult(statistic=-1.6329931618554518, pvalue=0.14111328125000006)\n",
            "IN\n",
            "Ttest_indResult(statistic=-0.8584161218214724, pvalue=0.3963422996537397)\n",
            "DT\n",
            "Ttest_indResult(statistic=1.4964712642089522, pvalue=0.16036209331625895)\n",
            "CD\n",
            "Ttest_indResult(statistic=0.8971756500086253, pvalue=0.3747393377431576)\n",
            "WR\n",
            "Ttest_indResult(statistic=1.0, pvalue=0.42264973081037427)\n",
            "RB\n",
            "Ttest_indResult(statistic=1.0000000000000002, pvalue=0.3227784787543092)\n",
            "PR\n",
            "Ttest_indResult(statistic=0.8738803165968885, pvalue=0.3969263665404016)\n",
            "RP\n",
            "Ttest_indResult(statistic=nan, pvalue=nan)\n",
            "PD\n",
            "Ttest_indResult(statistic=nan, pvalue=nan)\n",
            "TO\n",
            "Ttest_indResult(statistic=nan, pvalue=nan)\n",
            "FW\n",
            "Ttest_indResult(statistic=nan, pvalue=nan)\n",
            "WP\n",
            "Ttest_indResult(statistic=1.0, pvalue=0.42264973081037427)\n",
            "UH\n",
            "Ttest_indResult(statistic=nan, pvalue=nan)\n",
            "\n",
            "\n",
            "Overall T-test for Variables: ('1_per_article_lean_left', '2_per_article_center')\n",
            "Ttest_indResult(statistic=-0.06726557016803839, pvalue=0.9463758608916932)\n",
            "\n",
            "Specific T-test per POS\n",
            "JJ\n",
            "Ttest_indResult(statistic=-0.1944133755356237, pvalue=0.8459931960690731)\n",
            "NN\n",
            "Ttest_indResult(statistic=0.014138882670594922, pvalue=0.988721103499435)\n",
            "VB\n",
            "Ttest_indResult(statistic=-0.28542289585715136, pvalue=0.7754443230721585)\n",
            "MD\n",
            "Ttest_indResult(statistic=0.07778296519406118, pvalue=0.939910964921652)\n",
            "IN\n",
            "Ttest_indResult(statistic=1.4241150354389598, pvalue=0.16302401576091421)\n",
            "DT\n",
            "Ttest_indResult(statistic=0.34339911129230455, pvalue=0.7372396198516756)\n",
            "CD\n",
            "Ttest_indResult(statistic=-1.1777658933399084, pvalue=0.2455206591752796)\n",
            "WR\n",
            "Ttest_indResult(statistic=-0.13843654830350038, pvalue=0.9025762388109562)\n",
            "RB\n",
            "Ttest_indResult(statistic=1.381633757425394, pvalue=0.17405979321965037)\n",
            "PR\n",
            "Ttest_indResult(statistic=0.8459902043222463, pvalue=0.41178509521302)\n",
            "RP\n",
            "Ttest_indResult(statistic=nan, pvalue=nan)\n",
            "PD\n",
            "Ttest_indResult(statistic=nan, pvalue=nan)\n",
            "TO\n",
            "Ttest_indResult(statistic=nan, pvalue=nan)\n",
            "FW\n",
            "Ttest_indResult(statistic=nan, pvalue=nan)\n",
            "WP\n",
            "Ttest_indResult(statistic=-1.029465287347378, pvalue=0.4114745151846717)\n",
            "UH\n",
            "Ttest_indResult(statistic=nan, pvalue=nan)\n",
            "\n",
            "\n",
            "Overall T-test for Variables: ('1_per_article_lean_left', '3_per_article_lean_right')\n",
            "Ttest_indResult(statistic=0.2064081403240232, pvalue=0.8364895337379884)\n",
            "\n",
            "Specific T-test per POS\n",
            "JJ\n",
            "Ttest_indResult(statistic=0.00167934115872363, pvalue=0.9986612760696374)\n",
            "NN\n",
            "Ttest_indResult(statistic=0.41849926845837837, pvalue=0.6756434207577431)\n",
            "VB\n",
            "Ttest_indResult(statistic=-0.054333677493548255, pvalue=0.9566921148397638)\n",
            "MD\n",
            "Ttest_indResult(statistic=-0.8393931898609689, pvalue=0.4256194716271611)\n",
            "IN\n",
            "Ttest_indResult(statistic=2.328460428049642, pvalue=0.025619927924277416)\n",
            "DT\n",
            "Ttest_indResult(statistic=0.00522301821281895, pvalue=0.9959184788868807)\n",
            "CD\n",
            "Ttest_indResult(statistic=-0.832582258837976, pvalue=0.4097898019934607)\n",
            "WR\n",
            "Ttest_indResult(statistic=-0.27365605049930103, pvalue=0.8100200523806513)\n",
            "RB\n",
            "Ttest_indResult(statistic=4.75, pvalue=2.1914663928675134e-05)\n",
            "PR\n",
            "Ttest_indResult(statistic=3.0000000000000004, pvalue=0.009551512753539366)\n",
            "RP\n",
            "Ttest_indResult(statistic=nan, pvalue=nan)\n",
            "PD\n",
            "Ttest_indResult(statistic=nan, pvalue=nan)\n",
            "TO\n",
            "Ttest_indResult(statistic=nan, pvalue=nan)\n",
            "FW\n",
            "Ttest_indResult(statistic=nan, pvalue=nan)\n",
            "WP\n",
            "Ttest_indResult(statistic=1.0, pvalue=0.42264973081037427)\n",
            "UH\n",
            "Ttest_indResult(statistic=nan, pvalue=nan)\n",
            "\n",
            "\n",
            "Overall T-test for Variables: ('1_per_article_lean_left', '4_per_article_right')\n",
            "Ttest_indResult(statistic=-0.04689244582709161, pvalue=0.9626028308652304)\n",
            "\n",
            "Specific T-test per POS\n",
            "JJ\n",
            "Ttest_indResult(statistic=0.3723737593164899, pvalue=0.7098962763996653)\n",
            "NN\n",
            "Ttest_indResult(statistic=-0.3879325289461179, pvalue=0.6981222852311161)\n",
            "VB\n",
            "Ttest_indResult(statistic=0.6728138662414098, pvalue=0.5013922062061287)\n",
            "MD\n",
            "Ttest_indResult(statistic=-0.016225144576347876, pvalue=0.9874521243194906)\n",
            "IN\n",
            "Ttest_indResult(statistic=-1.4388360616960405, pvalue=0.15883523937791535)\n",
            "DT\n",
            "Ttest_indResult(statistic=0.27004620640403604, pvalue=0.7917127669652915)\n",
            "CD\n",
            "Ttest_indResult(statistic=0.387972260226926, pvalue=0.6999960554745963)\n",
            "WR\n",
            "Ttest_indResult(statistic=1.0, pvalue=0.42264973081037427)\n",
            "RB\n",
            "Ttest_indResult(statistic=4.75, pvalue=2.1914663928675134e-05)\n",
            "PR\n",
            "Ttest_indResult(statistic=0.2910704858401295, pvalue=0.7752651354438237)\n",
            "RP\n",
            "Ttest_indResult(statistic=nan, pvalue=nan)\n",
            "PD\n",
            "Ttest_indResult(statistic=nan, pvalue=nan)\n",
            "TO\n",
            "Ttest_indResult(statistic=nan, pvalue=nan)\n",
            "FW\n",
            "Ttest_indResult(statistic=nan, pvalue=nan)\n",
            "WP\n",
            "Ttest_indResult(statistic=1.0, pvalue=0.42264973081037427)\n",
            "UH\n",
            "Ttest_indResult(statistic=nan, pvalue=nan)\n",
            "\n",
            "\n",
            "Overall T-test for Variables: ('2_per_article_center', '3_per_article_lean_right')\n",
            "Ttest_indResult(statistic=0.24914540915506414, pvalue=0.8032695184888085)\n",
            "\n",
            "Specific T-test per POS\n",
            "JJ\n",
            "Ttest_indResult(statistic=0.17523459881878678, pvalue=0.861021950453826)\n",
            "NN\n",
            "Ttest_indResult(statistic=0.3925052039457143, pvalue=0.6947420260417263)\n",
            "VB\n",
            "Ttest_indResult(statistic=0.10521259336619462, pvalue=0.9162514384522442)\n",
            "MD\n",
            "Ttest_indResult(statistic=-0.828922946335016, pvalue=0.4311832161722198)\n",
            "IN\n",
            "Ttest_indResult(statistic=1.277610221527662, pvalue=0.20956470133064944)\n",
            "DT\n",
            "Ttest_indResult(statistic=-0.2060460578132188, pvalue=0.8402092744218672)\n",
            "CD\n",
            "Ttest_indResult(statistic=-0.41794899030522425, pvalue=0.678113598846181)\n",
            "WR\n",
            "Ttest_indResult(statistic=-0.22286623962400395, pvalue=0.8443309121023985)\n",
            "RB\n",
            "Ttest_indResult(statistic=4.361998054450165, pvalue=7.665015959516638e-05)\n",
            "PR\n",
            "Ttest_indResult(statistic=2.3759548165574573, pvalue=0.03232208224954859)\n",
            "RP\n",
            "Ttest_indResult(statistic=nan, pvalue=nan)\n",
            "PD\n",
            "Ttest_indResult(statistic=nan, pvalue=nan)\n",
            "TO\n",
            "Ttest_indResult(statistic=nan, pvalue=nan)\n",
            "FW\n",
            "Ttest_indResult(statistic=nan, pvalue=nan)\n",
            "WP\n",
            "Ttest_indResult(statistic=3.0, pvalue=0.09546596626670911)\n",
            "UH\n",
            "Ttest_indResult(statistic=nan, pvalue=nan)\n",
            "\n",
            "\n",
            "Overall T-test for Variables: ('2_per_article_center', '4_per_article_right')\n",
            "Ttest_indResult(statistic=0.019176781024123037, pvalue=0.9847016663745917)\n",
            "\n",
            "Specific T-test per POS\n",
            "JJ\n",
            "Ttest_indResult(statistic=0.5571462301169096, pvalue=0.5778726055399217)\n",
            "NN\n",
            "Ttest_indResult(statistic=-0.3784505163452948, pvalue=0.7051507425482869)\n",
            "VB\n",
            "Ttest_indResult(statistic=0.8631302617300202, pvalue=0.38850052733430107)\n",
            "MD\n",
            "Ttest_indResult(statistic=-0.0787598529433372, pvalue=0.9391580400223353)\n",
            "IN\n",
            "Ttest_indResult(statistic=-1.8746364406582827, pvalue=0.06897458027588492)\n",
            "DT\n",
            "Ttest_indResult(statistic=0.007415753555229925, pvalue=0.9942049975665073)\n",
            "CD\n",
            "Ttest_indResult(statistic=1.313832891793553, pvalue=0.196033858603751)\n",
            "WR\n",
            "Ttest_indResult(statistic=3.0, pvalue=0.09546596626670911)\n",
            "RB\n",
            "Ttest_indResult(statistic=4.361998054450165, pvalue=7.665015959516638e-05)\n",
            "PR\n",
            "Ttest_indResult(statistic=-0.1501684380514881, pvalue=0.8827737634832133)\n",
            "RP\n",
            "Ttest_indResult(statistic=nan, pvalue=nan)\n",
            "PD\n",
            "Ttest_indResult(statistic=nan, pvalue=nan)\n",
            "TO\n",
            "Ttest_indResult(statistic=nan, pvalue=nan)\n",
            "FW\n",
            "Ttest_indResult(statistic=nan, pvalue=nan)\n",
            "WP\n",
            "Ttest_indResult(statistic=3.0, pvalue=0.09546596626670911)\n",
            "UH\n",
            "Ttest_indResult(statistic=nan, pvalue=nan)\n",
            "\n",
            "\n",
            "Overall T-test for Variables: ('3_per_article_lean_right', '4_per_article_right')\n",
            "Ttest_indResult(statistic=-0.23387969833411948, pvalue=0.815098222815007)\n",
            "\n",
            "Specific T-test per POS\n",
            "JJ\n",
            "Ttest_indResult(statistic=0.3168574122029789, pvalue=0.7515879136081927)\n",
            "NN\n",
            "Ttest_indResult(statistic=-0.6884568516365724, pvalue=0.49127406002900453)\n",
            "VB\n",
            "Ttest_indResult(statistic=0.47296146489337204, pvalue=0.6364574717642579)\n",
            "MD\n",
            "Ttest_indResult(statistic=0.8079615654985193, pvalue=0.4424727249368513)\n",
            "IN\n",
            "Ttest_indResult(statistic=-2.207302602548987, pvalue=0.0337532104174782)\n",
            "DT\n",
            "Ttest_indResult(statistic=0.18827792669488674, pvalue=0.8538051989768496)\n",
            "CD\n",
            "Ttest_indResult(statistic=0.9440919675991144, pvalue=0.3505222457596123)\n",
            "WR\n",
            "Ttest_indResult(statistic=1.0, pvalue=0.42264973081037427)\n",
            "RB\n",
            "Ttest_indResult(statistic=nan, pvalue=nan)\n",
            "PR\n",
            "Ttest_indResult(statistic=-1.0, pvalue=0.33428194339465733)\n",
            "RP\n",
            "Ttest_indResult(statistic=nan, pvalue=nan)\n",
            "PD\n",
            "Ttest_indResult(statistic=nan, pvalue=nan)\n",
            "TO\n",
            "Ttest_indResult(statistic=nan, pvalue=nan)\n",
            "FW\n",
            "Ttest_indResult(statistic=nan, pvalue=nan)\n",
            "WP\n",
            "Ttest_indResult(statistic=nan, pvalue=nan)\n",
            "UH\n",
            "Ttest_indResult(statistic=nan, pvalue=nan)\n",
            "\n",
            "\n"
          ],
          "name": "stdout"
        },
        {
          "output_type": "stream",
          "text": [
            "/usr/local/lib/python3.7/dist-packages/numpy/core/fromnumeric.py:3622: RuntimeWarning: Degrees of freedom <= 0 for slice\n",
            "  **kwargs)\n",
            "/usr/local/lib/python3.7/dist-packages/numpy/core/_methods.py:226: RuntimeWarning: invalid value encountered in double_scalars\n",
            "  ret = ret.dtype.type(ret / rcount)\n"
          ],
          "name": "stderr"
        }
      ]
    },
    {
      "cell_type": "markdown",
      "metadata": {
        "id": "15cPyeVWyIql"
      },
      "source": [
        "#### Body Test"
      ]
    },
    {
      "cell_type": "code",
      "metadata": {
        "id": "_MUbOLSTx9r3"
      },
      "source": [
        "pos_dict_body = {}\n",
        "for pos in body_df[\"pos\"].unique():\n",
        "  pos_dict_body[pos] = body_df[body_df[\"pos\"] == pos]\n"
      ],
      "execution_count": 30,
      "outputs": []
    },
    {
      "cell_type": "code",
      "metadata": {
        "colab": {
          "base_uri": "https://localhost:8080/"
        },
        "id": "UBMPtUlpyUAZ",
        "outputId": "42ab9c66-c564-448b-e6e1-dcd9bbaadd99"
      },
      "source": [
        "pos_dict_body.keys()"
      ],
      "execution_count": 31,
      "outputs": [
        {
          "output_type": "execute_result",
          "data": {
            "text/plain": [
              "dict_keys(['NN', 'JJ', 'IN', 'VB', 'DT', 'MD', 'PR', 'CD', 'RB', 'EX', 'WP', 'CC', 'WR', 'UH', 'RP', 'WD', 'TO', 'PD', 'FW', '$'])"
            ]
          },
          "metadata": {
            "tags": []
          },
          "execution_count": 31
        }
      ]
    },
    {
      "cell_type": "code",
      "metadata": {
        "colab": {
          "base_uri": "https://localhost:8080/"
        },
        "id": "3JJgpnb4yfQM",
        "outputId": "16a08ae8-ccc5-4df7-dc5f-0be290c0fa8e"
      },
      "source": [
        "stats.ttest_ind(body_df[\"0_per_article_left\"], body_df[\"4_per_article_right\"]) # WOW, DID NOT EXPECT THAT\n",
        "# Reject Null Hypothesis for Word Choice Effect Between Left and Right Media Articles!!!"
      ],
      "execution_count": 33,
      "outputs": [
        {
          "output_type": "execute_result",
          "data": {
            "text/plain": [
              "Ttest_indResult(statistic=-2.037530872334374, pvalue=0.041606505612996406)"
            ]
          },
          "metadata": {
            "tags": []
          },
          "execution_count": 33
        }
      ]
    },
    {
      "cell_type": "code",
      "metadata": {
        "colab": {
          "base_uri": "https://localhost:8080/"
        },
        "id": "bN_taCQqy5eT",
        "outputId": "d38b57cd-bd6a-4145-aafb-9452dc332081"
      },
      "source": [
        "body_df.shape # Large Sample of over 13000 words compared"
      ],
      "execution_count": 36,
      "outputs": [
        {
          "output_type": "execute_result",
          "data": {
            "text/plain": [
              "(13634, 18)"
            ]
          },
          "metadata": {
            "tags": []
          },
          "execution_count": 36
        }
      ]
    },
    {
      "cell_type": "code",
      "metadata": {
        "colab": {
          "base_uri": "https://localhost:8080/"
        },
        "id": "m-mieiY4zN4A",
        "outputId": "d45969bb-0096-4414-aa7c-6c1de4a2aefc"
      },
      "source": [
        "for pair in combinations(position_list, 2):\n",
        "  print(f\"Overall T-test for Variables: {pair}\")\n",
        "  print(stats.ttest_ind(body_df[pair[0]], body_df[pair[1]]))\n",
        "  print()\n",
        "  print(\"Specific T-test per POS\")\n",
        "  for k in pos_dict_body.keys():\n",
        "    print(k)\n",
        "    print(stats.ttest_ind(pos_dict_body[k][pair[0]], pos_dict_body[k][pair[1]]))\n",
        "  print()\n",
        "  print()"
      ],
      "execution_count": 83,
      "outputs": [
        {
          "output_type": "stream",
          "text": [
            "Overall T-test for Variables: ('0_per_article_left', '1_per_article_lean_left')\n",
            "Ttest_indResult(statistic=-1.3994640959009577, pvalue=0.16168523421229444)\n",
            "\n",
            "Specific T-test per POS\n",
            "NN\n",
            "Ttest_indResult(statistic=-0.642864211102849, pvalue=0.5203223577904155)\n",
            "JJ\n",
            "Ttest_indResult(statistic=-0.34171645721754446, pvalue=0.7325774558416296)\n",
            "IN\n",
            "Ttest_indResult(statistic=-0.5405639317255972, pvalue=0.5894480320490916)\n",
            "VB\n",
            "Ttest_indResult(statistic=-1.1504447587270399, pvalue=0.2500185740636475)\n",
            "DT\n",
            "Ttest_indResult(statistic=-0.04840957697051736, pvalue=0.9616433722264511)\n",
            "MD\n",
            "Ttest_indResult(statistic=0.04360550847715614, pvalue=0.9655520300639063)\n",
            "PR\n",
            "Ttest_indResult(statistic=-0.43230164329848214, pvalue=0.6679656137832597)\n",
            "CD\n",
            "Ttest_indResult(statistic=-0.20535964044764943, pvalue=0.8373365789924865)\n",
            "RB\n",
            "Ttest_indResult(statistic=-0.6746834183808997, pvalue=0.5000127671792554)\n",
            "EX\n",
            "Ttest_indResult(statistic=nan, pvalue=nan)\n",
            "WP\n",
            "Ttest_indResult(statistic=-0.6100226904704538, pvalue=0.5587720628258435)\n",
            "CC\n",
            "Ttest_indResult(statistic=-0.27641567947419987, pvalue=0.7836520853136807)\n",
            "WR\n",
            "Ttest_indResult(statistic=-0.16723360328539455, pvalue=0.8713361944345123)\n",
            "UH\n",
            "Ttest_indResult(statistic=-0.6108997323071896, pvalue=0.5498467988318254)\n",
            "RP\n",
            "Ttest_indResult(statistic=0.6068197146226572, pvalue=0.5552780003105164)\n",
            "WD\n",
            "Ttest_indResult(statistic=-0.6612274125130563, pvalue=0.5209602165201507)\n",
            "TO\n",
            "Ttest_indResult(statistic=0.19141970390679933, pvalue=0.865868943526652)\n",
            "PD\n",
            "Ttest_indResult(statistic=0.7045001791543652, pvalue=0.5075306814509616)\n",
            "FW\n",
            "Ttest_indResult(statistic=1.262418974386719, pvalue=0.21800436355083003)\n",
            "$\n",
            "Ttest_indResult(statistic=-1.0, pvalue=0.42264973081037427)\n",
            "\n",
            "\n",
            "Overall T-test for Variables: ('0_per_article_left', '2_per_article_center')\n",
            "Ttest_indResult(statistic=-2.7437424448993757, pvalue=0.006078287683788669)\n",
            "\n",
            "Specific T-test per POS\n",
            "NN\n",
            "Ttest_indResult(statistic=-1.9288328450892869, pvalue=0.0537710715201408)\n",
            "JJ\n",
            "Ttest_indResult(statistic=-0.725846950553562, pvalue=0.4679637571333226)\n",
            "IN\n",
            "Ttest_indResult(statistic=-0.784097528273624, pvalue=0.4339696873739528)\n",
            "VB\n",
            "Ttest_indResult(statistic=-1.5404311432137154, pvalue=0.12352182178588295)\n",
            "DT\n",
            "Ttest_indResult(statistic=-0.11382392245498038, pvalue=0.9099766370787369)\n",
            "MD\n",
            "Ttest_indResult(statistic=-0.04811933466323447, pvalue=0.9619888699058959)\n",
            "PR\n",
            "Ttest_indResult(statistic=-0.5247223142994056, pvalue=0.6028242227524407)\n",
            "CD\n",
            "Ttest_indResult(statistic=-0.46870092501344135, pvalue=0.6393944607044684)\n",
            "RB\n",
            "Ttest_indResult(statistic=-1.2092514940131183, pvalue=0.22681521736138852)\n",
            "EX\n",
            "Ttest_indResult(statistic=nan, pvalue=nan)\n",
            "WP\n",
            "Ttest_indResult(statistic=-0.6381726698512723, pvalue=0.5411941746684172)\n",
            "CC\n",
            "Ttest_indResult(statistic=-0.30384231858167715, pvalue=0.7628229940174992)\n",
            "WR\n",
            "Ttest_indResult(statistic=-0.2999674775195251, pvalue=0.771848399727624)\n",
            "UH\n",
            "Ttest_indResult(statistic=0.06818078044411865, pvalue=0.9464865172598)\n",
            "RP\n",
            "Ttest_indResult(statistic=0.43734159991161303, pvalue=0.6696308068481229)\n",
            "WD\n",
            "Ttest_indResult(statistic=-0.9350600049287813, pvalue=0.36819306937255725)\n",
            "TO\n",
            "Ttest_indResult(statistic=0.014806692656959523, pvalue=0.9895306610192152)\n",
            "PD\n",
            "Ttest_indResult(statistic=0.6144015100166565, pvalue=0.561509114344946)\n",
            "FW\n",
            "Ttest_indResult(statistic=1.077643454374584, pvalue=0.2910902518435528)\n",
            "$\n",
            "Ttest_indResult(statistic=-1.0, pvalue=0.42264973081037427)\n",
            "\n",
            "\n",
            "Overall T-test for Variables: ('0_per_article_left', '3_per_article_lean_right')\n",
            "Ttest_indResult(statistic=-3.9567794121966147, pvalue=7.615927683851011e-05)\n",
            "\n",
            "Specific T-test per POS\n",
            "NN\n",
            "Ttest_indResult(statistic=-2.9632876622792583, pvalue=0.003048653474530843)\n",
            "JJ\n",
            "Ttest_indResult(statistic=-0.8567352341213237, pvalue=0.39162888063538337)\n",
            "IN\n",
            "Ttest_indResult(statistic=-1.236719370081208, pvalue=0.21773398633353538)\n",
            "VB\n",
            "Ttest_indResult(statistic=-1.8652278959915605, pvalue=0.062210999509530955)\n",
            "DT\n",
            "Ttest_indResult(statistic=-0.26184873086248955, pvalue=0.7948522593731745)\n",
            "MD\n",
            "Ttest_indResult(statistic=-0.17238035056778567, pvalue=0.8644733433977834)\n",
            "PR\n",
            "Ttest_indResult(statistic=-0.6980391292719235, pvalue=0.48940243546928486)\n",
            "CD\n",
            "Ttest_indResult(statistic=-0.6174502356915482, pvalue=0.5370905862908928)\n",
            "RB\n",
            "Ttest_indResult(statistic=-2.299044625041067, pvalue=0.021681310684239462)\n",
            "EX\n",
            "Ttest_indResult(statistic=nan, pvalue=nan)\n",
            "WP\n",
            "Ttest_indResult(statistic=-0.7952634746712073, pvalue=0.4494093776664356)\n",
            "CC\n",
            "Ttest_indResult(statistic=-0.49523660632338257, pvalue=0.6231428395779448)\n",
            "WR\n",
            "Ttest_indResult(statistic=0.251619325945035, pvalue=0.8076784347092245)\n",
            "UH\n",
            "Ttest_indResult(statistic=0.11382071530213478, pvalue=0.9107959155580156)\n",
            "RP\n",
            "Ttest_indResult(statistic=0.5926855813847735, pvalue=0.5643938153062047)\n",
            "WD\n",
            "Ttest_indResult(statistic=-0.5895379190702276, pvalue=0.5664349313727469)\n",
            "TO\n",
            "Ttest_indResult(statistic=-0.5032872379852076, pvalue=0.6647208103614543)\n",
            "PD\n",
            "Ttest_indResult(statistic=0.4208143624134506, pvalue=0.6885472029489419)\n",
            "FW\n",
            "Ttest_indResult(statistic=1.7489492643904123, pvalue=0.09209808347633411)\n",
            "$\n",
            "Ttest_indResult(statistic=nan, pvalue=nan)\n",
            "\n",
            "\n",
            "Overall T-test for Variables: ('0_per_article_left', '4_per_article_right')\n",
            "Ttest_indResult(statistic=-2.037530872334374, pvalue=0.041606505612996406)\n",
            "\n",
            "Specific T-test per POS\n",
            "NN\n",
            "Ttest_indResult(statistic=-0.9234467682625059, pvalue=0.3557897632110941)\n",
            "JJ\n",
            "Ttest_indResult(statistic=-0.8203189272107126, pvalue=0.4120701818996777)\n",
            "IN\n",
            "Ttest_indResult(statistic=-0.6918428210856058, pvalue=0.4898895777436907)\n",
            "VB\n",
            "Ttest_indResult(statistic=-1.3756160701258047, pvalue=0.16900530966075744)\n",
            "DT\n",
            "Ttest_indResult(statistic=-0.053596381379940515, pvalue=0.9575375243680321)\n",
            "MD\n",
            "Ttest_indResult(statistic=0.1458918749425317, pvalue=0.8851319734957501)\n",
            "PR\n",
            "Ttest_indResult(statistic=-0.5987501284380256, pvalue=0.5528923122489194)\n",
            "CD\n",
            "Ttest_indResult(statistic=-0.10805649158851241, pvalue=0.9139744414638719)\n",
            "RB\n",
            "Ttest_indResult(statistic=-1.3936563578536987, pvalue=0.1636911286397119)\n",
            "EX\n",
            "Ttest_indResult(statistic=nan, pvalue=nan)\n",
            "WP\n",
            "Ttest_indResult(statistic=-0.5442628845278951, pvalue=0.6010966724667992)\n",
            "CC\n",
            "Ttest_indResult(statistic=-0.8595684159702235, pvalue=0.39514943900375443)\n",
            "WR\n",
            "Ttest_indResult(statistic=-0.4592676969511957, pvalue=0.6582637491937421)\n",
            "UH\n",
            "Ttest_indResult(statistic=-0.8710201264368121, pvalue=0.3966244454315164)\n",
            "RP\n",
            "Ttest_indResult(statistic=1.0230633091164127, pvalue=0.32646042805240594)\n",
            "WD\n",
            "Ttest_indResult(statistic=-0.28840386171510846, pvalue=0.7779586673307561)\n",
            "TO\n",
            "Ttest_indResult(statistic=0.023660770282999972, pvalue=0.9832716499875988)\n",
            "PD\n",
            "Ttest_indResult(statistic=0.03265696052517745, pvalue=0.9750074044851439)\n",
            "FW\n",
            "Ttest_indResult(statistic=0.3904162672333925, pvalue=0.699409223285478)\n",
            "$\n",
            "Ttest_indResult(statistic=nan, pvalue=nan)\n",
            "\n",
            "\n",
            "Overall T-test for Variables: ('1_per_article_lean_left', '2_per_article_center')\n",
            "Ttest_indResult(statistic=-1.3356285587903707, pvalue=0.18168185947143828)\n",
            "\n",
            "Specific T-test per POS\n",
            "NN\n",
            "Ttest_indResult(statistic=-1.3192425264835106, pvalue=0.18710883366781328)\n",
            "JJ\n",
            "Ttest_indResult(statistic=-0.397158113652706, pvalue=0.6912664144232915)\n",
            "IN\n",
            "Ttest_indResult(statistic=-0.2619103043989617, pvalue=0.7936773343772546)\n",
            "VB\n",
            "Ttest_indResult(statistic=-0.35376996070533445, pvalue=0.7235269686786662)\n",
            "DT\n",
            "Ttest_indResult(statistic=-0.06588601555287245, pvalue=0.9478139935802385)\n",
            "MD\n",
            "Ttest_indResult(statistic=-0.08942435020479265, pvalue=0.9294299739078)\n",
            "PR\n",
            "Ttest_indResult(statistic=-0.058573995684042014, pvalue=0.9535983701785996)\n",
            "CD\n",
            "Ttest_indResult(statistic=-0.2577997451895614, pvalue=0.7966191146596152)\n",
            "RB\n",
            "Ttest_indResult(statistic=-0.4613424852275895, pvalue=0.6446403042184757)\n",
            "EX\n",
            "Ttest_indResult(statistic=nan, pvalue=nan)\n",
            "WP\n",
            "Ttest_indResult(statistic=-0.014727250770305598, pvalue=0.9886104362715107)\n",
            "CC\n",
            "Ttest_indResult(statistic=-0.02923459190961475, pvalue=0.9768228711896265)\n",
            "WR\n",
            "Ttest_indResult(statistic=-0.2081580870388918, pvalue=0.8403072807288535)\n",
            "UH\n",
            "Ttest_indResult(statistic=1.1327860644914032, pvalue=0.27399462523312534)\n",
            "RP\n",
            "Ttest_indResult(statistic=-0.23525872206954407, pvalue=0.817974744417834)\n",
            "WD\n",
            "Ttest_indResult(statistic=-0.42080507563154107, pvalue=0.6813355672755066)\n",
            "TO\n",
            "Ttest_indResult(statistic=-0.23044975570584603, pvalue=0.8391687450507458)\n",
            "PD\n",
            "Ttest_indResult(statistic=-0.07626258816604753, pvalue=0.9416895471385701)\n",
            "FW\n",
            "Ttest_indResult(statistic=-0.6203478012740495, pvalue=0.5404287053566785)\n",
            "$\n",
            "Ttest_indResult(statistic=0.18621727040754602, pvalue=0.8694513959829997)\n",
            "\n",
            "\n",
            "Overall T-test for Variables: ('1_per_article_lean_left', '3_per_article_lean_right')\n",
            "Ttest_indResult(statistic=-2.650916855085785, pvalue=0.00803199777917408)\n",
            "\n",
            "Specific T-test per POS\n",
            "NN\n",
            "Ttest_indResult(statistic=-2.413901075021055, pvalue=0.015795030204516104)\n",
            "JJ\n",
            "Ttest_indResult(statistic=-0.5444228507542245, pvalue=0.5861727898088045)\n",
            "IN\n",
            "Ttest_indResult(statistic=-0.7351353239070327, pvalue=0.4631731399961335)\n",
            "VB\n",
            "Ttest_indResult(statistic=-0.8086714317860447, pvalue=0.4187446140816883)\n",
            "DT\n",
            "Ttest_indResult(statistic=-0.2163705978593828, pvalue=0.8298562564502968)\n",
            "MD\n",
            "Ttest_indResult(statistic=-0.20976145125750806, pvalue=0.8354888745622404)\n",
            "PR\n",
            "Ttest_indResult(statistic=-0.228036190660258, pvalue=0.8208407296726208)\n",
            "CD\n",
            "Ttest_indResult(statistic=-0.43586204163561953, pvalue=0.6630390754928719)\n",
            "RB\n",
            "Ttest_indResult(statistic=-1.5303668755996254, pvalue=0.12620143632269498)\n",
            "EX\n",
            "Ttest_indResult(statistic=nan, pvalue=nan)\n",
            "WP\n",
            "Ttest_indResult(statistic=-0.1900299586979995, pvalue=0.854018950719074)\n",
            "CC\n",
            "Ttest_indResult(statistic=-0.24659456861035667, pvalue=0.8064831792147021)\n",
            "WR\n",
            "Ttest_indResult(statistic=0.4482216047505464, pvalue=0.6658836740821479)\n",
            "UH\n",
            "Ttest_indResult(statistic=0.8287053417452418, pvalue=0.41946233433870017)\n",
            "RP\n",
            "Ttest_indResult(statistic=0.0986885779692949, pvalue=0.92301492288793)\n",
            "WD\n",
            "Ttest_indResult(statistic=-0.3122266417512868, pvalue=0.7602270546638754)\n",
            "TO\n",
            "Ttest_indResult(statistic=-0.7681527503071899, pvalue=0.5226985092510017)\n",
            "PD\n",
            "Ttest_indResult(statistic=-0.1445952341827347, pvalue=0.8897651927115733)\n"
          ],
          "name": "stdout"
        },
        {
          "output_type": "stream",
          "text": [
            "/usr/local/lib/python3.7/dist-packages/numpy/core/fromnumeric.py:3622: RuntimeWarning: Degrees of freedom <= 0 for slice\n",
            "  **kwargs)\n",
            "/usr/local/lib/python3.7/dist-packages/numpy/core/_methods.py:226: RuntimeWarning: invalid value encountered in double_scalars\n",
            "  ret = ret.dtype.type(ret / rcount)\n"
          ],
          "name": "stderr"
        },
        {
          "output_type": "stream",
          "text": [
            "FW\n",
            "Ttest_indResult(statistic=2.6874192494328497, pvalue=0.012389062561097045)\n",
            "$\n",
            "Ttest_indResult(statistic=1.0, pvalue=0.42264973081037427)\n",
            "\n",
            "\n",
            "Overall T-test for Variables: ('1_per_article_lean_left', '4_per_article_right')\n",
            "Ttest_indResult(statistic=-0.5684660750745008, pvalue=0.5697232167630117)\n",
            "\n",
            "Specific T-test per POS\n",
            "NN\n",
            "Ttest_indResult(statistic=-0.3040956494446955, pvalue=0.7610593758627344)\n",
            "JJ\n",
            "Ttest_indResult(statistic=-0.44817006912075397, pvalue=0.6540482707540278)\n",
            "IN\n",
            "Ttest_indResult(statistic=-0.18058841573468506, pvalue=0.8568851719513099)\n",
            "VB\n",
            "Ttest_indResult(statistic=0.021883303800267175, pvalue=0.982541961226118)\n",
            "DT\n",
            "Ttest_indResult(statistic=-0.0045461960935264745, pvalue=0.9963964560805467)\n",
            "MD\n",
            "Ttest_indResult(statistic=0.09514858128037532, pvalue=0.9249263562416836)\n",
            "PR\n",
            "Ttest_indResult(statistic=-0.15368767014184942, pvalue=0.8786692953451709)\n",
            "CD\n",
            "Ttest_indResult(statistic=0.09450873951493888, pvalue=0.9247256195250906)\n",
            "RB\n",
            "Ttest_indResult(statistic=-0.6743176365629363, pvalue=0.5002451530847434)\n",
            "EX\n",
            "Ttest_indResult(statistic=nan, pvalue=nan)\n",
            "WP\n",
            "Ttest_indResult(statistic=0.09321240474297905, pvalue=0.928026941134632)\n",
            "CC\n",
            "Ttest_indResult(statistic=-0.6724198665196665, pvalue=0.5051824068563608)\n",
            "WR\n",
            "Ttest_indResult(statistic=-0.3755682724800467, pvalue=0.7170006385025869)\n",
            "UH\n",
            "Ttest_indResult(statistic=-0.4600240906497407, pvalue=0.6516885251229194)\n",
            "RP\n",
            "Ttest_indResult(statistic=0.47879891752145914, pvalue=0.6406876942715312)\n",
            "WD\n",
            "Ttest_indResult(statistic=0.14777211248760846, pvalue=0.8849765326266181)\n",
            "TO\n",
            "Ttest_indResult(statistic=-0.2529641454999913, pvalue=0.8239220047153719)\n",
            "PD\n",
            "Ttest_indResult(statistic=-0.6782523220157749, pvalue=0.52289455718452)\n",
            "FW\n",
            "Ttest_indResult(statistic=-1.1561874699361052, pvalue=0.25811829350887106)\n",
            "$\n",
            "Ttest_indResult(statistic=1.0, pvalue=0.42264973081037427)\n",
            "\n",
            "\n",
            "Overall T-test for Variables: ('2_per_article_center', '3_per_article_lean_right')\n",
            "Ttest_indResult(statistic=-1.39852374635066, pvalue=0.16196722049234255)\n",
            "\n",
            "Specific T-test per POS\n",
            "NN\n",
            "Ttest_indResult(statistic=-1.175425465363255, pvalue=0.23984380050490536)\n",
            "JJ\n",
            "Ttest_indResult(statistic=-0.15955134735046483, pvalue=0.8732404172836701)\n",
            "IN\n",
            "Ttest_indResult(statistic=-0.47099134188916786, pvalue=0.6381929604261081)\n",
            "VB\n",
            "Ttest_indResult(statistic=-0.49060934797024014, pvalue=0.6237254074150869)\n",
            "DT\n",
            "Ttest_indResult(statistic=-0.15256179232441444, pvalue=0.8795510556905046)\n",
            "MD\n",
            "Ttest_indResult(statistic=-0.12330466816070199, pvalue=0.9028140980999593)\n",
            "PR\n",
            "Ttest_indResult(statistic=-0.17787030069055754, pvalue=0.859769653225392)\n",
            "CD\n",
            "Ttest_indResult(statistic=-0.21210290482563016, pvalue=0.8320737342984073)\n",
            "RB\n",
            "Ttest_indResult(statistic=-1.11862510556534, pvalue=0.26353412077732924)\n",
            "EX\n",
            "Ttest_indResult(statistic=nan, pvalue=nan)\n",
            "WP\n",
            "Ttest_indResult(statistic=-0.17837675913257078, pvalue=0.862861432222594)\n",
            "CC\n",
            "Ttest_indResult(statistic=-0.2188059905291365, pvalue=0.8279137949867565)\n",
            "WR\n",
            "Ttest_indResult(statistic=0.4853452326712252, pvalue=0.6404435990290525)\n",
            "UH\n",
            "Ttest_indResult(statistic=0.08382977030477565, pvalue=0.9342316767002476)\n",
            "RP\n",
            "Ttest_indResult(statistic=0.27884036127401024, pvalue=0.7851144605343672)\n",
            "WD\n",
            "Ttest_indResult(statistic=-0.0618994320034989, pvalue=0.9516619669147286)\n",
            "TO\n",
            "Ttest_indResult(statistic=-0.5964791495714981, pvalue=0.6113781435596102)\n",
            "PD\n",
            "Ttest_indResult(statistic=-0.0870199292701534, pvalue=0.9334871549176067)\n",
            "FW\n",
            "Ttest_indResult(statistic=2.857059799457201, pvalue=0.008302792590366823)\n",
            "$\n",
            "Ttest_indResult(statistic=1.0, pvalue=0.42264973081037427)\n",
            "\n",
            "\n",
            "Overall T-test for Variables: ('2_per_article_center', '4_per_article_right')\n",
            "Ttest_indResult(statistic=0.814677113850474, pvalue=0.41526427223536433)\n",
            "\n",
            "Specific T-test per POS\n",
            "NN\n",
            "Ttest_indResult(statistic=0.989748744780501, pvalue=0.3223134243186765)\n",
            "JJ\n",
            "Ttest_indResult(statistic=-0.011084829821960353, pvalue=0.9911561721204247)\n",
            "IN\n",
            "Ttest_indResult(statistic=0.07446997220838687, pvalue=0.9407156123549122)\n",
            "VB\n",
            "Ttest_indResult(statistic=0.42396341365378215, pvalue=0.6716116695676738)\n",
            "DT\n",
            "Ttest_indResult(statistic=0.06214803511636955, pvalue=0.9507706896120619)\n",
            "MD\n",
            "Ttest_indResult(statistic=0.19161200608032256, pvalue=0.849534712285398)\n",
            "PR\n",
            "Ttest_indResult(statistic=-0.10178529639236862, pvalue=0.919462302306765)\n",
            "CD\n",
            "Ttest_indResult(statistic=0.3516713041326539, pvalue=0.725165311844334)\n",
            "RB\n",
            "Ttest_indResult(statistic=-0.23859232899413008, pvalue=0.8114642961942249)\n",
            "EX\n",
            "Ttest_indResult(statistic=nan, pvalue=nan)\n",
            "WP\n",
            "Ttest_indResult(statistic=0.11020652782679334, pvalue=0.914960102430657)\n",
            "CC\n",
            "Ttest_indResult(statistic=-0.650139071146267, pvalue=0.5193191592394908)\n",
            "WR\n",
            "Ttest_indResult(statistic=-0.10266300840237143, pvalue=0.920757198366698)\n",
            "UH\n",
            "Ttest_indResult(statistic=-1.1994156145370387, pvalue=0.24782753014328493)\n",
            "RP\n",
            "Ttest_indResult(statistic=0.7991735490975105, pvalue=0.4397221132974902)\n",
            "WD\n",
            "Ttest_indResult(statistic=0.463970506353809, pvalue=0.650972603394847)\n",
            "TO\n",
            "Ttest_indResult(statistic=0.010559567894427547, pvalue=0.9925334660705344)\n",
            "PD\n",
            "Ttest_indResult(statistic=-0.5871550671708018, pvalue=0.5785085441897637)\n",
            "FW\n",
            "Ttest_indResult(statistic=-0.885488832215029, pvalue=0.38400960418777563)\n",
            "$\n",
            "Ttest_indResult(statistic=1.0, pvalue=0.42264973081037427)\n",
            "\n",
            "\n",
            "Overall T-test for Variables: ('3_per_article_lean_right', '4_per_article_right')\n",
            "Ttest_indResult(statistic=2.1971212446821244, pvalue=0.028020170386818415)\n",
            "\n",
            "Specific T-test per POS\n",
            "NN\n",
            "Ttest_indResult(statistic=2.092846092150939, pvalue=0.036380195917746015)\n",
            "JJ\n",
            "Ttest_indResult(statistic=0.16052951537166946, pvalue=0.8724699205456402)\n",
            "IN\n",
            "Ttest_indResult(statistic=0.5361261625278038, pvalue=0.5925051229972076)\n",
            "VB\n",
            "Ttest_indResult(statistic=0.9097813691504755, pvalue=0.36298392461147)\n",
            "DT\n",
            "Ttest_indResult(statistic=0.21411446087710248, pvalue=0.8316026005451582)\n",
            "MD\n",
            "Ttest_indResult(statistic=0.31479694410645404, pvalue=0.7554283062730885)\n",
            "PR\n",
            "Ttest_indResult(statistic=0.0699911274155925, pvalue=0.9445677635852312)\n",
            "CD\n",
            "Ttest_indResult(statistic=0.5163856723446951, pvalue=0.60570916356658)\n",
            "RB\n",
            "Ttest_indResult(statistic=0.8526163807321473, pvalue=0.3940499169499775)\n",
            "EX\n",
            "Ttest_indResult(statistic=nan, pvalue=nan)\n",
            "WP\n",
            "Ttest_indResult(statistic=0.28857456024120404, pvalue=0.780242901493957)\n",
            "CC\n",
            "Ttest_indResult(statistic=-0.4611768849612437, pvalue=0.6471696894596002)\n",
            "WR\n",
            "Ttest_indResult(statistic=-0.6586457932925156, pvalue=0.5286198927190058)\n",
            "UH\n",
            "Ttest_indResult(statistic=-1.0433433309112028, pvalue=0.31229792849787297)\n",
            "RP\n",
            "Ttest_indResult(statistic=0.222859074423125, pvalue=0.8273934966759502)\n",
            "WD\n",
            "Ttest_indResult(statistic=0.37113783443107395, pvalue=0.7170043716097182)\n",
            "TO\n",
            "Ttest_indResult(statistic=0.6409526586609683, pvalue=0.587196346349329)\n",
            "PD\n",
            "Ttest_indResult(statistic=-0.3948735948694924, pvalue=0.7065911711704541)\n",
            "FW\n",
            "Ttest_indResult(statistic=-1.8829377433825436, pvalue=0.07094337410325728)\n",
            "$\n",
            "Ttest_indResult(statistic=nan, pvalue=nan)\n",
            "\n",
            "\n"
          ],
          "name": "stdout"
        }
      ]
    },
    {
      "cell_type": "markdown",
      "metadata": {
        "id": "iEbAoUjw0DzV"
      },
      "source": [
        "### Concept and Category"
      ]
    },
    {
      "cell_type": "markdown",
      "metadata": {
        "id": "Il82PTc10Lz-"
      },
      "source": [
        "#### Category T-testing"
      ]
    },
    {
      "cell_type": "code",
      "metadata": {
        "colab": {
          "base_uri": "https://localhost:8080/"
        },
        "id": "dEITcIxk0Gib",
        "outputId": "73af4321-10d9-4439-a120-b9c03a213f6a"
      },
      "source": [
        "for pair in combinations(position_list, 2):\n",
        "  print(pair)\n",
        "  print()\n",
        "  print(stats.ttest_ind(category_df[pair[0]], category_df[pair[1]]))\n",
        "  print()\n"
      ],
      "execution_count": 85,
      "outputs": [
        {
          "output_type": "stream",
          "text": [
            "('0_per_article_left', '1_per_article_lean_left')\n",
            "\n",
            "Ttest_indResult(statistic=0.1824979253684941, pvalue=0.8553212748265911)\n",
            "\n",
            "('0_per_article_left', '2_per_article_center')\n",
            "\n",
            "Ttest_indResult(statistic=0.2179097475582852, pvalue=0.8276548246272344)\n",
            "\n",
            "('0_per_article_left', '3_per_article_lean_right')\n",
            "\n",
            "Ttest_indResult(statistic=-0.0024567960217716507, pvalue=0.9980414751062926)\n",
            "\n",
            "('0_per_article_left', '4_per_article_right')\n",
            "\n",
            "Ttest_indResult(statistic=0.4258863739791736, pvalue=0.6705109684768312)\n",
            "\n",
            "('1_per_article_lean_left', '2_per_article_center')\n",
            "\n",
            "Ttest_indResult(statistic=0.03473014314815723, pvalue=0.972319151203054)\n",
            "\n",
            "('1_per_article_lean_left', '3_per_article_lean_right')\n",
            "\n",
            "Ttest_indResult(statistic=-0.1721707813038536, pvalue=0.8634250346840642)\n",
            "\n",
            "('1_per_article_lean_left', '4_per_article_right')\n",
            "\n",
            "Ttest_indResult(statistic=0.23289375428127693, pvalue=0.8160104930635901)\n",
            "\n",
            "('2_per_article_center', '3_per_article_lean_right')\n",
            "\n",
            "Ttest_indResult(statistic=-0.20516940034994705, pvalue=0.8375857233089893)\n",
            "\n",
            "('2_per_article_center', '4_per_article_right')\n",
            "\n",
            "Ttest_indResult(statistic=0.19713952291462658, pvalue=0.8438583822604145)\n",
            "\n",
            "('3_per_article_lean_right', '4_per_article_right')\n",
            "\n",
            "Ttest_indResult(statistic=0.39774815310655376, pvalue=0.6911125516963468)\n",
            "\n"
          ],
          "name": "stdout"
        }
      ]
    },
    {
      "cell_type": "markdown",
      "metadata": {
        "id": "Tj75RZfL0X6u"
      },
      "source": [
        "#### Concept T-testing"
      ]
    },
    {
      "cell_type": "code",
      "metadata": {
        "colab": {
          "base_uri": "https://localhost:8080/"
        },
        "id": "l2DEqJnW0VHa",
        "outputId": "6edba586-305e-4e6d-97a1-81cedae1d6c6"
      },
      "source": [
        "# General T-test\n",
        "for pair in combinations(position_list, 2):\n",
        "  print(pair)\n",
        "  print()\n",
        "  print(stats.ttest_ind(concept_df[pair[0]], concept_df[pair[1]]))\n",
        "  print()"
      ],
      "execution_count": 87,
      "outputs": [
        {
          "output_type": "stream",
          "text": [
            "('0_per_article_left', '1_per_article_lean_left')\n",
            "\n",
            "Ttest_indResult(statistic=0.34462626380260847, pvalue=0.730388764151751)\n",
            "\n",
            "('0_per_article_left', '2_per_article_center')\n",
            "\n",
            "Ttest_indResult(statistic=0.38355256383049363, pvalue=0.7013251868844796)\n",
            "\n",
            "('0_per_article_left', '3_per_article_lean_right')\n",
            "\n",
            "Ttest_indResult(statistic=-0.003752250855254138, pvalue=0.9970062824483188)\n",
            "\n",
            "('0_per_article_left', '4_per_article_right')\n",
            "\n",
            "Ttest_indResult(statistic=0.758106510942182, pvalue=0.448420268527002)\n",
            "\n",
            "('1_per_article_lean_left', '2_per_article_center')\n",
            "\n",
            "Ttest_indResult(statistic=0.057828783737529955, pvalue=0.953887147712695)\n",
            "\n",
            "('1_per_article_lean_left', '3_per_article_lean_right')\n",
            "\n",
            "Ttest_indResult(statistic=-0.2544238099650504, pvalue=0.7991778352061816)\n",
            "\n",
            "('1_per_article_lean_left', '4_per_article_right')\n",
            "\n",
            "Ttest_indResult(statistic=0.3907238399039532, pvalue=0.6960167714627783)\n",
            "\n",
            "('2_per_article_center', '3_per_article_lean_right')\n",
            "\n",
            "Ttest_indResult(statistic=-0.29192492157743927, pvalue=0.7703552298832593)\n",
            "\n",
            "('2_per_article_center', '4_per_article_right')\n",
            "\n",
            "Ttest_indResult(statistic=0.3132502502579636, pvalue=0.7541026283739228)\n",
            "\n",
            "('3_per_article_lean_right', '4_per_article_right')\n",
            "\n",
            "Ttest_indResult(statistic=0.5662842076737425, pvalue=0.5712241006288086)\n",
            "\n"
          ],
          "name": "stdout"
        }
      ]
    },
    {
      "cell_type": "code",
      "metadata": {
        "id": "NMoyCCKX0eOD"
      },
      "source": [
        "# Type-specific\n",
        "type_dict = {}\n",
        "for t in concept_df[\"concept_type\"].unique():\n",
        "  type_dict[t] = concept_df[concept_df[\"concept_type\"] == t]"
      ],
      "execution_count": 88,
      "outputs": []
    },
    {
      "cell_type": "code",
      "metadata": {
        "colab": {
          "base_uri": "https://localhost:8080/"
        },
        "id": "OUT3VWLd0qPj",
        "outputId": "5ec335c3-e0da-4233-9b74-c18d2286efaf"
      },
      "source": [
        "for pair in combinations(position_list, 2):\n",
        "  print(pair)\n",
        "  for k in type_dict.keys():\n",
        "    print(k)\n",
        "    res = stats.ttest_ind(type_dict[k][pair[0]], type_dict[k][pair[1]])\n",
        "    print(res)\n",
        "  print()\n",
        "  print()"
      ],
      "execution_count": 90,
      "outputs": [
        {
          "output_type": "stream",
          "text": [
            "('0_per_article_left', '1_per_article_lean_left')\n",
            "person\n",
            "Ttest_indResult(statistic=-0.520959854651316, pvalue=0.6025136401089304)\n",
            "wiki\n",
            "Ttest_indResult(statistic=0.12817739082484456, pvalue=0.8980185741126037)\n",
            "org\n",
            "Ttest_indResult(statistic=1.2783630231453518, pvalue=0.20154758892257674)\n",
            "loc\n",
            "Ttest_indResult(statistic=0.14720435621561873, pvalue=0.8829964798852615)\n",
            "\n",
            "\n",
            "('0_per_article_left', '2_per_article_center')\n",
            "person\n",
            "Ttest_indResult(statistic=-0.6584666738754443, pvalue=0.5103945590212097)\n",
            "wiki\n",
            "Ttest_indResult(statistic=0.14132724858856707, pvalue=0.8876224494254314)\n",
            "org\n",
            "Ttest_indResult(statistic=1.634283034557768, pvalue=0.10265163262662387)\n",
            "loc\n",
            "Ttest_indResult(statistic=0.22370142265694762, pvalue=0.8230293020722171)\n",
            "\n",
            "\n",
            "('0_per_article_left', '3_per_article_lean_right')\n",
            "person\n",
            "Ttest_indResult(statistic=-1.5605061723661942, pvalue=0.11896649303500184)\n",
            "wiki\n",
            "Ttest_indResult(statistic=0.12756498471254163, pvalue=0.8985031765275064)\n",
            "org\n",
            "Ttest_indResult(statistic=3.3407117844318743, pvalue=0.0008802566048827594)\n",
            "loc\n",
            "Ttest_indResult(statistic=-0.38070211040156765, pvalue=0.7034944915912815)\n",
            "\n",
            "\n",
            "('0_per_article_left', '4_per_article_right')\n",
            "person\n",
            "Ttest_indResult(statistic=0.3093342052184338, pvalue=0.7571337470990118)\n",
            "wiki\n",
            "Ttest_indResult(statistic=0.37087821880278526, pvalue=0.7107586641227932)\n",
            "org\n",
            "Ttest_indResult(statistic=1.6280053625705397, pvalue=0.10397630375597092)\n",
            "loc\n",
            "Ttest_indResult(statistic=0.004111542468525003, pvalue=0.9967201848366609)\n",
            "\n",
            "\n",
            "('1_per_article_lean_left', '2_per_article_center')\n",
            "person\n",
            "Ttest_indResult(statistic=-0.2385782435008698, pvalue=0.8114830293175209)\n",
            "wiki\n",
            "Ttest_indResult(statistic=0.018918725508800867, pvalue=0.9849074031656506)\n",
            "org\n",
            "Ttest_indResult(statistic=0.4147063043459259, pvalue=0.6784847066892041)\n",
            "loc\n",
            "Ttest_indResult(statistic=0.09971027053036871, pvalue=0.9205916948029482)\n",
            "\n",
            "\n",
            "('1_per_article_lean_left', '3_per_article_lean_right')\n",
            "person\n",
            "Ttest_indResult(statistic=-1.3181340089398608, pvalue=0.18776997293078304)\n",
            "wiki\n",
            "Ttest_indResult(statistic=0.021705212909866704, pvalue=0.9826847825918773)\n",
            "org\n",
            "Ttest_indResult(statistic=2.661611993602285, pvalue=0.007956181782695835)\n",
            "loc\n",
            "Ttest_indResult(statistic=-0.5052771550463573, pvalue=0.613460837556095)\n",
            "\n",
            "\n",
            "('1_per_article_lean_left', '4_per_article_right')\n",
            "person\n",
            "Ttest_indResult(statistic=0.8986300024025867, pvalue=0.36907277943411065)\n",
            "wiki\n",
            "Ttest_indResult(statistic=0.2159520822189732, pvalue=0.8290421570427786)\n",
            "org\n",
            "Ttest_indResult(statistic=0.441875827327456, pvalue=0.6587163225159538)\n",
            "loc\n",
            "Ttest_indResult(statistic=-0.15200964957820928, pvalue=0.879205941538658)\n",
            "\n",
            "\n",
            "('2_per_article_center', '3_per_article_lean_right')\n",
            "person\n",
            "Ttest_indResult(statistic=-1.101921842284537, pvalue=0.27076898791251586)\n",
            "wiki\n",
            "Ttest_indResult(statistic=0.00466270426355993, pvalue=0.9962800739382536)\n",
            "org\n",
            "Ttest_indResult(statistic=2.341201834153773, pvalue=0.01950305665524256)\n",
            "loc\n",
            "Ttest_indResult(statistic=-0.547250598538308, pvalue=0.5843125749030471)\n",
            "\n",
            "\n",
            "('2_per_article_center', '4_per_article_right')\n",
            "person\n",
            "Ttest_indResult(statistic=0.9708659890261571, pvalue=0.3318570404685993)\n",
            "wiki\n",
            "Ttest_indResult(statistic=0.18739809421798204, pvalue=0.8513632409232547)\n",
            "org\n",
            "Ttest_indResult(statistic=0.04647550506444396, pvalue=0.9629445887864617)\n",
            "loc\n",
            "Ttest_indResult(statistic=-0.2312106632590786, pvalue=0.8171922041215028)\n",
            "\n",
            "\n",
            "('3_per_article_lean_right', '4_per_article_right')\n",
            "person\n",
            "Ttest_indResult(statistic=1.7660645428142203, pvalue=0.07769953924784155)\n",
            "wiki\n",
            "Ttest_indResult(statistic=0.16333082355440032, pvalue=0.8702707484414194)\n",
            "org\n",
            "Ttest_indResult(statistic=-2.136492997019294, pvalue=0.03298738323474951)\n",
            "loc\n",
            "Ttest_indResult(statistic=0.39393675428547986, pvalue=0.6937006384187592)\n",
            "\n",
            "\n"
          ],
          "name": "stdout"
        }
      ]
    },
    {
      "cell_type": "code",
      "metadata": {
        "id": "nIhlYbb80vDA"
      },
      "source": [
        ""
      ],
      "execution_count": null,
      "outputs": []
    },
    {
      "cell_type": "markdown",
      "metadata": {
        "id": "UxVxY0bq2lKo"
      },
      "source": [
        "## Top Picks"
      ]
    },
    {
      "cell_type": "markdown",
      "metadata": {
        "id": "cNYFSvjt2pHN"
      },
      "source": [
        "### ML Model POS Analysis and Weightage"
      ]
    },
    {
      "cell_type": "markdown",
      "metadata": {
        "id": "Saz6u8tv28OK"
      },
      "source": [
        "#### Logistic Regression (Accuracy of 0.679)"
      ]
    },
    {
      "cell_type": "code",
      "metadata": {
        "id": "zWxsMhl52nGW"
      },
      "source": [
        "log_reg_features = list(sorted(zip(wider_df[pos_cols].columns.values, clf_pred_df['clf'].iloc[0].coef_[0]), key = lambda x: x[1], reverse = True))"
      ],
      "execution_count": 54,
      "outputs": []
    },
    {
      "cell_type": "code",
      "metadata": {
        "colab": {
          "base_uri": "https://localhost:8080/"
        },
        "id": "Hopgb0ro3Nwu",
        "outputId": "ec013a77-f683-4085-8c0d-4280d0b2cb15"
      },
      "source": [
        "log_reg_features[:5] # Most Indicative of Left Media"
      ],
      "execution_count": 55,
      "outputs": [
        {
          "output_type": "execute_result",
          "data": {
            "text/plain": [
              "[('body_VB_per_word', 1.0771721117164228),\n",
              " ('body_NN_per_word', 0.9983560577963879),\n",
              " ('title_RB_per_word', 0.8254950444552932),\n",
              " ('title_VBD_per_word', 0.7497087934291109),\n",
              " ('body_RBR_per_word', 0.6318631382914993)]"
            ]
          },
          "metadata": {
            "tags": []
          },
          "execution_count": 55
        }
      ]
    },
    {
      "cell_type": "code",
      "metadata": {
        "colab": {
          "base_uri": "https://localhost:8080/"
        },
        "id": "4NzBZt3Q3P5H",
        "outputId": "f8779123-e46d-4439-c80e-2a0b6ae2aece"
      },
      "source": [
        "log_reg_features[-5:] # Most Indicative of Right Media"
      ],
      "execution_count": 56,
      "outputs": [
        {
          "output_type": "execute_result",
          "data": {
            "text/plain": [
              "[('body_WRB_per_word', -0.6737956002229745),\n",
              " ('title_TO_per_word', -0.6768760567931136),\n",
              " ('body_NNP_per_word', -0.8924345722453336),\n",
              " ('body_NNPS_per_word', -0.9705572160033403),\n",
              " ('title_JJR_per_word', -0.9769917900842598)]"
            ]
          },
          "metadata": {
            "tags": []
          },
          "execution_count": 56
        }
      ]
    },
    {
      "cell_type": "markdown",
      "metadata": {
        "id": "mm54AanE3TKs"
      },
      "source": [
        "#### Gradient Boosting Classifier (Accuracy of 0.679)"
      ]
    },
    {
      "cell_type": "code",
      "metadata": {
        "id": "muwaUiJC3SHw"
      },
      "source": [
        "gradient_boost_features = list(sorted(zip(wider_df[pos_cols].columns.values, clf_pred_df['clf'].iloc[3].feature_importances_), key = lambda x: x[1], reverse = True))"
      ],
      "execution_count": 57,
      "outputs": []
    },
    {
      "cell_type": "code",
      "metadata": {
        "colab": {
          "base_uri": "https://localhost:8080/"
        },
        "id": "rQt4fIzV3gR6",
        "outputId": "7b768e30-60de-4901-a6ec-57b38c3ca8a0"
      },
      "source": [
        "gradient_boost_features[:10] # 10 Most Considered Features"
      ],
      "execution_count": 58,
      "outputs": [
        {
          "output_type": "execute_result",
          "data": {
            "text/plain": [
              "[('body_NN_per_word', 0.11190897961975291),\n",
              " ('body_)_per_word', 0.08302422067493218),\n",
              " ('body_NNPS_per_word', 0.06744038711897547),\n",
              " ('body_._per_word', 0.06153040341337466),\n",
              " ('body_VBG_per_word', 0.056403508964272396),\n",
              " ('body_NNP_per_word', 0.055575667756143955),\n",
              " ('title_NNP_per_word', 0.054822291740529584),\n",
              " ('body_(_per_word', 0.049050311403254096),\n",
              " ('body_WP$_per_word', 0.0456683609483241),\n",
              " ('body_VBZ_per_word', 0.04489864918724398)]"
            ]
          },
          "metadata": {
            "tags": []
          },
          "execution_count": 58
        }
      ]
    },
    {
      "cell_type": "code",
      "metadata": {
        "id": "-orGk-6q3jfi"
      },
      "source": [
        ""
      ],
      "execution_count": null,
      "outputs": []
    },
    {
      "cell_type": "markdown",
      "metadata": {
        "id": "i5Q00ylm3tXg"
      },
      "source": [
        "### T-testing"
      ]
    },
    {
      "cell_type": "markdown",
      "metadata": {
        "id": "G2905hdA83O7"
      },
      "source": [
        "#### Concept Analysis"
      ]
    },
    {
      "cell_type": "code",
      "metadata": {
        "colab": {
          "base_uri": "https://localhost:8080/"
        },
        "id": "5HEP7ptW7h4k",
        "outputId": "e2597d5e-91b5-4b3d-996d-34b97795499f"
      },
      "source": [
        "stats.ttest_ind(type_dict[\"org\"][\"1_per_article_lean_left\"], type_dict[\"org\"][\"3_per_article_lean_right\"])\n",
        "# Organization Concept Appearance Frequency Difference Between Lean Left and Lean Right Rejects Null Hypothesis"
      ],
      "execution_count": 91,
      "outputs": [
        {
          "output_type": "execute_result",
          "data": {
            "text/plain": [
              "Ttest_indResult(statistic=2.661611993602285, pvalue=0.007956181782695835)"
            ]
          },
          "metadata": {
            "tags": []
          },
          "execution_count": 91
        }
      ]
    },
    {
      "cell_type": "code",
      "metadata": {
        "colab": {
          "base_uri": "https://localhost:8080/"
        },
        "id": "mP98gXVk9yML",
        "outputId": "2c853a88-c334-455d-ddc4-23791a227d81"
      },
      "source": [
        "type_dict[\"org\"].shape"
      ],
      "execution_count": 94,
      "outputs": [
        {
          "output_type": "execute_result",
          "data": {
            "text/plain": [
              "(349, 19)"
            ]
          },
          "metadata": {
            "tags": []
          },
          "execution_count": 94
        }
      ]
    },
    {
      "cell_type": "markdown",
      "metadata": {
        "id": "iA_D1wfb9hvq"
      },
      "source": [
        "#### Word Choice Analysis"
      ]
    },
    {
      "cell_type": "code",
      "metadata": {
        "colab": {
          "base_uri": "https://localhost:8080/"
        },
        "id": "GwlXs7hf9gCB",
        "outputId": "c236c1e7-2e38-4dc2-9c62-318837b37d58"
      },
      "source": [
        "stats.ttest_ind(body_df[\"0_per_article_left\"], body_df[\"4_per_article_right\"])\n",
        "# Reject Null Hypothesis for Word Choice Frequency Between Left and Right Media Articles"
      ],
      "execution_count": 99,
      "outputs": [
        {
          "output_type": "execute_result",
          "data": {
            "text/plain": [
              "Ttest_indResult(statistic=-2.037530872334374, pvalue=0.041606505612996406)"
            ]
          },
          "metadata": {
            "tags": []
          },
          "execution_count": 99
        }
      ]
    },
    {
      "cell_type": "code",
      "metadata": {
        "colab": {
          "base_uri": "https://localhost:8080/"
        },
        "id": "_vIwLcXc98Q5",
        "outputId": "15710417-cb46-4dd9-8f98-4f032348340e"
      },
      "source": [
        "stats.ttest_ind(body_df[\"1_per_article_lean_left\"], body_df[\"3_per_article_lean_right\"])\n",
        "# Also Reject Null Hypothesis for Word Choice Frequency Between Lean Left and Lean Right Media Articles"
      ],
      "execution_count": 100,
      "outputs": [
        {
          "output_type": "execute_result",
          "data": {
            "text/plain": [
              "Ttest_indResult(statistic=-2.650916855085785, pvalue=0.00803199777917408)"
            ]
          },
          "metadata": {
            "tags": []
          },
          "execution_count": 100
        }
      ]
    },
    {
      "cell_type": "code",
      "metadata": {
        "colab": {
          "base_uri": "https://localhost:8080/"
        },
        "id": "GPQNf6Ol9xoi",
        "outputId": "9f011a0e-463c-44c2-bf2c-18cb58228d65"
      },
      "source": [
        "body_df.shape # Ample sample size of over 13,000"
      ],
      "execution_count": 103,
      "outputs": [
        {
          "output_type": "execute_result",
          "data": {
            "text/plain": [
              "(13634, 18)"
            ]
          },
          "metadata": {
            "tags": []
          },
          "execution_count": 103
        }
      ]
    }
  ]
}