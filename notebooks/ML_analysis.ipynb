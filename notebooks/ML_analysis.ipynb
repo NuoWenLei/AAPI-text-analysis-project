{
  "nbformat": 4,
  "nbformat_minor": 0,
  "metadata": {
    "colab": {
      "name": "ML_analysis.ipynb",
      "provenance": [],
      "collapsed_sections": [
        "KTv4mPBvP7nK",
        "2W3qiINsQjdX",
        "qXgJY4pWQnCu",
        "YGjWd2P_Qljt",
        "X2tB19a4RfC8",
        "HbLXO81-vqjY",
        "n2F29sJaWglF",
        "fBhJYDGdWoCw",
        "IBYG4dszWrI8",
        "vvy3t1pVv0SO",
        "qLvCaxzIQRzN",
        "M9imsHPCvxUj",
        "VBewh7pQu6pU",
        "UK-sJEg8v6et",
        "zeedp_6Uz8_Y",
        "HeHZNfnZyHLj",
        "15cPyeVWyIql",
        "iEbAoUjw0DzV",
        "Il82PTc10Lz-",
        "Tj75RZfL0X6u",
        "UxVxY0bq2lKo",
        "cNYFSvjt2pHN",
        "Saz6u8tv28OK",
        "mm54AanE3TKs",
        "i5Q00ylm3tXg",
        "G2905hdA83O7",
        "iA_D1wfb9hvq",
        "5kG9keyKJdDy",
        "yu1woPdIJmSU",
        "V-o9-hY3J5Vu",
        "6ZCBk2AGJ5Vv",
        "9nfTuD06J5Vy",
        "i8auUaD5J5Vz",
        "25boM5mHJ5V0",
        "1R-rwW7pNK-O",
        "ZmwlhlKRJ5V0",
        "FfuPZ17gJ5V1",
        "oWibQ_i6J5V3",
        "PjSll6O0J5V3",
        "33Jwt7qsJ5V5",
        "5LfXCHGFKyWl",
        "2EWVHRSBKyWm",
        "S5KQhgEvKyWp",
        "RNwaUvD3KyWp",
        "gAkQormfKyWr",
        "HaJSrkxCKyWt",
        "f0O8fUA8KyWt",
        "lrOs1AO8KyWu",
        "5P_fPDQOLsDo",
        "eSLtljLVMyb5",
        "yqgqV-_sM_ua",
        "qRue_4IBNhOJ",
        "Omdb0aIbM_ud",
        "mPeZWlGyNvuJ",
        "U9DUNsRUMwJF",
        "pDld1ONyOJyz",
        "Qq1QBFb3O5ne",
        "fYRMjqCzPTxG",
        "CVIOdWeMPmQd",
        "3jROL0yWP5t8",
        "QqWdyH9XQ4Ct",
        "0wTH5LGaSQgE",
        "EMY7oyq_Sadn",
        "YLGZRlfYSadn",
        "1t2JADfCSadp",
        "cA551-3cSadq",
        "F2hlRnlmSadq",
        "oEPTnBvhSadq"
      ],
      "authorship_tag": "ABX9TyP0wGk9oADtY0ulLJiYAAiL",
      "include_colab_link": true
    },
    "kernelspec": {
      "name": "python3",
      "display_name": "Python 3"
    },
    "language_info": {
      "name": "python"
    }
  },
  "cells": [
    {
      "cell_type": "markdown",
      "metadata": {
        "id": "view-in-github",
        "colab_type": "text"
      },
      "source": [
        "<a href=\"https://colab.research.google.com/github/NuoWenLei/AAPI-text-analysis-project/blob/main/notebooks/ML_analysis.ipynb\" target=\"_parent\"><img src=\"https://colab.research.google.com/assets/colab-badge.svg\" alt=\"Open In Colab\"/></a>"
      ]
    },
    {
      "cell_type": "markdown",
      "metadata": {
        "id": "KTv4mPBvP7nK"
      },
      "source": [
        "# Experiment Group Analysis"
      ]
    },
    {
      "cell_type": "markdown",
      "metadata": {
        "id": "2W3qiINsQjdX"
      },
      "source": [
        "## Setup"
      ]
    },
    {
      "cell_type": "code",
      "metadata": {
        "colab": {
          "base_uri": "https://localhost:8080/"
        },
        "id": "BLd3HntYM8BC",
        "outputId": "c53ac234-448a-4ea8-ac23-6ec38a1da8a3"
      },
      "source": [
        "from google.colab import drive\n",
        "drive.mount(\"/content/gdrive\")"
      ],
      "execution_count": null,
      "outputs": [
        {
          "output_type": "stream",
          "text": [
            "Mounted at /content/gdrive\n"
          ],
          "name": "stdout"
        }
      ]
    },
    {
      "cell_type": "code",
      "metadata": {
        "id": "mp8U2E8QNGZ-"
      },
      "source": [
        "import numpy as np, pandas as pd, matplotlib.pyplot as plt, seaborn as sns, os\n",
        "from sklearn.preprocessing import MinMaxScaler\n",
        "from sklearn.linear_model import LogisticRegression\n",
        "from sklearn.tree import DecisionTreeClassifier\n",
        "from sklearn.ensemble import RandomForestClassifier, GradientBoostingClassifier\n",
        "from sklearn.naive_bayes import GaussianNB, MultinomialNB\n",
        "from sklearn.model_selection import train_test_split"
      ],
      "execution_count": null,
      "outputs": []
    },
    {
      "cell_type": "code",
      "metadata": {
        "id": "J2a5JuNtQtNP"
      },
      "source": [
        "main_path = \"/content/gdrive/MyDrive/AAPI_text_analysis_project/\""
      ],
      "execution_count": null,
      "outputs": []
    },
    {
      "cell_type": "markdown",
      "metadata": {
        "id": "qXgJY4pWQnCu"
      },
      "source": [
        "## Part of Speech"
      ]
    },
    {
      "cell_type": "markdown",
      "metadata": {
        "id": "YGjWd2P_Qljt"
      },
      "source": [
        "### Load Data"
      ]
    },
    {
      "cell_type": "code",
      "metadata": {
        "colab": {
          "base_uri": "https://localhost:8080/"
        },
        "id": "yUiFGDqmP6t5",
        "outputId": "619a086b-8e50-4578-84c3-da45272baf63"
      },
      "source": [
        "df = pd.read_csv(os.path.join(main_path, \"full_df_7_5_2021.csv\"))\n",
        "df.head()"
      ],
      "execution_count": null,
      "outputs": [
        {
          "output_type": "execute_result",
          "data": {
            "text/html": [
              "<div>\n",
              "<style scoped>\n",
              "    .dataframe tbody tr th:only-of-type {\n",
              "        vertical-align: middle;\n",
              "    }\n",
              "\n",
              "    .dataframe tbody tr th {\n",
              "        vertical-align: top;\n",
              "    }\n",
              "\n",
              "    .dataframe thead th {\n",
              "        text-align: right;\n",
              "    }\n",
              "</style>\n",
              "<table border=\"1\" class=\"dataframe\">\n",
              "  <thead>\n",
              "    <tr style=\"text-align: right;\">\n",
              "      <th></th>\n",
              "      <th>sentiment</th>\n",
              "      <th>relevance</th>\n",
              "      <th>uri</th>\n",
              "      <th>title</th>\n",
              "      <th>body</th>\n",
              "      <th>source_uri</th>\n",
              "      <th>source_name</th>\n",
              "      <th>source_alexaCountryRank</th>\n",
              "      <th>source_alexaGlobalRank</th>\n",
              "      <th>source_importanceRank</th>\n",
              "      <th>source_valid_location</th>\n",
              "      <th>date</th>\n",
              "      <th>location</th>\n",
              "      <th>title_length</th>\n",
              "      <th>body_length</th>\n",
              "      <th>source_score</th>\n",
              "      <th>source_link</th>\n",
              "      <th>source_position</th>\n",
              "      <th>source_pos_int</th>\n",
              "      <th>title_doc</th>\n",
              "      <th>body_doc</th>\n",
              "      <th>title_JJ</th>\n",
              "      <th>title_NNS</th>\n",
              "      <th>title_VBP</th>\n",
              "      <th>title_NN</th>\n",
              "      <th>title_NNP</th>\n",
              "      <th>title_:</th>\n",
              "      <th>title_VBZ</th>\n",
              "      <th>title_JJR</th>\n",
              "      <th>title_MD</th>\n",
              "      <th>title_VBN</th>\n",
              "      <th>title_VB</th>\n",
              "      <th>title_VBD</th>\n",
              "      <th>title_NNPS</th>\n",
              "      <th>title_VBG</th>\n",
              "      <th>title_IN</th>\n",
              "      <th>title_,</th>\n",
              "      <th>title_POS</th>\n",
              "      <th>title_''</th>\n",
              "      <th>title_DT</th>\n",
              "      <th>...</th>\n",
              "      <th>title_''_per_word</th>\n",
              "      <th>title_DT_per_word</th>\n",
              "      <th>title_CD_per_word</th>\n",
              "      <th>title_WRB_per_word</th>\n",
              "      <th>title_RB_per_word</th>\n",
              "      <th>title_PRP_per_word</th>\n",
              "      <th>title_PRP$_per_word</th>\n",
              "      <th>title_RP_per_word</th>\n",
              "      <th>title_PDT_per_word</th>\n",
              "      <th>title_TO_per_word</th>\n",
              "      <th>title_``_per_word</th>\n",
              "      <th>title_FW_per_word</th>\n",
              "      <th>title_CC_per_word</th>\n",
              "      <th>title_._per_word</th>\n",
              "      <th>title_WP_per_word</th>\n",
              "      <th>title_JJS_per_word</th>\n",
              "      <th>title_(_per_word</th>\n",
              "      <th>title_)_per_word</th>\n",
              "      <th>title_$_per_word</th>\n",
              "      <th>title_UH_per_word</th>\n",
              "      <th>title_RBS_per_word</th>\n",
              "      <th>position_adjusted</th>\n",
              "      <th>nltk_body_sentiment_compound</th>\n",
              "      <th>nltk_title_sentiment_compound</th>\n",
              "      <th>nltk_body_sentiment_neg</th>\n",
              "      <th>nltk_title_sentiment_neg</th>\n",
              "      <th>nltk_body_sentiment_neu</th>\n",
              "      <th>nltk_title_sentiment_neu</th>\n",
              "      <th>nltk_body_sentiment_pos</th>\n",
              "      <th>nltk_title_sentiment_pos</th>\n",
              "      <th>title_negation</th>\n",
              "      <th>body_negation</th>\n",
              "      <th>title_negation_per_word</th>\n",
              "      <th>body_negation_per_word</th>\n",
              "      <th>title_stem</th>\n",
              "      <th>title_stem_pos</th>\n",
              "      <th>body_stem</th>\n",
              "      <th>body_stem_pos</th>\n",
              "      <th>categories</th>\n",
              "      <th>concepts</th>\n",
              "    </tr>\n",
              "  </thead>\n",
              "  <tbody>\n",
              "    <tr>\n",
              "      <th>0</th>\n",
              "      <td>-0.168627</td>\n",
              "      <td>38</td>\n",
              "      <td>6601183495</td>\n",
              "      <td>Racial tensions simmer as Southern Baptists ho...</td>\n",
              "      <td>NASHVILLE, Tenn. -- Race-related tensions with...</td>\n",
              "      <td>abcnews.go.com</td>\n",
              "      <td>ABC News</td>\n",
              "      <td>171</td>\n",
              "      <td>615</td>\n",
              "      <td>150359</td>\n",
              "      <td>True</td>\n",
              "      <td>2021-06-11</td>\n",
              "      <td>Nashville, Tennessee</td>\n",
              "      <td>9</td>\n",
              "      <td>1454</td>\n",
              "      <td>355101</td>\n",
              "      <td>/news-source/abc-news-media-bias</td>\n",
              "      <td>Lean Left</td>\n",
              "      <td>0</td>\n",
              "      <td>[\"Racial\", \"tensions\", \"simmer\", \"as\", \"Southe...</td>\n",
              "      <td>[\"NASHVILLE\", \",\", \"Tenn.\", \"--\", \"Race-relate...</td>\n",
              "      <td>3</td>\n",
              "      <td>2</td>\n",
              "      <td>2</td>\n",
              "      <td>1</td>\n",
              "      <td>0</td>\n",
              "      <td>0</td>\n",
              "      <td>0</td>\n",
              "      <td>0</td>\n",
              "      <td>0</td>\n",
              "      <td>0</td>\n",
              "      <td>0</td>\n",
              "      <td>0</td>\n",
              "      <td>0</td>\n",
              "      <td>0</td>\n",
              "      <td>0</td>\n",
              "      <td>0</td>\n",
              "      <td>0</td>\n",
              "      <td>0</td>\n",
              "      <td>0</td>\n",
              "      <td>...</td>\n",
              "      <td>0.0</td>\n",
              "      <td>0.0</td>\n",
              "      <td>0.0</td>\n",
              "      <td>0.0</td>\n",
              "      <td>0.0</td>\n",
              "      <td>0.0</td>\n",
              "      <td>0.0</td>\n",
              "      <td>0.0</td>\n",
              "      <td>0.0</td>\n",
              "      <td>0.0</td>\n",
              "      <td>0.0</td>\n",
              "      <td>0.0</td>\n",
              "      <td>0.0</td>\n",
              "      <td>0.0</td>\n",
              "      <td>0.0</td>\n",
              "      <td>0.0</td>\n",
              "      <td>0.0</td>\n",
              "      <td>0.0</td>\n",
              "      <td>0.0</td>\n",
              "      <td>0.0</td>\n",
              "      <td>0.0</td>\n",
              "      <td>left</td>\n",
              "      <td>0.9906</td>\n",
              "      <td>-0.4019</td>\n",
              "      <td>0.075</td>\n",
              "      <td>0.252</td>\n",
              "      <td>0.824</td>\n",
              "      <td>0.748</td>\n",
              "      <td>0.100</td>\n",
              "      <td>0.0</td>\n",
              "      <td>0</td>\n",
              "      <td>140</td>\n",
              "      <td>0.0</td>\n",
              "      <td>0.096286</td>\n",
              "      <td>[\"racial\", \"tension\", \"simmer\", \"southern\", \"b...</td>\n",
              "      <td>[\"JJ\", \"NN\", \"VB\", \"JJ\", \"NN\", \"VB\", \"JJ\", \"NN\"]</td>\n",
              "      <td>[\"nashvil\", \"tenn.\", \"race-rel\", \"tension\", \"w...</td>\n",
              "      <td>[\"NN\", \"NN\", \"JJ\", \"NN\", \"IN\", \"JJ\", \"NN\", \"NN...</td>\n",
              "      <td>[{\"uri\": \"dmoz/Society\", \"label\": \"dmoz/Societ...</td>\n",
              "      <td>[{\"uri\": \"http://en.wikipedia.org/wiki/Black_c...</td>\n",
              "    </tr>\n",
              "    <tr>\n",
              "      <th>1</th>\n",
              "      <td>-0.498039</td>\n",
              "      <td>64</td>\n",
              "      <td>6589548036</td>\n",
              "      <td>Asian American and Pacific Islander hate: Grap...</td>\n",
              "      <td>The U.S. has seen a disturbing surge in hate i...</td>\n",
              "      <td>abcnews.go.com</td>\n",
              "      <td>ABC News</td>\n",
              "      <td>171</td>\n",
              "      <td>615</td>\n",
              "      <td>150359</td>\n",
              "      <td>True</td>\n",
              "      <td>2021-06-03</td>\n",
              "      <td>United States</td>\n",
              "      <td>13</td>\n",
              "      <td>156</td>\n",
              "      <td>355101</td>\n",
              "      <td>/news-source/abc-news-media-bias</td>\n",
              "      <td>Lean Left</td>\n",
              "      <td>0</td>\n",
              "      <td>[\"Asian\", \"American\", \"and\", \"Pacific\", \"Islan...</td>\n",
              "      <td>[\"The\", \"U.S.\", \"has\", \"seen\", \"a\", \"disturbin...</td>\n",
              "      <td>1</td>\n",
              "      <td>2</td>\n",
              "      <td>0</td>\n",
              "      <td>1</td>\n",
              "      <td>4</td>\n",
              "      <td>1</td>\n",
              "      <td>1</td>\n",
              "      <td>0</td>\n",
              "      <td>0</td>\n",
              "      <td>0</td>\n",
              "      <td>0</td>\n",
              "      <td>0</td>\n",
              "      <td>0</td>\n",
              "      <td>0</td>\n",
              "      <td>0</td>\n",
              "      <td>0</td>\n",
              "      <td>0</td>\n",
              "      <td>0</td>\n",
              "      <td>0</td>\n",
              "      <td>...</td>\n",
              "      <td>0.0</td>\n",
              "      <td>0.0</td>\n",
              "      <td>0.0</td>\n",
              "      <td>0.0</td>\n",
              "      <td>0.0</td>\n",
              "      <td>0.0</td>\n",
              "      <td>0.0</td>\n",
              "      <td>0.0</td>\n",
              "      <td>0.0</td>\n",
              "      <td>0.0</td>\n",
              "      <td>0.0</td>\n",
              "      <td>0.0</td>\n",
              "      <td>0.0</td>\n",
              "      <td>0.0</td>\n",
              "      <td>0.0</td>\n",
              "      <td>0.0</td>\n",
              "      <td>0.0</td>\n",
              "      <td>0.0</td>\n",
              "      <td>0.0</td>\n",
              "      <td>0.0</td>\n",
              "      <td>0.0</td>\n",
              "      <td>left</td>\n",
              "      <td>-0.9833</td>\n",
              "      <td>-0.7184</td>\n",
              "      <td>0.201</td>\n",
              "      <td>0.375</td>\n",
              "      <td>0.778</td>\n",
              "      <td>0.625</td>\n",
              "      <td>0.021</td>\n",
              "      <td>0.0</td>\n",
              "      <td>0</td>\n",
              "      <td>0</td>\n",
              "      <td>0.0</td>\n",
              "      <td>0.000000</td>\n",
              "      <td>[\"asian\", \"american\", \"pacif\", \"island\", \"hate...</td>\n",
              "      <td>[\"JJ\", \"NN\", \"NN\", \"NN\", \"NN\", \"NN\", \"VB\", \"NN...</td>\n",
              "      <td>[\"the\", \"u.s.\", \"seen\", \"disturb\", \"surg\", \"ha...</td>\n",
              "      <td>[\"DT\", \"NN\", \"VB\", \"VB\", \"NN\", \"JJ\", \"NN\", \"JJ...</td>\n",
              "      <td>[{\"uri\": \"dmoz/Society/Issues\", \"label\": \"dmoz...</td>\n",
              "      <td>[{\"uri\": \"http://en.wikipedia.org/wiki/United_...</td>\n",
              "    </tr>\n",
              "    <tr>\n",
              "      <th>2</th>\n",
              "      <td>0.003922</td>\n",
              "      <td>118</td>\n",
              "      <td>6578408470</td>\n",
              "      <td>AP-NORC poll: More Americans believe anti-Asia...</td>\n",
              "      <td>WASHINGTON -- A majority of Americans across r...</td>\n",
              "      <td>abcnews.go.com</td>\n",
              "      <td>ABC News</td>\n",
              "      <td>171</td>\n",
              "      <td>615</td>\n",
              "      <td>150359</td>\n",
              "      <td>True</td>\n",
              "      <td>2021-05-26</td>\n",
              "      <td>Washington (state)</td>\n",
              "      <td>9</td>\n",
              "      <td>1091</td>\n",
              "      <td>355101</td>\n",
              "      <td>/news-source/abc-news-media-bias</td>\n",
              "      <td>Lean Left</td>\n",
              "      <td>0</td>\n",
              "      <td>[\"AP-NORC\", \"poll\", \":\", \"More\", \"Americans\", ...</td>\n",
              "      <td>[\"WASHINGTON\", \"--\", \"A\", \"majority\", \"of\", \"A...</td>\n",
              "      <td>2</td>\n",
              "      <td>1</td>\n",
              "      <td>1</td>\n",
              "      <td>3</td>\n",
              "      <td>0</td>\n",
              "      <td>1</td>\n",
              "      <td>0</td>\n",
              "      <td>1</td>\n",
              "      <td>0</td>\n",
              "      <td>0</td>\n",
              "      <td>0</td>\n",
              "      <td>0</td>\n",
              "      <td>0</td>\n",
              "      <td>0</td>\n",
              "      <td>0</td>\n",
              "      <td>0</td>\n",
              "      <td>0</td>\n",
              "      <td>0</td>\n",
              "      <td>0</td>\n",
              "      <td>...</td>\n",
              "      <td>0.0</td>\n",
              "      <td>0.0</td>\n",
              "      <td>0.0</td>\n",
              "      <td>0.0</td>\n",
              "      <td>0.0</td>\n",
              "      <td>0.0</td>\n",
              "      <td>0.0</td>\n",
              "      <td>0.0</td>\n",
              "      <td>0.0</td>\n",
              "      <td>0.0</td>\n",
              "      <td>0.0</td>\n",
              "      <td>0.0</td>\n",
              "      <td>0.0</td>\n",
              "      <td>0.0</td>\n",
              "      <td>0.0</td>\n",
              "      <td>0.0</td>\n",
              "      <td>0.0</td>\n",
              "      <td>0.0</td>\n",
              "      <td>0.0</td>\n",
              "      <td>0.0</td>\n",
              "      <td>0.0</td>\n",
              "      <td>left</td>\n",
              "      <td>-0.9982</td>\n",
              "      <td>-0.5719</td>\n",
              "      <td>0.141</td>\n",
              "      <td>0.346</td>\n",
              "      <td>0.795</td>\n",
              "      <td>0.654</td>\n",
              "      <td>0.065</td>\n",
              "      <td>0.0</td>\n",
              "      <td>0</td>\n",
              "      <td>91</td>\n",
              "      <td>0.0</td>\n",
              "      <td>0.083410</td>\n",
              "      <td>[\"ap-norc\", \"poll\", \"more\", \"american\", \"belie...</td>\n",
              "      <td>[\"JJ\", \"NN\", \"JJ\", \"NN\", \"VB\", \"JJ\", \"NN\", \"NN\"]</td>\n",
              "      <td>[\"washington\", \"A\", \"major\", \"american\", \"acro...</td>\n",
              "      <td>[\"NN\", \"DT\", \"NN\", \"NN\", \"IN\", \"JJ\", \"JJ\", \"NN...</td>\n",
              "      <td>[{\"uri\": \"news/Politics\", \"label\": \"news/Polit...</td>\n",
              "      <td>[{\"uri\": \"http://en.wikipedia.org/wiki/Asian_A...</td>\n",
              "    </tr>\n",
              "    <tr>\n",
              "      <th>3</th>\n",
              "      <td>-0.325490</td>\n",
              "      <td>39</td>\n",
              "      <td>6573140750</td>\n",
              "      <td>Floyd legislation reveals divide in police-ref...</td>\n",
              "      <td>NEW YORK -- Monifa Bandele became a community ...</td>\n",
              "      <td>abcnews.go.com</td>\n",
              "      <td>ABC News</td>\n",
              "      <td>171</td>\n",
              "      <td>615</td>\n",
              "      <td>150359</td>\n",
              "      <td>True</td>\n",
              "      <td>2021-05-22</td>\n",
              "      <td>New York City</td>\n",
              "      <td>7</td>\n",
              "      <td>1409</td>\n",
              "      <td>355101</td>\n",
              "      <td>/news-source/abc-news-media-bias</td>\n",
              "      <td>Lean Left</td>\n",
              "      <td>0</td>\n",
              "      <td>[\"Floyd\", \"legislation\", \"reveals\", \"divide\", ...</td>\n",
              "      <td>[\"NEW\", \"YORK\", \"--\", \"Monifa\", \"Bandele\", \"be...</td>\n",
              "      <td>1</td>\n",
              "      <td>1</td>\n",
              "      <td>1</td>\n",
              "      <td>2</td>\n",
              "      <td>1</td>\n",
              "      <td>0</td>\n",
              "      <td>0</td>\n",
              "      <td>0</td>\n",
              "      <td>0</td>\n",
              "      <td>0</td>\n",
              "      <td>0</td>\n",
              "      <td>0</td>\n",
              "      <td>0</td>\n",
              "      <td>0</td>\n",
              "      <td>0</td>\n",
              "      <td>0</td>\n",
              "      <td>0</td>\n",
              "      <td>0</td>\n",
              "      <td>0</td>\n",
              "      <td>...</td>\n",
              "      <td>0.0</td>\n",
              "      <td>0.0</td>\n",
              "      <td>0.0</td>\n",
              "      <td>0.0</td>\n",
              "      <td>0.0</td>\n",
              "      <td>0.0</td>\n",
              "      <td>0.0</td>\n",
              "      <td>0.0</td>\n",
              "      <td>0.0</td>\n",
              "      <td>0.0</td>\n",
              "      <td>0.0</td>\n",
              "      <td>0.0</td>\n",
              "      <td>0.0</td>\n",
              "      <td>0.0</td>\n",
              "      <td>0.0</td>\n",
              "      <td>0.0</td>\n",
              "      <td>0.0</td>\n",
              "      <td>0.0</td>\n",
              "      <td>0.0</td>\n",
              "      <td>0.0</td>\n",
              "      <td>0.0</td>\n",
              "      <td>left</td>\n",
              "      <td>0.9601</td>\n",
              "      <td>0.0000</td>\n",
              "      <td>0.073</td>\n",
              "      <td>0.000</td>\n",
              "      <td>0.838</td>\n",
              "      <td>1.000</td>\n",
              "      <td>0.089</td>\n",
              "      <td>0.0</td>\n",
              "      <td>0</td>\n",
              "      <td>94</td>\n",
              "      <td>0.0</td>\n",
              "      <td>0.066714</td>\n",
              "      <td>[\"floyd\", \"legisl\", \"reveal\", \"divid\", \"police...</td>\n",
              "      <td>[\"NN\", \"NN\", \"NN\", \"VB\", \"JJ\", \"NN\"]</td>\n",
              "      <td>[\"new\", \"york\", \"monifa\", \"bandel\", \"becam\", \"...</td>\n",
              "      <td>[\"NN\", \"NN\", \"NN\", \"NN\", \"VB\", \"NN\", \"NN\", \"JJ...</td>\n",
              "      <td>[{\"uri\": \"dmoz/Society/Issues/Crime_and_Justic...</td>\n",
              "      <td>[{\"uri\": \"http://en.wikipedia.org/wiki/George_...</td>\n",
              "    </tr>\n",
              "    <tr>\n",
              "      <th>4</th>\n",
              "      <td>-0.152941</td>\n",
              "      <td>15</td>\n",
              "      <td>6571115219</td>\n",
              "      <td>Police say antisemitic attacks in Los Angeles ...</td>\n",
              "      <td>LOS ANGELES -- Los Angeles police are investig...</td>\n",
              "      <td>abcnews.go.com</td>\n",
              "      <td>ABC News</td>\n",
              "      <td>171</td>\n",
              "      <td>615</td>\n",
              "      <td>150359</td>\n",
              "      <td>True</td>\n",
              "      <td>2021-05-21</td>\n",
              "      <td>Los Angeles</td>\n",
              "      <td>10</td>\n",
              "      <td>612</td>\n",
              "      <td>355101</td>\n",
              "      <td>/news-source/abc-news-media-bias</td>\n",
              "      <td>Lean Left</td>\n",
              "      <td>0</td>\n",
              "      <td>[\"Police\", \"say\", \"antisemitic\", \"attacks\", \"i...</td>\n",
              "      <td>[\"LOS\", \"ANGELES\", \"--\", \"Los\", \"Angeles\", \"po...</td>\n",
              "      <td>1</td>\n",
              "      <td>2</td>\n",
              "      <td>1</td>\n",
              "      <td>0</td>\n",
              "      <td>2</td>\n",
              "      <td>0</td>\n",
              "      <td>0</td>\n",
              "      <td>0</td>\n",
              "      <td>1</td>\n",
              "      <td>1</td>\n",
              "      <td>0</td>\n",
              "      <td>0</td>\n",
              "      <td>0</td>\n",
              "      <td>0</td>\n",
              "      <td>0</td>\n",
              "      <td>0</td>\n",
              "      <td>0</td>\n",
              "      <td>0</td>\n",
              "      <td>0</td>\n",
              "      <td>...</td>\n",
              "      <td>0.0</td>\n",
              "      <td>0.0</td>\n",
              "      <td>0.0</td>\n",
              "      <td>0.0</td>\n",
              "      <td>0.0</td>\n",
              "      <td>0.0</td>\n",
              "      <td>0.0</td>\n",
              "      <td>0.0</td>\n",
              "      <td>0.0</td>\n",
              "      <td>0.0</td>\n",
              "      <td>0.0</td>\n",
              "      <td>0.0</td>\n",
              "      <td>0.0</td>\n",
              "      <td>0.0</td>\n",
              "      <td>0.0</td>\n",
              "      <td>0.0</td>\n",
              "      <td>0.0</td>\n",
              "      <td>0.0</td>\n",
              "      <td>0.0</td>\n",
              "      <td>0.0</td>\n",
              "      <td>0.0</td>\n",
              "      <td>left</td>\n",
              "      <td>-0.9868</td>\n",
              "      <td>-0.4404</td>\n",
              "      <td>0.117</td>\n",
              "      <td>0.244</td>\n",
              "      <td>0.814</td>\n",
              "      <td>0.756</td>\n",
              "      <td>0.068</td>\n",
              "      <td>0.0</td>\n",
              "      <td>0</td>\n",
              "      <td>44</td>\n",
              "      <td>0.0</td>\n",
              "      <td>0.071895</td>\n",
              "      <td>[\"polic\", \"say\", \"antisemit\", \"attack\", \"lo\", ...</td>\n",
              "      <td>[\"NN\", \"VB\", \"JJ\", \"NN\", \"NN\", \"NN\", \"MD\", \"VB\"]</td>\n",
              "      <td>[\"lo\", \"angel\", \"lo\", \"angel\", \"polic\", \"inves...</td>\n",
              "      <td>[\"NN\", \"NN\", \"NN\", \"NN\", \"NN\", \"VB\", \"JJ\", \"NN...</td>\n",
              "      <td>[{\"uri\": \"dmoz/Society/Crime\", \"label\": \"dmoz/...</td>\n",
              "      <td>[{\"uri\": \"http://en.wikipedia.org/wiki/Los_Ang...</td>\n",
              "    </tr>\n",
              "  </tbody>\n",
              "</table>\n",
              "<p>5 rows × 204 columns</p>\n",
              "</div>"
            ],
            "text/plain": [
              "   sentiment  ...                                           concepts\n",
              "0  -0.168627  ...  [{\"uri\": \"http://en.wikipedia.org/wiki/Black_c...\n",
              "1  -0.498039  ...  [{\"uri\": \"http://en.wikipedia.org/wiki/United_...\n",
              "2   0.003922  ...  [{\"uri\": \"http://en.wikipedia.org/wiki/Asian_A...\n",
              "3  -0.325490  ...  [{\"uri\": \"http://en.wikipedia.org/wiki/George_...\n",
              "4  -0.152941  ...  [{\"uri\": \"http://en.wikipedia.org/wiki/Los_Ang...\n",
              "\n",
              "[5 rows x 204 columns]"
            ]
          },
          "metadata": {
            "tags": []
          },
          "execution_count": 46
        }
      ]
    },
    {
      "cell_type": "code",
      "metadata": {
        "id": "NyDOdOpISJh6"
      },
      "source": [
        "limit_df = df[df['source_position'].isin(['Left',  'Right'])].copy()\n",
        "limit_df['y_'] = np.where(limit_df['source_position'] == \"Left\", 1, 0)"
      ],
      "execution_count": null,
      "outputs": []
    },
    {
      "cell_type": "code",
      "metadata": {
        "colab": {
          "base_uri": "https://localhost:8080/"
        },
        "id": "SqDlZzduS3Af",
        "outputId": "85cc9859-69ee-47ee-c235-ef028eb620a1"
      },
      "source": [
        "wider_df = df[df['source_position'] != 'Center'].copy()\n",
        "wider_df['y_'] = np.where(wider_df['source_position'].isin([\"Left\", \"Lean Left\"]), 1, 0)\n",
        "wider_df.head()"
      ],
      "execution_count": null,
      "outputs": [
        {
          "output_type": "execute_result",
          "data": {
            "text/html": [
              "<div>\n",
              "<style scoped>\n",
              "    .dataframe tbody tr th:only-of-type {\n",
              "        vertical-align: middle;\n",
              "    }\n",
              "\n",
              "    .dataframe tbody tr th {\n",
              "        vertical-align: top;\n",
              "    }\n",
              "\n",
              "    .dataframe thead th {\n",
              "        text-align: right;\n",
              "    }\n",
              "</style>\n",
              "<table border=\"1\" class=\"dataframe\">\n",
              "  <thead>\n",
              "    <tr style=\"text-align: right;\">\n",
              "      <th></th>\n",
              "      <th>sentiment</th>\n",
              "      <th>relevance</th>\n",
              "      <th>uri</th>\n",
              "      <th>title</th>\n",
              "      <th>body</th>\n",
              "      <th>source_uri</th>\n",
              "      <th>source_name</th>\n",
              "      <th>source_alexaCountryRank</th>\n",
              "      <th>source_alexaGlobalRank</th>\n",
              "      <th>source_importanceRank</th>\n",
              "      <th>source_valid_location</th>\n",
              "      <th>date</th>\n",
              "      <th>location</th>\n",
              "      <th>title_length</th>\n",
              "      <th>body_length</th>\n",
              "      <th>source_score</th>\n",
              "      <th>source_link</th>\n",
              "      <th>source_position</th>\n",
              "      <th>source_pos_int</th>\n",
              "      <th>title_doc</th>\n",
              "      <th>body_doc</th>\n",
              "      <th>title_JJ</th>\n",
              "      <th>title_NNS</th>\n",
              "      <th>title_VBP</th>\n",
              "      <th>title_NN</th>\n",
              "      <th>title_NNP</th>\n",
              "      <th>title_:</th>\n",
              "      <th>title_VBZ</th>\n",
              "      <th>title_JJR</th>\n",
              "      <th>title_MD</th>\n",
              "      <th>title_VBN</th>\n",
              "      <th>title_VB</th>\n",
              "      <th>title_VBD</th>\n",
              "      <th>title_NNPS</th>\n",
              "      <th>title_VBG</th>\n",
              "      <th>title_IN</th>\n",
              "      <th>title_,</th>\n",
              "      <th>title_POS</th>\n",
              "      <th>title_''</th>\n",
              "      <th>title_DT</th>\n",
              "      <th>...</th>\n",
              "      <th>title_DT_per_word</th>\n",
              "      <th>title_CD_per_word</th>\n",
              "      <th>title_WRB_per_word</th>\n",
              "      <th>title_RB_per_word</th>\n",
              "      <th>title_PRP_per_word</th>\n",
              "      <th>title_PRP$_per_word</th>\n",
              "      <th>title_RP_per_word</th>\n",
              "      <th>title_PDT_per_word</th>\n",
              "      <th>title_TO_per_word</th>\n",
              "      <th>title_``_per_word</th>\n",
              "      <th>title_FW_per_word</th>\n",
              "      <th>title_CC_per_word</th>\n",
              "      <th>title_._per_word</th>\n",
              "      <th>title_WP_per_word</th>\n",
              "      <th>title_JJS_per_word</th>\n",
              "      <th>title_(_per_word</th>\n",
              "      <th>title_)_per_word</th>\n",
              "      <th>title_$_per_word</th>\n",
              "      <th>title_UH_per_word</th>\n",
              "      <th>title_RBS_per_word</th>\n",
              "      <th>position_adjusted</th>\n",
              "      <th>nltk_body_sentiment_compound</th>\n",
              "      <th>nltk_title_sentiment_compound</th>\n",
              "      <th>nltk_body_sentiment_neg</th>\n",
              "      <th>nltk_title_sentiment_neg</th>\n",
              "      <th>nltk_body_sentiment_neu</th>\n",
              "      <th>nltk_title_sentiment_neu</th>\n",
              "      <th>nltk_body_sentiment_pos</th>\n",
              "      <th>nltk_title_sentiment_pos</th>\n",
              "      <th>title_negation</th>\n",
              "      <th>body_negation</th>\n",
              "      <th>title_negation_per_word</th>\n",
              "      <th>body_negation_per_word</th>\n",
              "      <th>title_stem</th>\n",
              "      <th>title_stem_pos</th>\n",
              "      <th>body_stem</th>\n",
              "      <th>body_stem_pos</th>\n",
              "      <th>categories</th>\n",
              "      <th>concepts</th>\n",
              "      <th>y_</th>\n",
              "    </tr>\n",
              "  </thead>\n",
              "  <tbody>\n",
              "    <tr>\n",
              "      <th>0</th>\n",
              "      <td>-0.168627</td>\n",
              "      <td>38</td>\n",
              "      <td>6601183495</td>\n",
              "      <td>Racial tensions simmer as Southern Baptists ho...</td>\n",
              "      <td>NASHVILLE, Tenn. -- Race-related tensions with...</td>\n",
              "      <td>abcnews.go.com</td>\n",
              "      <td>ABC News</td>\n",
              "      <td>171</td>\n",
              "      <td>615</td>\n",
              "      <td>150359</td>\n",
              "      <td>True</td>\n",
              "      <td>2021-06-11</td>\n",
              "      <td>Nashville, Tennessee</td>\n",
              "      <td>9</td>\n",
              "      <td>1454</td>\n",
              "      <td>355101</td>\n",
              "      <td>/news-source/abc-news-media-bias</td>\n",
              "      <td>Lean Left</td>\n",
              "      <td>0</td>\n",
              "      <td>[\"Racial\", \"tensions\", \"simmer\", \"as\", \"Southe...</td>\n",
              "      <td>[\"NASHVILLE\", \",\", \"Tenn.\", \"--\", \"Race-relate...</td>\n",
              "      <td>3</td>\n",
              "      <td>2</td>\n",
              "      <td>2</td>\n",
              "      <td>1</td>\n",
              "      <td>0</td>\n",
              "      <td>0</td>\n",
              "      <td>0</td>\n",
              "      <td>0</td>\n",
              "      <td>0</td>\n",
              "      <td>0</td>\n",
              "      <td>0</td>\n",
              "      <td>0</td>\n",
              "      <td>0</td>\n",
              "      <td>0</td>\n",
              "      <td>0</td>\n",
              "      <td>0</td>\n",
              "      <td>0</td>\n",
              "      <td>0</td>\n",
              "      <td>0</td>\n",
              "      <td>...</td>\n",
              "      <td>0.0</td>\n",
              "      <td>0.0</td>\n",
              "      <td>0.0</td>\n",
              "      <td>0.0</td>\n",
              "      <td>0.0</td>\n",
              "      <td>0.0</td>\n",
              "      <td>0.0</td>\n",
              "      <td>0.0</td>\n",
              "      <td>0.0</td>\n",
              "      <td>0.0</td>\n",
              "      <td>0.0</td>\n",
              "      <td>0.0</td>\n",
              "      <td>0.0</td>\n",
              "      <td>0.0</td>\n",
              "      <td>0.0</td>\n",
              "      <td>0.0</td>\n",
              "      <td>0.0</td>\n",
              "      <td>0.0</td>\n",
              "      <td>0.0</td>\n",
              "      <td>0.0</td>\n",
              "      <td>left</td>\n",
              "      <td>0.9906</td>\n",
              "      <td>-0.4019</td>\n",
              "      <td>0.075</td>\n",
              "      <td>0.252</td>\n",
              "      <td>0.824</td>\n",
              "      <td>0.748</td>\n",
              "      <td>0.100</td>\n",
              "      <td>0.0</td>\n",
              "      <td>0</td>\n",
              "      <td>140</td>\n",
              "      <td>0.0</td>\n",
              "      <td>0.096286</td>\n",
              "      <td>[\"racial\", \"tension\", \"simmer\", \"southern\", \"b...</td>\n",
              "      <td>[\"JJ\", \"NN\", \"VB\", \"JJ\", \"NN\", \"VB\", \"JJ\", \"NN\"]</td>\n",
              "      <td>[\"nashvil\", \"tenn.\", \"race-rel\", \"tension\", \"w...</td>\n",
              "      <td>[\"NN\", \"NN\", \"JJ\", \"NN\", \"IN\", \"JJ\", \"NN\", \"NN...</td>\n",
              "      <td>[{\"uri\": \"dmoz/Society\", \"label\": \"dmoz/Societ...</td>\n",
              "      <td>[{\"uri\": \"http://en.wikipedia.org/wiki/Black_c...</td>\n",
              "      <td>1</td>\n",
              "    </tr>\n",
              "    <tr>\n",
              "      <th>1</th>\n",
              "      <td>-0.498039</td>\n",
              "      <td>64</td>\n",
              "      <td>6589548036</td>\n",
              "      <td>Asian American and Pacific Islander hate: Grap...</td>\n",
              "      <td>The U.S. has seen a disturbing surge in hate i...</td>\n",
              "      <td>abcnews.go.com</td>\n",
              "      <td>ABC News</td>\n",
              "      <td>171</td>\n",
              "      <td>615</td>\n",
              "      <td>150359</td>\n",
              "      <td>True</td>\n",
              "      <td>2021-06-03</td>\n",
              "      <td>United States</td>\n",
              "      <td>13</td>\n",
              "      <td>156</td>\n",
              "      <td>355101</td>\n",
              "      <td>/news-source/abc-news-media-bias</td>\n",
              "      <td>Lean Left</td>\n",
              "      <td>0</td>\n",
              "      <td>[\"Asian\", \"American\", \"and\", \"Pacific\", \"Islan...</td>\n",
              "      <td>[\"The\", \"U.S.\", \"has\", \"seen\", \"a\", \"disturbin...</td>\n",
              "      <td>1</td>\n",
              "      <td>2</td>\n",
              "      <td>0</td>\n",
              "      <td>1</td>\n",
              "      <td>4</td>\n",
              "      <td>1</td>\n",
              "      <td>1</td>\n",
              "      <td>0</td>\n",
              "      <td>0</td>\n",
              "      <td>0</td>\n",
              "      <td>0</td>\n",
              "      <td>0</td>\n",
              "      <td>0</td>\n",
              "      <td>0</td>\n",
              "      <td>0</td>\n",
              "      <td>0</td>\n",
              "      <td>0</td>\n",
              "      <td>0</td>\n",
              "      <td>0</td>\n",
              "      <td>...</td>\n",
              "      <td>0.0</td>\n",
              "      <td>0.0</td>\n",
              "      <td>0.0</td>\n",
              "      <td>0.0</td>\n",
              "      <td>0.0</td>\n",
              "      <td>0.0</td>\n",
              "      <td>0.0</td>\n",
              "      <td>0.0</td>\n",
              "      <td>0.0</td>\n",
              "      <td>0.0</td>\n",
              "      <td>0.0</td>\n",
              "      <td>0.0</td>\n",
              "      <td>0.0</td>\n",
              "      <td>0.0</td>\n",
              "      <td>0.0</td>\n",
              "      <td>0.0</td>\n",
              "      <td>0.0</td>\n",
              "      <td>0.0</td>\n",
              "      <td>0.0</td>\n",
              "      <td>0.0</td>\n",
              "      <td>left</td>\n",
              "      <td>-0.9833</td>\n",
              "      <td>-0.7184</td>\n",
              "      <td>0.201</td>\n",
              "      <td>0.375</td>\n",
              "      <td>0.778</td>\n",
              "      <td>0.625</td>\n",
              "      <td>0.021</td>\n",
              "      <td>0.0</td>\n",
              "      <td>0</td>\n",
              "      <td>0</td>\n",
              "      <td>0.0</td>\n",
              "      <td>0.000000</td>\n",
              "      <td>[\"asian\", \"american\", \"pacif\", \"island\", \"hate...</td>\n",
              "      <td>[\"JJ\", \"NN\", \"NN\", \"NN\", \"NN\", \"NN\", \"VB\", \"NN...</td>\n",
              "      <td>[\"the\", \"u.s.\", \"seen\", \"disturb\", \"surg\", \"ha...</td>\n",
              "      <td>[\"DT\", \"NN\", \"VB\", \"VB\", \"NN\", \"JJ\", \"NN\", \"JJ...</td>\n",
              "      <td>[{\"uri\": \"dmoz/Society/Issues\", \"label\": \"dmoz...</td>\n",
              "      <td>[{\"uri\": \"http://en.wikipedia.org/wiki/United_...</td>\n",
              "      <td>1</td>\n",
              "    </tr>\n",
              "    <tr>\n",
              "      <th>2</th>\n",
              "      <td>0.003922</td>\n",
              "      <td>118</td>\n",
              "      <td>6578408470</td>\n",
              "      <td>AP-NORC poll: More Americans believe anti-Asia...</td>\n",
              "      <td>WASHINGTON -- A majority of Americans across r...</td>\n",
              "      <td>abcnews.go.com</td>\n",
              "      <td>ABC News</td>\n",
              "      <td>171</td>\n",
              "      <td>615</td>\n",
              "      <td>150359</td>\n",
              "      <td>True</td>\n",
              "      <td>2021-05-26</td>\n",
              "      <td>Washington (state)</td>\n",
              "      <td>9</td>\n",
              "      <td>1091</td>\n",
              "      <td>355101</td>\n",
              "      <td>/news-source/abc-news-media-bias</td>\n",
              "      <td>Lean Left</td>\n",
              "      <td>0</td>\n",
              "      <td>[\"AP-NORC\", \"poll\", \":\", \"More\", \"Americans\", ...</td>\n",
              "      <td>[\"WASHINGTON\", \"--\", \"A\", \"majority\", \"of\", \"A...</td>\n",
              "      <td>2</td>\n",
              "      <td>1</td>\n",
              "      <td>1</td>\n",
              "      <td>3</td>\n",
              "      <td>0</td>\n",
              "      <td>1</td>\n",
              "      <td>0</td>\n",
              "      <td>1</td>\n",
              "      <td>0</td>\n",
              "      <td>0</td>\n",
              "      <td>0</td>\n",
              "      <td>0</td>\n",
              "      <td>0</td>\n",
              "      <td>0</td>\n",
              "      <td>0</td>\n",
              "      <td>0</td>\n",
              "      <td>0</td>\n",
              "      <td>0</td>\n",
              "      <td>0</td>\n",
              "      <td>...</td>\n",
              "      <td>0.0</td>\n",
              "      <td>0.0</td>\n",
              "      <td>0.0</td>\n",
              "      <td>0.0</td>\n",
              "      <td>0.0</td>\n",
              "      <td>0.0</td>\n",
              "      <td>0.0</td>\n",
              "      <td>0.0</td>\n",
              "      <td>0.0</td>\n",
              "      <td>0.0</td>\n",
              "      <td>0.0</td>\n",
              "      <td>0.0</td>\n",
              "      <td>0.0</td>\n",
              "      <td>0.0</td>\n",
              "      <td>0.0</td>\n",
              "      <td>0.0</td>\n",
              "      <td>0.0</td>\n",
              "      <td>0.0</td>\n",
              "      <td>0.0</td>\n",
              "      <td>0.0</td>\n",
              "      <td>left</td>\n",
              "      <td>-0.9982</td>\n",
              "      <td>-0.5719</td>\n",
              "      <td>0.141</td>\n",
              "      <td>0.346</td>\n",
              "      <td>0.795</td>\n",
              "      <td>0.654</td>\n",
              "      <td>0.065</td>\n",
              "      <td>0.0</td>\n",
              "      <td>0</td>\n",
              "      <td>91</td>\n",
              "      <td>0.0</td>\n",
              "      <td>0.083410</td>\n",
              "      <td>[\"ap-norc\", \"poll\", \"more\", \"american\", \"belie...</td>\n",
              "      <td>[\"JJ\", \"NN\", \"JJ\", \"NN\", \"VB\", \"JJ\", \"NN\", \"NN\"]</td>\n",
              "      <td>[\"washington\", \"A\", \"major\", \"american\", \"acro...</td>\n",
              "      <td>[\"NN\", \"DT\", \"NN\", \"NN\", \"IN\", \"JJ\", \"JJ\", \"NN...</td>\n",
              "      <td>[{\"uri\": \"news/Politics\", \"label\": \"news/Polit...</td>\n",
              "      <td>[{\"uri\": \"http://en.wikipedia.org/wiki/Asian_A...</td>\n",
              "      <td>1</td>\n",
              "    </tr>\n",
              "    <tr>\n",
              "      <th>3</th>\n",
              "      <td>-0.325490</td>\n",
              "      <td>39</td>\n",
              "      <td>6573140750</td>\n",
              "      <td>Floyd legislation reveals divide in police-ref...</td>\n",
              "      <td>NEW YORK -- Monifa Bandele became a community ...</td>\n",
              "      <td>abcnews.go.com</td>\n",
              "      <td>ABC News</td>\n",
              "      <td>171</td>\n",
              "      <td>615</td>\n",
              "      <td>150359</td>\n",
              "      <td>True</td>\n",
              "      <td>2021-05-22</td>\n",
              "      <td>New York City</td>\n",
              "      <td>7</td>\n",
              "      <td>1409</td>\n",
              "      <td>355101</td>\n",
              "      <td>/news-source/abc-news-media-bias</td>\n",
              "      <td>Lean Left</td>\n",
              "      <td>0</td>\n",
              "      <td>[\"Floyd\", \"legislation\", \"reveals\", \"divide\", ...</td>\n",
              "      <td>[\"NEW\", \"YORK\", \"--\", \"Monifa\", \"Bandele\", \"be...</td>\n",
              "      <td>1</td>\n",
              "      <td>1</td>\n",
              "      <td>1</td>\n",
              "      <td>2</td>\n",
              "      <td>1</td>\n",
              "      <td>0</td>\n",
              "      <td>0</td>\n",
              "      <td>0</td>\n",
              "      <td>0</td>\n",
              "      <td>0</td>\n",
              "      <td>0</td>\n",
              "      <td>0</td>\n",
              "      <td>0</td>\n",
              "      <td>0</td>\n",
              "      <td>0</td>\n",
              "      <td>0</td>\n",
              "      <td>0</td>\n",
              "      <td>0</td>\n",
              "      <td>0</td>\n",
              "      <td>...</td>\n",
              "      <td>0.0</td>\n",
              "      <td>0.0</td>\n",
              "      <td>0.0</td>\n",
              "      <td>0.0</td>\n",
              "      <td>0.0</td>\n",
              "      <td>0.0</td>\n",
              "      <td>0.0</td>\n",
              "      <td>0.0</td>\n",
              "      <td>0.0</td>\n",
              "      <td>0.0</td>\n",
              "      <td>0.0</td>\n",
              "      <td>0.0</td>\n",
              "      <td>0.0</td>\n",
              "      <td>0.0</td>\n",
              "      <td>0.0</td>\n",
              "      <td>0.0</td>\n",
              "      <td>0.0</td>\n",
              "      <td>0.0</td>\n",
              "      <td>0.0</td>\n",
              "      <td>0.0</td>\n",
              "      <td>left</td>\n",
              "      <td>0.9601</td>\n",
              "      <td>0.0000</td>\n",
              "      <td>0.073</td>\n",
              "      <td>0.000</td>\n",
              "      <td>0.838</td>\n",
              "      <td>1.000</td>\n",
              "      <td>0.089</td>\n",
              "      <td>0.0</td>\n",
              "      <td>0</td>\n",
              "      <td>94</td>\n",
              "      <td>0.0</td>\n",
              "      <td>0.066714</td>\n",
              "      <td>[\"floyd\", \"legisl\", \"reveal\", \"divid\", \"police...</td>\n",
              "      <td>[\"NN\", \"NN\", \"NN\", \"VB\", \"JJ\", \"NN\"]</td>\n",
              "      <td>[\"new\", \"york\", \"monifa\", \"bandel\", \"becam\", \"...</td>\n",
              "      <td>[\"NN\", \"NN\", \"NN\", \"NN\", \"VB\", \"NN\", \"NN\", \"JJ...</td>\n",
              "      <td>[{\"uri\": \"dmoz/Society/Issues/Crime_and_Justic...</td>\n",
              "      <td>[{\"uri\": \"http://en.wikipedia.org/wiki/George_...</td>\n",
              "      <td>1</td>\n",
              "    </tr>\n",
              "    <tr>\n",
              "      <th>4</th>\n",
              "      <td>-0.152941</td>\n",
              "      <td>15</td>\n",
              "      <td>6571115219</td>\n",
              "      <td>Police say antisemitic attacks in Los Angeles ...</td>\n",
              "      <td>LOS ANGELES -- Los Angeles police are investig...</td>\n",
              "      <td>abcnews.go.com</td>\n",
              "      <td>ABC News</td>\n",
              "      <td>171</td>\n",
              "      <td>615</td>\n",
              "      <td>150359</td>\n",
              "      <td>True</td>\n",
              "      <td>2021-05-21</td>\n",
              "      <td>Los Angeles</td>\n",
              "      <td>10</td>\n",
              "      <td>612</td>\n",
              "      <td>355101</td>\n",
              "      <td>/news-source/abc-news-media-bias</td>\n",
              "      <td>Lean Left</td>\n",
              "      <td>0</td>\n",
              "      <td>[\"Police\", \"say\", \"antisemitic\", \"attacks\", \"i...</td>\n",
              "      <td>[\"LOS\", \"ANGELES\", \"--\", \"Los\", \"Angeles\", \"po...</td>\n",
              "      <td>1</td>\n",
              "      <td>2</td>\n",
              "      <td>1</td>\n",
              "      <td>0</td>\n",
              "      <td>2</td>\n",
              "      <td>0</td>\n",
              "      <td>0</td>\n",
              "      <td>0</td>\n",
              "      <td>1</td>\n",
              "      <td>1</td>\n",
              "      <td>0</td>\n",
              "      <td>0</td>\n",
              "      <td>0</td>\n",
              "      <td>0</td>\n",
              "      <td>0</td>\n",
              "      <td>0</td>\n",
              "      <td>0</td>\n",
              "      <td>0</td>\n",
              "      <td>0</td>\n",
              "      <td>...</td>\n",
              "      <td>0.0</td>\n",
              "      <td>0.0</td>\n",
              "      <td>0.0</td>\n",
              "      <td>0.0</td>\n",
              "      <td>0.0</td>\n",
              "      <td>0.0</td>\n",
              "      <td>0.0</td>\n",
              "      <td>0.0</td>\n",
              "      <td>0.0</td>\n",
              "      <td>0.0</td>\n",
              "      <td>0.0</td>\n",
              "      <td>0.0</td>\n",
              "      <td>0.0</td>\n",
              "      <td>0.0</td>\n",
              "      <td>0.0</td>\n",
              "      <td>0.0</td>\n",
              "      <td>0.0</td>\n",
              "      <td>0.0</td>\n",
              "      <td>0.0</td>\n",
              "      <td>0.0</td>\n",
              "      <td>left</td>\n",
              "      <td>-0.9868</td>\n",
              "      <td>-0.4404</td>\n",
              "      <td>0.117</td>\n",
              "      <td>0.244</td>\n",
              "      <td>0.814</td>\n",
              "      <td>0.756</td>\n",
              "      <td>0.068</td>\n",
              "      <td>0.0</td>\n",
              "      <td>0</td>\n",
              "      <td>44</td>\n",
              "      <td>0.0</td>\n",
              "      <td>0.071895</td>\n",
              "      <td>[\"polic\", \"say\", \"antisemit\", \"attack\", \"lo\", ...</td>\n",
              "      <td>[\"NN\", \"VB\", \"JJ\", \"NN\", \"NN\", \"NN\", \"MD\", \"VB\"]</td>\n",
              "      <td>[\"lo\", \"angel\", \"lo\", \"angel\", \"polic\", \"inves...</td>\n",
              "      <td>[\"NN\", \"NN\", \"NN\", \"NN\", \"NN\", \"VB\", \"JJ\", \"NN...</td>\n",
              "      <td>[{\"uri\": \"dmoz/Society/Crime\", \"label\": \"dmoz/...</td>\n",
              "      <td>[{\"uri\": \"http://en.wikipedia.org/wiki/Los_Ang...</td>\n",
              "      <td>1</td>\n",
              "    </tr>\n",
              "  </tbody>\n",
              "</table>\n",
              "<p>5 rows × 205 columns</p>\n",
              "</div>"
            ],
            "text/plain": [
              "   sentiment  relevance  ...                                           concepts y_\n",
              "0  -0.168627         38  ...  [{\"uri\": \"http://en.wikipedia.org/wiki/Black_c...  1\n",
              "1  -0.498039         64  ...  [{\"uri\": \"http://en.wikipedia.org/wiki/United_...  1\n",
              "2   0.003922        118  ...  [{\"uri\": \"http://en.wikipedia.org/wiki/Asian_A...  1\n",
              "3  -0.325490         39  ...  [{\"uri\": \"http://en.wikipedia.org/wiki/George_...  1\n",
              "4  -0.152941         15  ...  [{\"uri\": \"http://en.wikipedia.org/wiki/Los_Ang...  1\n",
              "\n",
              "[5 rows x 205 columns]"
            ]
          },
          "metadata": {
            "tags": []
          },
          "execution_count": 48
        }
      ]
    },
    {
      "cell_type": "markdown",
      "metadata": {
        "id": "X2tB19a4RfC8"
      },
      "source": [
        "### Data Preprocessing"
      ]
    },
    {
      "cell_type": "code",
      "metadata": {
        "colab": {
          "base_uri": "https://localhost:8080/"
        },
        "id": "3dkq5i_7Q6Wf",
        "outputId": "da2ba858-4233-48ce-883c-0b82f24df029"
      },
      "source": [
        "# Select all part of speech columns\n",
        "pos_cols = [i for i in df.columns.values if i.endswith('per_word')]\n",
        "pos_cols[:5]"
      ],
      "execution_count": null,
      "outputs": [
        {
          "output_type": "execute_result",
          "data": {
            "text/plain": [
              "['body_NNP_per_word',\n",
              " 'body_,_per_word',\n",
              " 'body_:_per_word',\n",
              " 'body_JJ_per_word',\n",
              " 'body_NNS_per_word']"
            ]
          },
          "metadata": {
            "tags": []
          },
          "execution_count": 49
        }
      ]
    },
    {
      "cell_type": "code",
      "metadata": {
        "colab": {
          "base_uri": "https://localhost:8080/"
        },
        "id": "_Yx-sMctRAV0",
        "outputId": "f8a23b77-3218-44ad-aca1-51b67142dda2"
      },
      "source": [
        "# Scale \n",
        "minmax = MinMaxScaler()\n",
        "pos_X = minmax.fit_transform(wider_df[pos_cols])\n",
        "pos_X.shape"
      ],
      "execution_count": null,
      "outputs": [
        {
          "output_type": "execute_result",
          "data": {
            "text/plain": [
              "(277, 83)"
            ]
          },
          "metadata": {
            "tags": []
          },
          "execution_count": 50
        }
      ]
    },
    {
      "cell_type": "markdown",
      "metadata": {
        "id": "HbLXO81-vqjY"
      },
      "source": [
        "### ML Model Analysis"
      ]
    },
    {
      "cell_type": "code",
      "metadata": {
        "id": "VnRgotsyT3uX"
      },
      "source": [
        "X_train, X_test, y_train, y_test = train_test_split(pos_X, wider_df['y_'], random_state=0, train_size=0.8)"
      ],
      "execution_count": null,
      "outputs": []
    },
    {
      "cell_type": "code",
      "metadata": {
        "colab": {
          "base_uri": "https://localhost:8080/"
        },
        "id": "NTN2DD2sTjFo",
        "outputId": "44c6c054-7722-47ac-cafc-5984246b7452"
      },
      "source": [
        "# Define and Train ML Models\n",
        "clfs = [\n",
        "        LogisticRegression(),\n",
        "        DecisionTreeClassifier(),\n",
        "        RandomForestClassifier(),\n",
        "        GradientBoostingClassifier(),\n",
        "        GaussianNB(),\n",
        "        MultinomialNB()\n",
        "]\n",
        "\n",
        "clf_pred_data = []\n",
        "\n",
        "for clf in clfs:\n",
        "  print(str(clf))\n",
        "  clf.fit(X_train, y_train)\n",
        "  sc = clf.score(X_test, y_test)\n",
        "  print(f\"Score: {sc}\")\n",
        "  clf_pred_data.append([str(clf), sc, clf])\n"
      ],
      "execution_count": null,
      "outputs": [
        {
          "output_type": "stream",
          "text": [
            "LogisticRegression(C=1.0, class_weight=None, dual=False, fit_intercept=True,\n",
            "                   intercept_scaling=1, l1_ratio=None, max_iter=100,\n",
            "                   multi_class='auto', n_jobs=None, penalty='l2',\n",
            "                   random_state=None, solver='lbfgs', tol=0.0001, verbose=0,\n",
            "                   warm_start=False)\n",
            "Score: 0.6785714285714286\n",
            "DecisionTreeClassifier(ccp_alpha=0.0, class_weight=None, criterion='gini',\n",
            "                       max_depth=None, max_features=None, max_leaf_nodes=None,\n",
            "                       min_impurity_decrease=0.0, min_impurity_split=None,\n",
            "                       min_samples_leaf=1, min_samples_split=2,\n",
            "                       min_weight_fraction_leaf=0.0, presort='deprecated',\n",
            "                       random_state=None, splitter='best')\n",
            "Score: 0.6428571428571429\n",
            "RandomForestClassifier(bootstrap=True, ccp_alpha=0.0, class_weight=None,\n",
            "                       criterion='gini', max_depth=None, max_features='auto',\n",
            "                       max_leaf_nodes=None, max_samples=None,\n",
            "                       min_impurity_decrease=0.0, min_impurity_split=None,\n",
            "                       min_samples_leaf=1, min_samples_split=2,\n",
            "                       min_weight_fraction_leaf=0.0, n_estimators=100,\n",
            "                       n_jobs=None, oob_score=False, random_state=None,\n",
            "                       verbose=0, warm_start=False)\n",
            "Score: 0.6428571428571429\n",
            "GradientBoostingClassifier(ccp_alpha=0.0, criterion='friedman_mse', init=None,\n",
            "                           learning_rate=0.1, loss='deviance', max_depth=3,\n",
            "                           max_features=None, max_leaf_nodes=None,\n",
            "                           min_impurity_decrease=0.0, min_impurity_split=None,\n",
            "                           min_samples_leaf=1, min_samples_split=2,\n",
            "                           min_weight_fraction_leaf=0.0, n_estimators=100,\n",
            "                           n_iter_no_change=None, presort='deprecated',\n",
            "                           random_state=None, subsample=1.0, tol=0.0001,\n",
            "                           validation_fraction=0.1, verbose=0,\n",
            "                           warm_start=False)\n",
            "Score: 0.6785714285714286\n",
            "GaussianNB(priors=None, var_smoothing=1e-09)\n",
            "Score: 0.4107142857142857\n",
            "MultinomialNB(alpha=1.0, class_prior=None, fit_prior=True)\n",
            "Score: 0.6607142857142857\n"
          ],
          "name": "stdout"
        }
      ]
    },
    {
      "cell_type": "code",
      "metadata": {
        "colab": {
          "base_uri": "https://localhost:8080/"
        },
        "id": "8Ok4_UCdUYKR",
        "outputId": "ef4ebcc6-fc92-41ce-80a1-d15bb8b2c420"
      },
      "source": [
        "clf_pred_df = pd.DataFrame(clf_pred_data, columns = [\"clf_name\", \"score\", \"clf\"])\n",
        "clf_pred_df"
      ],
      "execution_count": null,
      "outputs": [
        {
          "output_type": "execute_result",
          "data": {
            "text/html": [
              "<div>\n",
              "<style scoped>\n",
              "    .dataframe tbody tr th:only-of-type {\n",
              "        vertical-align: middle;\n",
              "    }\n",
              "\n",
              "    .dataframe tbody tr th {\n",
              "        vertical-align: top;\n",
              "    }\n",
              "\n",
              "    .dataframe thead th {\n",
              "        text-align: right;\n",
              "    }\n",
              "</style>\n",
              "<table border=\"1\" class=\"dataframe\">\n",
              "  <thead>\n",
              "    <tr style=\"text-align: right;\">\n",
              "      <th></th>\n",
              "      <th>clf_name</th>\n",
              "      <th>score</th>\n",
              "      <th>clf</th>\n",
              "    </tr>\n",
              "  </thead>\n",
              "  <tbody>\n",
              "    <tr>\n",
              "      <th>0</th>\n",
              "      <td>LogisticRegression(C=1.0, class_weight=None, d...</td>\n",
              "      <td>0.678571</td>\n",
              "      <td>LogisticRegression(C=1.0, class_weight=None, d...</td>\n",
              "    </tr>\n",
              "    <tr>\n",
              "      <th>1</th>\n",
              "      <td>DecisionTreeClassifier(ccp_alpha=0.0, class_we...</td>\n",
              "      <td>0.642857</td>\n",
              "      <td>DecisionTreeClassifier(ccp_alpha=0.0, class_we...</td>\n",
              "    </tr>\n",
              "    <tr>\n",
              "      <th>2</th>\n",
              "      <td>RandomForestClassifier(bootstrap=True, ccp_alp...</td>\n",
              "      <td>0.642857</td>\n",
              "      <td>(DecisionTreeClassifier(ccp_alpha=0.0, class_w...</td>\n",
              "    </tr>\n",
              "    <tr>\n",
              "      <th>3</th>\n",
              "      <td>GradientBoostingClassifier(ccp_alpha=0.0, crit...</td>\n",
              "      <td>0.678571</td>\n",
              "      <td>([DecisionTreeRegressor(ccp_alpha=0.0, criteri...</td>\n",
              "    </tr>\n",
              "    <tr>\n",
              "      <th>4</th>\n",
              "      <td>GaussianNB(priors=None, var_smoothing=1e-09)</td>\n",
              "      <td>0.410714</td>\n",
              "      <td>GaussianNB(priors=None, var_smoothing=1e-09)</td>\n",
              "    </tr>\n",
              "    <tr>\n",
              "      <th>5</th>\n",
              "      <td>MultinomialNB(alpha=1.0, class_prior=None, fit...</td>\n",
              "      <td>0.660714</td>\n",
              "      <td>MultinomialNB(alpha=1.0, class_prior=None, fit...</td>\n",
              "    </tr>\n",
              "  </tbody>\n",
              "</table>\n",
              "</div>"
            ],
            "text/plain": [
              "                                            clf_name  ...                                                clf\n",
              "0  LogisticRegression(C=1.0, class_weight=None, d...  ...  LogisticRegression(C=1.0, class_weight=None, d...\n",
              "1  DecisionTreeClassifier(ccp_alpha=0.0, class_we...  ...  DecisionTreeClassifier(ccp_alpha=0.0, class_we...\n",
              "2  RandomForestClassifier(bootstrap=True, ccp_alp...  ...  (DecisionTreeClassifier(ccp_alpha=0.0, class_w...\n",
              "3  GradientBoostingClassifier(ccp_alpha=0.0, crit...  ...  ([DecisionTreeRegressor(ccp_alpha=0.0, criteri...\n",
              "4       GaussianNB(priors=None, var_smoothing=1e-09)  ...       GaussianNB(priors=None, var_smoothing=1e-09)\n",
              "5  MultinomialNB(alpha=1.0, class_prior=None, fit...  ...  MultinomialNB(alpha=1.0, class_prior=None, fit...\n",
              "\n",
              "[6 rows x 3 columns]"
            ]
          },
          "metadata": {
            "tags": []
          },
          "execution_count": 53
        }
      ]
    },
    {
      "cell_type": "markdown",
      "metadata": {
        "id": "n2F29sJaWglF"
      },
      "source": [
        "#### Gradient Boosting Features"
      ]
    },
    {
      "cell_type": "code",
      "metadata": {
        "id": "adlQ7tk6UnV8"
      },
      "source": [
        "gradient_boost_features = list(sorted(zip(wider_df[pos_cols].columns.values, clf_pred_df['clf'].iloc[3].feature_importances_), key = lambda x: x[1], reverse = True))"
      ],
      "execution_count": null,
      "outputs": []
    },
    {
      "cell_type": "code",
      "metadata": {
        "colab": {
          "base_uri": "https://localhost:8080/"
        },
        "id": "VCggXNjzVCZ7",
        "outputId": "16df2c8e-3835-4ada-c982-606d5e6e4d44"
      },
      "source": [
        "gradient_boost_features[:10]"
      ],
      "execution_count": null,
      "outputs": [
        {
          "output_type": "execute_result",
          "data": {
            "text/plain": [
              "[('body_NN_per_word', 0.11358763414122904),\n",
              " ('body_)_per_word', 0.07020073875791459),\n",
              " ('body_NNPS_per_word', 0.06599550446797196),\n",
              " ('body_._per_word', 0.06169180588108166),\n",
              " ('body_(_per_word', 0.0614598675807045),\n",
              " ('body_VBG_per_word', 0.058251795223740424),\n",
              " ('body_NNP_per_word', 0.05528308065200819),\n",
              " ('title_NNP_per_word', 0.05447362097992952),\n",
              " ('body_WP$_per_word', 0.04251078116753591),\n",
              " ('body_VBZ_per_word', 0.04095709342445697)]"
            ]
          },
          "metadata": {
            "tags": []
          },
          "execution_count": 13
        }
      ]
    },
    {
      "cell_type": "markdown",
      "metadata": {
        "id": "fBhJYDGdWoCw"
      },
      "source": [
        "#### Logistic Regression Features"
      ]
    },
    {
      "cell_type": "code",
      "metadata": {
        "colab": {
          "base_uri": "https://localhost:8080/"
        },
        "id": "T4niYjrbV6lU",
        "outputId": "31142d0e-d8cb-4d20-ae2c-74788b02f11b"
      },
      "source": [
        "clf_pred_df['clf'].iloc[0].coef_.shape"
      ],
      "execution_count": null,
      "outputs": [
        {
          "output_type": "execute_result",
          "data": {
            "text/plain": [
              "(1, 83)"
            ]
          },
          "metadata": {
            "tags": []
          },
          "execution_count": 14
        }
      ]
    },
    {
      "cell_type": "code",
      "metadata": {
        "id": "Jz2WFukrVqCt"
      },
      "source": [
        "log_reg_features = list(sorted(zip(wider_df[pos_cols].columns.values, clf_pred_df['clf'].iloc[0].coef_[0]), key = lambda x: x[1], reverse = True))"
      ],
      "execution_count": null,
      "outputs": []
    },
    {
      "cell_type": "code",
      "metadata": {
        "colab": {
          "base_uri": "https://localhost:8080/"
        },
        "id": "yUIOhe_oV1CT",
        "outputId": "cc83244c-c994-4700-8587-15c5fa3f1d1b"
      },
      "source": [
        "log_reg_features[:5] # Most Indicative of Left Media"
      ],
      "execution_count": null,
      "outputs": [
        {
          "output_type": "execute_result",
          "data": {
            "text/plain": [
              "[('body_VB_per_word', 1.0771721117164228),\n",
              " ('body_NN_per_word', 0.9983560577963879),\n",
              " ('title_RB_per_word', 0.8254950444552932),\n",
              " ('title_VBD_per_word', 0.7497087934291109),\n",
              " ('body_RBR_per_word', 0.6318631382914993)]"
            ]
          },
          "metadata": {
            "tags": []
          },
          "execution_count": 16
        }
      ]
    },
    {
      "cell_type": "code",
      "metadata": {
        "colab": {
          "base_uri": "https://localhost:8080/"
        },
        "id": "PXZtR2C1WDSG",
        "outputId": "58da87f4-13ae-4507-d944-0d46a1f47802"
      },
      "source": [
        "log_reg_features[-5:] # Most Indicative of Right Media"
      ],
      "execution_count": null,
      "outputs": [
        {
          "output_type": "execute_result",
          "data": {
            "text/plain": [
              "[('body_WRB_per_word', -0.6737956002229745),\n",
              " ('title_TO_per_word', -0.6768760567931136),\n",
              " ('body_NNP_per_word', -0.8924345722453336),\n",
              " ('body_NNPS_per_word', -0.9705572160033403),\n",
              " ('title_JJR_per_word', -0.9769917900842598)]"
            ]
          },
          "metadata": {
            "tags": []
          },
          "execution_count": 17
        }
      ]
    },
    {
      "cell_type": "markdown",
      "metadata": {
        "id": "IBYG4dszWrI8"
      },
      "source": [
        "#### Multinomial Naive Bayes Features"
      ]
    },
    {
      "cell_type": "code",
      "metadata": {
        "colab": {
          "base_uri": "https://localhost:8080/"
        },
        "id": "WQt-_LeuWEuv",
        "outputId": "857b6d72-ce69-4eea-95dd-280ad40dd663"
      },
      "source": [
        "clf_pred_df['clf'].iloc[5]._get_coef().shape"
      ],
      "execution_count": null,
      "outputs": [
        {
          "output_type": "execute_result",
          "data": {
            "text/plain": [
              "(1, 83)"
            ]
          },
          "metadata": {
            "tags": []
          },
          "execution_count": 18
        }
      ]
    },
    {
      "cell_type": "code",
      "metadata": {
        "id": "W1Spu4YxWUHJ"
      },
      "source": [
        "mult_nb_features = list(sorted(zip(wider_df[pos_cols].columns.values, clf_pred_df['clf'].iloc[5]._get_coef()[0]), key = lambda x: x[1], reverse = True))"
      ],
      "execution_count": null,
      "outputs": []
    },
    {
      "cell_type": "code",
      "metadata": {
        "colab": {
          "base_uri": "https://localhost:8080/"
        },
        "id": "UHJQJVoqWzMI",
        "outputId": "eb856eb2-a106-4a88-ec70-b8d6ab2b5c89"
      },
      "source": [
        "mult_nb_features[:5]"
      ],
      "execution_count": null,
      "outputs": [
        {
          "output_type": "execute_result",
          "data": {
            "text/plain": [
              "[('body_``_per_word', -3.195036116006733),\n",
              " ('body_,_per_word', -3.2456382670727395),\n",
              " ('body_._per_word', -3.2590968874395188),\n",
              " ('body_VBG_per_word', -3.2605039530355464),\n",
              " (\"body_''_per_word\", -3.2804713106102996)]"
            ]
          },
          "metadata": {
            "tags": []
          },
          "execution_count": 20
        }
      ]
    },
    {
      "cell_type": "code",
      "metadata": {
        "colab": {
          "base_uri": "https://localhost:8080/"
        },
        "id": "XrR8bUTcW0US",
        "outputId": "4af5450d-92a1-4010-8d09-2f2b3a1a06d7"
      },
      "source": [
        "mult_nb_features[-5:]"
      ],
      "execution_count": null,
      "outputs": [
        {
          "output_type": "execute_result",
          "data": {
            "text/plain": [
              "[('title_PDT_per_word', -6.965495475484977),\n",
              " ('title_$_per_word', -6.965495475484977),\n",
              " ('title_TO_per_word', -7.145320152080345),\n",
              " ('title_UH_per_word', -7.658642656044923),\n",
              " ('title_RBS_per_word', -7.658642656044923)]"
            ]
          },
          "metadata": {
            "tags": []
          },
          "execution_count": 21
        }
      ]
    },
    {
      "cell_type": "markdown",
      "metadata": {
        "id": "vvy3t1pVv0SO"
      },
      "source": [
        "### Dimension Reduction Analysis"
      ]
    },
    {
      "cell_type": "markdown",
      "metadata": {
        "id": "qLvCaxzIQRzN"
      },
      "source": [
        "#### PCA Analysis"
      ]
    },
    {
      "cell_type": "code",
      "metadata": {
        "id": "JA7TBfpcXCQM"
      },
      "source": [
        "from sklearn.decomposition import PCA"
      ],
      "execution_count": null,
      "outputs": []
    },
    {
      "cell_type": "code",
      "metadata": {
        "id": "5oNkGvfoQr-f"
      },
      "source": [
        "pca = PCA(n_components=2)"
      ],
      "execution_count": null,
      "outputs": []
    },
    {
      "cell_type": "code",
      "metadata": {
        "id": "Bbu1v2doQz0g"
      },
      "source": [
        "decomposed_X = pca.fit_transform(wider_df[pos_cols])"
      ],
      "execution_count": null,
      "outputs": []
    },
    {
      "cell_type": "code",
      "metadata": {
        "colab": {
          "base_uri": "https://localhost:8080/"
        },
        "id": "bT74lzx4Q-Y_",
        "outputId": "05e0d0dd-d046-4de3-f132-81df48477432"
      },
      "source": [
        "print(pca.explained_variance_ratio_)"
      ],
      "execution_count": null,
      "outputs": [
        {
          "output_type": "stream",
          "text": [
            "[0.45375008 0.1326666 ]\n"
          ],
          "name": "stdout"
        }
      ]
    },
    {
      "cell_type": "code",
      "metadata": {
        "colab": {
          "base_uri": "https://localhost:8080/"
        },
        "id": "LigHzNihRWjp",
        "outputId": "be816b14-f1a8-4a13-c677-afc94c061836"
      },
      "source": [
        "decomposed_X.shape"
      ],
      "execution_count": null,
      "outputs": [
        {
          "output_type": "execute_result",
          "data": {
            "text/plain": [
              "(277, 2)"
            ]
          },
          "metadata": {
            "tags": []
          },
          "execution_count": 51
        }
      ]
    },
    {
      "cell_type": "code",
      "metadata": {
        "colab": {
          "base_uri": "https://localhost:8080/"
        },
        "id": "hwbNrD9BRnD5",
        "outputId": "6cd2d569-f30e-4a17-b76a-5320a88107b2"
      },
      "source": [
        "wider_df[pos_cols].shape"
      ],
      "execution_count": null,
      "outputs": [
        {
          "output_type": "execute_result",
          "data": {
            "text/plain": [
              "(277, 83)"
            ]
          },
          "metadata": {
            "tags": []
          },
          "execution_count": 52
        }
      ]
    },
    {
      "cell_type": "code",
      "metadata": {
        "id": "yU1JblApSIeH"
      },
      "source": [
        "minmax = MinMaxScaler()\n",
        "decomp_minmax_X = pd.DataFrame(minmax.fit_transform(decomposed_X), columns = [\"0\", \"1\"])\n",
        "decomp_minmax_X['y_'] = wider_df['y_']"
      ],
      "execution_count": null,
      "outputs": []
    },
    {
      "cell_type": "code",
      "metadata": {
        "colab": {
          "base_uri": "https://localhost:8080/",
          "height": 296
        },
        "id": "gaIqs9jQTjQw",
        "outputId": "ffd5bb3f-917a-44c1-8026-5609b1b24807"
      },
      "source": [
        "sns.scatterplot(data = decomp_minmax_X, x = \"0\", y = \"1\", hue = \"y_\")"
      ],
      "execution_count": null,
      "outputs": [
        {
          "output_type": "execute_result",
          "data": {
            "text/plain": [
              "<matplotlib.axes._subplots.AxesSubplot at 0x7fb061f0e750>"
            ]
          },
          "metadata": {
            "tags": []
          },
          "execution_count": 57
        },
        {
          "output_type": "display_data",
          "data": {
            "image/png": "[encoded data removed]",
            "text/plain": [
              "<Figure size 432x288 with 1 Axes>"
            ]
          },
          "metadata": {
            "tags": [],
            "needs_background": "light"
          }
        }
      ]
    },
    {
      "cell_type": "code",
      "metadata": {
        "id": "unEQFGMKS_JP"
      },
      "source": [
        ""
      ],
      "execution_count": null,
      "outputs": []
    },
    {
      "cell_type": "markdown",
      "metadata": {
        "id": "M9imsHPCvxUj"
      },
      "source": [
        "#### TSNE Analysis"
      ]
    },
    {
      "cell_type": "code",
      "metadata": {
        "id": "js9Tz5MJv326"
      },
      "source": [
        "from sklearn.manifold import TSNE\n",
        "import time"
      ],
      "execution_count": null,
      "outputs": []
    },
    {
      "cell_type": "code",
      "metadata": {
        "colab": {
          "base_uri": "https://localhost:8080/"
        },
        "id": "Wo-PUhFNwFTP",
        "outputId": "ed9d3af7-c89f-4439-af93-74ddd1ce590a"
      },
      "source": [
        "time_start = time.time()\n",
        "tsne = TSNE(n_components=2, verbose=1, perplexity=15, n_iter=300)\n",
        "tsne_processed_X = tsne.fit_transform(wider_df[pos_cols])\n",
        "print('t-SNE done! Time elapsed: {} seconds'.format(time.time()-time_start))"
      ],
      "execution_count": null,
      "outputs": [
        {
          "output_type": "stream",
          "text": [
            "[t-SNE] Computing 46 nearest neighbors...\n",
            "[t-SNE] Indexed 277 samples in 0.002s...\n",
            "[t-SNE] Computed neighbors for 277 samples in 0.022s...\n",
            "[t-SNE] Computed conditional probabilities for sample 277 / 277\n",
            "[t-SNE] Mean sigma: 0.107058\n",
            "[t-SNE] KL divergence after 250 iterations with early exaggeration: 69.738831\n",
            "[t-SNE] KL divergence after 300 iterations: 0.949706\n",
            "t-SNE done! Time elapsed: 0.49987077713012695 seconds\n"
          ],
          "name": "stdout"
        }
      ]
    },
    {
      "cell_type": "code",
      "metadata": {
        "id": "aDjqqGOjwbPQ"
      },
      "source": [
        "minmax = MinMaxScaler()\n",
        "minmaxed_X = pd.DataFrame(minmax.fit_transform(tsne_processed_X), columns = [\"0\", \"1\"])\n",
        "minmaxed_X['y_'] = wider_df['y_']"
      ],
      "execution_count": null,
      "outputs": []
    },
    {
      "cell_type": "code",
      "metadata": {
        "colab": {
          "base_uri": "https://localhost:8080/",
          "height": 296
        },
        "id": "2OvFabLwwvlk",
        "outputId": "2dd6eb57-577a-46ca-bc1d-187bc3fe186a"
      },
      "source": [
        "sns.scatterplot(data = minmaxed_X, x = \"0\", y = \"1\", hue = \"y_\")"
      ],
      "execution_count": null,
      "outputs": [
        {
          "output_type": "execute_result",
          "data": {
            "text/plain": [
              "<matplotlib.axes._subplots.AxesSubplot at 0x7fc4f7949750>"
            ]
          },
          "metadata": {
            "tags": []
          },
          "execution_count": 19
        },
        {
          "output_type": "display_data",
          "data": {
            "image/png": "[encoded data removed]",
            "text/plain": [
              "<Figure size 432x288 with 1 Axes>"
            ]
          },
          "metadata": {
            "tags": [],
            "needs_background": "light"
          }
        }
      ]
    },
    {
      "cell_type": "markdown",
      "metadata": {
        "id": "VBewh7pQu6pU"
      },
      "source": [
        "## T testing"
      ]
    },
    {
      "cell_type": "markdown",
      "metadata": {
        "id": "UK-sJEg8v6et"
      },
      "source": [
        "### Load Data"
      ]
    },
    {
      "cell_type": "code",
      "metadata": {
        "id": "2GSQY9ecv22w"
      },
      "source": [
        "from scipy import stats\n",
        "from itertools import combinations"
      ],
      "execution_count": null,
      "outputs": []
    },
    {
      "cell_type": "code",
      "metadata": {
        "id": "KW9vHUA060UZ"
      },
      "source": [
        "position_list = [\"0_per_article_left\", \"1_per_article_lean_left\", \"2_per_article_center\", \"3_per_article_lean_right\", \"4_per_article_right\"]"
      ],
      "execution_count": null,
      "outputs": []
    },
    {
      "cell_type": "code",
      "metadata": {
        "colab": {
          "base_uri": "https://localhost:8080/",
          "height": 241
        },
        "id": "ittvwp99v5Fa",
        "outputId": "320d4295-a8e6-4a0a-b377-876f5a877e48"
      },
      "source": [
        "title_df = pd.read_csv(os.path.join(main_path, \"title_stem_dataframe.csv\"))\n",
        "title_df.head()"
      ],
      "execution_count": null,
      "outputs": [
        {
          "output_type": "execute_result",
          "data": {
            "text/html": [
              "<div>\n",
              "<style scoped>\n",
              "    .dataframe tbody tr th:only-of-type {\n",
              "        vertical-align: middle;\n",
              "    }\n",
              "\n",
              "    .dataframe tbody tr th {\n",
              "        vertical-align: top;\n",
              "    }\n",
              "\n",
              "    .dataframe thead th {\n",
              "        text-align: right;\n",
              "    }\n",
              "</style>\n",
              "<table border=\"1\" class=\"dataframe\">\n",
              "  <thead>\n",
              "    <tr style=\"text-align: right;\">\n",
              "      <th></th>\n",
              "      <th>Lean Left</th>\n",
              "      <th>Left</th>\n",
              "      <th>Center</th>\n",
              "      <th>Lean Right</th>\n",
              "      <th>Right</th>\n",
              "      <th>stem</th>\n",
              "      <th>pos</th>\n",
              "      <th>usage_sum</th>\n",
              "      <th>0_per_article_left</th>\n",
              "      <th>1_per_article_lean_left</th>\n",
              "      <th>4_per_article_right</th>\n",
              "      <th>3_per_article_lean_right</th>\n",
              "      <th>2_per_article_center</th>\n",
              "      <th>0_per_article_left_copy</th>\n",
              "      <th>1_per_article_lean_left_copy</th>\n",
              "      <th>4_per_article_right_copy</th>\n",
              "      <th>3_per_article_lean_right_copy</th>\n",
              "      <th>2_per_article_center_copy</th>\n",
              "    </tr>\n",
              "  </thead>\n",
              "  <tbody>\n",
              "    <tr>\n",
              "      <th>0</th>\n",
              "      <td>11</td>\n",
              "      <td>0</td>\n",
              "      <td>15</td>\n",
              "      <td>0</td>\n",
              "      <td>4</td>\n",
              "      <td>racial</td>\n",
              "      <td>JJ</td>\n",
              "      <td>30</td>\n",
              "      <td>0.000000</td>\n",
              "      <td>0.063584</td>\n",
              "      <td>0.105263</td>\n",
              "      <td>0.0</td>\n",
              "      <td>0.066372</td>\n",
              "      <td>0.000000</td>\n",
              "      <td>0.063584</td>\n",
              "      <td>0.105263</td>\n",
              "      <td>0.0</td>\n",
              "      <td>0.066372</td>\n",
              "    </tr>\n",
              "    <tr>\n",
              "      <th>1</th>\n",
              "      <td>3</td>\n",
              "      <td>1</td>\n",
              "      <td>1</td>\n",
              "      <td>0</td>\n",
              "      <td>0</td>\n",
              "      <td>tension</td>\n",
              "      <td>NN</td>\n",
              "      <td>5</td>\n",
              "      <td>0.027027</td>\n",
              "      <td>0.017341</td>\n",
              "      <td>0.000000</td>\n",
              "      <td>0.0</td>\n",
              "      <td>0.004425</td>\n",
              "      <td>0.027027</td>\n",
              "      <td>0.017341</td>\n",
              "      <td>0.000000</td>\n",
              "      <td>0.0</td>\n",
              "      <td>0.004425</td>\n",
              "    </tr>\n",
              "    <tr>\n",
              "      <th>2</th>\n",
              "      <td>2</td>\n",
              "      <td>1</td>\n",
              "      <td>1</td>\n",
              "      <td>0</td>\n",
              "      <td>0</td>\n",
              "      <td>simmer</td>\n",
              "      <td>VB</td>\n",
              "      <td>4</td>\n",
              "      <td>0.027027</td>\n",
              "      <td>0.011561</td>\n",
              "      <td>0.000000</td>\n",
              "      <td>0.0</td>\n",
              "      <td>0.004425</td>\n",
              "      <td>0.027027</td>\n",
              "      <td>0.011561</td>\n",
              "      <td>0.000000</td>\n",
              "      <td>0.0</td>\n",
              "      <td>0.004425</td>\n",
              "    </tr>\n",
              "    <tr>\n",
              "      <th>3</th>\n",
              "      <td>3</td>\n",
              "      <td>1</td>\n",
              "      <td>1</td>\n",
              "      <td>0</td>\n",
              "      <td>0</td>\n",
              "      <td>southern</td>\n",
              "      <td>JJ</td>\n",
              "      <td>5</td>\n",
              "      <td>0.027027</td>\n",
              "      <td>0.017341</td>\n",
              "      <td>0.000000</td>\n",
              "      <td>0.0</td>\n",
              "      <td>0.004425</td>\n",
              "      <td>0.027027</td>\n",
              "      <td>0.017341</td>\n",
              "      <td>0.000000</td>\n",
              "      <td>0.0</td>\n",
              "      <td>0.004425</td>\n",
              "    </tr>\n",
              "    <tr>\n",
              "      <th>4</th>\n",
              "      <td>4</td>\n",
              "      <td>1</td>\n",
              "      <td>2</td>\n",
              "      <td>0</td>\n",
              "      <td>0</td>\n",
              "      <td>baptist</td>\n",
              "      <td>NN</td>\n",
              "      <td>7</td>\n",
              "      <td>0.027027</td>\n",
              "      <td>0.023121</td>\n",
              "      <td>0.000000</td>\n",
              "      <td>0.0</td>\n",
              "      <td>0.008850</td>\n",
              "      <td>0.027027</td>\n",
              "      <td>0.023121</td>\n",
              "      <td>0.000000</td>\n",
              "      <td>0.0</td>\n",
              "      <td>0.008850</td>\n",
              "    </tr>\n",
              "  </tbody>\n",
              "</table>\n",
              "</div>"
            ],
            "text/plain": [
              "   Lean Left  Left  ...  3_per_article_lean_right_copy  2_per_article_center_copy\n",
              "0         11     0  ...                            0.0                   0.066372\n",
              "1          3     1  ...                            0.0                   0.004425\n",
              "2          2     1  ...                            0.0                   0.004425\n",
              "3          3     1  ...                            0.0                   0.004425\n",
              "4          4     1  ...                            0.0                   0.008850\n",
              "\n",
              "[5 rows x 18 columns]"
            ]
          },
          "metadata": {
            "tags": []
          },
          "execution_count": 17
        }
      ]
    },
    {
      "cell_type": "code",
      "metadata": {
        "colab": {
          "base_uri": "https://localhost:8080/",
          "height": 258
        },
        "id": "WAxdWhJDwC6-",
        "outputId": "070cb7eb-f29e-4817-e486-ac0e93075a50"
      },
      "source": [
        "body_df = pd.read_csv(os.path.join(main_path, \"body_stem_dataframe.csv\"))\n",
        "body_df.head()"
      ],
      "execution_count": null,
      "outputs": [
        {
          "output_type": "execute_result",
          "data": {
            "text/html": [
              "<div>\n",
              "<style scoped>\n",
              "    .dataframe tbody tr th:only-of-type {\n",
              "        vertical-align: middle;\n",
              "    }\n",
              "\n",
              "    .dataframe tbody tr th {\n",
              "        vertical-align: top;\n",
              "    }\n",
              "\n",
              "    .dataframe thead th {\n",
              "        text-align: right;\n",
              "    }\n",
              "</style>\n",
              "<table border=\"1\" class=\"dataframe\">\n",
              "  <thead>\n",
              "    <tr style=\"text-align: right;\">\n",
              "      <th></th>\n",
              "      <th>Lean Left</th>\n",
              "      <th>Left</th>\n",
              "      <th>Center</th>\n",
              "      <th>Lean Right</th>\n",
              "      <th>Right</th>\n",
              "      <th>stem</th>\n",
              "      <th>pos</th>\n",
              "      <th>usage_sum</th>\n",
              "      <th>0_per_article_left</th>\n",
              "      <th>1_per_article_lean_left</th>\n",
              "      <th>4_per_article_right</th>\n",
              "      <th>3_per_article_lean_right</th>\n",
              "      <th>2_per_article_center</th>\n",
              "      <th>0_per_article_left_copy</th>\n",
              "      <th>1_per_article_lean_left_copy</th>\n",
              "      <th>4_per_article_right_copy</th>\n",
              "      <th>3_per_article_lean_right_copy</th>\n",
              "      <th>2_per_article_center_copy</th>\n",
              "    </tr>\n",
              "  </thead>\n",
              "  <tbody>\n",
              "    <tr>\n",
              "      <th>0</th>\n",
              "      <td>10</td>\n",
              "      <td>3</td>\n",
              "      <td>4</td>\n",
              "      <td>0</td>\n",
              "      <td>0</td>\n",
              "      <td>nashvil</td>\n",
              "      <td>NN</td>\n",
              "      <td>17</td>\n",
              "      <td>0.081081</td>\n",
              "      <td>0.057803</td>\n",
              "      <td>0.000000</td>\n",
              "      <td>0.000000</td>\n",
              "      <td>0.017699</td>\n",
              "      <td>0.081081</td>\n",
              "      <td>0.057803</td>\n",
              "      <td>0.000000</td>\n",
              "      <td>0.000000</td>\n",
              "      <td>0.017699</td>\n",
              "    </tr>\n",
              "    <tr>\n",
              "      <th>1</th>\n",
              "      <td>4</td>\n",
              "      <td>0</td>\n",
              "      <td>1</td>\n",
              "      <td>0</td>\n",
              "      <td>0</td>\n",
              "      <td>tenn.</td>\n",
              "      <td>NN</td>\n",
              "      <td>5</td>\n",
              "      <td>0.000000</td>\n",
              "      <td>0.023121</td>\n",
              "      <td>0.000000</td>\n",
              "      <td>0.000000</td>\n",
              "      <td>0.004425</td>\n",
              "      <td>0.000000</td>\n",
              "      <td>0.023121</td>\n",
              "      <td>0.000000</td>\n",
              "      <td>0.000000</td>\n",
              "      <td>0.004425</td>\n",
              "    </tr>\n",
              "    <tr>\n",
              "      <th>2</th>\n",
              "      <td>7</td>\n",
              "      <td>2</td>\n",
              "      <td>3</td>\n",
              "      <td>0</td>\n",
              "      <td>1</td>\n",
              "      <td>race-rel</td>\n",
              "      <td>JJ</td>\n",
              "      <td>13</td>\n",
              "      <td>0.054054</td>\n",
              "      <td>0.040462</td>\n",
              "      <td>0.026316</td>\n",
              "      <td>0.000000</td>\n",
              "      <td>0.013274</td>\n",
              "      <td>0.054054</td>\n",
              "      <td>0.040462</td>\n",
              "      <td>0.026316</td>\n",
              "      <td>0.000000</td>\n",
              "      <td>0.013274</td>\n",
              "    </tr>\n",
              "    <tr>\n",
              "      <th>3</th>\n",
              "      <td>24</td>\n",
              "      <td>3</td>\n",
              "      <td>20</td>\n",
              "      <td>2</td>\n",
              "      <td>2</td>\n",
              "      <td>tension</td>\n",
              "      <td>NN</td>\n",
              "      <td>51</td>\n",
              "      <td>0.081081</td>\n",
              "      <td>0.138728</td>\n",
              "      <td>0.052632</td>\n",
              "      <td>0.068966</td>\n",
              "      <td>0.088496</td>\n",
              "      <td>0.081081</td>\n",
              "      <td>0.138728</td>\n",
              "      <td>0.052632</td>\n",
              "      <td>0.068966</td>\n",
              "      <td>0.088496</td>\n",
              "    </tr>\n",
              "    <tr>\n",
              "      <th>4</th>\n",
              "      <td>34</td>\n",
              "      <td>6</td>\n",
              "      <td>43</td>\n",
              "      <td>4</td>\n",
              "      <td>10</td>\n",
              "      <td>within</td>\n",
              "      <td>IN</td>\n",
              "      <td>97</td>\n",
              "      <td>0.162162</td>\n",
              "      <td>0.196532</td>\n",
              "      <td>0.263158</td>\n",
              "      <td>0.137931</td>\n",
              "      <td>0.190265</td>\n",
              "      <td>0.162162</td>\n",
              "      <td>0.196532</td>\n",
              "      <td>0.263158</td>\n",
              "      <td>0.137931</td>\n",
              "      <td>0.190265</td>\n",
              "    </tr>\n",
              "  </tbody>\n",
              "</table>\n",
              "</div>"
            ],
            "text/plain": [
              "   Lean Left  Left  ...  3_per_article_lean_right_copy  2_per_article_center_copy\n",
              "0         10     3  ...                       0.000000                   0.017699\n",
              "1          4     0  ...                       0.000000                   0.004425\n",
              "2          7     2  ...                       0.000000                   0.013274\n",
              "3         24     3  ...                       0.068966                   0.088496\n",
              "4         34     6  ...                       0.137931                   0.190265\n",
              "\n",
              "[5 rows x 18 columns]"
            ]
          },
          "metadata": {
            "tags": []
          },
          "execution_count": 18
        }
      ]
    },
    {
      "cell_type": "code",
      "metadata": {
        "colab": {
          "base_uri": "https://localhost:8080/",
          "height": 496
        },
        "id": "5NefP-imzmuj",
        "outputId": "6f6516fe-3bce-4bee-8f66-36694e8b61bd"
      },
      "source": [
        "concept_df = pd.read_csv(os.path.join(main_path, \"concept_dataframe.csv\"))\n",
        "concept_df.head()"
      ],
      "execution_count": null,
      "outputs": [
        {
          "output_type": "execute_result",
          "data": {
            "text/html": [
              "<div>\n",
              "<style scoped>\n",
              "    .dataframe tbody tr th:only-of-type {\n",
              "        vertical-align: middle;\n",
              "    }\n",
              "\n",
              "    .dataframe tbody tr th {\n",
              "        vertical-align: top;\n",
              "    }\n",
              "\n",
              "    .dataframe thead th {\n",
              "        text-align: right;\n",
              "    }\n",
              "</style>\n",
              "<table border=\"1\" class=\"dataframe\">\n",
              "  <thead>\n",
              "    <tr style=\"text-align: right;\">\n",
              "      <th></th>\n",
              "      <th>Left</th>\n",
              "      <th>Lean Left</th>\n",
              "      <th>Center</th>\n",
              "      <th>Lean Right</th>\n",
              "      <th>Right</th>\n",
              "      <th>concept_data</th>\n",
              "      <th>concept_label</th>\n",
              "      <th>usage_sum</th>\n",
              "      <th>0_per_article_left</th>\n",
              "      <th>1_per_article_lean_left</th>\n",
              "      <th>4_per_article_right</th>\n",
              "      <th>3_per_article_lean_right</th>\n",
              "      <th>2_per_article_center</th>\n",
              "      <th>0_per_article_left_copy</th>\n",
              "      <th>1_per_article_lean_left_copy</th>\n",
              "      <th>4_per_article_right_copy</th>\n",
              "      <th>3_per_article_lean_right_copy</th>\n",
              "      <th>2_per_article_center_copy</th>\n",
              "      <th>concept_type</th>\n",
              "    </tr>\n",
              "  </thead>\n",
              "  <tbody>\n",
              "    <tr>\n",
              "      <th>0</th>\n",
              "      <td>1</td>\n",
              "      <td>4</td>\n",
              "      <td>1</td>\n",
              "      <td>0</td>\n",
              "      <td>0</td>\n",
              "      <td>{\"label\": \"Black church\", \"score\": 5, \"type\": ...</td>\n",
              "      <td>Black church</td>\n",
              "      <td>6</td>\n",
              "      <td>0.027027</td>\n",
              "      <td>0.023121</td>\n",
              "      <td>0.000000</td>\n",
              "      <td>0.000000</td>\n",
              "      <td>0.004425</td>\n",
              "      <td>0.027027</td>\n",
              "      <td>0.023121</td>\n",
              "      <td>0.000000</td>\n",
              "      <td>0.000000</td>\n",
              "      <td>0.004425</td>\n",
              "      <td>person</td>\n",
              "    </tr>\n",
              "    <tr>\n",
              "      <th>1</th>\n",
              "      <td>1</td>\n",
              "      <td>3</td>\n",
              "      <td>1</td>\n",
              "      <td>0</td>\n",
              "      <td>0</td>\n",
              "      <td>{\"label\": \"The Reverend\", \"score\": 5, \"type\": ...</td>\n",
              "      <td>The Reverend</td>\n",
              "      <td>5</td>\n",
              "      <td>0.027027</td>\n",
              "      <td>0.017341</td>\n",
              "      <td>0.000000</td>\n",
              "      <td>0.000000</td>\n",
              "      <td>0.004425</td>\n",
              "      <td>0.027027</td>\n",
              "      <td>0.017341</td>\n",
              "      <td>0.000000</td>\n",
              "      <td>0.000000</td>\n",
              "      <td>0.004425</td>\n",
              "      <td>person</td>\n",
              "    </tr>\n",
              "    <tr>\n",
              "      <th>2</th>\n",
              "      <td>1</td>\n",
              "      <td>3</td>\n",
              "      <td>2</td>\n",
              "      <td>0</td>\n",
              "      <td>0</td>\n",
              "      <td>{\"label\": \"Christian denomination\", \"score\": 5...</td>\n",
              "      <td>Christian denomination</td>\n",
              "      <td>6</td>\n",
              "      <td>0.027027</td>\n",
              "      <td>0.017341</td>\n",
              "      <td>0.000000</td>\n",
              "      <td>0.000000</td>\n",
              "      <td>0.008850</td>\n",
              "      <td>0.027027</td>\n",
              "      <td>0.017341</td>\n",
              "      <td>0.000000</td>\n",
              "      <td>0.000000</td>\n",
              "      <td>0.008850</td>\n",
              "      <td>wiki</td>\n",
              "    </tr>\n",
              "    <tr>\n",
              "      <th>3</th>\n",
              "      <td>1</td>\n",
              "      <td>3</td>\n",
              "      <td>2</td>\n",
              "      <td>0</td>\n",
              "      <td>0</td>\n",
              "      <td>{\"label\": \"Southern Baptist Convention\", \"scor...</td>\n",
              "      <td>Southern Baptist Convention</td>\n",
              "      <td>6</td>\n",
              "      <td>0.027027</td>\n",
              "      <td>0.017341</td>\n",
              "      <td>0.000000</td>\n",
              "      <td>0.000000</td>\n",
              "      <td>0.008850</td>\n",
              "      <td>0.027027</td>\n",
              "      <td>0.017341</td>\n",
              "      <td>0.000000</td>\n",
              "      <td>0.000000</td>\n",
              "      <td>0.008850</td>\n",
              "      <td>org</td>\n",
              "    </tr>\n",
              "    <tr>\n",
              "      <th>4</th>\n",
              "      <td>0</td>\n",
              "      <td>5</td>\n",
              "      <td>1</td>\n",
              "      <td>1</td>\n",
              "      <td>1</td>\n",
              "      <td>{\"label\": \"Critical race theory\", \"score\": 5, ...</td>\n",
              "      <td>Critical race theory</td>\n",
              "      <td>8</td>\n",
              "      <td>0.000000</td>\n",
              "      <td>0.028902</td>\n",
              "      <td>0.026316</td>\n",
              "      <td>0.034483</td>\n",
              "      <td>0.004425</td>\n",
              "      <td>0.000000</td>\n",
              "      <td>0.028902</td>\n",
              "      <td>0.026316</td>\n",
              "      <td>0.034483</td>\n",
              "      <td>0.004425</td>\n",
              "      <td>wiki</td>\n",
              "    </tr>\n",
              "  </tbody>\n",
              "</table>\n",
              "</div>"
            ],
            "text/plain": [
              "   Left  Lean Left  ...  2_per_article_center_copy  concept_type\n",
              "0     1          4  ...                   0.004425        person\n",
              "1     1          3  ...                   0.004425        person\n",
              "2     1          3  ...                   0.008850          wiki\n",
              "3     1          3  ...                   0.008850           org\n",
              "4     0          5  ...                   0.004425          wiki\n",
              "\n",
              "[5 rows x 19 columns]"
            ]
          },
          "metadata": {
            "tags": []
          },
          "execution_count": 37
        }
      ]
    },
    {
      "cell_type": "code",
      "metadata": {
        "id": "XcnddNG1z3vZ"
      },
      "source": [
        "category_df = pd.read_csv(os.path.join(main_path, \"category_dataframe.csv\"))"
      ],
      "execution_count": null,
      "outputs": []
    },
    {
      "cell_type": "code",
      "metadata": {
        "colab": {
          "base_uri": "https://localhost:8080/",
          "height": 258
        },
        "id": "LtUP0dGqz8EI",
        "outputId": "e30576d1-70d1-4a1c-e6f7-14b8c7ca9e75"
      },
      "source": [
        "category_df.head()"
      ],
      "execution_count": null,
      "outputs": [
        {
          "output_type": "execute_result",
          "data": {
            "text/html": [
              "<div>\n",
              "<style scoped>\n",
              "    .dataframe tbody tr th:only-of-type {\n",
              "        vertical-align: middle;\n",
              "    }\n",
              "\n",
              "    .dataframe tbody tr th {\n",
              "        vertical-align: top;\n",
              "    }\n",
              "\n",
              "    .dataframe thead th {\n",
              "        text-align: right;\n",
              "    }\n",
              "</style>\n",
              "<table border=\"1\" class=\"dataframe\">\n",
              "  <thead>\n",
              "    <tr style=\"text-align: right;\">\n",
              "      <th></th>\n",
              "      <th>Left</th>\n",
              "      <th>Lean Left</th>\n",
              "      <th>Center</th>\n",
              "      <th>Lean Right</th>\n",
              "      <th>Right</th>\n",
              "      <th>category</th>\n",
              "      <th>usage_sum</th>\n",
              "      <th>0_per_article_left</th>\n",
              "      <th>1_per_article_lean_left</th>\n",
              "      <th>4_per_article_right</th>\n",
              "      <th>3_per_article_lean_right</th>\n",
              "      <th>2_per_article_center</th>\n",
              "      <th>0_per_article_left_copy</th>\n",
              "      <th>1_per_article_lean_left_copy</th>\n",
              "      <th>4_per_article_right_copy</th>\n",
              "      <th>3_per_article_lean_right_copy</th>\n",
              "      <th>2_per_article_center_copy</th>\n",
              "    </tr>\n",
              "  </thead>\n",
              "  <tbody>\n",
              "    <tr>\n",
              "      <th>0</th>\n",
              "      <td>1</td>\n",
              "      <td>5</td>\n",
              "      <td>2</td>\n",
              "      <td>0</td>\n",
              "      <td>0</td>\n",
              "      <td>dmoz/Society</td>\n",
              "      <td>8</td>\n",
              "      <td>0.027027</td>\n",
              "      <td>0.028902</td>\n",
              "      <td>0.000000</td>\n",
              "      <td>0.000000</td>\n",
              "      <td>0.008850</td>\n",
              "      <td>0.027027</td>\n",
              "      <td>0.028902</td>\n",
              "      <td>0.000000</td>\n",
              "      <td>0.000000</td>\n",
              "      <td>0.008850</td>\n",
              "    </tr>\n",
              "    <tr>\n",
              "      <th>1</th>\n",
              "      <td>22</td>\n",
              "      <td>116</td>\n",
              "      <td>147</td>\n",
              "      <td>21</td>\n",
              "      <td>23</td>\n",
              "      <td>news/Politics</td>\n",
              "      <td>329</td>\n",
              "      <td>0.594595</td>\n",
              "      <td>0.670520</td>\n",
              "      <td>0.605263</td>\n",
              "      <td>0.724138</td>\n",
              "      <td>0.650442</td>\n",
              "      <td>0.594595</td>\n",
              "      <td>0.670520</td>\n",
              "      <td>0.605263</td>\n",
              "      <td>0.724138</td>\n",
              "      <td>0.650442</td>\n",
              "    </tr>\n",
              "    <tr>\n",
              "      <th>2</th>\n",
              "      <td>1</td>\n",
              "      <td>4</td>\n",
              "      <td>2</td>\n",
              "      <td>0</td>\n",
              "      <td>0</td>\n",
              "      <td>dmoz/Society/Religion_and_Spirituality</td>\n",
              "      <td>7</td>\n",
              "      <td>0.027027</td>\n",
              "      <td>0.023121</td>\n",
              "      <td>0.000000</td>\n",
              "      <td>0.000000</td>\n",
              "      <td>0.008850</td>\n",
              "      <td>0.027027</td>\n",
              "      <td>0.023121</td>\n",
              "      <td>0.000000</td>\n",
              "      <td>0.000000</td>\n",
              "      <td>0.008850</td>\n",
              "    </tr>\n",
              "    <tr>\n",
              "      <th>3</th>\n",
              "      <td>37</td>\n",
              "      <td>173</td>\n",
              "      <td>226</td>\n",
              "      <td>29</td>\n",
              "      <td>38</td>\n",
              "      <td>dmoz/Society/Issues/Race-Ethnic-Religious_Rela...</td>\n",
              "      <td>503</td>\n",
              "      <td>1.000000</td>\n",
              "      <td>1.000000</td>\n",
              "      <td>1.000000</td>\n",
              "      <td>1.000000</td>\n",
              "      <td>1.000000</td>\n",
              "      <td>1.000000</td>\n",
              "      <td>1.000000</td>\n",
              "      <td>1.000000</td>\n",
              "      <td>1.000000</td>\n",
              "      <td>1.000000</td>\n",
              "    </tr>\n",
              "    <tr>\n",
              "      <th>4</th>\n",
              "      <td>1</td>\n",
              "      <td>4</td>\n",
              "      <td>2</td>\n",
              "      <td>0</td>\n",
              "      <td>0</td>\n",
              "      <td>dmoz/Society/Religion_and_Spirituality/Christi...</td>\n",
              "      <td>7</td>\n",
              "      <td>0.027027</td>\n",
              "      <td>0.023121</td>\n",
              "      <td>0.000000</td>\n",
              "      <td>0.000000</td>\n",
              "      <td>0.008850</td>\n",
              "      <td>0.027027</td>\n",
              "      <td>0.023121</td>\n",
              "      <td>0.000000</td>\n",
              "      <td>0.000000</td>\n",
              "      <td>0.008850</td>\n",
              "    </tr>\n",
              "  </tbody>\n",
              "</table>\n",
              "</div>"
            ],
            "text/plain": [
              "   Left  Lean Left  ...  3_per_article_lean_right_copy  2_per_article_center_copy\n",
              "0     1          5  ...                       0.000000                   0.008850\n",
              "1    22        116  ...                       0.724138                   0.650442\n",
              "2     1          4  ...                       0.000000                   0.008850\n",
              "3    37        173  ...                       1.000000                   1.000000\n",
              "4     1          4  ...                       0.000000                   0.008850\n",
              "\n",
              "[5 rows x 17 columns]"
            ]
          },
          "metadata": {
            "tags": []
          },
          "execution_count": 39
        }
      ]
    },
    {
      "cell_type": "markdown",
      "metadata": {
        "id": "zeedp_6Uz8_Y"
      },
      "source": [
        "### Word Choice and Part of Speech"
      ]
    },
    {
      "cell_type": "code",
      "metadata": {
        "id": "Jf_8sjt2w-Dp"
      },
      "source": [
        "# T-Test each Part of Speech by 2-sample testing left and right per_article"
      ],
      "execution_count": null,
      "outputs": []
    },
    {
      "cell_type": "markdown",
      "metadata": {
        "id": "HeHZNfnZyHLj"
      },
      "source": [
        "#### Title Test"
      ]
    },
    {
      "cell_type": "code",
      "metadata": {
        "id": "VnsqL6E3xNWj"
      },
      "source": [
        "pos_dict_title = {}\n",
        "for pos in title_df[\"pos\"].unique():\n",
        "  pos_dict_title[pos] = title_df[title_df[\"pos\"] == pos]"
      ],
      "execution_count": null,
      "outputs": []
    },
    {
      "cell_type": "code",
      "metadata": {
        "colab": {
          "base_uri": "https://localhost:8080/"
        },
        "id": "zVU6lTKqxs6r",
        "outputId": "986458a7-1f0b-4497-b88e-de432bb67e7c"
      },
      "source": [
        "pos_dict_title.keys()"
      ],
      "execution_count": null,
      "outputs": [
        {
          "output_type": "execute_result",
          "data": {
            "text/plain": [
              "dict_keys(['JJ', 'NN', 'VB', 'MD', 'IN', 'DT', 'CD', 'WR', 'RB', 'PR', 'RP', 'PD', 'TO', 'FW', 'WP', 'UH'])"
            ]
          },
          "metadata": {
            "tags": []
          },
          "execution_count": 66
        }
      ]
    },
    {
      "cell_type": "code",
      "metadata": {
        "colab": {
          "base_uri": "https://localhost:8080/"
        },
        "id": "UJt-dEik4ZJz",
        "outputId": "8088f290-1086-4422-a796-603e88a4a0a7"
      },
      "source": [
        "for pair in combinations(position_list, 2):\n",
        "  print(f\"Overall T-test for Variables: {pair}\")\n",
        "  print(stats.ttest_ind(title_df[pair[0]], title_df[pair[1]]))\n",
        "  print()\n",
        "  print(\"Specific T-test per POS\")\n",
        "  for k in pos_dict_title.keys():\n",
        "    try:\n",
        "      print(k)\n",
        "      print(stats.ttest_ind(pos_dict_title[k][pair[0]], pos_dict_title[k][pair[1]]))\n",
        "    except:\n",
        "      pass\n",
        "  print()\n",
        "  print()"
      ],
      "execution_count": null,
      "outputs": [
        {
          "output_type": "stream",
          "text": [
            "Overall T-test for Variables: ('0_per_article_left', '1_per_article_lean_left')\n",
            "Ttest_indResult(statistic=-0.06827058055455752, pvalue=0.9455759015476233)\n",
            "\n",
            "Specific T-test per POS\n",
            "JJ\n",
            "Ttest_indResult(statistic=-1.010322576557726, pvalue=0.3132130379041699)\n",
            "NN\n",
            "Ttest_indResult(statistic=0.289006347024447, pvalue=0.7726173821206147)\n",
            "VB\n",
            "Ttest_indResult(statistic=-0.26289058614538946, pvalue=0.7927486602440571)\n",
            "MD\n",
            "Ttest_indResult(statistic=-2.713602101199872, pvalue=0.026509885484624286)\n",
            "IN\n",
            "Ttest_indResult(statistic=0.6279068260972062, pvalue=0.5340281684389822)\n",
            "DT\n",
            "Ttest_indResult(statistic=1.4420059831698175, pvalue=0.17488720532618)\n",
            "CD\n",
            "Ttest_indResult(statistic=0.7020723057296794, pvalue=0.4865068214628203)\n",
            "WR\n",
            "Ttest_indResult(statistic=0.10980872167831707, pvalue=0.9225865196629492)\n",
            "RB\n",
            "Ttest_indResult(statistic=-2.32794489958032, pvalue=0.02457616593069109)\n",
            "PR\n",
            "Ttest_indResult(statistic=0.7994429198606129, pvalue=0.43738793372509777)\n",
            "RP\n",
            "Ttest_indResult(statistic=nan, pvalue=nan)\n",
            "PD\n",
            "Ttest_indResult(statistic=nan, pvalue=nan)\n",
            "TO\n",
            "Ttest_indResult(statistic=nan, pvalue=nan)\n",
            "FW\n",
            "Ttest_indResult(statistic=nan, pvalue=nan)\n",
            "WP\n",
            "Ttest_indResult(statistic=0.7687420106041164, pvalue=0.5224158527873641)\n",
            "UH\n",
            "Ttest_indResult(statistic=nan, pvalue=nan)\n",
            "\n",
            "\n",
            "Overall T-test for Variables: ('0_per_article_left', '2_per_article_center')\n",
            "Ttest_indResult(statistic=-0.13033404641965493, pvalue=0.8963130130211924)\n",
            "\n",
            "Specific T-test per POS\n",
            "JJ\n",
            "Ttest_indResult(statistic=-1.145970062002552, pvalue=0.252785979878606)\n",
            "NN\n",
            "Ttest_indResult(statistic=0.2838771965803586, pvalue=0.7765445788429999)\n",
            "VB\n",
            "Ttest_indResult(statistic=-0.4679572078932469, pvalue=0.6400293760437488)\n",
            "MD\n",
            "Ttest_indResult(statistic=-1.2617865362880898, pvalue=0.24256977319583153)\n",
            "IN\n",
            "Ttest_indResult(statistic=1.2561716732938866, pvalue=0.21714480964591928)\n",
            "DT\n",
            "Ttest_indResult(statistic=1.531425516518716, pvalue=0.15159215314545954)\n",
            "CD\n",
            "Ttest_indResult(statistic=-0.18494886875449268, pvalue=0.8541593619019525)\n",
            "WR\n",
            "Ttest_indResult(statistic=0.016820387901120375, pvalue=0.988107030829093)\n",
            "RB\n",
            "Ttest_indResult(statistic=-1.3883643504170575, pvalue=0.17201547731109346)\n",
            "PR\n",
            "Ttest_indResult(statistic=1.0229703530307213, pvalue=0.3236741849290946)\n",
            "RP\n",
            "Ttest_indResult(statistic=nan, pvalue=nan)\n",
            "PD\n",
            "Ttest_indResult(statistic=nan, pvalue=nan)\n",
            "TO\n",
            "Ttest_indResult(statistic=nan, pvalue=nan)\n",
            "FW\n",
            "Ttest_indResult(statistic=nan, pvalue=nan)\n",
            "WP\n",
            "Ttest_indResult(statistic=0.5021642548891342, pvalue=0.665385071076832)\n",
            "UH\n",
            "Ttest_indResult(statistic=nan, pvalue=nan)\n",
            "\n",
            "\n",
            "Overall T-test for Variables: ('0_per_article_left', '3_per_article_lean_right')\n",
            "Ttest_indResult(statistic=0.15523242806736415, pvalue=0.8766510730957827)\n",
            "\n",
            "Specific T-test per POS\n",
            "JJ\n",
            "Ttest_indResult(statistic=-0.8487001114986135, pvalue=0.39677316445125455)\n",
            "NN\n",
            "Ttest_indResult(statistic=0.6227381687625686, pvalue=0.5335534499909238)\n",
            "VB\n",
            "Ttest_indResult(statistic=-0.21735978730275232, pvalue=0.8280211043064902)\n",
            "MD\n",
            "Ttest_indResult(statistic=-1.3719886811400708, pvalue=0.20730483995919904)\n",
            "IN\n",
            "Ttest_indResult(statistic=1.7384172315884916, pvalue=0.09068472644567258)\n",
            "DT\n",
            "Ttest_indResult(statistic=1.3659536639851844, pvalue=0.19700750339861897)\n",
            "CD\n",
            "Ttest_indResult(statistic=-0.4891508566872823, pvalue=0.6272797611198817)\n",
            "WR\n",
            "Ttest_indResult(statistic=-0.17017425192460656, pvalue=0.8805304617821004)\n",
            "RB\n",
            "Ttest_indResult(statistic=1.0000000000000002, pvalue=0.3227784787543092)\n",
            "PR\n",
            "Ttest_indResult(statistic=1.4255728899344744, pvalue=0.17590582553590609)\n",
            "RP\n",
            "Ttest_indResult(statistic=nan, pvalue=nan)\n",
            "PD\n",
            "Ttest_indResult(statistic=nan, pvalue=nan)\n",
            "TO\n",
            "Ttest_indResult(statistic=nan, pvalue=nan)\n",
            "FW\n",
            "Ttest_indResult(statistic=nan, pvalue=nan)\n",
            "WP\n",
            "Ttest_indResult(statistic=1.0, pvalue=0.42264973081037427)\n",
            "UH\n",
            "Ttest_indResult(statistic=nan, pvalue=nan)\n",
            "\n",
            "\n",
            "Overall T-test for Variables: ('0_per_article_left', '4_per_article_right')\n",
            "Ttest_indResult(statistic=-0.11018322838054606, pvalue=0.9122732295210172)\n",
            "\n",
            "Specific T-test per POS\n",
            "JJ\n",
            "Ttest_indResult(statistic=-0.7308661315927334, pvalue=0.465472057043389)\n",
            "NN\n",
            "Ttest_indResult(statistic=-0.11533324680711612, pvalue=0.9081967818216302)\n",
            "VB\n",
            "Ttest_indResult(statistic=0.32910595650371516, pvalue=0.742220354831907)\n",
            "MD\n",
            "Ttest_indResult(statistic=-1.6329931618554518, pvalue=0.14111328125000006)\n",
            "IN\n",
            "Ttest_indResult(statistic=-0.8584161218214724, pvalue=0.3963422996537397)\n",
            "DT\n",
            "Ttest_indResult(statistic=1.4964712642089522, pvalue=0.16036209331625895)\n",
            "CD\n",
            "Ttest_indResult(statistic=0.8971756500086253, pvalue=0.3747393377431576)\n",
            "WR\n",
            "Ttest_indResult(statistic=1.0, pvalue=0.42264973081037427)\n",
            "RB\n",
            "Ttest_indResult(statistic=1.0000000000000002, pvalue=0.3227784787543092)\n",
            "PR\n",
            "Ttest_indResult(statistic=0.8738803165968885, pvalue=0.3969263665404016)\n",
            "RP\n",
            "Ttest_indResult(statistic=nan, pvalue=nan)\n",
            "PD\n",
            "Ttest_indResult(statistic=nan, pvalue=nan)\n",
            "TO\n",
            "Ttest_indResult(statistic=nan, pvalue=nan)\n",
            "FW\n",
            "Ttest_indResult(statistic=nan, pvalue=nan)\n",
            "WP\n",
            "Ttest_indResult(statistic=1.0, pvalue=0.42264973081037427)\n",
            "UH\n",
            "Ttest_indResult(statistic=nan, pvalue=nan)\n",
            "\n",
            "\n",
            "Overall T-test for Variables: ('1_per_article_lean_left', '2_per_article_center')\n",
            "Ttest_indResult(statistic=-0.06726557016803839, pvalue=0.9463758608916932)\n",
            "\n",
            "Specific T-test per POS\n",
            "JJ\n",
            "Ttest_indResult(statistic=-0.1944133755356237, pvalue=0.8459931960690731)\n",
            "NN\n",
            "Ttest_indResult(statistic=0.014138882670594922, pvalue=0.988721103499435)\n",
            "VB\n",
            "Ttest_indResult(statistic=-0.28542289585715136, pvalue=0.7754443230721585)\n",
            "MD\n",
            "Ttest_indResult(statistic=0.07778296519406118, pvalue=0.939910964921652)\n",
            "IN\n",
            "Ttest_indResult(statistic=1.4241150354389598, pvalue=0.16302401576091421)\n",
            "DT\n",
            "Ttest_indResult(statistic=0.34339911129230455, pvalue=0.7372396198516756)\n",
            "CD\n",
            "Ttest_indResult(statistic=-1.1777658933399084, pvalue=0.2455206591752796)\n",
            "WR\n",
            "Ttest_indResult(statistic=-0.13843654830350038, pvalue=0.9025762388109562)\n",
            "RB\n",
            "Ttest_indResult(statistic=1.381633757425394, pvalue=0.17405979321965037)\n",
            "PR\n",
            "Ttest_indResult(statistic=0.8459902043222463, pvalue=0.41178509521302)\n",
            "RP\n",
            "Ttest_indResult(statistic=nan, pvalue=nan)\n",
            "PD\n",
            "Ttest_indResult(statistic=nan, pvalue=nan)\n",
            "TO\n",
            "Ttest_indResult(statistic=nan, pvalue=nan)\n",
            "FW\n",
            "Ttest_indResult(statistic=nan, pvalue=nan)\n",
            "WP\n",
            "Ttest_indResult(statistic=-1.029465287347378, pvalue=0.4114745151846717)\n",
            "UH\n",
            "Ttest_indResult(statistic=nan, pvalue=nan)\n",
            "\n",
            "\n",
            "Overall T-test for Variables: ('1_per_article_lean_left', '3_per_article_lean_right')\n",
            "Ttest_indResult(statistic=0.2064081403240232, pvalue=0.8364895337379884)\n",
            "\n",
            "Specific T-test per POS\n",
            "JJ\n",
            "Ttest_indResult(statistic=0.00167934115872363, pvalue=0.9986612760696374)\n",
            "NN\n",
            "Ttest_indResult(statistic=0.41849926845837837, pvalue=0.6756434207577431)\n",
            "VB\n",
            "Ttest_indResult(statistic=-0.054333677493548255, pvalue=0.9566921148397638)\n",
            "MD\n",
            "Ttest_indResult(statistic=-0.8393931898609689, pvalue=0.4256194716271611)\n",
            "IN\n",
            "Ttest_indResult(statistic=2.328460428049642, pvalue=0.025619927924277416)\n",
            "DT\n",
            "Ttest_indResult(statistic=0.00522301821281895, pvalue=0.9959184788868807)\n",
            "CD\n",
            "Ttest_indResult(statistic=-0.832582258837976, pvalue=0.4097898019934607)\n",
            "WR\n",
            "Ttest_indResult(statistic=-0.27365605049930103, pvalue=0.8100200523806513)\n",
            "RB\n",
            "Ttest_indResult(statistic=4.75, pvalue=2.1914663928675134e-05)\n",
            "PR\n",
            "Ttest_indResult(statistic=3.0000000000000004, pvalue=0.009551512753539366)\n",
            "RP\n",
            "Ttest_indResult(statistic=nan, pvalue=nan)\n",
            "PD\n",
            "Ttest_indResult(statistic=nan, pvalue=nan)\n",
            "TO\n",
            "Ttest_indResult(statistic=nan, pvalue=nan)\n",
            "FW\n",
            "Ttest_indResult(statistic=nan, pvalue=nan)\n",
            "WP\n",
            "Ttest_indResult(statistic=1.0, pvalue=0.42264973081037427)\n",
            "UH\n",
            "Ttest_indResult(statistic=nan, pvalue=nan)\n",
            "\n",
            "\n",
            "Overall T-test for Variables: ('1_per_article_lean_left', '4_per_article_right')\n",
            "Ttest_indResult(statistic=-0.04689244582709161, pvalue=0.9626028308652304)\n",
            "\n",
            "Specific T-test per POS\n",
            "JJ\n",
            "Ttest_indResult(statistic=0.3723737593164899, pvalue=0.7098962763996653)\n",
            "NN\n",
            "Ttest_indResult(statistic=-0.3879325289461179, pvalue=0.6981222852311161)\n",
            "VB\n",
            "Ttest_indResult(statistic=0.6728138662414098, pvalue=0.5013922062061287)\n",
            "MD\n",
            "Ttest_indResult(statistic=-0.016225144576347876, pvalue=0.9874521243194906)\n",
            "IN\n",
            "Ttest_indResult(statistic=-1.4388360616960405, pvalue=0.15883523937791535)\n",
            "DT\n",
            "Ttest_indResult(statistic=0.27004620640403604, pvalue=0.7917127669652915)\n",
            "CD\n",
            "Ttest_indResult(statistic=0.387972260226926, pvalue=0.6999960554745963)\n",
            "WR\n",
            "Ttest_indResult(statistic=1.0, pvalue=0.42264973081037427)\n",
            "RB\n",
            "Ttest_indResult(statistic=4.75, pvalue=2.1914663928675134e-05)\n",
            "PR\n",
            "Ttest_indResult(statistic=0.2910704858401295, pvalue=0.7752651354438237)\n",
            "RP\n",
            "Ttest_indResult(statistic=nan, pvalue=nan)\n",
            "PD\n",
            "Ttest_indResult(statistic=nan, pvalue=nan)\n",
            "TO\n",
            "Ttest_indResult(statistic=nan, pvalue=nan)\n",
            "FW\n",
            "Ttest_indResult(statistic=nan, pvalue=nan)\n",
            "WP\n",
            "Ttest_indResult(statistic=1.0, pvalue=0.42264973081037427)\n",
            "UH\n",
            "Ttest_indResult(statistic=nan, pvalue=nan)\n",
            "\n",
            "\n",
            "Overall T-test for Variables: ('2_per_article_center', '3_per_article_lean_right')\n",
            "Ttest_indResult(statistic=0.24914540915506414, pvalue=0.8032695184888085)\n",
            "\n",
            "Specific T-test per POS\n",
            "JJ\n",
            "Ttest_indResult(statistic=0.17523459881878678, pvalue=0.861021950453826)\n",
            "NN\n",
            "Ttest_indResult(statistic=0.3925052039457143, pvalue=0.6947420260417263)\n",
            "VB\n",
            "Ttest_indResult(statistic=0.10521259336619462, pvalue=0.9162514384522442)\n",
            "MD\n",
            "Ttest_indResult(statistic=-0.828922946335016, pvalue=0.4311832161722198)\n",
            "IN\n",
            "Ttest_indResult(statistic=1.277610221527662, pvalue=0.20956470133064944)\n",
            "DT\n",
            "Ttest_indResult(statistic=-0.2060460578132188, pvalue=0.8402092744218672)\n",
            "CD\n",
            "Ttest_indResult(statistic=-0.41794899030522425, pvalue=0.678113598846181)\n",
            "WR\n",
            "Ttest_indResult(statistic=-0.22286623962400395, pvalue=0.8443309121023985)\n",
            "RB\n",
            "Ttest_indResult(statistic=4.361998054450165, pvalue=7.665015959516638e-05)\n",
            "PR\n",
            "Ttest_indResult(statistic=2.3759548165574573, pvalue=0.03232208224954859)\n",
            "RP\n",
            "Ttest_indResult(statistic=nan, pvalue=nan)\n",
            "PD\n",
            "Ttest_indResult(statistic=nan, pvalue=nan)\n",
            "TO\n",
            "Ttest_indResult(statistic=nan, pvalue=nan)\n",
            "FW\n",
            "Ttest_indResult(statistic=nan, pvalue=nan)\n",
            "WP\n",
            "Ttest_indResult(statistic=3.0, pvalue=0.09546596626670911)\n",
            "UH\n",
            "Ttest_indResult(statistic=nan, pvalue=nan)\n",
            "\n",
            "\n",
            "Overall T-test for Variables: ('2_per_article_center', '4_per_article_right')\n",
            "Ttest_indResult(statistic=0.019176781024123037, pvalue=0.9847016663745917)\n",
            "\n",
            "Specific T-test per POS\n",
            "JJ\n",
            "Ttest_indResult(statistic=0.5571462301169096, pvalue=0.5778726055399217)\n",
            "NN\n",
            "Ttest_indResult(statistic=-0.3784505163452948, pvalue=0.7051507425482869)\n",
            "VB\n",
            "Ttest_indResult(statistic=0.8631302617300202, pvalue=0.38850052733430107)\n",
            "MD\n",
            "Ttest_indResult(statistic=-0.0787598529433372, pvalue=0.9391580400223353)\n",
            "IN\n",
            "Ttest_indResult(statistic=-1.8746364406582827, pvalue=0.06897458027588492)\n",
            "DT\n",
            "Ttest_indResult(statistic=0.007415753555229925, pvalue=0.9942049975665073)\n",
            "CD\n",
            "Ttest_indResult(statistic=1.313832891793553, pvalue=0.196033858603751)\n",
            "WR\n",
            "Ttest_indResult(statistic=3.0, pvalue=0.09546596626670911)\n",
            "RB\n",
            "Ttest_indResult(statistic=4.361998054450165, pvalue=7.665015959516638e-05)\n",
            "PR\n",
            "Ttest_indResult(statistic=-0.1501684380514881, pvalue=0.8827737634832133)\n",
            "RP\n",
            "Ttest_indResult(statistic=nan, pvalue=nan)\n",
            "PD\n",
            "Ttest_indResult(statistic=nan, pvalue=nan)\n",
            "TO\n",
            "Ttest_indResult(statistic=nan, pvalue=nan)\n",
            "FW\n",
            "Ttest_indResult(statistic=nan, pvalue=nan)\n",
            "WP\n",
            "Ttest_indResult(statistic=3.0, pvalue=0.09546596626670911)\n",
            "UH\n",
            "Ttest_indResult(statistic=nan, pvalue=nan)\n",
            "\n",
            "\n",
            "Overall T-test for Variables: ('3_per_article_lean_right', '4_per_article_right')\n",
            "Ttest_indResult(statistic=-0.23387969833411948, pvalue=0.815098222815007)\n",
            "\n",
            "Specific T-test per POS\n",
            "JJ\n",
            "Ttest_indResult(statistic=0.3168574122029789, pvalue=0.7515879136081927)\n",
            "NN\n",
            "Ttest_indResult(statistic=-0.6884568516365724, pvalue=0.49127406002900453)\n",
            "VB\n",
            "Ttest_indResult(statistic=0.47296146489337204, pvalue=0.6364574717642579)\n",
            "MD\n",
            "Ttest_indResult(statistic=0.8079615654985193, pvalue=0.4424727249368513)\n",
            "IN\n",
            "Ttest_indResult(statistic=-2.207302602548987, pvalue=0.0337532104174782)\n",
            "DT\n",
            "Ttest_indResult(statistic=0.18827792669488674, pvalue=0.8538051989768496)\n",
            "CD\n",
            "Ttest_indResult(statistic=0.9440919675991144, pvalue=0.3505222457596123)\n",
            "WR\n",
            "Ttest_indResult(statistic=1.0, pvalue=0.42264973081037427)\n",
            "RB\n",
            "Ttest_indResult(statistic=nan, pvalue=nan)\n",
            "PR\n",
            "Ttest_indResult(statistic=-1.0, pvalue=0.33428194339465733)\n",
            "RP\n",
            "Ttest_indResult(statistic=nan, pvalue=nan)\n",
            "PD\n",
            "Ttest_indResult(statistic=nan, pvalue=nan)\n",
            "TO\n",
            "Ttest_indResult(statistic=nan, pvalue=nan)\n",
            "FW\n",
            "Ttest_indResult(statistic=nan, pvalue=nan)\n",
            "WP\n",
            "Ttest_indResult(statistic=nan, pvalue=nan)\n",
            "UH\n",
            "Ttest_indResult(statistic=nan, pvalue=nan)\n",
            "\n",
            "\n"
          ],
          "name": "stdout"
        },
        {
          "output_type": "stream",
          "text": [
            "/usr/local/lib/python3.7/dist-packages/numpy/core/fromnumeric.py:3622: RuntimeWarning: Degrees of freedom <= 0 for slice\n",
            "  **kwargs)\n",
            "/usr/local/lib/python3.7/dist-packages/numpy/core/_methods.py:226: RuntimeWarning: invalid value encountered in double_scalars\n",
            "  ret = ret.dtype.type(ret / rcount)\n"
          ],
          "name": "stderr"
        }
      ]
    },
    {
      "cell_type": "markdown",
      "metadata": {
        "id": "15cPyeVWyIql"
      },
      "source": [
        "#### Body Test"
      ]
    },
    {
      "cell_type": "code",
      "metadata": {
        "id": "_MUbOLSTx9r3"
      },
      "source": [
        "pos_dict_body = {}\n",
        "for pos in body_df[\"pos\"].unique():\n",
        "  pos_dict_body[pos] = body_df[body_df[\"pos\"] == pos]\n"
      ],
      "execution_count": null,
      "outputs": []
    },
    {
      "cell_type": "code",
      "metadata": {
        "colab": {
          "base_uri": "https://localhost:8080/"
        },
        "id": "UBMPtUlpyUAZ",
        "outputId": "42ab9c66-c564-448b-e6e1-dcd9bbaadd99"
      },
      "source": [
        "pos_dict_body.keys()"
      ],
      "execution_count": null,
      "outputs": [
        {
          "output_type": "execute_result",
          "data": {
            "text/plain": [
              "dict_keys(['NN', 'JJ', 'IN', 'VB', 'DT', 'MD', 'PR', 'CD', 'RB', 'EX', 'WP', 'CC', 'WR', 'UH', 'RP', 'WD', 'TO', 'PD', 'FW', '$'])"
            ]
          },
          "metadata": {
            "tags": []
          },
          "execution_count": 31
        }
      ]
    },
    {
      "cell_type": "code",
      "metadata": {
        "colab": {
          "base_uri": "https://localhost:8080/"
        },
        "id": "3JJgpnb4yfQM",
        "outputId": "16a08ae8-ccc5-4df7-dc5f-0be290c0fa8e"
      },
      "source": [
        "stats.ttest_ind(body_df[\"0_per_article_left\"], body_df[\"4_per_article_right\"]) # WOW, DID NOT EXPECT THAT\n",
        "# Reject Null Hypothesis for Word Choice Effect Between Left and Right Media Articles!!!"
      ],
      "execution_count": null,
      "outputs": [
        {
          "output_type": "execute_result",
          "data": {
            "text/plain": [
              "Ttest_indResult(statistic=-2.037530872334374, pvalue=0.041606505612996406)"
            ]
          },
          "metadata": {
            "tags": []
          },
          "execution_count": 33
        }
      ]
    },
    {
      "cell_type": "code",
      "metadata": {
        "colab": {
          "base_uri": "https://localhost:8080/"
        },
        "id": "bN_taCQqy5eT",
        "outputId": "d38b57cd-bd6a-4145-aafb-9452dc332081"
      },
      "source": [
        "body_df.shape # Large Sample of over 13000 words compared"
      ],
      "execution_count": null,
      "outputs": [
        {
          "output_type": "execute_result",
          "data": {
            "text/plain": [
              "(13634, 18)"
            ]
          },
          "metadata": {
            "tags": []
          },
          "execution_count": 36
        }
      ]
    },
    {
      "cell_type": "code",
      "metadata": {
        "colab": {
          "base_uri": "https://localhost:8080/"
        },
        "id": "m-mieiY4zN4A",
        "outputId": "d45969bb-0096-4414-aa7c-6c1de4a2aefc"
      },
      "source": [
        "for pair in combinations(position_list, 2):\n",
        "  print(f\"Overall T-test for Variables: {pair}\")\n",
        "  print(stats.ttest_ind(body_df[pair[0]], body_df[pair[1]]))\n",
        "  print()\n",
        "  print(\"Specific T-test per POS\")\n",
        "  for k in pos_dict_body.keys():\n",
        "    print(k)\n",
        "    print(stats.ttest_ind(pos_dict_body[k][pair[0]], pos_dict_body[k][pair[1]]))\n",
        "  print()\n",
        "  print()"
      ],
      "execution_count": null,
      "outputs": [
        {
          "output_type": "stream",
          "text": [
            "Overall T-test for Variables: ('0_per_article_left', '1_per_article_lean_left')\n",
            "Ttest_indResult(statistic=-1.3994640959009577, pvalue=0.16168523421229444)\n",
            "\n",
            "Specific T-test per POS\n",
            "NN\n",
            "Ttest_indResult(statistic=-0.642864211102849, pvalue=0.5203223577904155)\n",
            "JJ\n",
            "Ttest_indResult(statistic=-0.34171645721754446, pvalue=0.7325774558416296)\n",
            "IN\n",
            "Ttest_indResult(statistic=-0.5405639317255972, pvalue=0.5894480320490916)\n",
            "VB\n",
            "Ttest_indResult(statistic=-1.1504447587270399, pvalue=0.2500185740636475)\n",
            "DT\n",
            "Ttest_indResult(statistic=-0.04840957697051736, pvalue=0.9616433722264511)\n",
            "MD\n",
            "Ttest_indResult(statistic=0.04360550847715614, pvalue=0.9655520300639063)\n",
            "PR\n",
            "Ttest_indResult(statistic=-0.43230164329848214, pvalue=0.6679656137832597)\n",
            "CD\n",
            "Ttest_indResult(statistic=-0.20535964044764943, pvalue=0.8373365789924865)\n",
            "RB\n",
            "Ttest_indResult(statistic=-0.6746834183808997, pvalue=0.5000127671792554)\n",
            "EX\n",
            "Ttest_indResult(statistic=nan, pvalue=nan)\n",
            "WP\n",
            "Ttest_indResult(statistic=-0.6100226904704538, pvalue=0.5587720628258435)\n",
            "CC\n",
            "Ttest_indResult(statistic=-0.27641567947419987, pvalue=0.7836520853136807)\n",
            "WR\n",
            "Ttest_indResult(statistic=-0.16723360328539455, pvalue=0.8713361944345123)\n",
            "UH\n",
            "Ttest_indResult(statistic=-0.6108997323071896, pvalue=0.5498467988318254)\n",
            "RP\n",
            "Ttest_indResult(statistic=0.6068197146226572, pvalue=0.5552780003105164)\n",
            "WD\n",
            "Ttest_indResult(statistic=-0.6612274125130563, pvalue=0.5209602165201507)\n",
            "TO\n",
            "Ttest_indResult(statistic=0.19141970390679933, pvalue=0.865868943526652)\n",
            "PD\n",
            "Ttest_indResult(statistic=0.7045001791543652, pvalue=0.5075306814509616)\n",
            "FW\n",
            "Ttest_indResult(statistic=1.262418974386719, pvalue=0.21800436355083003)\n",
            "$\n",
            "Ttest_indResult(statistic=-1.0, pvalue=0.42264973081037427)\n",
            "\n",
            "\n",
            "Overall T-test for Variables: ('0_per_article_left', '2_per_article_center')\n",
            "Ttest_indResult(statistic=-2.7437424448993757, pvalue=0.006078287683788669)\n",
            "\n",
            "Specific T-test per POS\n",
            "NN\n",
            "Ttest_indResult(statistic=-1.9288328450892869, pvalue=0.0537710715201408)\n",
            "JJ\n",
            "Ttest_indResult(statistic=-0.725846950553562, pvalue=0.4679637571333226)\n",
            "IN\n",
            "Ttest_indResult(statistic=-0.784097528273624, pvalue=0.4339696873739528)\n",
            "VB\n",
            "Ttest_indResult(statistic=-1.5404311432137154, pvalue=0.12352182178588295)\n",
            "DT\n",
            "Ttest_indResult(statistic=-0.11382392245498038, pvalue=0.9099766370787369)\n",
            "MD\n",
            "Ttest_indResult(statistic=-0.04811933466323447, pvalue=0.9619888699058959)\n",
            "PR\n",
            "Ttest_indResult(statistic=-0.5247223142994056, pvalue=0.6028242227524407)\n",
            "CD\n",
            "Ttest_indResult(statistic=-0.46870092501344135, pvalue=0.6393944607044684)\n",
            "RB\n",
            "Ttest_indResult(statistic=-1.2092514940131183, pvalue=0.22681521736138852)\n",
            "EX\n",
            "Ttest_indResult(statistic=nan, pvalue=nan)\n",
            "WP\n",
            "Ttest_indResult(statistic=-0.6381726698512723, pvalue=0.5411941746684172)\n",
            "CC\n",
            "Ttest_indResult(statistic=-0.30384231858167715, pvalue=0.7628229940174992)\n",
            "WR\n",
            "Ttest_indResult(statistic=-0.2999674775195251, pvalue=0.771848399727624)\n",
            "UH\n",
            "Ttest_indResult(statistic=0.06818078044411865, pvalue=0.9464865172598)\n",
            "RP\n",
            "Ttest_indResult(statistic=0.43734159991161303, pvalue=0.6696308068481229)\n",
            "WD\n",
            "Ttest_indResult(statistic=-0.9350600049287813, pvalue=0.36819306937255725)\n",
            "TO\n",
            "Ttest_indResult(statistic=0.014806692656959523, pvalue=0.9895306610192152)\n",
            "PD\n",
            "Ttest_indResult(statistic=0.6144015100166565, pvalue=0.561509114344946)\n",
            "FW\n",
            "Ttest_indResult(statistic=1.077643454374584, pvalue=0.2910902518435528)\n",
            "$\n",
            "Ttest_indResult(statistic=-1.0, pvalue=0.42264973081037427)\n",
            "\n",
            "\n",
            "Overall T-test for Variables: ('0_per_article_left', '3_per_article_lean_right')\n",
            "Ttest_indResult(statistic=-3.9567794121966147, pvalue=7.615927683851011e-05)\n",
            "\n",
            "Specific T-test per POS\n",
            "NN\n",
            "Ttest_indResult(statistic=-2.9632876622792583, pvalue=0.003048653474530843)\n",
            "JJ\n",
            "Ttest_indResult(statistic=-0.8567352341213237, pvalue=0.39162888063538337)\n",
            "IN\n",
            "Ttest_indResult(statistic=-1.236719370081208, pvalue=0.21773398633353538)\n",
            "VB\n",
            "Ttest_indResult(statistic=-1.8652278959915605, pvalue=0.062210999509530955)\n",
            "DT\n",
            "Ttest_indResult(statistic=-0.26184873086248955, pvalue=0.7948522593731745)\n",
            "MD\n",
            "Ttest_indResult(statistic=-0.17238035056778567, pvalue=0.8644733433977834)\n",
            "PR\n",
            "Ttest_indResult(statistic=-0.6980391292719235, pvalue=0.48940243546928486)\n",
            "CD\n",
            "Ttest_indResult(statistic=-0.6174502356915482, pvalue=0.5370905862908928)\n",
            "RB\n",
            "Ttest_indResult(statistic=-2.299044625041067, pvalue=0.021681310684239462)\n",
            "EX\n",
            "Ttest_indResult(statistic=nan, pvalue=nan)\n",
            "WP\n",
            "Ttest_indResult(statistic=-0.7952634746712073, pvalue=0.4494093776664356)\n",
            "CC\n",
            "Ttest_indResult(statistic=-0.49523660632338257, pvalue=0.6231428395779448)\n",
            "WR\n",
            "Ttest_indResult(statistic=0.251619325945035, pvalue=0.8076784347092245)\n",
            "UH\n",
            "Ttest_indResult(statistic=0.11382071530213478, pvalue=0.9107959155580156)\n",
            "RP\n",
            "Ttest_indResult(statistic=0.5926855813847735, pvalue=0.5643938153062047)\n",
            "WD\n",
            "Ttest_indResult(statistic=-0.5895379190702276, pvalue=0.5664349313727469)\n",
            "TO\n",
            "Ttest_indResult(statistic=-0.5032872379852076, pvalue=0.6647208103614543)\n",
            "PD\n",
            "Ttest_indResult(statistic=0.4208143624134506, pvalue=0.6885472029489419)\n",
            "FW\n",
            "Ttest_indResult(statistic=1.7489492643904123, pvalue=0.09209808347633411)\n",
            "$\n",
            "Ttest_indResult(statistic=nan, pvalue=nan)\n",
            "\n",
            "\n",
            "Overall T-test for Variables: ('0_per_article_left', '4_per_article_right')\n",
            "Ttest_indResult(statistic=-2.037530872334374, pvalue=0.041606505612996406)\n",
            "\n",
            "Specific T-test per POS\n",
            "NN\n",
            "Ttest_indResult(statistic=-0.9234467682625059, pvalue=0.3557897632110941)\n",
            "JJ\n",
            "Ttest_indResult(statistic=-0.8203189272107126, pvalue=0.4120701818996777)\n",
            "IN\n",
            "Ttest_indResult(statistic=-0.6918428210856058, pvalue=0.4898895777436907)\n",
            "VB\n",
            "Ttest_indResult(statistic=-1.3756160701258047, pvalue=0.16900530966075744)\n",
            "DT\n",
            "Ttest_indResult(statistic=-0.053596381379940515, pvalue=0.9575375243680321)\n",
            "MD\n",
            "Ttest_indResult(statistic=0.1458918749425317, pvalue=0.8851319734957501)\n",
            "PR\n",
            "Ttest_indResult(statistic=-0.5987501284380256, pvalue=0.5528923122489194)\n",
            "CD\n",
            "Ttest_indResult(statistic=-0.10805649158851241, pvalue=0.9139744414638719)\n",
            "RB\n",
            "Ttest_indResult(statistic=-1.3936563578536987, pvalue=0.1636911286397119)\n",
            "EX\n",
            "Ttest_indResult(statistic=nan, pvalue=nan)\n",
            "WP\n",
            "Ttest_indResult(statistic=-0.5442628845278951, pvalue=0.6010966724667992)\n",
            "CC\n",
            "Ttest_indResult(statistic=-0.8595684159702235, pvalue=0.39514943900375443)\n",
            "WR\n",
            "Ttest_indResult(statistic=-0.4592676969511957, pvalue=0.6582637491937421)\n",
            "UH\n",
            "Ttest_indResult(statistic=-0.8710201264368121, pvalue=0.3966244454315164)\n",
            "RP\n",
            "Ttest_indResult(statistic=1.0230633091164127, pvalue=0.32646042805240594)\n",
            "WD\n",
            "Ttest_indResult(statistic=-0.28840386171510846, pvalue=0.7779586673307561)\n",
            "TO\n",
            "Ttest_indResult(statistic=0.023660770282999972, pvalue=0.9832716499875988)\n",
            "PD\n",
            "Ttest_indResult(statistic=0.03265696052517745, pvalue=0.9750074044851439)\n",
            "FW\n",
            "Ttest_indResult(statistic=0.3904162672333925, pvalue=0.699409223285478)\n",
            "$\n",
            "Ttest_indResult(statistic=nan, pvalue=nan)\n",
            "\n",
            "\n",
            "Overall T-test for Variables: ('1_per_article_lean_left', '2_per_article_center')\n",
            "Ttest_indResult(statistic=-1.3356285587903707, pvalue=0.18168185947143828)\n",
            "\n",
            "Specific T-test per POS\n",
            "NN\n",
            "Ttest_indResult(statistic=-1.3192425264835106, pvalue=0.18710883366781328)\n",
            "JJ\n",
            "Ttest_indResult(statistic=-0.397158113652706, pvalue=0.6912664144232915)\n",
            "IN\n",
            "Ttest_indResult(statistic=-0.2619103043989617, pvalue=0.7936773343772546)\n",
            "VB\n",
            "Ttest_indResult(statistic=-0.35376996070533445, pvalue=0.7235269686786662)\n",
            "DT\n",
            "Ttest_indResult(statistic=-0.06588601555287245, pvalue=0.9478139935802385)\n",
            "MD\n",
            "Ttest_indResult(statistic=-0.08942435020479265, pvalue=0.9294299739078)\n",
            "PR\n",
            "Ttest_indResult(statistic=-0.058573995684042014, pvalue=0.9535983701785996)\n",
            "CD\n",
            "Ttest_indResult(statistic=-0.2577997451895614, pvalue=0.7966191146596152)\n",
            "RB\n",
            "Ttest_indResult(statistic=-0.4613424852275895, pvalue=0.6446403042184757)\n",
            "EX\n",
            "Ttest_indResult(statistic=nan, pvalue=nan)\n",
            "WP\n",
            "Ttest_indResult(statistic=-0.014727250770305598, pvalue=0.9886104362715107)\n",
            "CC\n",
            "Ttest_indResult(statistic=-0.02923459190961475, pvalue=0.9768228711896265)\n",
            "WR\n",
            "Ttest_indResult(statistic=-0.2081580870388918, pvalue=0.8403072807288535)\n",
            "UH\n",
            "Ttest_indResult(statistic=1.1327860644914032, pvalue=0.27399462523312534)\n",
            "RP\n",
            "Ttest_indResult(statistic=-0.23525872206954407, pvalue=0.817974744417834)\n",
            "WD\n",
            "Ttest_indResult(statistic=-0.42080507563154107, pvalue=0.6813355672755066)\n",
            "TO\n",
            "Ttest_indResult(statistic=-0.23044975570584603, pvalue=0.8391687450507458)\n",
            "PD\n",
            "Ttest_indResult(statistic=-0.07626258816604753, pvalue=0.9416895471385701)\n",
            "FW\n",
            "Ttest_indResult(statistic=-0.6203478012740495, pvalue=0.5404287053566785)\n",
            "$\n",
            "Ttest_indResult(statistic=0.18621727040754602, pvalue=0.8694513959829997)\n",
            "\n",
            "\n",
            "Overall T-test for Variables: ('1_per_article_lean_left', '3_per_article_lean_right')\n",
            "Ttest_indResult(statistic=-2.650916855085785, pvalue=0.00803199777917408)\n",
            "\n",
            "Specific T-test per POS\n",
            "NN\n",
            "Ttest_indResult(statistic=-2.413901075021055, pvalue=0.015795030204516104)\n",
            "JJ\n",
            "Ttest_indResult(statistic=-0.5444228507542245, pvalue=0.5861727898088045)\n",
            "IN\n",
            "Ttest_indResult(statistic=-0.7351353239070327, pvalue=0.4631731399961335)\n",
            "VB\n",
            "Ttest_indResult(statistic=-0.8086714317860447, pvalue=0.4187446140816883)\n",
            "DT\n",
            "Ttest_indResult(statistic=-0.2163705978593828, pvalue=0.8298562564502968)\n",
            "MD\n",
            "Ttest_indResult(statistic=-0.20976145125750806, pvalue=0.8354888745622404)\n",
            "PR\n",
            "Ttest_indResult(statistic=-0.228036190660258, pvalue=0.8208407296726208)\n",
            "CD\n",
            "Ttest_indResult(statistic=-0.43586204163561953, pvalue=0.6630390754928719)\n",
            "RB\n",
            "Ttest_indResult(statistic=-1.5303668755996254, pvalue=0.12620143632269498)\n",
            "EX\n",
            "Ttest_indResult(statistic=nan, pvalue=nan)\n",
            "WP\n",
            "Ttest_indResult(statistic=-0.1900299586979995, pvalue=0.854018950719074)\n",
            "CC\n",
            "Ttest_indResult(statistic=-0.24659456861035667, pvalue=0.8064831792147021)\n",
            "WR\n",
            "Ttest_indResult(statistic=0.4482216047505464, pvalue=0.6658836740821479)\n",
            "UH\n",
            "Ttest_indResult(statistic=0.8287053417452418, pvalue=0.41946233433870017)\n",
            "RP\n",
            "Ttest_indResult(statistic=0.0986885779692949, pvalue=0.92301492288793)\n",
            "WD\n",
            "Ttest_indResult(statistic=-0.3122266417512868, pvalue=0.7602270546638754)\n",
            "TO\n",
            "Ttest_indResult(statistic=-0.7681527503071899, pvalue=0.5226985092510017)\n",
            "PD\n",
            "Ttest_indResult(statistic=-0.1445952341827347, pvalue=0.8897651927115733)\n"
          ],
          "name": "stdout"
        },
        {
          "output_type": "stream",
          "text": [
            "/usr/local/lib/python3.7/dist-packages/numpy/core/fromnumeric.py:3622: RuntimeWarning: Degrees of freedom <= 0 for slice\n",
            "  **kwargs)\n",
            "/usr/local/lib/python3.7/dist-packages/numpy/core/_methods.py:226: RuntimeWarning: invalid value encountered in double_scalars\n",
            "  ret = ret.dtype.type(ret / rcount)\n"
          ],
          "name": "stderr"
        },
        {
          "output_type": "stream",
          "text": [
            "FW\n",
            "Ttest_indResult(statistic=2.6874192494328497, pvalue=0.012389062561097045)\n",
            "$\n",
            "Ttest_indResult(statistic=1.0, pvalue=0.42264973081037427)\n",
            "\n",
            "\n",
            "Overall T-test for Variables: ('1_per_article_lean_left', '4_per_article_right')\n",
            "Ttest_indResult(statistic=-0.5684660750745008, pvalue=0.5697232167630117)\n",
            "\n",
            "Specific T-test per POS\n",
            "NN\n",
            "Ttest_indResult(statistic=-0.3040956494446955, pvalue=0.7610593758627344)\n",
            "JJ\n",
            "Ttest_indResult(statistic=-0.44817006912075397, pvalue=0.6540482707540278)\n",
            "IN\n",
            "Ttest_indResult(statistic=-0.18058841573468506, pvalue=0.8568851719513099)\n",
            "VB\n",
            "Ttest_indResult(statistic=0.021883303800267175, pvalue=0.982541961226118)\n",
            "DT\n",
            "Ttest_indResult(statistic=-0.0045461960935264745, pvalue=0.9963964560805467)\n",
            "MD\n",
            "Ttest_indResult(statistic=0.09514858128037532, pvalue=0.9249263562416836)\n",
            "PR\n",
            "Ttest_indResult(statistic=-0.15368767014184942, pvalue=0.8786692953451709)\n",
            "CD\n",
            "Ttest_indResult(statistic=0.09450873951493888, pvalue=0.9247256195250906)\n",
            "RB\n",
            "Ttest_indResult(statistic=-0.6743176365629363, pvalue=0.5002451530847434)\n",
            "EX\n",
            "Ttest_indResult(statistic=nan, pvalue=nan)\n",
            "WP\n",
            "Ttest_indResult(statistic=0.09321240474297905, pvalue=0.928026941134632)\n",
            "CC\n",
            "Ttest_indResult(statistic=-0.6724198665196665, pvalue=0.5051824068563608)\n",
            "WR\n",
            "Ttest_indResult(statistic=-0.3755682724800467, pvalue=0.7170006385025869)\n",
            "UH\n",
            "Ttest_indResult(statistic=-0.4600240906497407, pvalue=0.6516885251229194)\n",
            "RP\n",
            "Ttest_indResult(statistic=0.47879891752145914, pvalue=0.6406876942715312)\n",
            "WD\n",
            "Ttest_indResult(statistic=0.14777211248760846, pvalue=0.8849765326266181)\n",
            "TO\n",
            "Ttest_indResult(statistic=-0.2529641454999913, pvalue=0.8239220047153719)\n",
            "PD\n",
            "Ttest_indResult(statistic=-0.6782523220157749, pvalue=0.52289455718452)\n",
            "FW\n",
            "Ttest_indResult(statistic=-1.1561874699361052, pvalue=0.25811829350887106)\n",
            "$\n",
            "Ttest_indResult(statistic=1.0, pvalue=0.42264973081037427)\n",
            "\n",
            "\n",
            "Overall T-test for Variables: ('2_per_article_center', '3_per_article_lean_right')\n",
            "Ttest_indResult(statistic=-1.39852374635066, pvalue=0.16196722049234255)\n",
            "\n",
            "Specific T-test per POS\n",
            "NN\n",
            "Ttest_indResult(statistic=-1.175425465363255, pvalue=0.23984380050490536)\n",
            "JJ\n",
            "Ttest_indResult(statistic=-0.15955134735046483, pvalue=0.8732404172836701)\n",
            "IN\n",
            "Ttest_indResult(statistic=-0.47099134188916786, pvalue=0.6381929604261081)\n",
            "VB\n",
            "Ttest_indResult(statistic=-0.49060934797024014, pvalue=0.6237254074150869)\n",
            "DT\n",
            "Ttest_indResult(statistic=-0.15256179232441444, pvalue=0.8795510556905046)\n",
            "MD\n",
            "Ttest_indResult(statistic=-0.12330466816070199, pvalue=0.9028140980999593)\n",
            "PR\n",
            "Ttest_indResult(statistic=-0.17787030069055754, pvalue=0.859769653225392)\n",
            "CD\n",
            "Ttest_indResult(statistic=-0.21210290482563016, pvalue=0.8320737342984073)\n",
            "RB\n",
            "Ttest_indResult(statistic=-1.11862510556534, pvalue=0.26353412077732924)\n",
            "EX\n",
            "Ttest_indResult(statistic=nan, pvalue=nan)\n",
            "WP\n",
            "Ttest_indResult(statistic=-0.17837675913257078, pvalue=0.862861432222594)\n",
            "CC\n",
            "Ttest_indResult(statistic=-0.2188059905291365, pvalue=0.8279137949867565)\n",
            "WR\n",
            "Ttest_indResult(statistic=0.4853452326712252, pvalue=0.6404435990290525)\n",
            "UH\n",
            "Ttest_indResult(statistic=0.08382977030477565, pvalue=0.9342316767002476)\n",
            "RP\n",
            "Ttest_indResult(statistic=0.27884036127401024, pvalue=0.7851144605343672)\n",
            "WD\n",
            "Ttest_indResult(statistic=-0.0618994320034989, pvalue=0.9516619669147286)\n",
            "TO\n",
            "Ttest_indResult(statistic=-0.5964791495714981, pvalue=0.6113781435596102)\n",
            "PD\n",
            "Ttest_indResult(statistic=-0.0870199292701534, pvalue=0.9334871549176067)\n",
            "FW\n",
            "Ttest_indResult(statistic=2.857059799457201, pvalue=0.008302792590366823)\n",
            "$\n",
            "Ttest_indResult(statistic=1.0, pvalue=0.42264973081037427)\n",
            "\n",
            "\n",
            "Overall T-test for Variables: ('2_per_article_center', '4_per_article_right')\n",
            "Ttest_indResult(statistic=0.814677113850474, pvalue=0.41526427223536433)\n",
            "\n",
            "Specific T-test per POS\n",
            "NN\n",
            "Ttest_indResult(statistic=0.989748744780501, pvalue=0.3223134243186765)\n",
            "JJ\n",
            "Ttest_indResult(statistic=-0.011084829821960353, pvalue=0.9911561721204247)\n",
            "IN\n",
            "Ttest_indResult(statistic=0.07446997220838687, pvalue=0.9407156123549122)\n",
            "VB\n",
            "Ttest_indResult(statistic=0.42396341365378215, pvalue=0.6716116695676738)\n",
            "DT\n",
            "Ttest_indResult(statistic=0.06214803511636955, pvalue=0.9507706896120619)\n",
            "MD\n",
            "Ttest_indResult(statistic=0.19161200608032256, pvalue=0.849534712285398)\n",
            "PR\n",
            "Ttest_indResult(statistic=-0.10178529639236862, pvalue=0.919462302306765)\n",
            "CD\n",
            "Ttest_indResult(statistic=0.3516713041326539, pvalue=0.725165311844334)\n",
            "RB\n",
            "Ttest_indResult(statistic=-0.23859232899413008, pvalue=0.8114642961942249)\n",
            "EX\n",
            "Ttest_indResult(statistic=nan, pvalue=nan)\n",
            "WP\n",
            "Ttest_indResult(statistic=0.11020652782679334, pvalue=0.914960102430657)\n",
            "CC\n",
            "Ttest_indResult(statistic=-0.650139071146267, pvalue=0.5193191592394908)\n",
            "WR\n",
            "Ttest_indResult(statistic=-0.10266300840237143, pvalue=0.920757198366698)\n",
            "UH\n",
            "Ttest_indResult(statistic=-1.1994156145370387, pvalue=0.24782753014328493)\n",
            "RP\n",
            "Ttest_indResult(statistic=0.7991735490975105, pvalue=0.4397221132974902)\n",
            "WD\n",
            "Ttest_indResult(statistic=0.463970506353809, pvalue=0.650972603394847)\n",
            "TO\n",
            "Ttest_indResult(statistic=0.010559567894427547, pvalue=0.9925334660705344)\n",
            "PD\n",
            "Ttest_indResult(statistic=-0.5871550671708018, pvalue=0.5785085441897637)\n",
            "FW\n",
            "Ttest_indResult(statistic=-0.885488832215029, pvalue=0.38400960418777563)\n",
            "$\n",
            "Ttest_indResult(statistic=1.0, pvalue=0.42264973081037427)\n",
            "\n",
            "\n",
            "Overall T-test for Variables: ('3_per_article_lean_right', '4_per_article_right')\n",
            "Ttest_indResult(statistic=2.1971212446821244, pvalue=0.028020170386818415)\n",
            "\n",
            "Specific T-test per POS\n",
            "NN\n",
            "Ttest_indResult(statistic=2.092846092150939, pvalue=0.036380195917746015)\n",
            "JJ\n",
            "Ttest_indResult(statistic=0.16052951537166946, pvalue=0.8724699205456402)\n",
            "IN\n",
            "Ttest_indResult(statistic=0.5361261625278038, pvalue=0.5925051229972076)\n",
            "VB\n",
            "Ttest_indResult(statistic=0.9097813691504755, pvalue=0.36298392461147)\n",
            "DT\n",
            "Ttest_indResult(statistic=0.21411446087710248, pvalue=0.8316026005451582)\n",
            "MD\n",
            "Ttest_indResult(statistic=0.31479694410645404, pvalue=0.7554283062730885)\n",
            "PR\n",
            "Ttest_indResult(statistic=0.0699911274155925, pvalue=0.9445677635852312)\n",
            "CD\n",
            "Ttest_indResult(statistic=0.5163856723446951, pvalue=0.60570916356658)\n",
            "RB\n",
            "Ttest_indResult(statistic=0.8526163807321473, pvalue=0.3940499169499775)\n",
            "EX\n",
            "Ttest_indResult(statistic=nan, pvalue=nan)\n",
            "WP\n",
            "Ttest_indResult(statistic=0.28857456024120404, pvalue=0.780242901493957)\n",
            "CC\n",
            "Ttest_indResult(statistic=-0.4611768849612437, pvalue=0.6471696894596002)\n",
            "WR\n",
            "Ttest_indResult(statistic=-0.6586457932925156, pvalue=0.5286198927190058)\n",
            "UH\n",
            "Ttest_indResult(statistic=-1.0433433309112028, pvalue=0.31229792849787297)\n",
            "RP\n",
            "Ttest_indResult(statistic=0.222859074423125, pvalue=0.8273934966759502)\n",
            "WD\n",
            "Ttest_indResult(statistic=0.37113783443107395, pvalue=0.7170043716097182)\n",
            "TO\n",
            "Ttest_indResult(statistic=0.6409526586609683, pvalue=0.587196346349329)\n",
            "PD\n",
            "Ttest_indResult(statistic=-0.3948735948694924, pvalue=0.7065911711704541)\n",
            "FW\n",
            "Ttest_indResult(statistic=-1.8829377433825436, pvalue=0.07094337410325728)\n",
            "$\n",
            "Ttest_indResult(statistic=nan, pvalue=nan)\n",
            "\n",
            "\n"
          ],
          "name": "stdout"
        }
      ]
    },
    {
      "cell_type": "markdown",
      "metadata": {
        "id": "iEbAoUjw0DzV"
      },
      "source": [
        "### Concept and Category"
      ]
    },
    {
      "cell_type": "markdown",
      "metadata": {
        "id": "Il82PTc10Lz-"
      },
      "source": [
        "#### Category T-testing"
      ]
    },
    {
      "cell_type": "code",
      "metadata": {
        "colab": {
          "base_uri": "https://localhost:8080/"
        },
        "id": "dEITcIxk0Gib",
        "outputId": "73af4321-10d9-4439-a120-b9c03a213f6a"
      },
      "source": [
        "for pair in combinations(position_list, 2):\n",
        "  print(pair)\n",
        "  print()\n",
        "  print(stats.ttest_ind(category_df[pair[0]], category_df[pair[1]]))\n",
        "  print()\n"
      ],
      "execution_count": null,
      "outputs": [
        {
          "output_type": "stream",
          "text": [
            "('0_per_article_left', '1_per_article_lean_left')\n",
            "\n",
            "Ttest_indResult(statistic=0.1824979253684941, pvalue=0.8553212748265911)\n",
            "\n",
            "('0_per_article_left', '2_per_article_center')\n",
            "\n",
            "Ttest_indResult(statistic=0.2179097475582852, pvalue=0.8276548246272344)\n",
            "\n",
            "('0_per_article_left', '3_per_article_lean_right')\n",
            "\n",
            "Ttest_indResult(statistic=-0.0024567960217716507, pvalue=0.9980414751062926)\n",
            "\n",
            "('0_per_article_left', '4_per_article_right')\n",
            "\n",
            "Ttest_indResult(statistic=0.4258863739791736, pvalue=0.6705109684768312)\n",
            "\n",
            "('1_per_article_lean_left', '2_per_article_center')\n",
            "\n",
            "Ttest_indResult(statistic=0.03473014314815723, pvalue=0.972319151203054)\n",
            "\n",
            "('1_per_article_lean_left', '3_per_article_lean_right')\n",
            "\n",
            "Ttest_indResult(statistic=-0.1721707813038536, pvalue=0.8634250346840642)\n",
            "\n",
            "('1_per_article_lean_left', '4_per_article_right')\n",
            "\n",
            "Ttest_indResult(statistic=0.23289375428127693, pvalue=0.8160104930635901)\n",
            "\n",
            "('2_per_article_center', '3_per_article_lean_right')\n",
            "\n",
            "Ttest_indResult(statistic=-0.20516940034994705, pvalue=0.8375857233089893)\n",
            "\n",
            "('2_per_article_center', '4_per_article_right')\n",
            "\n",
            "Ttest_indResult(statistic=0.19713952291462658, pvalue=0.8438583822604145)\n",
            "\n",
            "('3_per_article_lean_right', '4_per_article_right')\n",
            "\n",
            "Ttest_indResult(statistic=0.39774815310655376, pvalue=0.6911125516963468)\n",
            "\n"
          ],
          "name": "stdout"
        }
      ]
    },
    {
      "cell_type": "markdown",
      "metadata": {
        "id": "Tj75RZfL0X6u"
      },
      "source": [
        "#### Concept T-testing"
      ]
    },
    {
      "cell_type": "code",
      "metadata": {
        "colab": {
          "base_uri": "https://localhost:8080/"
        },
        "id": "l2DEqJnW0VHa",
        "outputId": "6edba586-305e-4e6d-97a1-81cedae1d6c6"
      },
      "source": [
        "# General T-test\n",
        "for pair in combinations(position_list, 2):\n",
        "  print(pair)\n",
        "  print()\n",
        "  print(stats.ttest_ind(concept_df[pair[0]], concept_df[pair[1]]))\n",
        "  print()"
      ],
      "execution_count": null,
      "outputs": [
        {
          "output_type": "stream",
          "text": [
            "('0_per_article_left', '1_per_article_lean_left')\n",
            "\n",
            "Ttest_indResult(statistic=0.34462626380260847, pvalue=0.730388764151751)\n",
            "\n",
            "('0_per_article_left', '2_per_article_center')\n",
            "\n",
            "Ttest_indResult(statistic=0.38355256383049363, pvalue=0.7013251868844796)\n",
            "\n",
            "('0_per_article_left', '3_per_article_lean_right')\n",
            "\n",
            "Ttest_indResult(statistic=-0.003752250855254138, pvalue=0.9970062824483188)\n",
            "\n",
            "('0_per_article_left', '4_per_article_right')\n",
            "\n",
            "Ttest_indResult(statistic=0.758106510942182, pvalue=0.448420268527002)\n",
            "\n",
            "('1_per_article_lean_left', '2_per_article_center')\n",
            "\n",
            "Ttest_indResult(statistic=0.057828783737529955, pvalue=0.953887147712695)\n",
            "\n",
            "('1_per_article_lean_left', '3_per_article_lean_right')\n",
            "\n",
            "Ttest_indResult(statistic=-0.2544238099650504, pvalue=0.7991778352061816)\n",
            "\n",
            "('1_per_article_lean_left', '4_per_article_right')\n",
            "\n",
            "Ttest_indResult(statistic=0.3907238399039532, pvalue=0.6960167714627783)\n",
            "\n",
            "('2_per_article_center', '3_per_article_lean_right')\n",
            "\n",
            "Ttest_indResult(statistic=-0.29192492157743927, pvalue=0.7703552298832593)\n",
            "\n",
            "('2_per_article_center', '4_per_article_right')\n",
            "\n",
            "Ttest_indResult(statistic=0.3132502502579636, pvalue=0.7541026283739228)\n",
            "\n",
            "('3_per_article_lean_right', '4_per_article_right')\n",
            "\n",
            "Ttest_indResult(statistic=0.5662842076737425, pvalue=0.5712241006288086)\n",
            "\n"
          ],
          "name": "stdout"
        }
      ]
    },
    {
      "cell_type": "code",
      "metadata": {
        "id": "NMoyCCKX0eOD"
      },
      "source": [
        "# Type-specific\n",
        "type_dict = {}\n",
        "for t in concept_df[\"concept_type\"].unique():\n",
        "  type_dict[t] = concept_df[concept_df[\"concept_type\"] == t]"
      ],
      "execution_count": null,
      "outputs": []
    },
    {
      "cell_type": "code",
      "metadata": {
        "colab": {
          "base_uri": "https://localhost:8080/"
        },
        "id": "OUT3VWLd0qPj",
        "outputId": "5ec335c3-e0da-4233-9b74-c18d2286efaf"
      },
      "source": [
        "for pair in combinations(position_list, 2):\n",
        "  print(pair)\n",
        "  for k in type_dict.keys():\n",
        "    print(k)\n",
        "    res = stats.ttest_ind(type_dict[k][pair[0]], type_dict[k][pair[1]])\n",
        "    print(res)\n",
        "  print()\n",
        "  print()"
      ],
      "execution_count": null,
      "outputs": [
        {
          "output_type": "stream",
          "text": [
            "('0_per_article_left', '1_per_article_lean_left')\n",
            "person\n",
            "Ttest_indResult(statistic=-0.520959854651316, pvalue=0.6025136401089304)\n",
            "wiki\n",
            "Ttest_indResult(statistic=0.12817739082484456, pvalue=0.8980185741126037)\n",
            "org\n",
            "Ttest_indResult(statistic=1.2783630231453518, pvalue=0.20154758892257674)\n",
            "loc\n",
            "Ttest_indResult(statistic=0.14720435621561873, pvalue=0.8829964798852615)\n",
            "\n",
            "\n",
            "('0_per_article_left', '2_per_article_center')\n",
            "person\n",
            "Ttest_indResult(statistic=-0.6584666738754443, pvalue=0.5103945590212097)\n",
            "wiki\n",
            "Ttest_indResult(statistic=0.14132724858856707, pvalue=0.8876224494254314)\n",
            "org\n",
            "Ttest_indResult(statistic=1.634283034557768, pvalue=0.10265163262662387)\n",
            "loc\n",
            "Ttest_indResult(statistic=0.22370142265694762, pvalue=0.8230293020722171)\n",
            "\n",
            "\n",
            "('0_per_article_left', '3_per_article_lean_right')\n",
            "person\n",
            "Ttest_indResult(statistic=-1.5605061723661942, pvalue=0.11896649303500184)\n",
            "wiki\n",
            "Ttest_indResult(statistic=0.12756498471254163, pvalue=0.8985031765275064)\n",
            "org\n",
            "Ttest_indResult(statistic=3.3407117844318743, pvalue=0.0008802566048827594)\n",
            "loc\n",
            "Ttest_indResult(statistic=-0.38070211040156765, pvalue=0.7034944915912815)\n",
            "\n",
            "\n",
            "('0_per_article_left', '4_per_article_right')\n",
            "person\n",
            "Ttest_indResult(statistic=0.3093342052184338, pvalue=0.7571337470990118)\n",
            "wiki\n",
            "Ttest_indResult(statistic=0.37087821880278526, pvalue=0.7107586641227932)\n",
            "org\n",
            "Ttest_indResult(statistic=1.6280053625705397, pvalue=0.10397630375597092)\n",
            "loc\n",
            "Ttest_indResult(statistic=0.004111542468525003, pvalue=0.9967201848366609)\n",
            "\n",
            "\n",
            "('1_per_article_lean_left', '2_per_article_center')\n",
            "person\n",
            "Ttest_indResult(statistic=-0.2385782435008698, pvalue=0.8114830293175209)\n",
            "wiki\n",
            "Ttest_indResult(statistic=0.018918725508800867, pvalue=0.9849074031656506)\n",
            "org\n",
            "Ttest_indResult(statistic=0.4147063043459259, pvalue=0.6784847066892041)\n",
            "loc\n",
            "Ttest_indResult(statistic=0.09971027053036871, pvalue=0.9205916948029482)\n",
            "\n",
            "\n",
            "('1_per_article_lean_left', '3_per_article_lean_right')\n",
            "person\n",
            "Ttest_indResult(statistic=-1.3181340089398608, pvalue=0.18776997293078304)\n",
            "wiki\n",
            "Ttest_indResult(statistic=0.021705212909866704, pvalue=0.9826847825918773)\n",
            "org\n",
            "Ttest_indResult(statistic=2.661611993602285, pvalue=0.007956181782695835)\n",
            "loc\n",
            "Ttest_indResult(statistic=-0.5052771550463573, pvalue=0.613460837556095)\n",
            "\n",
            "\n",
            "('1_per_article_lean_left', '4_per_article_right')\n",
            "person\n",
            "Ttest_indResult(statistic=0.8986300024025867, pvalue=0.36907277943411065)\n",
            "wiki\n",
            "Ttest_indResult(statistic=0.2159520822189732, pvalue=0.8290421570427786)\n",
            "org\n",
            "Ttest_indResult(statistic=0.441875827327456, pvalue=0.6587163225159538)\n",
            "loc\n",
            "Ttest_indResult(statistic=-0.15200964957820928, pvalue=0.879205941538658)\n",
            "\n",
            "\n",
            "('2_per_article_center', '3_per_article_lean_right')\n",
            "person\n",
            "Ttest_indResult(statistic=-1.101921842284537, pvalue=0.27076898791251586)\n",
            "wiki\n",
            "Ttest_indResult(statistic=0.00466270426355993, pvalue=0.9962800739382536)\n",
            "org\n",
            "Ttest_indResult(statistic=2.341201834153773, pvalue=0.01950305665524256)\n",
            "loc\n",
            "Ttest_indResult(statistic=-0.547250598538308, pvalue=0.5843125749030471)\n",
            "\n",
            "\n",
            "('2_per_article_center', '4_per_article_right')\n",
            "person\n",
            "Ttest_indResult(statistic=0.9708659890261571, pvalue=0.3318570404685993)\n",
            "wiki\n",
            "Ttest_indResult(statistic=0.18739809421798204, pvalue=0.8513632409232547)\n",
            "org\n",
            "Ttest_indResult(statistic=0.04647550506444396, pvalue=0.9629445887864617)\n",
            "loc\n",
            "Ttest_indResult(statistic=-0.2312106632590786, pvalue=0.8171922041215028)\n",
            "\n",
            "\n",
            "('3_per_article_lean_right', '4_per_article_right')\n",
            "person\n",
            "Ttest_indResult(statistic=1.7660645428142203, pvalue=0.07769953924784155)\n",
            "wiki\n",
            "Ttest_indResult(statistic=0.16333082355440032, pvalue=0.8702707484414194)\n",
            "org\n",
            "Ttest_indResult(statistic=-2.136492997019294, pvalue=0.03298738323474951)\n",
            "loc\n",
            "Ttest_indResult(statistic=0.39393675428547986, pvalue=0.6937006384187592)\n",
            "\n",
            "\n"
          ],
          "name": "stdout"
        }
      ]
    },
    {
      "cell_type": "code",
      "metadata": {
        "id": "nIhlYbb80vDA"
      },
      "source": [
        ""
      ],
      "execution_count": null,
      "outputs": []
    },
    {
      "cell_type": "markdown",
      "metadata": {
        "id": "UxVxY0bq2lKo"
      },
      "source": [
        "## Top Picks"
      ]
    },
    {
      "cell_type": "markdown",
      "metadata": {
        "id": "cNYFSvjt2pHN"
      },
      "source": [
        "### ML Model POS Analysis and Weightage"
      ]
    },
    {
      "cell_type": "markdown",
      "metadata": {
        "id": "Saz6u8tv28OK"
      },
      "source": [
        "#### Logistic Regression (Accuracy of 0.679)"
      ]
    },
    {
      "cell_type": "code",
      "metadata": {
        "id": "zWxsMhl52nGW"
      },
      "source": [
        "log_reg_features = list(sorted(zip(wider_df[pos_cols].columns.values, clf_pred_df['clf'].iloc[0].coef_[0]), key = lambda x: x[1], reverse = True))"
      ],
      "execution_count": null,
      "outputs": []
    },
    {
      "cell_type": "code",
      "metadata": {
        "colab": {
          "base_uri": "https://localhost:8080/"
        },
        "id": "Hopgb0ro3Nwu",
        "outputId": "ec013a77-f683-4085-8c0d-4280d0b2cb15"
      },
      "source": [
        "log_reg_features[:5] # Most Indicative of Left Media"
      ],
      "execution_count": null,
      "outputs": [
        {
          "output_type": "execute_result",
          "data": {
            "text/plain": [
              "[('body_VB_per_word', 1.0771721117164228),\n",
              " ('body_NN_per_word', 0.9983560577963879),\n",
              " ('title_RB_per_word', 0.8254950444552932),\n",
              " ('title_VBD_per_word', 0.7497087934291109),\n",
              " ('body_RBR_per_word', 0.6318631382914993)]"
            ]
          },
          "metadata": {
            "tags": []
          },
          "execution_count": 55
        }
      ]
    },
    {
      "cell_type": "code",
      "metadata": {
        "colab": {
          "base_uri": "https://localhost:8080/"
        },
        "id": "4NzBZt3Q3P5H",
        "outputId": "f8779123-e46d-4439-c80e-2a0b6ae2aece"
      },
      "source": [
        "log_reg_features[-5:] # Most Indicative of Right Media"
      ],
      "execution_count": null,
      "outputs": [
        {
          "output_type": "execute_result",
          "data": {
            "text/plain": [
              "[('body_WRB_per_word', -0.6737956002229745),\n",
              " ('title_TO_per_word', -0.6768760567931136),\n",
              " ('body_NNP_per_word', -0.8924345722453336),\n",
              " ('body_NNPS_per_word', -0.9705572160033403),\n",
              " ('title_JJR_per_word', -0.9769917900842598)]"
            ]
          },
          "metadata": {
            "tags": []
          },
          "execution_count": 56
        }
      ]
    },
    {
      "cell_type": "markdown",
      "metadata": {
        "id": "mm54AanE3TKs"
      },
      "source": [
        "#### Gradient Boosting Classifier (Accuracy of 0.679)"
      ]
    },
    {
      "cell_type": "code",
      "metadata": {
        "id": "muwaUiJC3SHw"
      },
      "source": [
        "gradient_boost_features = list(sorted(zip(wider_df[pos_cols].columns.values, clf_pred_df['clf'].iloc[3].feature_importances_), key = lambda x: x[1], reverse = True))"
      ],
      "execution_count": null,
      "outputs": []
    },
    {
      "cell_type": "code",
      "metadata": {
        "colab": {
          "base_uri": "https://localhost:8080/"
        },
        "id": "rQt4fIzV3gR6",
        "outputId": "7b768e30-60de-4901-a6ec-57b38c3ca8a0"
      },
      "source": [
        "gradient_boost_features[:10] # 10 Most Considered Features"
      ],
      "execution_count": null,
      "outputs": [
        {
          "output_type": "execute_result",
          "data": {
            "text/plain": [
              "[('body_NN_per_word', 0.11190897961975291),\n",
              " ('body_)_per_word', 0.08302422067493218),\n",
              " ('body_NNPS_per_word', 0.06744038711897547),\n",
              " ('body_._per_word', 0.06153040341337466),\n",
              " ('body_VBG_per_word', 0.056403508964272396),\n",
              " ('body_NNP_per_word', 0.055575667756143955),\n",
              " ('title_NNP_per_word', 0.054822291740529584),\n",
              " ('body_(_per_word', 0.049050311403254096),\n",
              " ('body_WP$_per_word', 0.0456683609483241),\n",
              " ('body_VBZ_per_word', 0.04489864918724398)]"
            ]
          },
          "metadata": {
            "tags": []
          },
          "execution_count": 58
        }
      ]
    },
    {
      "cell_type": "code",
      "metadata": {
        "id": "-orGk-6q3jfi"
      },
      "source": [
        ""
      ],
      "execution_count": null,
      "outputs": []
    },
    {
      "cell_type": "markdown",
      "metadata": {
        "id": "i5Q00ylm3tXg"
      },
      "source": [
        "### T-testing"
      ]
    },
    {
      "cell_type": "markdown",
      "metadata": {
        "id": "G2905hdA83O7"
      },
      "source": [
        "#### Concept Analysis"
      ]
    },
    {
      "cell_type": "code",
      "metadata": {
        "colab": {
          "base_uri": "https://localhost:8080/"
        },
        "id": "5HEP7ptW7h4k",
        "outputId": "e2597d5e-91b5-4b3d-996d-34b97795499f"
      },
      "source": [
        "stats.ttest_ind(type_dict[\"org\"][\"1_per_article_lean_left\"], type_dict[\"org\"][\"3_per_article_lean_right\"])\n",
        "# Organization Concept Appearance Frequency Difference Between Lean Left and Lean Right Rejects Null Hypothesis"
      ],
      "execution_count": null,
      "outputs": [
        {
          "output_type": "execute_result",
          "data": {
            "text/plain": [
              "Ttest_indResult(statistic=2.661611993602285, pvalue=0.007956181782695835)"
            ]
          },
          "metadata": {
            "tags": []
          },
          "execution_count": 91
        }
      ]
    },
    {
      "cell_type": "code",
      "metadata": {
        "colab": {
          "base_uri": "https://localhost:8080/"
        },
        "id": "mP98gXVk9yML",
        "outputId": "2c853a88-c334-455d-ddc4-23791a227d81"
      },
      "source": [
        "type_dict[\"org\"].shape"
      ],
      "execution_count": null,
      "outputs": [
        {
          "output_type": "execute_result",
          "data": {
            "text/plain": [
              "(349, 19)"
            ]
          },
          "metadata": {
            "tags": []
          },
          "execution_count": 94
        }
      ]
    },
    {
      "cell_type": "markdown",
      "metadata": {
        "id": "iA_D1wfb9hvq"
      },
      "source": [
        "#### Word Choice Analysis"
      ]
    },
    {
      "cell_type": "code",
      "metadata": {
        "colab": {
          "base_uri": "https://localhost:8080/"
        },
        "id": "GwlXs7hf9gCB",
        "outputId": "c236c1e7-2e38-4dc2-9c62-318837b37d58"
      },
      "source": [
        "stats.ttest_ind(body_df[\"0_per_article_left\"], body_df[\"4_per_article_right\"])\n",
        "# Reject Null Hypothesis for Word Choice Frequency Between Left and Right Media Articles"
      ],
      "execution_count": null,
      "outputs": [
        {
          "output_type": "execute_result",
          "data": {
            "text/plain": [
              "Ttest_indResult(statistic=-2.037530872334374, pvalue=0.041606505612996406)"
            ]
          },
          "metadata": {
            "tags": []
          },
          "execution_count": 99
        }
      ]
    },
    {
      "cell_type": "code",
      "metadata": {
        "colab": {
          "base_uri": "https://localhost:8080/"
        },
        "id": "_vIwLcXc98Q5",
        "outputId": "15710417-cb46-4dd9-8f98-4f032348340e"
      },
      "source": [
        "stats.ttest_ind(body_df[\"1_per_article_lean_left\"], body_df[\"3_per_article_lean_right\"])\n",
        "# Also Reject Null Hypothesis for Word Choice Frequency Between Lean Left and Lean Right Media Articles"
      ],
      "execution_count": null,
      "outputs": [
        {
          "output_type": "execute_result",
          "data": {
            "text/plain": [
              "Ttest_indResult(statistic=-2.650916855085785, pvalue=0.00803199777917408)"
            ]
          },
          "metadata": {
            "tags": []
          },
          "execution_count": 100
        }
      ]
    },
    {
      "cell_type": "code",
      "metadata": {
        "colab": {
          "base_uri": "https://localhost:8080/"
        },
        "id": "GPQNf6Ol9xoi",
        "outputId": "9f011a0e-463c-44c2-bf2c-18cb58228d65"
      },
      "source": [
        "body_df.shape # Ample sample size of over 13,000"
      ],
      "execution_count": null,
      "outputs": [
        {
          "output_type": "execute_result",
          "data": {
            "text/plain": [
              "(13634, 18)"
            ]
          },
          "metadata": {
            "tags": []
          },
          "execution_count": 103
        }
      ]
    },
    {
      "cell_type": "markdown",
      "metadata": {
        "id": "5kG9keyKJdDy"
      },
      "source": [
        "# Control Group Analysis"
      ]
    },
    {
      "cell_type": "markdown",
      "metadata": {
        "id": "yu1woPdIJmSU"
      },
      "source": [
        "## Setup"
      ]
    },
    {
      "cell_type": "code",
      "metadata": {
        "colab": {
          "base_uri": "https://localhost:8080/"
        },
        "id": "RDrMevnqJe4U",
        "outputId": "f488e1e5-8317-4ef1-d887-b48302fd0701"
      },
      "source": [
        "from google.colab import drive\n",
        "drive.mount(\"/content/gdrive\")"
      ],
      "execution_count": 1,
      "outputs": [
        {
          "output_type": "stream",
          "text": [
            "Mounted at /content/gdrive\n"
          ],
          "name": "stdout"
        }
      ]
    },
    {
      "cell_type": "code",
      "metadata": {
        "id": "kzWFw0NwJm_v"
      },
      "source": [
        "import numpy as np, pandas as pd, matplotlib.pyplot as plt, seaborn as sns, os\n",
        "from sklearn.preprocessing import MinMaxScaler\n",
        "from sklearn.linear_model import LogisticRegression\n",
        "from sklearn.tree import DecisionTreeClassifier\n",
        "from sklearn.ensemble import RandomForestClassifier, GradientBoostingClassifier\n",
        "from sklearn.naive_bayes import GaussianNB, MultinomialNB\n",
        "from sklearn.model_selection import train_test_split"
      ],
      "execution_count": 2,
      "outputs": []
    },
    {
      "cell_type": "code",
      "metadata": {
        "id": "1EyzJQb8JoeV"
      },
      "source": [
        "main_path = \"/content/gdrive/MyDrive/AAPI_text_analysis_project/control_group_data\""
      ],
      "execution_count": 3,
      "outputs": []
    },
    {
      "cell_type": "markdown",
      "metadata": {
        "id": "V-o9-hY3J5Vu"
      },
      "source": [
        "## Part of Speech"
      ]
    },
    {
      "cell_type": "markdown",
      "metadata": {
        "id": "6ZCBk2AGJ5Vv"
      },
      "source": [
        "### Load Data"
      ]
    },
    {
      "cell_type": "code",
      "metadata": {
        "colab": {
          "base_uri": "https://localhost:8080/",
          "height": 593
        },
        "id": "h_Z4UoUYJ5Vv",
        "outputId": "4a374ab9-53a5-47cf-ac86-602c9d988abc"
      },
      "source": [
        "df = pd.read_csv(os.path.join(main_path, \"section_6_full_df.csv\"))\n",
        "df.head()"
      ],
      "execution_count": 4,
      "outputs": [
        {
          "output_type": "execute_result",
          "data": {
            "text/html": [
              "<div>\n",
              "<style scoped>\n",
              "    .dataframe tbody tr th:only-of-type {\n",
              "        vertical-align: middle;\n",
              "    }\n",
              "\n",
              "    .dataframe tbody tr th {\n",
              "        vertical-align: top;\n",
              "    }\n",
              "\n",
              "    .dataframe thead th {\n",
              "        text-align: right;\n",
              "    }\n",
              "</style>\n",
              "<table border=\"1\" class=\"dataframe\">\n",
              "  <thead>\n",
              "    <tr style=\"text-align: right;\">\n",
              "      <th></th>\n",
              "      <th>sentiment</th>\n",
              "      <th>relevance</th>\n",
              "      <th>uri</th>\n",
              "      <th>title</th>\n",
              "      <th>body</th>\n",
              "      <th>source_uri</th>\n",
              "      <th>source_name</th>\n",
              "      <th>source_alexaCountryRank</th>\n",
              "      <th>source_alexaGlobalRank</th>\n",
              "      <th>source_importanceRank</th>\n",
              "      <th>source_valid_location</th>\n",
              "      <th>date</th>\n",
              "      <th>json_data</th>\n",
              "      <th>title_length</th>\n",
              "      <th>body_length</th>\n",
              "      <th>source_score</th>\n",
              "      <th>source_link</th>\n",
              "      <th>source_position</th>\n",
              "      <th>source_pos_int</th>\n",
              "      <th>title_doc</th>\n",
              "      <th>body_doc</th>\n",
              "      <th>title_NNP</th>\n",
              "      <th>title_VBZ</th>\n",
              "      <th>title_NNS</th>\n",
              "      <th>title_MD</th>\n",
              "      <th>title_VB</th>\n",
              "      <th>title_NN</th>\n",
              "      <th>title_VBP</th>\n",
              "      <th>title_$</th>\n",
              "      <th>title_CD</th>\n",
              "      <th>title_VBD</th>\n",
              "      <th>title_:</th>\n",
              "      <th>title_VBG</th>\n",
              "      <th>title_JJ</th>\n",
              "      <th>title_,</th>\n",
              "      <th>title_''</th>\n",
              "      <th>title_RB</th>\n",
              "      <th>title_IN</th>\n",
              "      <th>title_POS</th>\n",
              "      <th>title_``</th>\n",
              "      <th>...</th>\n",
              "      <th>title_''_per_word</th>\n",
              "      <th>title_DT_per_word</th>\n",
              "      <th>title_CD_per_word</th>\n",
              "      <th>title_WRB_per_word</th>\n",
              "      <th>title_RB_per_word</th>\n",
              "      <th>title_PRP_per_word</th>\n",
              "      <th>title_PRP$_per_word</th>\n",
              "      <th>title_RP_per_word</th>\n",
              "      <th>title_PDT_per_word</th>\n",
              "      <th>title_TO_per_word</th>\n",
              "      <th>title_``_per_word</th>\n",
              "      <th>title_FW_per_word</th>\n",
              "      <th>title_CC_per_word</th>\n",
              "      <th>title_._per_word</th>\n",
              "      <th>title_WP_per_word</th>\n",
              "      <th>title_JJS_per_word</th>\n",
              "      <th>title_(_per_word</th>\n",
              "      <th>title_)_per_word</th>\n",
              "      <th>title_$_per_word</th>\n",
              "      <th>title_UH_per_word</th>\n",
              "      <th>title_RBS_per_word</th>\n",
              "      <th>position_adjusted</th>\n",
              "      <th>nltk_body_sentiment_compound</th>\n",
              "      <th>nltk_title_sentiment_compound</th>\n",
              "      <th>nltk_body_sentiment_neg</th>\n",
              "      <th>nltk_title_sentiment_neg</th>\n",
              "      <th>nltk_body_sentiment_neu</th>\n",
              "      <th>nltk_title_sentiment_neu</th>\n",
              "      <th>nltk_body_sentiment_pos</th>\n",
              "      <th>nltk_title_sentiment_pos</th>\n",
              "      <th>title_negation</th>\n",
              "      <th>body_negation</th>\n",
              "      <th>title_negation_per_word</th>\n",
              "      <th>body_negation_per_word</th>\n",
              "      <th>title_stem</th>\n",
              "      <th>title_stem_pos</th>\n",
              "      <th>body_stem</th>\n",
              "      <th>body_stem_pos</th>\n",
              "      <th>categories</th>\n",
              "      <th>concepts</th>\n",
              "    </tr>\n",
              "  </thead>\n",
              "  <tbody>\n",
              "    <tr>\n",
              "      <th>0</th>\n",
              "      <td>-0.411765</td>\n",
              "      <td>6</td>\n",
              "      <td>6562271338</td>\n",
              "      <td>U.S. warns that extremists may strike as virus...</td>\n",
              "      <td>WASHINGTON -- A national terrorism alert issue...</td>\n",
              "      <td>pressherald.com</td>\n",
              "      <td>Portland Press Herald</td>\n",
              "      <td>12299</td>\n",
              "      <td>39825</td>\n",
              "      <td>313417</td>\n",
              "      <td>True</td>\n",
              "      <td>2021-05-14</td>\n",
              "      <td>{\"uri\": \"6562271338\", \"lang\": \"eng\", \"isDuplic...</td>\n",
              "      <td>10</td>\n",
              "      <td>748</td>\n",
              "      <td>145605</td>\n",
              "      <td>/news-source/portland-press-herarld</td>\n",
              "      <td>Center</td>\n",
              "      <td>0</td>\n",
              "      <td>[\"U.S.\", \"warns\", \"that\", \"extremists\", \"may\",...</td>\n",
              "      <td>[\"WASHINGTON\", \"--\", \"A\", \"national\", \"terrori...</td>\n",
              "      <td>1</td>\n",
              "      <td>1</td>\n",
              "      <td>2</td>\n",
              "      <td>1</td>\n",
              "      <td>1</td>\n",
              "      <td>1</td>\n",
              "      <td>1</td>\n",
              "      <td>0</td>\n",
              "      <td>0</td>\n",
              "      <td>0</td>\n",
              "      <td>0</td>\n",
              "      <td>0</td>\n",
              "      <td>0</td>\n",
              "      <td>0</td>\n",
              "      <td>0</td>\n",
              "      <td>0</td>\n",
              "      <td>0</td>\n",
              "      <td>0</td>\n",
              "      <td>0</td>\n",
              "      <td>...</td>\n",
              "      <td>0.0</td>\n",
              "      <td>0.0</td>\n",
              "      <td>0.000000</td>\n",
              "      <td>0.0</td>\n",
              "      <td>0.000000</td>\n",
              "      <td>0.0</td>\n",
              "      <td>0.0</td>\n",
              "      <td>0.0</td>\n",
              "      <td>0.0</td>\n",
              "      <td>0.0</td>\n",
              "      <td>0.0</td>\n",
              "      <td>0.0</td>\n",
              "      <td>0.0</td>\n",
              "      <td>0.0</td>\n",
              "      <td>0.0</td>\n",
              "      <td>0.0</td>\n",
              "      <td>0.0</td>\n",
              "      <td>0.0</td>\n",
              "      <td>0.000000</td>\n",
              "      <td>0.0</td>\n",
              "      <td>0.0</td>\n",
              "      <td>center</td>\n",
              "      <td>-0.9964</td>\n",
              "      <td>0.1531</td>\n",
              "      <td>0.173</td>\n",
              "      <td>0.234</td>\n",
              "      <td>0.724</td>\n",
              "      <td>0.565</td>\n",
              "      <td>0.103</td>\n",
              "      <td>0.202</td>\n",
              "      <td>0</td>\n",
              "      <td>4</td>\n",
              "      <td>0.0</td>\n",
              "      <td>0.005348</td>\n",
              "      <td>[\"u.s.\", \"warn\", \"extremist\", \"may\", \"strike\",...</td>\n",
              "      <td>[\"NN\", \"VB\", \"NN\", \"MD\", \"VB\", \"NN\", \"NN\", \"VB\"]</td>\n",
              "      <td>[\"washington\", \"A\", \"nation\", \"terror\", \"alert...</td>\n",
              "      <td>[\"NN\", \"DT\", \"JJ\", \"NN\", \"JJ\", \"VB\", \"NN\", \"VB...</td>\n",
              "      <td>[{\"uri\": \"news/Politics\", \"label\": \"news/Polit...</td>\n",
              "      <td>[{\"uri\": \"http://en.wikipedia.org/wiki/Violent...</td>\n",
              "    </tr>\n",
              "    <tr>\n",
              "      <th>1</th>\n",
              "      <td>0.121569</td>\n",
              "      <td>7</td>\n",
              "      <td>6478206548</td>\n",
              "      <td>Jesuits pledge $100 million for descendants of...</td>\n",
              "      <td>WASHINGTON -- One of the Catholic Church's mos...</td>\n",
              "      <td>pressherald.com</td>\n",
              "      <td>Portland Press Herald</td>\n",
              "      <td>12299</td>\n",
              "      <td>39825</td>\n",
              "      <td>313417</td>\n",
              "      <td>True</td>\n",
              "      <td>2021-03-17</td>\n",
              "      <td>{\"uri\": \"6478206548\", \"lang\": \"eng\", \"isDuplic...</td>\n",
              "      <td>18</td>\n",
              "      <td>1080</td>\n",
              "      <td>145605</td>\n",
              "      <td>/news-source/portland-press-herarld</td>\n",
              "      <td>Center</td>\n",
              "      <td>0</td>\n",
              "      <td>[\"Jesuits\", \"pledge\", \"$\", \"100\", \"million\", \"...</td>\n",
              "      <td>[\"WASHINGTON\", \"--\", \"One\", \"of\", \"the\", \"Cath...</td>\n",
              "      <td>4</td>\n",
              "      <td>0</td>\n",
              "      <td>3</td>\n",
              "      <td>0</td>\n",
              "      <td>0</td>\n",
              "      <td>1</td>\n",
              "      <td>1</td>\n",
              "      <td>1</td>\n",
              "      <td>2</td>\n",
              "      <td>1</td>\n",
              "      <td>1</td>\n",
              "      <td>0</td>\n",
              "      <td>0</td>\n",
              "      <td>0</td>\n",
              "      <td>0</td>\n",
              "      <td>0</td>\n",
              "      <td>0</td>\n",
              "      <td>0</td>\n",
              "      <td>0</td>\n",
              "      <td>...</td>\n",
              "      <td>0.0</td>\n",
              "      <td>0.0</td>\n",
              "      <td>0.111111</td>\n",
              "      <td>0.0</td>\n",
              "      <td>0.000000</td>\n",
              "      <td>0.0</td>\n",
              "      <td>0.0</td>\n",
              "      <td>0.0</td>\n",
              "      <td>0.0</td>\n",
              "      <td>0.0</td>\n",
              "      <td>0.0</td>\n",
              "      <td>0.0</td>\n",
              "      <td>0.0</td>\n",
              "      <td>0.0</td>\n",
              "      <td>0.0</td>\n",
              "      <td>0.0</td>\n",
              "      <td>0.0</td>\n",
              "      <td>0.0</td>\n",
              "      <td>0.055556</td>\n",
              "      <td>0.0</td>\n",
              "      <td>0.0</td>\n",
              "      <td>center</td>\n",
              "      <td>-0.7845</td>\n",
              "      <td>-0.4019</td>\n",
              "      <td>0.087</td>\n",
              "      <td>0.153</td>\n",
              "      <td>0.821</td>\n",
              "      <td>0.847</td>\n",
              "      <td>0.092</td>\n",
              "      <td>0.000</td>\n",
              "      <td>0</td>\n",
              "      <td>53</td>\n",
              "      <td>0.0</td>\n",
              "      <td>0.049074</td>\n",
              "      <td>[\"jesuit\", \"pledg\", \"100\", \"million\", \"descend...</td>\n",
              "      <td>[\"NN\", \"VB\", \"CD\", \"CD\", \"NN\", \"NN\", \"NN\", \"NN...</td>\n",
              "      <td>[\"washington\", \"one\", \"cathol\", \"church\", \"wel...</td>\n",
              "      <td>[\"NN\", \"CD\", \"NN\", \"NN\", \"JJ\", \"JJ\", \"NN\", \"VB...</td>\n",
              "      <td>[{\"uri\": \"news/Politics\", \"label\": \"news/Polit...</td>\n",
              "      <td>[{\"uri\": \"http://en.wikipedia.org/wiki/Salvati...</td>\n",
              "    </tr>\n",
              "    <tr>\n",
              "      <th>2</th>\n",
              "      <td>0.043137</td>\n",
              "      <td>6</td>\n",
              "      <td>6198522667</td>\n",
              "      <td>NFL teams huddling up to devise plans for soci...</td>\n",
              "      <td>Florham Park, New Jersey - Sam Darnold watched...</td>\n",
              "      <td>japantimes.co.jp</td>\n",
              "      <td>The Japan Times</td>\n",
              "      <td>688</td>\n",
              "      <td>4954</td>\n",
              "      <td>207467</td>\n",
              "      <td>True</td>\n",
              "      <td>2020-08-30</td>\n",
              "      <td>{\"uri\": \"6198522667\", \"lang\": \"eng\", \"isDuplic...</td>\n",
              "      <td>10</td>\n",
              "      <td>1189</td>\n",
              "      <td>109816</td>\n",
              "      <td>/news-source/japan-times-media-bias</td>\n",
              "      <td>Center</td>\n",
              "      <td>0</td>\n",
              "      <td>[\"NFL\", \"teams\", \"huddling\", \"up\", \"to\", \"devi...</td>\n",
              "      <td>[\"Florham\", \"Park\", \",\", \"New\", \"Jersey\", \"-\",...</td>\n",
              "      <td>1</td>\n",
              "      <td>0</td>\n",
              "      <td>2</td>\n",
              "      <td>0</td>\n",
              "      <td>1</td>\n",
              "      <td>1</td>\n",
              "      <td>0</td>\n",
              "      <td>0</td>\n",
              "      <td>0</td>\n",
              "      <td>0</td>\n",
              "      <td>0</td>\n",
              "      <td>1</td>\n",
              "      <td>1</td>\n",
              "      <td>0</td>\n",
              "      <td>0</td>\n",
              "      <td>0</td>\n",
              "      <td>0</td>\n",
              "      <td>0</td>\n",
              "      <td>0</td>\n",
              "      <td>...</td>\n",
              "      <td>0.0</td>\n",
              "      <td>0.0</td>\n",
              "      <td>0.000000</td>\n",
              "      <td>0.0</td>\n",
              "      <td>0.000000</td>\n",
              "      <td>0.0</td>\n",
              "      <td>0.0</td>\n",
              "      <td>0.0</td>\n",
              "      <td>0.0</td>\n",
              "      <td>0.0</td>\n",
              "      <td>0.0</td>\n",
              "      <td>0.0</td>\n",
              "      <td>0.0</td>\n",
              "      <td>0.0</td>\n",
              "      <td>0.0</td>\n",
              "      <td>0.0</td>\n",
              "      <td>0.0</td>\n",
              "      <td>0.0</td>\n",
              "      <td>0.000000</td>\n",
              "      <td>0.0</td>\n",
              "      <td>0.0</td>\n",
              "      <td>center</td>\n",
              "      <td>0.9266</td>\n",
              "      <td>0.0000</td>\n",
              "      <td>0.057</td>\n",
              "      <td>0.000</td>\n",
              "      <td>0.863</td>\n",
              "      <td>1.000</td>\n",
              "      <td>0.080</td>\n",
              "      <td>0.000</td>\n",
              "      <td>0</td>\n",
              "      <td>113</td>\n",
              "      <td>0.0</td>\n",
              "      <td>0.095038</td>\n",
              "      <td>[\"nfl\", \"team\", \"huddl\", \"devis\", \"plan\", \"soc...</td>\n",
              "      <td>[\"NN\", \"NN\", \"VB\", \"VB\", \"NN\", \"JJ\", \"NN\"]</td>\n",
              "      <td>[\"florham\", \"park\", \"new\", \"jersey\", \"sam\", \"d...</td>\n",
              "      <td>[\"NN\", \"NN\", \"NN\", \"NN\", \"NN\", \"NN\", \"VB\", \"JJ...</td>\n",
              "      <td>[{\"uri\": \"news/Sports\", \"label\": \"news/Sports\"...</td>\n",
              "      <td>[{\"uri\": \"http://en.wikipedia.org/wiki/Sam_Dar...</td>\n",
              "    </tr>\n",
              "    <tr>\n",
              "      <th>3</th>\n",
              "      <td>-0.364706</td>\n",
              "      <td>16</td>\n",
              "      <td>6582206716</td>\n",
              "      <td>Biden: antisemitic attacks 'despicable, uncons...</td>\n",
              "      <td>WASHINGTON - US President Joe Biden released a...</td>\n",
              "      <td>jpost.com</td>\n",
              "      <td>The Jerusalem Post</td>\n",
              "      <td>2613</td>\n",
              "      <td>5628</td>\n",
              "      <td>211617</td>\n",
              "      <td>True</td>\n",
              "      <td>2021-05-28</td>\n",
              "      <td>{\"uri\": \"6582206716\", \"lang\": \"eng\", \"isDuplic...</td>\n",
              "      <td>10</td>\n",
              "      <td>326</td>\n",
              "      <td>126779</td>\n",
              "      <td>/news-source/jerusalem-post-media-bias</td>\n",
              "      <td>Center</td>\n",
              "      <td>0</td>\n",
              "      <td>[\"Biden\", \":\", \"antisemitic\", \"attacks\", \"'des...</td>\n",
              "      <td>[\"WASHINGTON\", \"-\", \"US\", \"President\", \"Joe\", ...</td>\n",
              "      <td>1</td>\n",
              "      <td>0</td>\n",
              "      <td>1</td>\n",
              "      <td>0</td>\n",
              "      <td>0</td>\n",
              "      <td>0</td>\n",
              "      <td>0</td>\n",
              "      <td>0</td>\n",
              "      <td>0</td>\n",
              "      <td>0</td>\n",
              "      <td>1</td>\n",
              "      <td>0</td>\n",
              "      <td>4</td>\n",
              "      <td>2</td>\n",
              "      <td>1</td>\n",
              "      <td>0</td>\n",
              "      <td>0</td>\n",
              "      <td>0</td>\n",
              "      <td>0</td>\n",
              "      <td>...</td>\n",
              "      <td>0.1</td>\n",
              "      <td>0.0</td>\n",
              "      <td>0.000000</td>\n",
              "      <td>0.0</td>\n",
              "      <td>0.000000</td>\n",
              "      <td>0.0</td>\n",
              "      <td>0.0</td>\n",
              "      <td>0.0</td>\n",
              "      <td>0.0</td>\n",
              "      <td>0.0</td>\n",
              "      <td>0.0</td>\n",
              "      <td>0.0</td>\n",
              "      <td>0.0</td>\n",
              "      <td>0.0</td>\n",
              "      <td>0.0</td>\n",
              "      <td>0.0</td>\n",
              "      <td>0.0</td>\n",
              "      <td>0.0</td>\n",
              "      <td>0.000000</td>\n",
              "      <td>0.0</td>\n",
              "      <td>0.0</td>\n",
              "      <td>center</td>\n",
              "      <td>-0.9913</td>\n",
              "      <td>-0.4404</td>\n",
              "      <td>0.219</td>\n",
              "      <td>0.367</td>\n",
              "      <td>0.694</td>\n",
              "      <td>0.633</td>\n",
              "      <td>0.086</td>\n",
              "      <td>0.000</td>\n",
              "      <td>0</td>\n",
              "      <td>57</td>\n",
              "      <td>0.0</td>\n",
              "      <td>0.174847</td>\n",
              "      <td>[\"biden\", \"antisemit\", \"attack\", \"unconscion\",...</td>\n",
              "      <td>[\"NN\", \"JJ\", \"NN\", \"JJ\", \"JJ\"]</td>\n",
              "      <td>[\"washington\", \"US\", \"presid\", \"joe\", \"biden\",...</td>\n",
              "      <td>[\"NN\", \"NN\", \"NN\", \"NN\", \"NN\", \"VB\", \"NN\", \"NN...</td>\n",
              "      <td>[{\"uri\": \"news/Politics\", \"label\": \"news/Polit...</td>\n",
              "      <td>[{\"uri\": \"http://en.wikipedia.org/wiki/Antisem...</td>\n",
              "    </tr>\n",
              "    <tr>\n",
              "      <th>4</th>\n",
              "      <td>-0.388235</td>\n",
              "      <td>11</td>\n",
              "      <td>6491967421</td>\n",
              "      <td>Wallingford teen organizes rally in respon...</td>\n",
              "      <td>WALLINGFORD -- When Amy Bui first heard of the...</td>\n",
              "      <td>myrecordjournal.com</td>\n",
              "      <td>My Record Journal</td>\n",
              "      <td>72913</td>\n",
              "      <td>312056</td>\n",
              "      <td>499522</td>\n",
              "      <td>False</td>\n",
              "      <td>2021-03-25</td>\n",
              "      <td>{\"uri\": \"6491967421\", \"lang\": \"eng\", \"isDuplic...</td>\n",
              "      <td>9</td>\n",
              "      <td>393</td>\n",
              "      <td>9967</td>\n",
              "      <td>/news-source/record-journal</td>\n",
              "      <td>Center</td>\n",
              "      <td>0</td>\n",
              "      <td>[\"Wallingford\", \"teen\", \"organizes\", \"rally\", ...</td>\n",
              "      <td>[\"WALLINGFORD\", \"--\", \"When\", \"Amy\", \"Bui\", \"f...</td>\n",
              "      <td>1</td>\n",
              "      <td>1</td>\n",
              "      <td>1</td>\n",
              "      <td>0</td>\n",
              "      <td>0</td>\n",
              "      <td>2</td>\n",
              "      <td>0</td>\n",
              "      <td>0</td>\n",
              "      <td>0</td>\n",
              "      <td>0</td>\n",
              "      <td>0</td>\n",
              "      <td>0</td>\n",
              "      <td>1</td>\n",
              "      <td>0</td>\n",
              "      <td>0</td>\n",
              "      <td>1</td>\n",
              "      <td>0</td>\n",
              "      <td>0</td>\n",
              "      <td>0</td>\n",
              "      <td>...</td>\n",
              "      <td>0.0</td>\n",
              "      <td>0.0</td>\n",
              "      <td>0.000000</td>\n",
              "      <td>0.0</td>\n",
              "      <td>0.111111</td>\n",
              "      <td>0.0</td>\n",
              "      <td>0.0</td>\n",
              "      <td>0.0</td>\n",
              "      <td>0.0</td>\n",
              "      <td>0.0</td>\n",
              "      <td>0.0</td>\n",
              "      <td>0.0</td>\n",
              "      <td>0.0</td>\n",
              "      <td>0.0</td>\n",
              "      <td>0.0</td>\n",
              "      <td>0.0</td>\n",
              "      <td>0.0</td>\n",
              "      <td>0.0</td>\n",
              "      <td>0.000000</td>\n",
              "      <td>0.0</td>\n",
              "      <td>0.0</td>\n",
              "      <td>center</td>\n",
              "      <td>-0.9782</td>\n",
              "      <td>-0.6705</td>\n",
              "      <td>0.112</td>\n",
              "      <td>0.360</td>\n",
              "      <td>0.847</td>\n",
              "      <td>0.640</td>\n",
              "      <td>0.041</td>\n",
              "      <td>0.000</td>\n",
              "      <td>0</td>\n",
              "      <td>75</td>\n",
              "      <td>0.0</td>\n",
              "      <td>0.190840</td>\n",
              "      <td>[\"wallingford\", \"teen\", \"organ\", \"ralli\", \"res...</td>\n",
              "      <td>[\"NN\", \"NN\", \"VB\", \"RB\", \"NN\", \"JJ\", \"NN\"]</td>\n",
              "      <td>[\"wallingford\", \"when\", \"ami\", \"bui\", \"first\",...</td>\n",
              "      <td>[\"NN\", \"WR\", \"NN\", \"NN\", \"RB\", \"NN\", \"JJ\", \"NN...</td>\n",
              "      <td>[{\"uri\": \"news/Arts_and_Entertainment\", \"label...</td>\n",
              "      <td>[{\"uri\": \"http://en.wikipedia.org/wiki/Atlanta...</td>\n",
              "    </tr>\n",
              "  </tbody>\n",
              "</table>\n",
              "<p>5 rows × 209 columns</p>\n",
              "</div>"
            ],
            "text/plain": [
              "   sentiment  ...                                           concepts\n",
              "0  -0.411765  ...  [{\"uri\": \"http://en.wikipedia.org/wiki/Violent...\n",
              "1   0.121569  ...  [{\"uri\": \"http://en.wikipedia.org/wiki/Salvati...\n",
              "2   0.043137  ...  [{\"uri\": \"http://en.wikipedia.org/wiki/Sam_Dar...\n",
              "3  -0.364706  ...  [{\"uri\": \"http://en.wikipedia.org/wiki/Antisem...\n",
              "4  -0.388235  ...  [{\"uri\": \"http://en.wikipedia.org/wiki/Atlanta...\n",
              "\n",
              "[5 rows x 209 columns]"
            ]
          },
          "metadata": {
            "tags": []
          },
          "execution_count": 4
        }
      ]
    },
    {
      "cell_type": "code",
      "metadata": {
        "id": "MoHVYECuJ5Vx"
      },
      "source": [
        "limit_df = df[df['source_position'].isin(['Left',  'Right'])].copy()\n",
        "limit_df['y_'] = np.where(limit_df['source_position'] == \"Left\", 1, 0)"
      ],
      "execution_count": 5,
      "outputs": []
    },
    {
      "cell_type": "code",
      "metadata": {
        "colab": {
          "base_uri": "https://localhost:8080/",
          "height": 746
        },
        "id": "32_VuLTxJ5Vx",
        "outputId": "6caf286f-45e0-467d-ac16-b1d7f020a2fb"
      },
      "source": [
        "wider_df = df[df['source_position'] != 'Center'].copy()\n",
        "wider_df['y_'] = np.where(wider_df['source_position'].isin([\"Left\", \"Lean Left\"]), 1, 0)\n",
        "wider_df.head()"
      ],
      "execution_count": 6,
      "outputs": [
        {
          "output_type": "execute_result",
          "data": {
            "text/html": [
              "<div>\n",
              "<style scoped>\n",
              "    .dataframe tbody tr th:only-of-type {\n",
              "        vertical-align: middle;\n",
              "    }\n",
              "\n",
              "    .dataframe tbody tr th {\n",
              "        vertical-align: top;\n",
              "    }\n",
              "\n",
              "    .dataframe thead th {\n",
              "        text-align: right;\n",
              "    }\n",
              "</style>\n",
              "<table border=\"1\" class=\"dataframe\">\n",
              "  <thead>\n",
              "    <tr style=\"text-align: right;\">\n",
              "      <th></th>\n",
              "      <th>sentiment</th>\n",
              "      <th>relevance</th>\n",
              "      <th>uri</th>\n",
              "      <th>title</th>\n",
              "      <th>body</th>\n",
              "      <th>source_uri</th>\n",
              "      <th>source_name</th>\n",
              "      <th>source_alexaCountryRank</th>\n",
              "      <th>source_alexaGlobalRank</th>\n",
              "      <th>source_importanceRank</th>\n",
              "      <th>source_valid_location</th>\n",
              "      <th>date</th>\n",
              "      <th>json_data</th>\n",
              "      <th>title_length</th>\n",
              "      <th>body_length</th>\n",
              "      <th>source_score</th>\n",
              "      <th>source_link</th>\n",
              "      <th>source_position</th>\n",
              "      <th>source_pos_int</th>\n",
              "      <th>title_doc</th>\n",
              "      <th>body_doc</th>\n",
              "      <th>title_NNP</th>\n",
              "      <th>title_VBZ</th>\n",
              "      <th>title_NNS</th>\n",
              "      <th>title_MD</th>\n",
              "      <th>title_VB</th>\n",
              "      <th>title_NN</th>\n",
              "      <th>title_VBP</th>\n",
              "      <th>title_$</th>\n",
              "      <th>title_CD</th>\n",
              "      <th>title_VBD</th>\n",
              "      <th>title_:</th>\n",
              "      <th>title_VBG</th>\n",
              "      <th>title_JJ</th>\n",
              "      <th>title_,</th>\n",
              "      <th>title_''</th>\n",
              "      <th>title_RB</th>\n",
              "      <th>title_IN</th>\n",
              "      <th>title_POS</th>\n",
              "      <th>title_``</th>\n",
              "      <th>...</th>\n",
              "      <th>title_DT_per_word</th>\n",
              "      <th>title_CD_per_word</th>\n",
              "      <th>title_WRB_per_word</th>\n",
              "      <th>title_RB_per_word</th>\n",
              "      <th>title_PRP_per_word</th>\n",
              "      <th>title_PRP$_per_word</th>\n",
              "      <th>title_RP_per_word</th>\n",
              "      <th>title_PDT_per_word</th>\n",
              "      <th>title_TO_per_word</th>\n",
              "      <th>title_``_per_word</th>\n",
              "      <th>title_FW_per_word</th>\n",
              "      <th>title_CC_per_word</th>\n",
              "      <th>title_._per_word</th>\n",
              "      <th>title_WP_per_word</th>\n",
              "      <th>title_JJS_per_word</th>\n",
              "      <th>title_(_per_word</th>\n",
              "      <th>title_)_per_word</th>\n",
              "      <th>title_$_per_word</th>\n",
              "      <th>title_UH_per_word</th>\n",
              "      <th>title_RBS_per_word</th>\n",
              "      <th>position_adjusted</th>\n",
              "      <th>nltk_body_sentiment_compound</th>\n",
              "      <th>nltk_title_sentiment_compound</th>\n",
              "      <th>nltk_body_sentiment_neg</th>\n",
              "      <th>nltk_title_sentiment_neg</th>\n",
              "      <th>nltk_body_sentiment_neu</th>\n",
              "      <th>nltk_title_sentiment_neu</th>\n",
              "      <th>nltk_body_sentiment_pos</th>\n",
              "      <th>nltk_title_sentiment_pos</th>\n",
              "      <th>title_negation</th>\n",
              "      <th>body_negation</th>\n",
              "      <th>title_negation_per_word</th>\n",
              "      <th>body_negation_per_word</th>\n",
              "      <th>title_stem</th>\n",
              "      <th>title_stem_pos</th>\n",
              "      <th>body_stem</th>\n",
              "      <th>body_stem_pos</th>\n",
              "      <th>categories</th>\n",
              "      <th>concepts</th>\n",
              "      <th>y_</th>\n",
              "    </tr>\n",
              "  </thead>\n",
              "  <tbody>\n",
              "    <tr>\n",
              "      <th>500</th>\n",
              "      <td>0.011765</td>\n",
              "      <td>6</td>\n",
              "      <td>6498699517</td>\n",
              "      <td>Who Are the Jurors in the Derek Chauvin Trial?</td>\n",
              "      <td>MINNEAPOLIS -- A white intensive care nurse wh...</td>\n",
              "      <td>nytimes.com</td>\n",
              "      <td>The New York Times</td>\n",
              "      <td>30</td>\n",
              "      <td>90</td>\n",
              "      <td>7746</td>\n",
              "      <td>True</td>\n",
              "      <td>2021-03-30</td>\n",
              "      <td>{\"uri\": \"6498699517\", \"lang\": \"eng\", \"isDuplic...</td>\n",
              "      <td>10</td>\n",
              "      <td>1686</td>\n",
              "      <td>325384</td>\n",
              "      <td>/news-source/new-york-times</td>\n",
              "      <td>Lean Left</td>\n",
              "      <td>1</td>\n",
              "      <td>[\"Who\", \"Are\", \"the\", \"Jurors\", \"in\", \"the\", \"...</td>\n",
              "      <td>[\"MINNEAPOLIS\", \"--\", \"A\", \"white\", \"intensive...</td>\n",
              "      <td>3</td>\n",
              "      <td>0</td>\n",
              "      <td>1</td>\n",
              "      <td>0</td>\n",
              "      <td>0</td>\n",
              "      <td>0</td>\n",
              "      <td>1</td>\n",
              "      <td>0</td>\n",
              "      <td>0</td>\n",
              "      <td>0</td>\n",
              "      <td>0</td>\n",
              "      <td>0</td>\n",
              "      <td>0</td>\n",
              "      <td>0</td>\n",
              "      <td>0</td>\n",
              "      <td>0</td>\n",
              "      <td>0</td>\n",
              "      <td>0</td>\n",
              "      <td>0</td>\n",
              "      <td>...</td>\n",
              "      <td>0.0</td>\n",
              "      <td>0.0</td>\n",
              "      <td>0.000000</td>\n",
              "      <td>0.000000</td>\n",
              "      <td>0.0</td>\n",
              "      <td>0.0</td>\n",
              "      <td>0.0</td>\n",
              "      <td>0.0</td>\n",
              "      <td>0.0</td>\n",
              "      <td>0.0</td>\n",
              "      <td>0.0</td>\n",
              "      <td>0.0</td>\n",
              "      <td>0.1</td>\n",
              "      <td>0.1</td>\n",
              "      <td>0.0</td>\n",
              "      <td>0.0</td>\n",
              "      <td>0.0</td>\n",
              "      <td>0.0</td>\n",
              "      <td>0.0</td>\n",
              "      <td>0.0</td>\n",
              "      <td>left</td>\n",
              "      <td>-0.9992</td>\n",
              "      <td>0.0000</td>\n",
              "      <td>0.130</td>\n",
              "      <td>0.00</td>\n",
              "      <td>0.819</td>\n",
              "      <td>1.00</td>\n",
              "      <td>0.051</td>\n",
              "      <td>0.0</td>\n",
              "      <td>0</td>\n",
              "      <td>160</td>\n",
              "      <td>0.000000</td>\n",
              "      <td>0.094899</td>\n",
              "      <td>[\"who\", \"are\", \"juror\", \"derek\", \"chauvin\", \"t...</td>\n",
              "      <td>[\"WP\", \"VB\", \"NN\", \"NN\", \"NN\", \"NN\"]</td>\n",
              "      <td>[\"minneapoli\", \"A\", \"white\", \"intens\", \"care\",...</td>\n",
              "      <td>[\"NN\", \"NN\", \"JJ\", \"JJ\", \"NN\", \"NN\", \"VB\", \"VB...</td>\n",
              "      <td>[{\"uri\": \"news/Arts_and_Entertainment\", \"label...</td>\n",
              "      <td>[{\"uri\": \"http://en.wikipedia.org/wiki/Jury\", ...</td>\n",
              "      <td>1</td>\n",
              "    </tr>\n",
              "    <tr>\n",
              "      <th>501</th>\n",
              "      <td>-0.184314</td>\n",
              "      <td>5</td>\n",
              "      <td>6551179774</td>\n",
              "      <td>Keisha Lance Bottoms Won't Seek Second Term as...</td>\n",
              "      <td>ATLANTA -- Keisha Lance Bottoms, the first-ter...</td>\n",
              "      <td>nytimes.com</td>\n",
              "      <td>The New York Times</td>\n",
              "      <td>30</td>\n",
              "      <td>90</td>\n",
              "      <td>7746</td>\n",
              "      <td>True</td>\n",
              "      <td>2021-05-07</td>\n",
              "      <td>{\"uri\": \"6551179774\", \"lang\": \"eng\", \"isDuplic...</td>\n",
              "      <td>11</td>\n",
              "      <td>523</td>\n",
              "      <td>325384</td>\n",
              "      <td>/news-source/new-york-times</td>\n",
              "      <td>Lean Left</td>\n",
              "      <td>1</td>\n",
              "      <td>[\"Keisha\", \"Lance\", \"Bottoms\", \"Wo\", \"n't\", \"S...</td>\n",
              "      <td>[\"ATLANTA\", \"--\", \"Keisha\", \"Lance\", \"Bottoms\"...</td>\n",
              "      <td>8</td>\n",
              "      <td>0</td>\n",
              "      <td>0</td>\n",
              "      <td>0</td>\n",
              "      <td>0</td>\n",
              "      <td>0</td>\n",
              "      <td>0</td>\n",
              "      <td>0</td>\n",
              "      <td>0</td>\n",
              "      <td>0</td>\n",
              "      <td>0</td>\n",
              "      <td>0</td>\n",
              "      <td>1</td>\n",
              "      <td>0</td>\n",
              "      <td>0</td>\n",
              "      <td>1</td>\n",
              "      <td>0</td>\n",
              "      <td>0</td>\n",
              "      <td>0</td>\n",
              "      <td>...</td>\n",
              "      <td>0.0</td>\n",
              "      <td>0.0</td>\n",
              "      <td>0.000000</td>\n",
              "      <td>0.090909</td>\n",
              "      <td>0.0</td>\n",
              "      <td>0.0</td>\n",
              "      <td>0.0</td>\n",
              "      <td>0.0</td>\n",
              "      <td>0.0</td>\n",
              "      <td>0.0</td>\n",
              "      <td>0.0</td>\n",
              "      <td>0.0</td>\n",
              "      <td>0.0</td>\n",
              "      <td>0.0</td>\n",
              "      <td>0.0</td>\n",
              "      <td>0.0</td>\n",
              "      <td>0.0</td>\n",
              "      <td>0.0</td>\n",
              "      <td>0.0</td>\n",
              "      <td>0.0</td>\n",
              "      <td>left</td>\n",
              "      <td>-0.9746</td>\n",
              "      <td>0.0000</td>\n",
              "      <td>0.129</td>\n",
              "      <td>0.00</td>\n",
              "      <td>0.781</td>\n",
              "      <td>1.00</td>\n",
              "      <td>0.089</td>\n",
              "      <td>0.0</td>\n",
              "      <td>6</td>\n",
              "      <td>42</td>\n",
              "      <td>0.545455</td>\n",
              "      <td>0.080306</td>\n",
              "      <td>[\"keisha\", \"lanc\", \"bottom\", \"Wo\", \"n't\", \"see...</td>\n",
              "      <td>[\"NN\", \"NN\", \"NN\", \"NN\", \"RB\", \"NN\", \"JJ\", \"NN...</td>\n",
              "      <td>[\"atlanta\", \"keisha\", \"lanc\", \"bottom\", \"first...</td>\n",
              "      <td>[\"NN\", \"NN\", \"NN\", \"NN\", \"JJ\", \"NN\", \"NN\", \"VB...</td>\n",
              "      <td>[{\"uri\": \"news/Politics\", \"label\": \"news/Polit...</td>\n",
              "      <td>[{\"uri\": \"http://en.wikipedia.org/wiki/Keisha_...</td>\n",
              "      <td>1</td>\n",
              "    </tr>\n",
              "    <tr>\n",
              "      <th>502</th>\n",
              "      <td>-0.066667</td>\n",
              "      <td>5</td>\n",
              "      <td>6169235469</td>\n",
              "      <td>White House-USAID liaison fired after series o...</td>\n",
              "      <td>WASHINGTON -- Deputy White House Liaison to th...</td>\n",
              "      <td>nbcnews.com</td>\n",
              "      <td>NBC News</td>\n",
              "      <td>221</td>\n",
              "      <td>759</td>\n",
              "      <td>154140</td>\n",
              "      <td>True</td>\n",
              "      <td>2020-08-03</td>\n",
              "      <td>{\"uri\": \"6169235469\", \"lang\": \"eng\", \"isDuplic...</td>\n",
              "      <td>9</td>\n",
              "      <td>298</td>\n",
              "      <td>113020</td>\n",
              "      <td>/news-source/nbc-news-media-bias</td>\n",
              "      <td>Lean Left</td>\n",
              "      <td>1</td>\n",
              "      <td>[\"White\", \"House-USAID\", \"liaison\", \"fired\", \"...</td>\n",
              "      <td>[\"WASHINGTON\", \"--\", \"Deputy\", \"White\", \"House...</td>\n",
              "      <td>2</td>\n",
              "      <td>0</td>\n",
              "      <td>1</td>\n",
              "      <td>0</td>\n",
              "      <td>0</td>\n",
              "      <td>2</td>\n",
              "      <td>0</td>\n",
              "      <td>0</td>\n",
              "      <td>0</td>\n",
              "      <td>1</td>\n",
              "      <td>0</td>\n",
              "      <td>0</td>\n",
              "      <td>1</td>\n",
              "      <td>0</td>\n",
              "      <td>0</td>\n",
              "      <td>0</td>\n",
              "      <td>0</td>\n",
              "      <td>0</td>\n",
              "      <td>0</td>\n",
              "      <td>...</td>\n",
              "      <td>0.0</td>\n",
              "      <td>0.0</td>\n",
              "      <td>0.000000</td>\n",
              "      <td>0.000000</td>\n",
              "      <td>0.0</td>\n",
              "      <td>0.0</td>\n",
              "      <td>0.0</td>\n",
              "      <td>0.0</td>\n",
              "      <td>0.0</td>\n",
              "      <td>0.0</td>\n",
              "      <td>0.0</td>\n",
              "      <td>0.0</td>\n",
              "      <td>0.0</td>\n",
              "      <td>0.0</td>\n",
              "      <td>0.0</td>\n",
              "      <td>0.0</td>\n",
              "      <td>0.0</td>\n",
              "      <td>0.0</td>\n",
              "      <td>0.0</td>\n",
              "      <td>0.0</td>\n",
              "      <td>left</td>\n",
              "      <td>-0.2732</td>\n",
              "      <td>-0.5574</td>\n",
              "      <td>0.110</td>\n",
              "      <td>0.31</td>\n",
              "      <td>0.799</td>\n",
              "      <td>0.69</td>\n",
              "      <td>0.091</td>\n",
              "      <td>0.0</td>\n",
              "      <td>0</td>\n",
              "      <td>52</td>\n",
              "      <td>0.000000</td>\n",
              "      <td>0.174497</td>\n",
              "      <td>[\"white\", \"house-usaid\", \"liaison\", \"fire\", \"s...</td>\n",
              "      <td>[\"NN\", \"NN\", \"NN\", \"VB\", \"NN\", \"JJ\", \"NN\"]</td>\n",
              "      <td>[\"washington\", \"deputi\", \"white\", \"hous\", \"lia...</td>\n",
              "      <td>[\"NN\", \"NN\", \"NN\", \"NN\", \"NN\", \"NN\", \"NN\", \"NN...</td>\n",
              "      <td>[{\"uri\": \"news/Politics\", \"label\": \"news/Polit...</td>\n",
              "      <td>[{\"uri\": \"http://en.wikipedia.org/wiki/United_...</td>\n",
              "      <td>1</td>\n",
              "    </tr>\n",
              "    <tr>\n",
              "      <th>503</th>\n",
              "      <td>0.286275</td>\n",
              "      <td>7</td>\n",
              "      <td>6277127744</td>\n",
              "      <td>In Nashville the reasons vary, the candidate o...</td>\n",
              "      <td>NASHVILLE, Tenn. -- Marcus Henderson, an entre...</td>\n",
              "      <td>nbcnews.com</td>\n",
              "      <td>NBC News</td>\n",
              "      <td>221</td>\n",
              "      <td>759</td>\n",
              "      <td>154140</td>\n",
              "      <td>True</td>\n",
              "      <td>2020-10-31</td>\n",
              "      <td>{\"uri\": \"6277127744\", \"lang\": \"eng\", \"isDuplic...</td>\n",
              "      <td>12</td>\n",
              "      <td>2656</td>\n",
              "      <td>113020</td>\n",
              "      <td>/news-source/nbc-news-media-bias</td>\n",
              "      <td>Lean Left</td>\n",
              "      <td>1</td>\n",
              "      <td>[\"In\", \"Nashville\", \"the\", \"reasons\", \"vary\", ...</td>\n",
              "      <td>[\"NASHVILLE\", \",\", \"Tenn.\", \"--\", \"Marcus\", \"H...</td>\n",
              "      <td>1</td>\n",
              "      <td>0</td>\n",
              "      <td>1</td>\n",
              "      <td>0</td>\n",
              "      <td>0</td>\n",
              "      <td>2</td>\n",
              "      <td>1</td>\n",
              "      <td>0</td>\n",
              "      <td>0</td>\n",
              "      <td>0</td>\n",
              "      <td>0</td>\n",
              "      <td>0</td>\n",
              "      <td>0</td>\n",
              "      <td>1</td>\n",
              "      <td>0</td>\n",
              "      <td>1</td>\n",
              "      <td>1</td>\n",
              "      <td>0</td>\n",
              "      <td>0</td>\n",
              "      <td>...</td>\n",
              "      <td>0.0</td>\n",
              "      <td>0.0</td>\n",
              "      <td>0.000000</td>\n",
              "      <td>0.083333</td>\n",
              "      <td>0.0</td>\n",
              "      <td>0.0</td>\n",
              "      <td>0.0</td>\n",
              "      <td>0.0</td>\n",
              "      <td>0.0</td>\n",
              "      <td>0.0</td>\n",
              "      <td>0.0</td>\n",
              "      <td>0.0</td>\n",
              "      <td>0.0</td>\n",
              "      <td>0.0</td>\n",
              "      <td>0.0</td>\n",
              "      <td>0.0</td>\n",
              "      <td>0.0</td>\n",
              "      <td>0.0</td>\n",
              "      <td>0.0</td>\n",
              "      <td>0.0</td>\n",
              "      <td>left</td>\n",
              "      <td>0.9962</td>\n",
              "      <td>0.0000</td>\n",
              "      <td>0.047</td>\n",
              "      <td>0.00</td>\n",
              "      <td>0.875</td>\n",
              "      <td>1.00</td>\n",
              "      <td>0.078</td>\n",
              "      <td>0.0</td>\n",
              "      <td>0</td>\n",
              "      <td>200</td>\n",
              "      <td>0.000000</td>\n",
              "      <td>0.075301</td>\n",
              "      <td>[\"In\", \"nashvil\", \"reason\", \"vari\", \"candid\", ...</td>\n",
              "      <td>[\"IN\", \"NN\", \"NN\", \"VB\", \"NN\", \"NN\", \"RB\"]</td>\n",
              "      <td>[\"nashvil\", \"tenn.\", \"marcu\", \"henderson\", \"en...</td>\n",
              "      <td>[\"NN\", \"NN\", \"NN\", \"NN\", \"NN\", \"VB\", \"NN\", \"NN...</td>\n",
              "      <td>[{\"uri\": \"news/Politics\", \"label\": \"news/Polit...</td>\n",
              "      <td>[{\"uri\": \"http://en.wikipedia.org/wiki/East_Na...</td>\n",
              "      <td>1</td>\n",
              "    </tr>\n",
              "    <tr>\n",
              "      <th>504</th>\n",
              "      <td>-0.113725</td>\n",
              "      <td>6</td>\n",
              "      <td>6205746602</td>\n",
              "      <td>Kentucky Derby: Why Black residents say the ra...</td>\n",
              "      <td>LOUISVILLE, Ky. -- The Kentucky Derby was alwa...</td>\n",
              "      <td>courier-journal.com</td>\n",
              "      <td>The Courier-Journal</td>\n",
              "      <td>7730</td>\n",
              "      <td>27457</td>\n",
              "      <td>291351</td>\n",
              "      <td>True</td>\n",
              "      <td>2020-09-04</td>\n",
              "      <td>{\"uri\": \"6205746602\", \"lang\": \"eng\", \"isDuplic...</td>\n",
              "      <td>14</td>\n",
              "      <td>1367</td>\n",
              "      <td>25500</td>\n",
              "      <td>/news-source/courier-journal</td>\n",
              "      <td>Lean Left</td>\n",
              "      <td>1</td>\n",
              "      <td>[\"Kentucky\", \"Derby\", \":\", \"Why\", \"Black\", \"re...</td>\n",
              "      <td>[\"LOUISVILLE\", \",\", \"Ky.\", \"--\", \"The\", \"Kentu...</td>\n",
              "      <td>3</td>\n",
              "      <td>0</td>\n",
              "      <td>1</td>\n",
              "      <td>0</td>\n",
              "      <td>0</td>\n",
              "      <td>3</td>\n",
              "      <td>1</td>\n",
              "      <td>0</td>\n",
              "      <td>0</td>\n",
              "      <td>0</td>\n",
              "      <td>1</td>\n",
              "      <td>0</td>\n",
              "      <td>0</td>\n",
              "      <td>0</td>\n",
              "      <td>0</td>\n",
              "      <td>1</td>\n",
              "      <td>0</td>\n",
              "      <td>0</td>\n",
              "      <td>0</td>\n",
              "      <td>...</td>\n",
              "      <td>0.0</td>\n",
              "      <td>0.0</td>\n",
              "      <td>0.071429</td>\n",
              "      <td>0.071429</td>\n",
              "      <td>0.0</td>\n",
              "      <td>0.0</td>\n",
              "      <td>0.0</td>\n",
              "      <td>0.0</td>\n",
              "      <td>0.0</td>\n",
              "      <td>0.0</td>\n",
              "      <td>0.0</td>\n",
              "      <td>0.0</td>\n",
              "      <td>0.0</td>\n",
              "      <td>0.0</td>\n",
              "      <td>0.0</td>\n",
              "      <td>0.0</td>\n",
              "      <td>0.0</td>\n",
              "      <td>0.0</td>\n",
              "      <td>0.0</td>\n",
              "      <td>0.0</td>\n",
              "      <td>left</td>\n",
              "      <td>0.8390</td>\n",
              "      <td>0.0000</td>\n",
              "      <td>0.065</td>\n",
              "      <td>0.00</td>\n",
              "      <td>0.867</td>\n",
              "      <td>1.00</td>\n",
              "      <td>0.068</td>\n",
              "      <td>0.0</td>\n",
              "      <td>3</td>\n",
              "      <td>131</td>\n",
              "      <td>0.214286</td>\n",
              "      <td>0.095830</td>\n",
              "      <td>[\"kentucki\", \"derbi\", \"whi\", \"black\", \"resid\",...</td>\n",
              "      <td>[\"NN\", \"NN\", \"WR\", \"NN\", \"NN\", \"VB\", \"NN\", \"RB...</td>\n",
              "      <td>[\"louisvil\", \"ky.\", \"the\", \"kentucki\", \"derbi\"...</td>\n",
              "      <td>[\"NN\", \"NN\", \"DT\", \"NN\", \"NN\", \"RB\", \"NN\", \"NN...</td>\n",
              "      <td>[{\"uri\": \"news/Arts_and_Entertainment\", \"label...</td>\n",
              "      <td>[{\"uri\": \"http://en.wikipedia.org/wiki/Churchi...</td>\n",
              "      <td>1</td>\n",
              "    </tr>\n",
              "  </tbody>\n",
              "</table>\n",
              "<p>5 rows × 210 columns</p>\n",
              "</div>"
            ],
            "text/plain": [
              "     sentiment  ...  y_\n",
              "500   0.011765  ...   1\n",
              "501  -0.184314  ...   1\n",
              "502  -0.066667  ...   1\n",
              "503   0.286275  ...   1\n",
              "504  -0.113725  ...   1\n",
              "\n",
              "[5 rows x 210 columns]"
            ]
          },
          "metadata": {
            "tags": []
          },
          "execution_count": 6
        }
      ]
    },
    {
      "cell_type": "markdown",
      "metadata": {
        "id": "9nfTuD06J5Vy"
      },
      "source": [
        "### Data Preprocessing"
      ]
    },
    {
      "cell_type": "code",
      "metadata": {
        "colab": {
          "base_uri": "https://localhost:8080/"
        },
        "id": "qJ6Oka1pJ5Vy",
        "outputId": "aa35c85c-b48c-4d9b-82c3-253793e0b332"
      },
      "source": [
        "# Select all part of speech columns\n",
        "pos_cols = [i for i in df.columns.values if i.endswith('per_word')]\n",
        "pos_cols[:5]"
      ],
      "execution_count": 7,
      "outputs": [
        {
          "output_type": "execute_result",
          "data": {
            "text/plain": [
              "['body_NNP_per_word',\n",
              " 'body_,_per_word',\n",
              " 'body_:_per_word',\n",
              " 'body_JJ_per_word',\n",
              " 'body_NNS_per_word']"
            ]
          },
          "metadata": {
            "tags": []
          },
          "execution_count": 7
        }
      ]
    },
    {
      "cell_type": "code",
      "metadata": {
        "colab": {
          "base_uri": "https://localhost:8080/"
        },
        "id": "yQsEDUGYJ5Vy",
        "outputId": "b36c696b-adaf-4db3-a0a7-85b10f87e83a"
      },
      "source": [
        "# Scale \n",
        "minmax = MinMaxScaler()\n",
        "pos_X = minmax.fit_transform(wider_df[pos_cols])\n",
        "pos_X.shape"
      ],
      "execution_count": 8,
      "outputs": [
        {
          "output_type": "execute_result",
          "data": {
            "text/plain": [
              "(612, 83)"
            ]
          },
          "metadata": {
            "tags": []
          },
          "execution_count": 8
        }
      ]
    },
    {
      "cell_type": "markdown",
      "metadata": {
        "id": "i8auUaD5J5Vz"
      },
      "source": [
        "### ML Model Analysis"
      ]
    },
    {
      "cell_type": "code",
      "metadata": {
        "id": "olv9_AuNJ5Vz"
      },
      "source": [
        "X_train, X_test, y_train, y_test = train_test_split(pos_X, wider_df['y_'], random_state=0, train_size=0.8)"
      ],
      "execution_count": 9,
      "outputs": []
    },
    {
      "cell_type": "code",
      "metadata": {
        "colab": {
          "base_uri": "https://localhost:8080/"
        },
        "id": "zyLkCC0PJ5Vz",
        "outputId": "4f4c1404-f25c-48a6-b5a7-3e20812ebffc"
      },
      "source": [
        "# Define and Train ML Models\n",
        "clfs = [\n",
        "        LogisticRegression(),\n",
        "        DecisionTreeClassifier(),\n",
        "        RandomForestClassifier(),\n",
        "        GradientBoostingClassifier(),\n",
        "        GaussianNB(),\n",
        "        MultinomialNB()\n",
        "]\n",
        "\n",
        "clf_pred_data = []\n",
        "\n",
        "for clf in clfs:\n",
        "  print(str(clf))\n",
        "  clf.fit(X_train, y_train)\n",
        "  sc = clf.score(X_test, y_test)\n",
        "  print(f\"Score: {sc}\")\n",
        "  clf_pred_data.append([str(clf), sc, clf])\n"
      ],
      "execution_count": 10,
      "outputs": [
        {
          "output_type": "stream",
          "text": [
            "LogisticRegression(C=1.0, class_weight=None, dual=False, fit_intercept=True,\n",
            "                   intercept_scaling=1, l1_ratio=None, max_iter=100,\n",
            "                   multi_class='auto', n_jobs=None, penalty='l2',\n",
            "                   random_state=None, solver='lbfgs', tol=0.0001, verbose=0,\n",
            "                   warm_start=False)\n",
            "Score: 0.7479674796747967\n",
            "DecisionTreeClassifier(ccp_alpha=0.0, class_weight=None, criterion='gini',\n",
            "                       max_depth=None, max_features=None, max_leaf_nodes=None,\n",
            "                       min_impurity_decrease=0.0, min_impurity_split=None,\n",
            "                       min_samples_leaf=1, min_samples_split=2,\n",
            "                       min_weight_fraction_leaf=0.0, presort='deprecated',\n",
            "                       random_state=None, splitter='best')\n",
            "Score: 0.6422764227642277\n",
            "RandomForestClassifier(bootstrap=True, ccp_alpha=0.0, class_weight=None,\n",
            "                       criterion='gini', max_depth=None, max_features='auto',\n",
            "                       max_leaf_nodes=None, max_samples=None,\n",
            "                       min_impurity_decrease=0.0, min_impurity_split=None,\n",
            "                       min_samples_leaf=1, min_samples_split=2,\n",
            "                       min_weight_fraction_leaf=0.0, n_estimators=100,\n",
            "                       n_jobs=None, oob_score=False, random_state=None,\n",
            "                       verbose=0, warm_start=False)\n",
            "Score: 0.7560975609756098\n",
            "GradientBoostingClassifier(ccp_alpha=0.0, criterion='friedman_mse', init=None,\n",
            "                           learning_rate=0.1, loss='deviance', max_depth=3,\n",
            "                           max_features=None, max_leaf_nodes=None,\n",
            "                           min_impurity_decrease=0.0, min_impurity_split=None,\n",
            "                           min_samples_leaf=1, min_samples_split=2,\n",
            "                           min_weight_fraction_leaf=0.0, n_estimators=100,\n",
            "                           n_iter_no_change=None, presort='deprecated',\n",
            "                           random_state=None, subsample=1.0, tol=0.0001,\n",
            "                           validation_fraction=0.1, verbose=0,\n",
            "                           warm_start=False)\n",
            "Score: 0.7235772357723578\n",
            "GaussianNB(priors=None, var_smoothing=1e-09)\n",
            "Score: 0.3821138211382114\n",
            "MultinomialNB(alpha=1.0, class_prior=None, fit_prior=True)\n",
            "Score: 0.7154471544715447\n"
          ],
          "name": "stdout"
        }
      ]
    },
    {
      "cell_type": "code",
      "metadata": {
        "colab": {
          "base_uri": "https://localhost:8080/",
          "height": 235
        },
        "id": "OWYLbDp1J5Vz",
        "outputId": "32d7e94e-a311-48ab-c85a-e3c8e6fa8456"
      },
      "source": [
        "clf_pred_df = pd.DataFrame(clf_pred_data, columns = [\"clf_name\", \"score\", \"clf\"])\n",
        "clf_pred_df"
      ],
      "execution_count": 11,
      "outputs": [
        {
          "output_type": "execute_result",
          "data": {
            "text/html": [
              "<div>\n",
              "<style scoped>\n",
              "    .dataframe tbody tr th:only-of-type {\n",
              "        vertical-align: middle;\n",
              "    }\n",
              "\n",
              "    .dataframe tbody tr th {\n",
              "        vertical-align: top;\n",
              "    }\n",
              "\n",
              "    .dataframe thead th {\n",
              "        text-align: right;\n",
              "    }\n",
              "</style>\n",
              "<table border=\"1\" class=\"dataframe\">\n",
              "  <thead>\n",
              "    <tr style=\"text-align: right;\">\n",
              "      <th></th>\n",
              "      <th>clf_name</th>\n",
              "      <th>score</th>\n",
              "      <th>clf</th>\n",
              "    </tr>\n",
              "  </thead>\n",
              "  <tbody>\n",
              "    <tr>\n",
              "      <th>0</th>\n",
              "      <td>LogisticRegression(C=1.0, class_weight=None, d...</td>\n",
              "      <td>0.747967</td>\n",
              "      <td>LogisticRegression(C=1.0, class_weight=None, d...</td>\n",
              "    </tr>\n",
              "    <tr>\n",
              "      <th>1</th>\n",
              "      <td>DecisionTreeClassifier(ccp_alpha=0.0, class_we...</td>\n",
              "      <td>0.642276</td>\n",
              "      <td>DecisionTreeClassifier(ccp_alpha=0.0, class_we...</td>\n",
              "    </tr>\n",
              "    <tr>\n",
              "      <th>2</th>\n",
              "      <td>RandomForestClassifier(bootstrap=True, ccp_alp...</td>\n",
              "      <td>0.756098</td>\n",
              "      <td>(DecisionTreeClassifier(ccp_alpha=0.0, class_w...</td>\n",
              "    </tr>\n",
              "    <tr>\n",
              "      <th>3</th>\n",
              "      <td>GradientBoostingClassifier(ccp_alpha=0.0, crit...</td>\n",
              "      <td>0.723577</td>\n",
              "      <td>([DecisionTreeRegressor(ccp_alpha=0.0, criteri...</td>\n",
              "    </tr>\n",
              "    <tr>\n",
              "      <th>4</th>\n",
              "      <td>GaussianNB(priors=None, var_smoothing=1e-09)</td>\n",
              "      <td>0.382114</td>\n",
              "      <td>GaussianNB(priors=None, var_smoothing=1e-09)</td>\n",
              "    </tr>\n",
              "    <tr>\n",
              "      <th>5</th>\n",
              "      <td>MultinomialNB(alpha=1.0, class_prior=None, fit...</td>\n",
              "      <td>0.715447</td>\n",
              "      <td>MultinomialNB(alpha=1.0, class_prior=None, fit...</td>\n",
              "    </tr>\n",
              "  </tbody>\n",
              "</table>\n",
              "</div>"
            ],
            "text/plain": [
              "                                            clf_name  ...                                                clf\n",
              "0  LogisticRegression(C=1.0, class_weight=None, d...  ...  LogisticRegression(C=1.0, class_weight=None, d...\n",
              "1  DecisionTreeClassifier(ccp_alpha=0.0, class_we...  ...  DecisionTreeClassifier(ccp_alpha=0.0, class_we...\n",
              "2  RandomForestClassifier(bootstrap=True, ccp_alp...  ...  (DecisionTreeClassifier(ccp_alpha=0.0, class_w...\n",
              "3  GradientBoostingClassifier(ccp_alpha=0.0, crit...  ...  ([DecisionTreeRegressor(ccp_alpha=0.0, criteri...\n",
              "4       GaussianNB(priors=None, var_smoothing=1e-09)  ...       GaussianNB(priors=None, var_smoothing=1e-09)\n",
              "5  MultinomialNB(alpha=1.0, class_prior=None, fit...  ...  MultinomialNB(alpha=1.0, class_prior=None, fit...\n",
              "\n",
              "[6 rows x 3 columns]"
            ]
          },
          "metadata": {
            "tags": []
          },
          "execution_count": 11
        }
      ]
    },
    {
      "cell_type": "markdown",
      "metadata": {
        "id": "25boM5mHJ5V0"
      },
      "source": [
        "#### Gradient Boosting Features"
      ]
    },
    {
      "cell_type": "code",
      "metadata": {
        "id": "uawu9EpoJ5V0"
      },
      "source": [
        "gradient_boost_features = list(sorted(zip(wider_df[pos_cols].columns.values, clf_pred_df['clf'].iloc[3].feature_importances_), key = lambda x: x[1], reverse = True))"
      ],
      "execution_count": 12,
      "outputs": []
    },
    {
      "cell_type": "code",
      "metadata": {
        "colab": {
          "base_uri": "https://localhost:8080/"
        },
        "id": "kvpLgleHJ5V0",
        "outputId": "72812d65-0c41-4fff-d98d-f2f0a56cc8cf"
      },
      "source": [
        "gradient_boost_features[:10]"
      ],
      "execution_count": 13,
      "outputs": [
        {
          "output_type": "execute_result",
          "data": {
            "text/plain": [
              "[(\"body_''_per_word\", 0.09375567313854265),\n",
              " ('body_VBZ_per_word', 0.05413732589512485),\n",
              " ('body_:_per_word', 0.04894621648049664),\n",
              " ('body_NNP_per_word', 0.04872399065623992),\n",
              " ('body_NN_per_word', 0.04186178533396248),\n",
              " ('body_)_per_word', 0.04113428999120324),\n",
              " ('body_NNS_per_word', 0.03942757324032609),\n",
              " ('body_(_per_word', 0.03887790355969938),\n",
              " ('body_PRP_per_word', 0.036592493360624805),\n",
              " ('body_VBN_per_word', 0.03506124665174997)]"
            ]
          },
          "metadata": {
            "tags": []
          },
          "execution_count": 13
        }
      ]
    },
    {
      "cell_type": "markdown",
      "metadata": {
        "id": "1R-rwW7pNK-O"
      },
      "source": [
        "#### Random Forest Features"
      ]
    },
    {
      "cell_type": "code",
      "metadata": {
        "id": "z8fNamUnNO6q"
      },
      "source": [
        "random_forest_features = list(sorted(zip(wider_df[pos_cols].columns.values, clf_pred_df['clf'].iloc[2].feature_importances_), key = lambda x: x[1], reverse = True))"
      ],
      "execution_count": 71,
      "outputs": []
    },
    {
      "cell_type": "code",
      "metadata": {
        "colab": {
          "base_uri": "https://localhost:8080/"
        },
        "id": "yAV2XTG2NT6K",
        "outputId": "fb266846-f970-421e-e2b4-9b18d7d684c7"
      },
      "source": [
        "random_forest_features[:10]"
      ],
      "execution_count": 72,
      "outputs": [
        {
          "output_type": "execute_result",
          "data": {
            "text/plain": [
              "[(\"body_''_per_word\", 0.05099454552407479),\n",
              " ('body_NNP_per_word', 0.039212959796272054),\n",
              " ('body_NNS_per_word', 0.03653873220208446),\n",
              " ('body_)_per_word', 0.033938690217596615),\n",
              " ('body_:_per_word', 0.027509688684404895),\n",
              " ('body_VBZ_per_word', 0.027094574450475407),\n",
              " ('body_NN_per_word', 0.02659751213350846),\n",
              " ('body_negation_per_word', 0.026475958774348),\n",
              " ('body_VB_per_word', 0.02641401789161207),\n",
              " ('body_VBN_per_word', 0.025760791139495795)]"
            ]
          },
          "metadata": {
            "tags": []
          },
          "execution_count": 72
        }
      ]
    },
    {
      "cell_type": "markdown",
      "metadata": {
        "id": "ZmwlhlKRJ5V0"
      },
      "source": [
        "#### Logistic Regression Features"
      ]
    },
    {
      "cell_type": "code",
      "metadata": {
        "colab": {
          "base_uri": "https://localhost:8080/"
        },
        "id": "dkMG2FgMJ5V0",
        "outputId": "29b6f65f-a2ae-4cfc-eade-19942996d6b3"
      },
      "source": [
        "clf_pred_df['clf'].iloc[0].coef_.shape"
      ],
      "execution_count": 14,
      "outputs": [
        {
          "output_type": "execute_result",
          "data": {
            "text/plain": [
              "(1, 83)"
            ]
          },
          "metadata": {
            "tags": []
          },
          "execution_count": 14
        }
      ]
    },
    {
      "cell_type": "code",
      "metadata": {
        "id": "onOLZBWfJ5V1"
      },
      "source": [
        "log_reg_features = list(sorted(zip(wider_df[pos_cols].columns.values, clf_pred_df['clf'].iloc[0].coef_[0]), key = lambda x: x[1], reverse = True))"
      ],
      "execution_count": 15,
      "outputs": []
    },
    {
      "cell_type": "code",
      "metadata": {
        "colab": {
          "base_uri": "https://localhost:8080/"
        },
        "id": "VAqv9yt-J5V1",
        "outputId": "3169d61a-6ba5-4d68-b80a-d74520cf18ab"
      },
      "source": [
        "log_reg_features[:5] # Most Indicative of Left Media"
      ],
      "execution_count": 16,
      "outputs": [
        {
          "output_type": "execute_result",
          "data": {
            "text/plain": [
              "[('body_VBN_per_word', 1.1674468522354657),\n",
              " ('body_NNS_per_word', 0.8781102790301596),\n",
              " ('body_VB_per_word', 0.801485109578832),\n",
              " ('body_MD_per_word', 0.797643887216918),\n",
              " ('body_CD_per_word', 0.6829500255430481)]"
            ]
          },
          "metadata": {
            "tags": []
          },
          "execution_count": 16
        }
      ]
    },
    {
      "cell_type": "code",
      "metadata": {
        "colab": {
          "base_uri": "https://localhost:8080/"
        },
        "id": "Ibtv63Z6J5V1",
        "outputId": "d8c16491-8db9-41c3-a645-6741d2774563"
      },
      "source": [
        "log_reg_features[-5:] # Most Indicative of Right Media"
      ],
      "execution_count": 17,
      "outputs": [
        {
          "output_type": "execute_result",
          "data": {
            "text/plain": [
              "[('body_UH_per_word', -0.8301971506749934),\n",
              " ('body_NNPS_per_word', -0.907292209794988),\n",
              " ('body_WRB_per_word', -1.2720236422648346),\n",
              " ('body_NNP_per_word', -1.4823595072181228),\n",
              " (\"body_''_per_word\", -1.7481230006308661)]"
            ]
          },
          "metadata": {
            "tags": []
          },
          "execution_count": 17
        }
      ]
    },
    {
      "cell_type": "markdown",
      "metadata": {
        "id": "FfuPZ17gJ5V1"
      },
      "source": [
        "#### Multinomial Naive Bayes Features"
      ]
    },
    {
      "cell_type": "code",
      "metadata": {
        "colab": {
          "base_uri": "https://localhost:8080/"
        },
        "id": "RV-cLeqoJ5V2",
        "outputId": "062b7c03-08e9-457b-d9da-6cdf54bfb84d"
      },
      "source": [
        "clf_pred_df['clf'].iloc[5]._get_coef().shape"
      ],
      "execution_count": 18,
      "outputs": [
        {
          "output_type": "execute_result",
          "data": {
            "text/plain": [
              "(1, 83)"
            ]
          },
          "metadata": {
            "tags": []
          },
          "execution_count": 18
        }
      ]
    },
    {
      "cell_type": "code",
      "metadata": {
        "id": "-XH9KjqoJ5V2"
      },
      "source": [
        "mult_nb_features = list(sorted(zip(wider_df[pos_cols].columns.values, clf_pred_df['clf'].iloc[5]._get_coef()[0]), key = lambda x: x[1], reverse = True))"
      ],
      "execution_count": 19,
      "outputs": []
    },
    {
      "cell_type": "code",
      "metadata": {
        "colab": {
          "base_uri": "https://localhost:8080/"
        },
        "id": "mF69ascnJ5V2",
        "outputId": "a41408c6-42f7-42d6-e0b3-34f505607149"
      },
      "source": [
        "mult_nb_features[:5]"
      ],
      "execution_count": 20,
      "outputs": [
        {
          "output_type": "execute_result",
          "data": {
            "text/plain": [
              "[('body_,_per_word', -3.0265866339879217),\n",
              " ('body_VBD_per_word', -3.1015232134951667),\n",
              " ('body_NN_per_word', -3.1475804096362223),\n",
              " ('body_JJ_per_word', -3.2040476359128522),\n",
              " ('body_VBG_per_word', -3.219074482066837)]"
            ]
          },
          "metadata": {
            "tags": []
          },
          "execution_count": 20
        }
      ]
    },
    {
      "cell_type": "code",
      "metadata": {
        "colab": {
          "base_uri": "https://localhost:8080/"
        },
        "id": "PKm_957MJ5V3",
        "outputId": "5a3c90eb-2e83-43c8-b974-7954ba4c3ce6"
      },
      "source": [
        "mult_nb_features[-5:]"
      ],
      "execution_count": 21,
      "outputs": [
        {
          "output_type": "execute_result",
          "data": {
            "text/plain": [
              "[('title_$_per_word', -7.58252326639459),\n",
              " ('body_RBS_per_word', -7.643368638298299),\n",
              " ('title_JJR_per_word', -8.249002199872374),\n",
              " ('title_PDT_per_word', -8.249002199872374),\n",
              " ('title_RBS_per_word', -8.249002199872374)]"
            ]
          },
          "metadata": {
            "tags": []
          },
          "execution_count": 21
        }
      ]
    },
    {
      "cell_type": "markdown",
      "metadata": {
        "id": "oWibQ_i6J5V3"
      },
      "source": [
        "### Dimension Reduction Analysis"
      ]
    },
    {
      "cell_type": "markdown",
      "metadata": {
        "id": "PjSll6O0J5V3"
      },
      "source": [
        "#### PCA Analysis"
      ]
    },
    {
      "cell_type": "code",
      "metadata": {
        "id": "N6MTbnpUJ5V3"
      },
      "source": [
        "from sklearn.decomposition import PCA"
      ],
      "execution_count": 22,
      "outputs": []
    },
    {
      "cell_type": "code",
      "metadata": {
        "id": "nzU47RlKJ5V3"
      },
      "source": [
        "pca = PCA(n_components=2)"
      ],
      "execution_count": 23,
      "outputs": []
    },
    {
      "cell_type": "code",
      "metadata": {
        "id": "6j4r9nk0J5V3"
      },
      "source": [
        "decomposed_X = pca.fit_transform(wider_df[pos_cols])"
      ],
      "execution_count": 24,
      "outputs": []
    },
    {
      "cell_type": "code",
      "metadata": {
        "colab": {
          "base_uri": "https://localhost:8080/"
        },
        "id": "Sw1sPgYjJ5V3",
        "outputId": "ef031926-7e16-4f4d-cacc-5d3d845660aa"
      },
      "source": [
        "print(pca.explained_variance_ratio_)"
      ],
      "execution_count": 25,
      "outputs": [
        {
          "output_type": "stream",
          "text": [
            "[0.48497889 0.09092439]\n"
          ],
          "name": "stdout"
        }
      ]
    },
    {
      "cell_type": "code",
      "metadata": {
        "colab": {
          "base_uri": "https://localhost:8080/"
        },
        "id": "QB_XCIcfJ5V4",
        "outputId": "0045e6fe-676d-4240-d404-dc8b6b95b893"
      },
      "source": [
        "decomposed_X.shape"
      ],
      "execution_count": 26,
      "outputs": [
        {
          "output_type": "execute_result",
          "data": {
            "text/plain": [
              "(612, 2)"
            ]
          },
          "metadata": {
            "tags": []
          },
          "execution_count": 26
        }
      ]
    },
    {
      "cell_type": "code",
      "metadata": {
        "colab": {
          "base_uri": "https://localhost:8080/"
        },
        "id": "kV8Uxc_mJ5V4",
        "outputId": "8616d32b-a701-45fc-b995-5a11d42a9c15"
      },
      "source": [
        "wider_df[pos_cols].shape"
      ],
      "execution_count": 27,
      "outputs": [
        {
          "output_type": "execute_result",
          "data": {
            "text/plain": [
              "(612, 83)"
            ]
          },
          "metadata": {
            "tags": []
          },
          "execution_count": 27
        }
      ]
    },
    {
      "cell_type": "code",
      "metadata": {
        "colab": {
          "base_uri": "https://localhost:8080/",
          "height": 204
        },
        "id": "47Cz6MGPJ5V4",
        "outputId": "cb9e7c36-25a5-40fd-9969-c5bea57974a4"
      },
      "source": [
        "minmax = MinMaxScaler()\n",
        "decomp_minmax_X = pd.DataFrame(minmax.fit_transform(decomposed_X), columns = [\"0\", \"1\"])\n",
        "decomp_minmax_X['y_'] = wider_df['y_'].values\n",
        "decomp_minmax_X[:5]"
      ],
      "execution_count": 32,
      "outputs": [
        {
          "output_type": "execute_result",
          "data": {
            "text/html": [
              "<div>\n",
              "<style scoped>\n",
              "    .dataframe tbody tr th:only-of-type {\n",
              "        vertical-align: middle;\n",
              "    }\n",
              "\n",
              "    .dataframe tbody tr th {\n",
              "        vertical-align: top;\n",
              "    }\n",
              "\n",
              "    .dataframe thead th {\n",
              "        text-align: right;\n",
              "    }\n",
              "</style>\n",
              "<table border=\"1\" class=\"dataframe\">\n",
              "  <thead>\n",
              "    <tr style=\"text-align: right;\">\n",
              "      <th></th>\n",
              "      <th>0</th>\n",
              "      <th>1</th>\n",
              "      <th>y_</th>\n",
              "    </tr>\n",
              "  </thead>\n",
              "  <tbody>\n",
              "    <tr>\n",
              "      <th>0</th>\n",
              "      <td>0.400670</td>\n",
              "      <td>0.277031</td>\n",
              "      <td>1</td>\n",
              "    </tr>\n",
              "    <tr>\n",
              "      <th>1</th>\n",
              "      <td>0.764294</td>\n",
              "      <td>0.385730</td>\n",
              "      <td>1</td>\n",
              "    </tr>\n",
              "    <tr>\n",
              "      <th>2</th>\n",
              "      <td>0.249673</td>\n",
              "      <td>0.530424</td>\n",
              "      <td>1</td>\n",
              "    </tr>\n",
              "    <tr>\n",
              "      <th>3</th>\n",
              "      <td>0.168547</td>\n",
              "      <td>0.406411</td>\n",
              "      <td>1</td>\n",
              "    </tr>\n",
              "    <tr>\n",
              "      <th>4</th>\n",
              "      <td>0.261130</td>\n",
              "      <td>0.477488</td>\n",
              "      <td>1</td>\n",
              "    </tr>\n",
              "  </tbody>\n",
              "</table>\n",
              "</div>"
            ],
            "text/plain": [
              "          0         1  y_\n",
              "0  0.400670  0.277031   1\n",
              "1  0.764294  0.385730   1\n",
              "2  0.249673  0.530424   1\n",
              "3  0.168547  0.406411   1\n",
              "4  0.261130  0.477488   1"
            ]
          },
          "metadata": {
            "tags": []
          },
          "execution_count": 32
        }
      ]
    },
    {
      "cell_type": "code",
      "metadata": {
        "colab": {
          "base_uri": "https://localhost:8080/",
          "height": 296
        },
        "id": "BaJw3AvXJ5V4",
        "outputId": "13a28ca7-4c79-45d1-b6af-6c292ae5576c"
      },
      "source": [
        "sns.scatterplot(data = decomp_minmax_X, x = \"0\", y = \"1\", hue = \"y_\")"
      ],
      "execution_count": 33,
      "outputs": [
        {
          "output_type": "execute_result",
          "data": {
            "text/plain": [
              "<matplotlib.axes._subplots.AxesSubplot at 0x7f3be2353c90>"
            ]
          },
          "metadata": {
            "tags": []
          },
          "execution_count": 33
        },
        {
          "output_type": "display_data",
          "data": {
            "image/png": "[encoded data removed]",
            "text/plain": [
              "<Figure size 432x288 with 1 Axes>"
            ]
          },
          "metadata": {
            "tags": [],
            "needs_background": "light"
          }
        }
      ]
    },
    {
      "cell_type": "markdown",
      "metadata": {
        "id": "33Jwt7qsJ5V5"
      },
      "source": [
        "#### TSNE Analysis"
      ]
    },
    {
      "cell_type": "code",
      "metadata": {
        "id": "9fSxs_fRJ5V5"
      },
      "source": [
        "from sklearn.manifold import TSNE\n",
        "import time"
      ],
      "execution_count": 34,
      "outputs": []
    },
    {
      "cell_type": "code",
      "metadata": {
        "colab": {
          "base_uri": "https://localhost:8080/"
        },
        "id": "YRQNRiRTJ5V5",
        "outputId": "847af6b7-a7e2-4382-8ad5-03937eb1e91b"
      },
      "source": [
        "time_start = time.time()\n",
        "tsne = TSNE(n_components=2, verbose=1, perplexity=15, n_iter=300)\n",
        "tsne_processed_X = tsne.fit_transform(wider_df[pos_cols])\n",
        "print('t-SNE done! Time elapsed: {} seconds'.format(time.time()-time_start))"
      ],
      "execution_count": 35,
      "outputs": [
        {
          "output_type": "stream",
          "text": [
            "[t-SNE] Computing 46 nearest neighbors...\n",
            "[t-SNE] Indexed 612 samples in 0.009s...\n",
            "[t-SNE] Computed neighbors for 612 samples in 0.063s...\n",
            "[t-SNE] Computed conditional probabilities for sample 612 / 612\n",
            "[t-SNE] Mean sigma: 0.085352\n",
            "[t-SNE] KL divergence after 250 iterations with early exaggeration: 75.614021\n",
            "[t-SNE] KL divergence after 300 iterations: 1.471244\n",
            "t-SNE done! Time elapsed: 1.3319246768951416 seconds\n"
          ],
          "name": "stdout"
        }
      ]
    },
    {
      "cell_type": "code",
      "metadata": {
        "id": "AhPmhaMvJ5V5"
      },
      "source": [
        "minmax = MinMaxScaler()\n",
        "minmaxed_X = pd.DataFrame(minmax.fit_transform(tsne_processed_X), columns = [\"0\", \"1\"])\n",
        "minmaxed_X['y_'] = wider_df['y_'].values"
      ],
      "execution_count": 37,
      "outputs": []
    },
    {
      "cell_type": "code",
      "metadata": {
        "colab": {
          "base_uri": "https://localhost:8080/",
          "height": 296
        },
        "id": "t-kmCOkVJ5V5",
        "outputId": "ffa78120-3905-4605-f768-467c0407b7a1"
      },
      "source": [
        "sns.scatterplot(data = minmaxed_X, x = \"0\", y = \"1\", hue = \"y_\")"
      ],
      "execution_count": 38,
      "outputs": [
        {
          "output_type": "execute_result",
          "data": {
            "text/plain": [
              "<matplotlib.axes._subplots.AxesSubplot at 0x7f3be0727b90>"
            ]
          },
          "metadata": {
            "tags": []
          },
          "execution_count": 38
        },
        {
          "output_type": "display_data",
          "data": {
            "image/png": "[encoded data removed]",
            "text/plain": [
              "<Figure size 432x288 with 1 Axes>"
            ]
          },
          "metadata": {
            "tags": [],
            "needs_background": "light"
          }
        }
      ]
    },
    {
      "cell_type": "markdown",
      "metadata": {
        "id": "5LfXCHGFKyWl"
      },
      "source": [
        "## T testing"
      ]
    },
    {
      "cell_type": "markdown",
      "metadata": {
        "id": "2EWVHRSBKyWm"
      },
      "source": [
        "### Load Data"
      ]
    },
    {
      "cell_type": "code",
      "metadata": {
        "id": "jvokq71uKyWm"
      },
      "source": [
        "from scipy import stats\n",
        "from itertools import combinations"
      ],
      "execution_count": 39,
      "outputs": []
    },
    {
      "cell_type": "code",
      "metadata": {
        "id": "087jkhcDKyWn"
      },
      "source": [
        "position_list = [\"0_per_article_left\", \"1_per_article_lean_left\", \"2_per_article_center\", \"3_per_article_lean_right\", \"4_per_article_right\"]"
      ],
      "execution_count": 40,
      "outputs": []
    },
    {
      "cell_type": "code",
      "metadata": {
        "colab": {
          "base_uri": "https://localhost:8080/",
          "height": 241
        },
        "id": "aTZP4ddyKyWn",
        "outputId": "7648b1f6-c3ee-4b53-e88d-eaf5da5ea540"
      },
      "source": [
        "title_df = pd.read_csv(os.path.join(main_path, \"title_stem_dataframe.csv\"))\n",
        "title_df.head()"
      ],
      "execution_count": 41,
      "outputs": [
        {
          "output_type": "execute_result",
          "data": {
            "text/html": [
              "<div>\n",
              "<style scoped>\n",
              "    .dataframe tbody tr th:only-of-type {\n",
              "        vertical-align: middle;\n",
              "    }\n",
              "\n",
              "    .dataframe tbody tr th {\n",
              "        vertical-align: top;\n",
              "    }\n",
              "\n",
              "    .dataframe thead th {\n",
              "        text-align: right;\n",
              "    }\n",
              "</style>\n",
              "<table border=\"1\" class=\"dataframe\">\n",
              "  <thead>\n",
              "    <tr style=\"text-align: right;\">\n",
              "      <th></th>\n",
              "      <th>Center</th>\n",
              "      <th>Lean Left</th>\n",
              "      <th>Right</th>\n",
              "      <th>Left</th>\n",
              "      <th>Lean Right</th>\n",
              "      <th>stem</th>\n",
              "      <th>pos</th>\n",
              "      <th>usage_sum</th>\n",
              "      <th>0_per_article_left</th>\n",
              "      <th>1_per_article_lean_left</th>\n",
              "      <th>4_per_article_right</th>\n",
              "      <th>3_per_article_lean_right</th>\n",
              "      <th>2_per_article_center</th>\n",
              "      <th>0_per_article_left_copy</th>\n",
              "      <th>1_per_article_lean_left_copy</th>\n",
              "      <th>4_per_article_right_copy</th>\n",
              "      <th>3_per_article_lean_right_copy</th>\n",
              "      <th>2_per_article_center_copy</th>\n",
              "    </tr>\n",
              "  </thead>\n",
              "  <tbody>\n",
              "    <tr>\n",
              "      <th>0</th>\n",
              "      <td>17</td>\n",
              "      <td>3</td>\n",
              "      <td>0</td>\n",
              "      <td>1</td>\n",
              "      <td>1</td>\n",
              "      <td>u.s.</td>\n",
              "      <td>NN</td>\n",
              "      <td>22</td>\n",
              "      <td>0.012346</td>\n",
              "      <td>0.007833</td>\n",
              "      <td>0.000000</td>\n",
              "      <td>0.015625</td>\n",
              "      <td>0.034</td>\n",
              "      <td>0.012346</td>\n",
              "      <td>0.007833</td>\n",
              "      <td>0.000000</td>\n",
              "      <td>0.015625</td>\n",
              "      <td>0.034</td>\n",
              "    </tr>\n",
              "    <tr>\n",
              "      <th>1</th>\n",
              "      <td>4</td>\n",
              "      <td>0</td>\n",
              "      <td>2</td>\n",
              "      <td>0</td>\n",
              "      <td>1</td>\n",
              "      <td>warn</td>\n",
              "      <td>VB</td>\n",
              "      <td>7</td>\n",
              "      <td>0.000000</td>\n",
              "      <td>0.000000</td>\n",
              "      <td>0.023810</td>\n",
              "      <td>0.015625</td>\n",
              "      <td>0.008</td>\n",
              "      <td>0.000000</td>\n",
              "      <td>0.000000</td>\n",
              "      <td>0.023810</td>\n",
              "      <td>0.015625</td>\n",
              "      <td>0.008</td>\n",
              "    </tr>\n",
              "    <tr>\n",
              "      <th>2</th>\n",
              "      <td>3</td>\n",
              "      <td>1</td>\n",
              "      <td>1</td>\n",
              "      <td>1</td>\n",
              "      <td>1</td>\n",
              "      <td>extremist</td>\n",
              "      <td>NN</td>\n",
              "      <td>7</td>\n",
              "      <td>0.012346</td>\n",
              "      <td>0.002611</td>\n",
              "      <td>0.011905</td>\n",
              "      <td>0.015625</td>\n",
              "      <td>0.006</td>\n",
              "      <td>0.012346</td>\n",
              "      <td>0.002611</td>\n",
              "      <td>0.011905</td>\n",
              "      <td>0.015625</td>\n",
              "      <td>0.006</td>\n",
              "    </tr>\n",
              "    <tr>\n",
              "      <th>3</th>\n",
              "      <td>4</td>\n",
              "      <td>2</td>\n",
              "      <td>1</td>\n",
              "      <td>0</td>\n",
              "      <td>0</td>\n",
              "      <td>may</td>\n",
              "      <td>MD</td>\n",
              "      <td>7</td>\n",
              "      <td>0.000000</td>\n",
              "      <td>0.005222</td>\n",
              "      <td>0.011905</td>\n",
              "      <td>0.000000</td>\n",
              "      <td>0.008</td>\n",
              "      <td>0.000000</td>\n",
              "      <td>0.005222</td>\n",
              "      <td>0.011905</td>\n",
              "      <td>0.000000</td>\n",
              "      <td>0.008</td>\n",
              "    </tr>\n",
              "    <tr>\n",
              "      <th>4</th>\n",
              "      <td>1</td>\n",
              "      <td>0</td>\n",
              "      <td>1</td>\n",
              "      <td>0</td>\n",
              "      <td>0</td>\n",
              "      <td>strike</td>\n",
              "      <td>VB</td>\n",
              "      <td>2</td>\n",
              "      <td>0.000000</td>\n",
              "      <td>0.000000</td>\n",
              "      <td>0.011905</td>\n",
              "      <td>0.000000</td>\n",
              "      <td>0.002</td>\n",
              "      <td>0.000000</td>\n",
              "      <td>0.000000</td>\n",
              "      <td>0.011905</td>\n",
              "      <td>0.000000</td>\n",
              "      <td>0.002</td>\n",
              "    </tr>\n",
              "  </tbody>\n",
              "</table>\n",
              "</div>"
            ],
            "text/plain": [
              "   Center  Lean Left  ...  3_per_article_lean_right_copy  2_per_article_center_copy\n",
              "0      17          3  ...                       0.015625                      0.034\n",
              "1       4          0  ...                       0.015625                      0.008\n",
              "2       3          1  ...                       0.015625                      0.006\n",
              "3       4          2  ...                       0.000000                      0.008\n",
              "4       1          0  ...                       0.000000                      0.002\n",
              "\n",
              "[5 rows x 18 columns]"
            ]
          },
          "metadata": {
            "tags": []
          },
          "execution_count": 41
        }
      ]
    },
    {
      "cell_type": "code",
      "metadata": {
        "colab": {
          "base_uri": "https://localhost:8080/",
          "height": 241
        },
        "id": "ots5RLA7KyWn",
        "outputId": "e7fa9cbc-6545-4abc-908c-70e2155dbc3f"
      },
      "source": [
        "body_df = pd.read_csv(os.path.join(main_path, \"body_stem_dataframe.csv\"))\n",
        "body_df.head()"
      ],
      "execution_count": 42,
      "outputs": [
        {
          "output_type": "execute_result",
          "data": {
            "text/html": [
              "<div>\n",
              "<style scoped>\n",
              "    .dataframe tbody tr th:only-of-type {\n",
              "        vertical-align: middle;\n",
              "    }\n",
              "\n",
              "    .dataframe tbody tr th {\n",
              "        vertical-align: top;\n",
              "    }\n",
              "\n",
              "    .dataframe thead th {\n",
              "        text-align: right;\n",
              "    }\n",
              "</style>\n",
              "<table border=\"1\" class=\"dataframe\">\n",
              "  <thead>\n",
              "    <tr style=\"text-align: right;\">\n",
              "      <th></th>\n",
              "      <th>Center</th>\n",
              "      <th>Lean Left</th>\n",
              "      <th>Right</th>\n",
              "      <th>Left</th>\n",
              "      <th>Lean Right</th>\n",
              "      <th>stem</th>\n",
              "      <th>pos</th>\n",
              "      <th>usage_sum</th>\n",
              "      <th>0_per_article_left</th>\n",
              "      <th>1_per_article_lean_left</th>\n",
              "      <th>4_per_article_right</th>\n",
              "      <th>3_per_article_lean_right</th>\n",
              "      <th>2_per_article_center</th>\n",
              "      <th>0_per_article_left_copy</th>\n",
              "      <th>1_per_article_lean_left_copy</th>\n",
              "      <th>4_per_article_right_copy</th>\n",
              "      <th>3_per_article_lean_right_copy</th>\n",
              "      <th>2_per_article_center_copy</th>\n",
              "    </tr>\n",
              "  </thead>\n",
              "  <tbody>\n",
              "    <tr>\n",
              "      <th>0</th>\n",
              "      <td>395</td>\n",
              "      <td>295</td>\n",
              "      <td>52</td>\n",
              "      <td>94</td>\n",
              "      <td>48</td>\n",
              "      <td>washington</td>\n",
              "      <td>NN</td>\n",
              "      <td>884</td>\n",
              "      <td>1.160494</td>\n",
              "      <td>0.770235</td>\n",
              "      <td>0.619048</td>\n",
              "      <td>0.75000</td>\n",
              "      <td>0.790</td>\n",
              "      <td>1.160494</td>\n",
              "      <td>0.770235</td>\n",
              "      <td>0.619048</td>\n",
              "      <td>0.75000</td>\n",
              "      <td>0.790</td>\n",
              "    </tr>\n",
              "    <tr>\n",
              "      <th>1</th>\n",
              "      <td>382</td>\n",
              "      <td>335</td>\n",
              "      <td>48</td>\n",
              "      <td>40</td>\n",
              "      <td>18</td>\n",
              "      <td>A</td>\n",
              "      <td>DT</td>\n",
              "      <td>823</td>\n",
              "      <td>0.493827</td>\n",
              "      <td>0.874674</td>\n",
              "      <td>0.571429</td>\n",
              "      <td>0.28125</td>\n",
              "      <td>0.764</td>\n",
              "      <td>0.493827</td>\n",
              "      <td>0.874674</td>\n",
              "      <td>0.571429</td>\n",
              "      <td>0.28125</td>\n",
              "      <td>0.764</td>\n",
              "    </tr>\n",
              "    <tr>\n",
              "      <th>2</th>\n",
              "      <td>245</td>\n",
              "      <td>191</td>\n",
              "      <td>45</td>\n",
              "      <td>23</td>\n",
              "      <td>24</td>\n",
              "      <td>nation</td>\n",
              "      <td>JJ</td>\n",
              "      <td>528</td>\n",
              "      <td>0.283951</td>\n",
              "      <td>0.498695</td>\n",
              "      <td>0.535714</td>\n",
              "      <td>0.37500</td>\n",
              "      <td>0.490</td>\n",
              "      <td>0.283951</td>\n",
              "      <td>0.498695</td>\n",
              "      <td>0.535714</td>\n",
              "      <td>0.37500</td>\n",
              "      <td>0.490</td>\n",
              "    </tr>\n",
              "    <tr>\n",
              "      <th>3</th>\n",
              "      <td>63</td>\n",
              "      <td>57</td>\n",
              "      <td>13</td>\n",
              "      <td>12</td>\n",
              "      <td>4</td>\n",
              "      <td>terror</td>\n",
              "      <td>NN</td>\n",
              "      <td>149</td>\n",
              "      <td>0.148148</td>\n",
              "      <td>0.148825</td>\n",
              "      <td>0.154762</td>\n",
              "      <td>0.06250</td>\n",
              "      <td>0.126</td>\n",
              "      <td>0.148148</td>\n",
              "      <td>0.148825</td>\n",
              "      <td>0.154762</td>\n",
              "      <td>0.06250</td>\n",
              "      <td>0.126</td>\n",
              "    </tr>\n",
              "    <tr>\n",
              "      <th>4</th>\n",
              "      <td>1</td>\n",
              "      <td>6</td>\n",
              "      <td>1</td>\n",
              "      <td>0</td>\n",
              "      <td>0</td>\n",
              "      <td>alert</td>\n",
              "      <td>JJ</td>\n",
              "      <td>8</td>\n",
              "      <td>0.000000</td>\n",
              "      <td>0.015666</td>\n",
              "      <td>0.011905</td>\n",
              "      <td>0.00000</td>\n",
              "      <td>0.002</td>\n",
              "      <td>0.000000</td>\n",
              "      <td>0.015666</td>\n",
              "      <td>0.011905</td>\n",
              "      <td>0.00000</td>\n",
              "      <td>0.002</td>\n",
              "    </tr>\n",
              "  </tbody>\n",
              "</table>\n",
              "</div>"
            ],
            "text/plain": [
              "   Center  Lean Left  ...  3_per_article_lean_right_copy  2_per_article_center_copy\n",
              "0     395        295  ...                        0.75000                      0.790\n",
              "1     382        335  ...                        0.28125                      0.764\n",
              "2     245        191  ...                        0.37500                      0.490\n",
              "3      63         57  ...                        0.06250                      0.126\n",
              "4       1          6  ...                        0.00000                      0.002\n",
              "\n",
              "[5 rows x 18 columns]"
            ]
          },
          "metadata": {
            "tags": []
          },
          "execution_count": 42
        }
      ]
    },
    {
      "cell_type": "code",
      "metadata": {
        "colab": {
          "base_uri": "https://localhost:8080/",
          "height": 462
        },
        "id": "8L5LtYJwKyWo",
        "outputId": "fdbbd1fe-7e62-4fcb-eaa6-f9d1c35bc469"
      },
      "source": [
        "concept_df = pd.read_csv(os.path.join(main_path, \"concept_dataframe.csv\"))\n",
        "concept_df.head()"
      ],
      "execution_count": 43,
      "outputs": [
        {
          "output_type": "execute_result",
          "data": {
            "text/html": [
              "<div>\n",
              "<style scoped>\n",
              "    .dataframe tbody tr th:only-of-type {\n",
              "        vertical-align: middle;\n",
              "    }\n",
              "\n",
              "    .dataframe tbody tr th {\n",
              "        vertical-align: top;\n",
              "    }\n",
              "\n",
              "    .dataframe thead th {\n",
              "        text-align: right;\n",
              "    }\n",
              "</style>\n",
              "<table border=\"1\" class=\"dataframe\">\n",
              "  <thead>\n",
              "    <tr style=\"text-align: right;\">\n",
              "      <th></th>\n",
              "      <th>Left</th>\n",
              "      <th>Lean Left</th>\n",
              "      <th>Center</th>\n",
              "      <th>Lean Right</th>\n",
              "      <th>Right</th>\n",
              "      <th>concept_data</th>\n",
              "      <th>concept_label</th>\n",
              "      <th>usage_sum</th>\n",
              "      <th>0_per_article_left</th>\n",
              "      <th>1_per_article_lean_left</th>\n",
              "      <th>4_per_article_right</th>\n",
              "      <th>3_per_article_lean_right</th>\n",
              "      <th>2_per_article_center</th>\n",
              "      <th>0_per_article_left_copy</th>\n",
              "      <th>1_per_article_lean_left_copy</th>\n",
              "      <th>4_per_article_right_copy</th>\n",
              "      <th>3_per_article_lean_right_copy</th>\n",
              "      <th>2_per_article_center_copy</th>\n",
              "      <th>concept_type</th>\n",
              "    </tr>\n",
              "  </thead>\n",
              "  <tbody>\n",
              "    <tr>\n",
              "      <th>0</th>\n",
              "      <td>0</td>\n",
              "      <td>3</td>\n",
              "      <td>3</td>\n",
              "      <td>0</td>\n",
              "      <td>1</td>\n",
              "      <td>{\"label\": \"Violent extremism\", \"score\": 5, \"ty...</td>\n",
              "      <td>Violent extremism</td>\n",
              "      <td>7</td>\n",
              "      <td>0.000000</td>\n",
              "      <td>0.007833</td>\n",
              "      <td>0.011905</td>\n",
              "      <td>0.000000</td>\n",
              "      <td>0.006</td>\n",
              "      <td>0.000000</td>\n",
              "      <td>0.007833</td>\n",
              "      <td>0.011905</td>\n",
              "      <td>0.000000</td>\n",
              "      <td>0.006</td>\n",
              "      <td>wiki</td>\n",
              "    </tr>\n",
              "    <tr>\n",
              "      <th>1</th>\n",
              "      <td>0</td>\n",
              "      <td>0</td>\n",
              "      <td>3</td>\n",
              "      <td>0</td>\n",
              "      <td>1</td>\n",
              "      <td>{\"label\": \"United States Department of Homelan...</td>\n",
              "      <td>United States Department of Homeland Security</td>\n",
              "      <td>4</td>\n",
              "      <td>0.000000</td>\n",
              "      <td>0.000000</td>\n",
              "      <td>0.011905</td>\n",
              "      <td>0.000000</td>\n",
              "      <td>0.006</td>\n",
              "      <td>0.000000</td>\n",
              "      <td>0.000000</td>\n",
              "      <td>0.011905</td>\n",
              "      <td>0.000000</td>\n",
              "      <td>0.006</td>\n",
              "      <td>org</td>\n",
              "    </tr>\n",
              "    <tr>\n",
              "      <th>2</th>\n",
              "      <td>1</td>\n",
              "      <td>2</td>\n",
              "      <td>5</td>\n",
              "      <td>0</td>\n",
              "      <td>2</td>\n",
              "      <td>{\"label\": \"Conspiracy theory\", \"score\": 4, \"ty...</td>\n",
              "      <td>Conspiracy theory</td>\n",
              "      <td>10</td>\n",
              "      <td>0.012346</td>\n",
              "      <td>0.005222</td>\n",
              "      <td>0.023810</td>\n",
              "      <td>0.000000</td>\n",
              "      <td>0.010</td>\n",
              "      <td>0.012346</td>\n",
              "      <td>0.005222</td>\n",
              "      <td>0.023810</td>\n",
              "      <td>0.000000</td>\n",
              "      <td>0.010</td>\n",
              "      <td>wiki</td>\n",
              "    </tr>\n",
              "    <tr>\n",
              "      <th>3</th>\n",
              "      <td>0</td>\n",
              "      <td>0</td>\n",
              "      <td>4</td>\n",
              "      <td>1</td>\n",
              "      <td>0</td>\n",
              "      <td>{\"label\": \"Email\", \"score\": 4, \"type\": \"wiki\",...</td>\n",
              "      <td>Email</td>\n",
              "      <td>5</td>\n",
              "      <td>0.000000</td>\n",
              "      <td>0.000000</td>\n",
              "      <td>0.000000</td>\n",
              "      <td>0.015625</td>\n",
              "      <td>0.008</td>\n",
              "      <td>0.000000</td>\n",
              "      <td>0.000000</td>\n",
              "      <td>0.000000</td>\n",
              "      <td>0.015625</td>\n",
              "      <td>0.008</td>\n",
              "      <td>wiki</td>\n",
              "    </tr>\n",
              "    <tr>\n",
              "      <th>4</th>\n",
              "      <td>0</td>\n",
              "      <td>1</td>\n",
              "      <td>2</td>\n",
              "      <td>0</td>\n",
              "      <td>1</td>\n",
              "      <td>{\"label\": \"Terrorism\", \"score\": 4, \"type\": \"wi...</td>\n",
              "      <td>Terrorism</td>\n",
              "      <td>4</td>\n",
              "      <td>0.000000</td>\n",
              "      <td>0.002611</td>\n",
              "      <td>0.011905</td>\n",
              "      <td>0.000000</td>\n",
              "      <td>0.004</td>\n",
              "      <td>0.000000</td>\n",
              "      <td>0.002611</td>\n",
              "      <td>0.011905</td>\n",
              "      <td>0.000000</td>\n",
              "      <td>0.004</td>\n",
              "      <td>wiki</td>\n",
              "    </tr>\n",
              "  </tbody>\n",
              "</table>\n",
              "</div>"
            ],
            "text/plain": [
              "   Left  Lean Left  ...  2_per_article_center_copy  concept_type\n",
              "0     0          3  ...                      0.006          wiki\n",
              "1     0          0  ...                      0.006           org\n",
              "2     1          2  ...                      0.010          wiki\n",
              "3     0          0  ...                      0.008          wiki\n",
              "4     0          1  ...                      0.004          wiki\n",
              "\n",
              "[5 rows x 19 columns]"
            ]
          },
          "metadata": {
            "tags": []
          },
          "execution_count": 43
        }
      ]
    },
    {
      "cell_type": "code",
      "metadata": {
        "id": "-xnm7m0OKyWo"
      },
      "source": [
        "category_df = pd.read_csv(os.path.join(main_path, \"category_dataframe.csv\"))"
      ],
      "execution_count": 44,
      "outputs": []
    },
    {
      "cell_type": "code",
      "metadata": {
        "colab": {
          "base_uri": "https://localhost:8080/",
          "height": 258
        },
        "id": "j2HjjdCPKyWp",
        "outputId": "420ecc92-35ef-4f64-ef7e-3a4bd7611248"
      },
      "source": [
        "category_df.head()"
      ],
      "execution_count": 45,
      "outputs": [
        {
          "output_type": "execute_result",
          "data": {
            "text/html": [
              "<div>\n",
              "<style scoped>\n",
              "    .dataframe tbody tr th:only-of-type {\n",
              "        vertical-align: middle;\n",
              "    }\n",
              "\n",
              "    .dataframe tbody tr th {\n",
              "        vertical-align: top;\n",
              "    }\n",
              "\n",
              "    .dataframe thead th {\n",
              "        text-align: right;\n",
              "    }\n",
              "</style>\n",
              "<table border=\"1\" class=\"dataframe\">\n",
              "  <thead>\n",
              "    <tr style=\"text-align: right;\">\n",
              "      <th></th>\n",
              "      <th>Left</th>\n",
              "      <th>Lean Left</th>\n",
              "      <th>Center</th>\n",
              "      <th>Lean Right</th>\n",
              "      <th>Right</th>\n",
              "      <th>category</th>\n",
              "      <th>usage_sum</th>\n",
              "      <th>0_per_article_left</th>\n",
              "      <th>1_per_article_lean_left</th>\n",
              "      <th>4_per_article_right</th>\n",
              "      <th>3_per_article_lean_right</th>\n",
              "      <th>2_per_article_center</th>\n",
              "      <th>0_per_article_left_copy</th>\n",
              "      <th>1_per_article_lean_left_copy</th>\n",
              "      <th>4_per_article_right_copy</th>\n",
              "      <th>3_per_article_lean_right_copy</th>\n",
              "      <th>2_per_article_center_copy</th>\n",
              "    </tr>\n",
              "  </thead>\n",
              "  <tbody>\n",
              "    <tr>\n",
              "      <th>0</th>\n",
              "      <td>55</td>\n",
              "      <td>263</td>\n",
              "      <td>365</td>\n",
              "      <td>48</td>\n",
              "      <td>63</td>\n",
              "      <td>news/Politics</td>\n",
              "      <td>794</td>\n",
              "      <td>0.679012</td>\n",
              "      <td>0.686684</td>\n",
              "      <td>0.750000</td>\n",
              "      <td>0.750000</td>\n",
              "      <td>0.730</td>\n",
              "      <td>0.679012</td>\n",
              "      <td>0.686684</td>\n",
              "      <td>0.750000</td>\n",
              "      <td>0.750000</td>\n",
              "      <td>0.730</td>\n",
              "    </tr>\n",
              "    <tr>\n",
              "      <th>1</th>\n",
              "      <td>32</td>\n",
              "      <td>170</td>\n",
              "      <td>208</td>\n",
              "      <td>29</td>\n",
              "      <td>31</td>\n",
              "      <td>dmoz/Society/Issues</td>\n",
              "      <td>470</td>\n",
              "      <td>0.395062</td>\n",
              "      <td>0.443864</td>\n",
              "      <td>0.369048</td>\n",
              "      <td>0.453125</td>\n",
              "      <td>0.416</td>\n",
              "      <td>0.395062</td>\n",
              "      <td>0.443864</td>\n",
              "      <td>0.369048</td>\n",
              "      <td>0.453125</td>\n",
              "      <td>0.416</td>\n",
              "    </tr>\n",
              "    <tr>\n",
              "      <th>2</th>\n",
              "      <td>5</td>\n",
              "      <td>22</td>\n",
              "      <td>35</td>\n",
              "      <td>4</td>\n",
              "      <td>10</td>\n",
              "      <td>dmoz/Society/Issues/Warfare_and_Conflict</td>\n",
              "      <td>76</td>\n",
              "      <td>0.061728</td>\n",
              "      <td>0.057441</td>\n",
              "      <td>0.119048</td>\n",
              "      <td>0.062500</td>\n",
              "      <td>0.070</td>\n",
              "      <td>0.061728</td>\n",
              "      <td>0.057441</td>\n",
              "      <td>0.119048</td>\n",
              "      <td>0.062500</td>\n",
              "      <td>0.070</td>\n",
              "    </tr>\n",
              "    <tr>\n",
              "      <th>3</th>\n",
              "      <td>3</td>\n",
              "      <td>12</td>\n",
              "      <td>16</td>\n",
              "      <td>1</td>\n",
              "      <td>4</td>\n",
              "      <td>dmoz/Society/Issues/Terrorism</td>\n",
              "      <td>36</td>\n",
              "      <td>0.037037</td>\n",
              "      <td>0.031332</td>\n",
              "      <td>0.047619</td>\n",
              "      <td>0.015625</td>\n",
              "      <td>0.032</td>\n",
              "      <td>0.037037</td>\n",
              "      <td>0.031332</td>\n",
              "      <td>0.047619</td>\n",
              "      <td>0.015625</td>\n",
              "      <td>0.032</td>\n",
              "    </tr>\n",
              "    <tr>\n",
              "      <th>4</th>\n",
              "      <td>81</td>\n",
              "      <td>383</td>\n",
              "      <td>500</td>\n",
              "      <td>64</td>\n",
              "      <td>84</td>\n",
              "      <td>dmoz/Society/Issues/Race-Ethnic-Religious_Rela...</td>\n",
              "      <td>1112</td>\n",
              "      <td>1.000000</td>\n",
              "      <td>1.000000</td>\n",
              "      <td>1.000000</td>\n",
              "      <td>1.000000</td>\n",
              "      <td>1.000</td>\n",
              "      <td>1.000000</td>\n",
              "      <td>1.000000</td>\n",
              "      <td>1.000000</td>\n",
              "      <td>1.000000</td>\n",
              "      <td>1.000</td>\n",
              "    </tr>\n",
              "  </tbody>\n",
              "</table>\n",
              "</div>"
            ],
            "text/plain": [
              "   Left  Lean Left  ...  3_per_article_lean_right_copy  2_per_article_center_copy\n",
              "0    55        263  ...                       0.750000                      0.730\n",
              "1    32        170  ...                       0.453125                      0.416\n",
              "2     5         22  ...                       0.062500                      0.070\n",
              "3     3         12  ...                       0.015625                      0.032\n",
              "4    81        383  ...                       1.000000                      1.000\n",
              "\n",
              "[5 rows x 17 columns]"
            ]
          },
          "metadata": {
            "tags": []
          },
          "execution_count": 45
        }
      ]
    },
    {
      "cell_type": "markdown",
      "metadata": {
        "id": "S5KQhgEvKyWp"
      },
      "source": [
        "### Word Choice and Part of Speech"
      ]
    },
    {
      "cell_type": "code",
      "metadata": {
        "id": "y43nVmjBKyWp"
      },
      "source": [
        "# T-Test each Part of Speech by 2-sample testing left and right per_article"
      ],
      "execution_count": 46,
      "outputs": []
    },
    {
      "cell_type": "markdown",
      "metadata": {
        "id": "RNwaUvD3KyWp"
      },
      "source": [
        "#### Title Test"
      ]
    },
    {
      "cell_type": "code",
      "metadata": {
        "id": "HN1sbugRKyWp"
      },
      "source": [
        "pos_dict_title = {}\n",
        "for pos in title_df[\"pos\"].unique():\n",
        "  pos_dict_title[pos] = title_df[title_df[\"pos\"] == pos]"
      ],
      "execution_count": 47,
      "outputs": []
    },
    {
      "cell_type": "code",
      "metadata": {
        "colab": {
          "base_uri": "https://localhost:8080/"
        },
        "id": "186Vnxq0KyWq",
        "outputId": "258723e5-62ae-4188-b8c4-ab1db39799df"
      },
      "source": [
        "pos_dict_title.keys()"
      ],
      "execution_count": 48,
      "outputs": [
        {
          "output_type": "execute_result",
          "data": {
            "text/plain": [
              "dict_keys(['NN', 'VB', 'MD', 'CD', 'JJ', 'RB', 'IN', 'TO', 'DT', 'SY', 'WR', 'PR', 'WP', 'CC', 'RP', 'PD', 'FW', 'UH', 'WD', 'EX'])"
            ]
          },
          "metadata": {
            "tags": []
          },
          "execution_count": 48
        }
      ]
    },
    {
      "cell_type": "code",
      "metadata": {
        "colab": {
          "base_uri": "https://localhost:8080/"
        },
        "id": "vsGBbV3VKyWq",
        "outputId": "dad91f16-c5df-4265-9ad2-8314415288cb"
      },
      "source": [
        "for pair in combinations(position_list, 2):\n",
        "  print(f\"Overall T-test for Variables: {pair}\")\n",
        "  print(stats.ttest_ind(title_df[pair[0]], title_df[pair[1]]))\n",
        "  print()\n",
        "  print(\"Specific T-test per POS\")\n",
        "  for k in pos_dict_title.keys():\n",
        "    try:\n",
        "      print(k)\n",
        "      print(stats.ttest_ind(pos_dict_title[k][pair[0]], pos_dict_title[k][pair[1]]))\n",
        "    except:\n",
        "      pass\n",
        "  print()\n",
        "  print()"
      ],
      "execution_count": 49,
      "outputs": [
        {
          "output_type": "stream",
          "text": [
            "Overall T-test for Variables: ('0_per_article_left', '1_per_article_lean_left')\n",
            "Ttest_indResult(statistic=1.2205137937146608, pvalue=0.22231717212988342)\n",
            "\n",
            "Specific T-test per POS\n",
            "NN\n",
            "Ttest_indResult(statistic=1.6915086780461162, pvalue=0.09081937974972834)\n",
            "VB\n",
            "Ttest_indResult(statistic=-1.002909254710781, pvalue=0.3161256107299254)\n",
            "MD\n",
            "Ttest_indResult(statistic=-1.6568473188965556, pvalue=0.11702602067780063)\n",
            "CD\n",
            "Ttest_indResult(statistic=0.09935559300600223, pvalue=0.9209960657260325)\n",
            "JJ\n",
            "Ttest_indResult(statistic=-2.761200421882087, pvalue=0.005920003931426464)\n",
            "RB\n",
            "Ttest_indResult(statistic=-1.2524511089510288, pvalue=0.21280107951676683)\n",
            "IN\n",
            "Ttest_indResult(statistic=1.7313073791433897, pvalue=0.08735070265736239)\n",
            "TO\n",
            "Ttest_indResult(statistic=nan, pvalue=nan)\n",
            "DT\n",
            "Ttest_indResult(statistic=0.9443339842896059, pvalue=0.3562683670404647)\n",
            "SY\n",
            "Ttest_indResult(statistic=nan, pvalue=nan)\n",
            "WR\n",
            "Ttest_indResult(statistic=-0.3326159198722591, pvalue=0.7507379472677452)\n",
            "PR\n",
            "Ttest_indResult(statistic=0.552668255427343, pvalue=0.5856017925163612)\n",
            "WP\n",
            "Ttest_indResult(statistic=-1.25, pvalue=0.3377338214674781)\n",
            "CC\n",
            "Ttest_indResult(statistic=1.7498077265616205, pvalue=0.22225598553353315)\n",
            "RP\n",
            "Ttest_indResult(statistic=0.771448077987751, pvalue=0.4834846934670835)\n",
            "PD\n",
            "Ttest_indResult(statistic=nan, pvalue=nan)\n",
            "FW\n",
            "Ttest_indResult(statistic=-inf, pvalue=0.0)\n",
            "UH\n",
            "Ttest_indResult(statistic=-1.0, pvalue=0.42264973081037427)\n",
            "WD\n",
            "Ttest_indResult(statistic=nan, pvalue=nan)\n",
            "EX\n",
            "Ttest_indResult(statistic=nan, pvalue=nan)\n",
            "\n",
            "\n",
            "Overall T-test for Variables: ('0_per_article_left', '2_per_article_center')\n",
            "Ttest_indResult(statistic=1.1452562027208868, pvalue=0.25214781139041376)\n",
            "\n",
            "Specific T-test per POS\n",
            "NN\n",
            "Ttest_indResult(statistic=1.4359588690249416, pvalue=0.1510940416811757)\n",
            "VB\n",
            "Ttest_indResult(statistic=-1.8161831844769967, pvalue=0.06961488391013605)\n",
            "MD\n",
            "Ttest_indResult(statistic=-1.1555424450983616, pvalue=0.26483347498738147)\n",
            "CD\n",
            "Ttest_indResult(statistic=-0.430637128264062, pvalue=0.6673851710236329)\n",
            "JJ\n",
            "Ttest_indResult(statistic=-2.936067173387683, pvalue=0.0034404062033002282)\n",
            "RB\n",
            "Ttest_indResult(statistic=-0.17195210760952764, pvalue=0.8637600876084492)\n",
            "IN\n",
            "Ttest_indResult(statistic=2.38300011275862, pvalue=0.019605647939217544)\n",
            "TO\n",
            "Ttest_indResult(statistic=nan, pvalue=nan)\n",
            "DT\n",
            "Ttest_indResult(statistic=1.3157249414881567, pvalue=0.20314985232381744)\n",
            "SY\n",
            "Ttest_indResult(statistic=nan, pvalue=nan)\n",
            "WR\n",
            "Ttest_indResult(statistic=0.03431626807990228, pvalue=0.9737380923737072)\n",
            "PR\n",
            "Ttest_indResult(statistic=1.8311221802236664, pvalue=0.07952587670233272)\n",
            "WP\n",
            "Ttest_indResult(statistic=-1.5, pvalue=0.27239312489100087)\n",
            "CC\n",
            "Ttest_indResult(statistic=1.9127355295937587, pvalue=0.19591479794285147)\n",
            "RP\n",
            "Ttest_indResult(statistic=0.6430878038937536, pvalue=0.5551785420746291)\n",
            "PD\n",
            "Ttest_indResult(statistic=nan, pvalue=nan)\n",
            "FW\n",
            "Ttest_indResult(statistic=nan, pvalue=nan)\n",
            "UH\n",
            "Ttest_indResult(statistic=nan, pvalue=nan)\n",
            "WD\n",
            "Ttest_indResult(statistic=nan, pvalue=nan)\n",
            "EX\n",
            "Ttest_indResult(statistic=nan, pvalue=nan)\n",
            "\n",
            "\n",
            "Overall T-test for Variables: ('0_per_article_left', '3_per_article_lean_right')\n",
            "Ttest_indResult(statistic=1.4783305577224926, pvalue=0.13937076805753254)\n",
            "\n",
            "Specific T-test per POS\n",
            "NN\n",
            "Ttest_indResult(statistic=2.1025533931921565, pvalue=0.03556860137963369)\n",
            "VB\n",
            "Ttest_indResult(statistic=-1.159385441257783, pvalue=0.24655116945319386)\n",
            "MD\n",
            "Ttest_indResult(statistic=-0.7851881032983531, pvalue=0.4438153040892372)\n",
            "CD\n",
            "Ttest_indResult(statistic=0.6777014843422525, pvalue=0.4990637139125679)\n",
            "JJ\n",
            "Ttest_indResult(statistic=-3.4008135351700557, pvalue=0.0007126197044466645)\n",
            "RB\n",
            "Ttest_indResult(statistic=-1.283022114705513, pvalue=0.2019163494243637)\n",
            "IN\n",
            "Ttest_indResult(statistic=3.0233357447838722, pvalue=0.0033824704688211233)\n",
            "TO\n",
            "Ttest_indResult(statistic=nan, pvalue=nan)\n",
            "DT\n",
            "Ttest_indResult(statistic=0.5008048742541474, pvalue=0.6219752935875734)\n",
            "SY\n",
            "Ttest_indResult(statistic=nan, pvalue=nan)\n",
            "WR\n",
            "Ttest_indResult(statistic=-0.19094696298214764, pvalue=0.8548644830206811)\n",
            "PR\n",
            "Ttest_indResult(statistic=2.4197978607203923, pvalue=0.023468504690865734)\n",
            "WP\n",
            "Ttest_indResult(statistic=nan, pvalue=nan)\n",
            "CC\n",
            "Ttest_indResult(statistic=2.0, pvalue=0.1835034190722739)\n",
            "RP\n",
            "Ttest_indResult(statistic=1.0, pvalue=0.373900966300059)\n",
            "PD\n",
            "Ttest_indResult(statistic=nan, pvalue=nan)\n",
            "FW\n",
            "Ttest_indResult(statistic=nan, pvalue=nan)\n",
            "UH\n",
            "Ttest_indResult(statistic=-1.0, pvalue=0.42264973081037427)\n",
            "WD\n",
            "Ttest_indResult(statistic=nan, pvalue=nan)\n",
            "EX\n",
            "Ttest_indResult(statistic=nan, pvalue=nan)\n",
            "\n",
            "\n",
            "Overall T-test for Variables: ('0_per_article_left', '4_per_article_right')\n",
            "Ttest_indResult(statistic=-0.06183723196986413, pvalue=0.950694472006365)\n",
            "\n",
            "Specific T-test per POS\n",
            "NN\n",
            "Ttest_indResult(statistic=0.05963260405140463, pvalue=0.9524512977811175)\n",
            "VB\n",
            "Ttest_indResult(statistic=0.07232658623332985, pvalue=0.9423551794741578)\n",
            "MD\n",
            "Ttest_indResult(statistic=0.025708724836453027, pvalue=0.9798075825420132)\n",
            "CD\n",
            "Ttest_indResult(statistic=1.1879179290814221, pvalue=0.23684887505845162)\n",
            "JJ\n",
            "Ttest_indResult(statistic=-1.5736520214440994, pvalue=0.11605005773609021)\n",
            "RB\n",
            "Ttest_indResult(statistic=-0.34472552973086673, pvalue=0.7308942795165093)\n",
            "IN\n",
            "Ttest_indResult(statistic=-0.29130143831770106, pvalue=0.7715940382439528)\n",
            "TO\n",
            "Ttest_indResult(statistic=nan, pvalue=nan)\n",
            "DT\n",
            "Ttest_indResult(statistic=0.47600629774460856, pvalue=0.6392283299434389)\n",
            "SY\n",
            "Ttest_indResult(statistic=nan, pvalue=nan)\n",
            "WR\n",
            "Ttest_indResult(statistic=0.6884626626574456, pvalue=0.5168822685223867)\n",
            "PR\n",
            "Ttest_indResult(statistic=0.29537151394508276, pvalue=0.7702503944278608)\n",
            "WP\n",
            "Ttest_indResult(statistic=-inf, pvalue=0.0)\n",
            "CC\n",
            "Ttest_indResult(statistic=2.0, pvalue=0.1835034190722739)\n",
            "RP\n",
            "Ttest_indResult(statistic=1.0, pvalue=0.373900966300059)\n",
            "PD\n",
            "Ttest_indResult(statistic=nan, pvalue=nan)\n",
            "FW\n",
            "Ttest_indResult(statistic=nan, pvalue=nan)\n",
            "UH\n",
            "Ttest_indResult(statistic=nan, pvalue=nan)\n",
            "WD\n",
            "Ttest_indResult(statistic=nan, pvalue=nan)\n",
            "EX\n",
            "Ttest_indResult(statistic=nan, pvalue=nan)\n",
            "\n",
            "\n",
            "Overall T-test for Variables: ('1_per_article_lean_left', '2_per_article_center')\n",
            "Ttest_indResult(statistic=-0.04062490718883997, pvalue=0.967596252210985)\n",
            "\n",
            "Specific T-test per POS\n",
            "NN\n",
            "Ttest_indResult(statistic=-0.20574194589965059, pvalue=0.8370032022151739)\n",
            "VB\n",
            "Ttest_indResult(statistic=-1.0346830267714762, pvalue=0.30104479089442915)\n",
            "MD\n",
            "Ttest_indResult(statistic=0.8270830084886004, pvalue=0.4203545201047447)\n",
            "CD\n",
            "Ttest_indResult(statistic=-0.7526721942507102, pvalue=0.45289287061347916)\n",
            "JJ\n",
            "Ttest_indResult(statistic=-0.3741010386575687, pvalue=0.7084500299296601)\n",
            "RB\n",
            "Ttest_indResult(statistic=1.428076964573819, pvalue=0.15582465668570375)\n",
            "IN\n",
            "Ttest_indResult(statistic=1.3620621393539503, pvalue=0.17709894996464864)\n",
            "TO\n",
            "Ttest_indResult(statistic=nan, pvalue=nan)\n",
            "DT\n",
            "Ttest_indResult(statistic=1.6381438838696931, pvalue=0.11702917329667309)\n",
            "SY\n",
            "Ttest_indResult(statistic=nan, pvalue=nan)\n",
            "WR\n",
            "Ttest_indResult(statistic=0.3576010345664662, pvalue=0.732884613700783)\n",
            "PR\n",
            "Ttest_indResult(statistic=2.774217931449978, pvalue=0.01054091072116148)\n",
            "WP\n",
            "Ttest_indResult(statistic=0.6308157529604097, pvalue=0.5926343418873474)\n",
            "CC\n",
            "Ttest_indResult(statistic=0.5761855212088421, pvalue=0.6226893865132805)\n",
            "RP\n",
            "Ttest_indResult(statistic=-0.2907918423835249, pvalue=0.7856648070249842)\n",
            "PD\n",
            "Ttest_indResult(statistic=nan, pvalue=nan)\n",
            "FW\n",
            "Ttest_indResult(statistic=inf, pvalue=0.0)\n",
            "UH\n",
            "Ttest_indResult(statistic=1.0, pvalue=0.42264973081037427)\n",
            "WD\n",
            "Ttest_indResult(statistic=nan, pvalue=nan)\n",
            "EX\n",
            "Ttest_indResult(statistic=nan, pvalue=nan)\n",
            "\n",
            "\n",
            "Overall T-test for Variables: ('1_per_article_lean_left', '3_per_article_lean_right')\n",
            "Ttest_indResult(statistic=0.42367954807608593, pvalue=0.6718144171034766)\n",
            "\n",
            "Specific T-test per POS\n",
            "NN\n",
            "Ttest_indResult(statistic=0.5789134332091076, pvalue=0.5626809321721391)\n",
            "VB\n",
            "Ttest_indResult(statistic=-0.4783675698182068, pvalue=0.6324838432983576)\n",
            "MD\n",
            "Ttest_indResult(statistic=0.5157278804104254, pvalue=0.6130972610955392)\n",
            "CD\n",
            "Ttest_indResult(statistic=0.721808280085987, pvalue=0.47159925738036046)\n",
            "JJ\n",
            "Ttest_indResult(statistic=-1.0126535671677463, pvalue=0.3115990154043207)\n",
            "RB\n",
            "Ttest_indResult(statistic=-0.38006200399774376, pvalue=0.7045602346629956)\n",
            "IN\n",
            "Ttest_indResult(statistic=2.861675375259122, pvalue=0.005407491638434169)\n",
            "TO\n",
            "Ttest_indResult(statistic=nan, pvalue=nan)\n",
            "DT\n",
            "Ttest_indResult(statistic=-0.40281784904423984, pvalue=0.6913555891651633)\n",
            "SY\n",
            "Ttest_indResult(statistic=nan, pvalue=nan)\n",
            "WR\n",
            "Ttest_indResult(statistic=0.0684588862538531, pvalue=0.9476447851459772)\n",
            "PR\n",
            "Ttest_indResult(statistic=4.2953987533697555, pvalue=0.0002491970768959762)\n",
            "WP\n",
            "Ttest_indResult(statistic=1.25, pvalue=0.3377338214674781)\n",
            "CC\n",
            "Ttest_indResult(statistic=1.0, pvalue=0.42264973081037427)\n",
            "RP\n",
            "Ttest_indResult(statistic=0.9999999999999999, pvalue=0.373900966300059)\n",
            "PD\n",
            "Ttest_indResult(statistic=nan, pvalue=nan)\n",
            "FW\n",
            "Ttest_indResult(statistic=inf, pvalue=0.0)\n",
            "UH\n",
            "Ttest_indResult(statistic=-0.8215076516783583, pvalue=0.49770381288006893)\n",
            "WD\n",
            "Ttest_indResult(statistic=nan, pvalue=nan)\n",
            "EX\n",
            "Ttest_indResult(statistic=nan, pvalue=nan)\n",
            "\n",
            "\n",
            "Overall T-test for Variables: ('1_per_article_lean_left', '4_per_article_right')\n",
            "Ttest_indResult(statistic=-1.3287399932118975, pvalue=0.18398328840830852)\n",
            "\n",
            "Specific T-test per POS\n",
            "NN\n",
            "Ttest_indResult(statistic=-1.734847373352977, pvalue=0.082846643224839)\n",
            "VB\n",
            "Ttest_indResult(statistic=1.0572627923084152, pvalue=0.29062421915002046)\n",
            "MD\n",
            "Ttest_indResult(statistic=1.7041866951227613, pvalue=0.1076850817057102)\n",
            "CD\n",
            "Ttest_indResult(statistic=1.4184828565774992, pvalue=0.15824084482747205)\n",
            "JJ\n",
            "Ttest_indResult(statistic=0.9904092536596556, pvalue=0.322339289346776)\n",
            "RB\n",
            "Ttest_indResult(statistic=0.7545138362316475, pvalue=0.4519947025563509)\n",
            "IN\n",
            "Ttest_indResult(statistic=-1.5832508590244747, pvalue=0.11741079736067797)\n",
            "TO\n",
            "Ttest_indResult(statistic=nan, pvalue=nan)\n",
            "DT\n",
            "Ttest_indResult(statistic=-0.6427565454520727, pvalue=0.5276827741801366)\n",
            "SY\n",
            "Ttest_indResult(statistic=nan, pvalue=nan)\n",
            "WR\n",
            "Ttest_indResult(statistic=0.8258485516808604, pvalue=0.44048458459515727)\n",
            "PR\n",
            "Ttest_indResult(statistic=-0.34346888302162915, pvalue=0.7342364462732032)\n",
            "WP\n",
            "Ttest_indResult(statistic=0.11011904761904778, pvalue=0.9223690612049371)\n",
            "CC\n",
            "Ttest_indResult(statistic=1.0, pvalue=0.42264973081037427)\n",
            "RP\n",
            "Ttest_indResult(statistic=0.9999999999999999, pvalue=0.373900966300059)\n",
            "PD\n",
            "Ttest_indResult(statistic=nan, pvalue=nan)\n",
            "FW\n",
            "Ttest_indResult(statistic=inf, pvalue=0.0)\n",
            "UH\n",
            "Ttest_indResult(statistic=1.0, pvalue=0.42264973081037427)\n",
            "WD\n",
            "Ttest_indResult(statistic=nan, pvalue=nan)\n",
            "EX\n",
            "Ttest_indResult(statistic=nan, pvalue=nan)\n",
            "\n",
            "\n",
            "Overall T-test for Variables: ('2_per_article_center', '3_per_article_lean_right')\n",
            "Ttest_indResult(statistic=0.44270347394386267, pvalue=0.6579958701293356)\n",
            "\n",
            "Specific T-test per POS\n",
            "NN\n",
            "Ttest_indResult(statistic=0.7381434426333805, pvalue=0.46047158632007246)\n",
            "VB\n",
            "Ttest_indResult(statistic=0.16651009469093608, pvalue=0.8677861962861819)"
          ],
          "name": "stdout"
        },
        {
          "output_type": "stream",
          "text": [
            "/usr/local/lib/python3.7/dist-packages/numpy/core/fromnumeric.py:3622: RuntimeWarning: Degrees of freedom <= 0 for slice\n",
            "  **kwargs)\n",
            "/usr/local/lib/python3.7/dist-packages/numpy/core/_methods.py:226: RuntimeWarning: invalid value encountered in double_scalars\n",
            "  ret = ret.dtype.type(ret / rcount)\n"
          ],
          "name": "stderr"
        },
        {
          "output_type": "stream",
          "text": [
            "\n",
            "MD\n",
            "Ttest_indResult(statistic=-0.05544635334551048, pvalue=0.9564693423860251)\n",
            "CD\n",
            "Ttest_indResult(statistic=1.2995895943895244, pvalue=0.19584750799933606)\n",
            "JJ\n",
            "Ttest_indResult(statistic=-0.6314909326601063, pvalue=0.5279395555116105)\n",
            "RB\n",
            "Ttest_indResult(statistic=-1.3264975098949172, pvalue=0.18715271072736067)\n",
            "IN\n",
            "Ttest_indResult(statistic=1.920533030222163, pvalue=0.05844555026005352)\n",
            "TO\n",
            "Ttest_indResult(statistic=nan, pvalue=nan)\n",
            "DT\n",
            "Ttest_indResult(statistic=-0.8656016435257107, pvalue=0.3969735451686447)\n",
            "SY\n",
            "Ttest_indResult(statistic=nan, pvalue=nan)\n",
            "WR\n",
            "Ttest_indResult(statistic=-0.21112462947903232, pvalue=0.83977813507283)\n",
            "PR\n",
            "Ttest_indResult(statistic=3.605551275463989, pvalue=0.00141788536525257)\n",
            "WP\n",
            "Ttest_indResult(statistic=1.5, pvalue=0.27239312489100087)\n",
            "CC\n",
            "Ttest_indResult(statistic=1.0, pvalue=0.42264973081037427)\n",
            "RP\n",
            "Ttest_indResult(statistic=1.0, pvalue=0.373900966300059)\n",
            "PD\n",
            "Ttest_indResult(statistic=nan, pvalue=nan)\n",
            "FW\n",
            "Ttest_indResult(statistic=nan, pvalue=nan)\n",
            "UH\n",
            "Ttest_indResult(statistic=-1.0, pvalue=0.42264973081037427)\n",
            "WD\n",
            "Ttest_indResult(statistic=nan, pvalue=nan)\n",
            "EX\n",
            "Ttest_indResult(statistic=nan, pvalue=nan)\n",
            "\n",
            "\n",
            "Overall T-test for Variables: ('2_per_article_center', '4_per_article_right')\n",
            "Ttest_indResult(statistic=-1.2462838461076318, pvalue=0.21270789272843138)\n",
            "\n",
            "Specific T-test per POS\n",
            "NN\n",
            "Ttest_indResult(statistic=-1.4562283293867726, pvalue=0.14540980105115012)\n",
            "VB\n",
            "Ttest_indResult(statistic=1.8453833151617416, pvalue=0.06525091232392333)\n",
            "MD\n",
            "Ttest_indResult(statistic=1.2124990888154639, pvalue=0.2429215522306702)\n",
            "CD\n",
            "Ttest_indResult(statistic=2.176760260162152, pvalue=0.03115123254169485)\n",
            "JJ\n",
            "Ttest_indResult(statistic=1.293090507669293, pvalue=0.19643494732222294)\n",
            "RB\n",
            "Ttest_indResult(statistic=-0.26342266131843084, pvalue=0.7926692204460667)\n",
            "IN\n",
            "Ttest_indResult(statistic=-2.0263873755113972, pvalue=0.046143444334728605)\n",
            "TO\n",
            "Ttest_indResult(statistic=nan, pvalue=nan)\n",
            "DT\n",
            "Ttest_indResult(statistic=-1.2592194016425995, pvalue=0.2224498384954463)\n",
            "SY\n",
            "Ttest_indResult(statistic=nan, pvalue=nan)\n",
            "WR\n",
            "Ttest_indResult(statistic=0.6517621581696704, pvalue=0.5387036340599097)\n",
            "PR\n",
            "Ttest_indResult(statistic=-2.401151766364892, pvalue=0.02444815898576094)\n",
            "WP\n",
            "Ttest_indResult(statistic=-1.476190476190476, pvalue=0.27789720461895145)\n",
            "CC\n",
            "Ttest_indResult(statistic=1.0, pvalue=0.42264973081037427)\n",
            "RP\n",
            "Ttest_indResult(statistic=1.0, pvalue=0.373900966300059)\n",
            "PD\n",
            "Ttest_indResult(statistic=nan, pvalue=nan)\n",
            "FW\n",
            "Ttest_indResult(statistic=nan, pvalue=nan)\n",
            "UH\n",
            "Ttest_indResult(statistic=nan, pvalue=nan)\n",
            "WD\n",
            "Ttest_indResult(statistic=nan, pvalue=nan)\n",
            "EX\n",
            "Ttest_indResult(statistic=nan, pvalue=nan)\n",
            "\n",
            "\n",
            "Overall T-test for Variables: ('3_per_article_lean_right', '4_per_article_right')\n",
            "Ttest_indResult(statistic=-1.5810973608161398, pvalue=0.11390743722418578)\n",
            "\n",
            "Specific T-test per POS\n",
            "NN\n",
            "Ttest_indResult(statistic=-2.162953590311766, pvalue=0.030605169665941647)\n",
            "VB\n",
            "Ttest_indResult(statistic=1.2030922903337555, pvalue=0.22919995180325742)\n",
            "MD\n",
            "Ttest_indResult(statistic=0.8110163418140044, pvalue=0.4292560363580519)\n",
            "CD\n",
            "Ttest_indResult(statistic=0.4359436845271936, pvalue=0.6635396030078016)\n",
            "JJ\n",
            "Ttest_indResult(statistic=1.8580058651903917, pvalue=0.06361598256119957)\n",
            "RB\n",
            "Ttest_indResult(statistic=0.9258467422840032, pvalue=0.3563534588567254)\n",
            "IN\n",
            "Ttest_indResult(statistic=-2.4749615608219173, pvalue=0.015494338866252214)\n",
            "TO\n",
            "Ttest_indResult(statistic=nan, pvalue=nan)\n",
            "DT\n",
            "Ttest_indResult(statistic=-0.08212892697812096, pvalue=0.9353605822701977)\n",
            "SY\n",
            "Ttest_indResult(statistic=nan, pvalue=nan)\n",
            "WR\n",
            "Ttest_indResult(statistic=0.5784924073369802, pvalue=0.5839770538869484)\n",
            "PR\n",
            "Ttest_indResult(statistic=-3.4112114616897675, pvalue=0.002293489029802601)\n",
            "WP\n",
            "Ttest_indResult(statistic=-inf, pvalue=0.0)\n",
            "CC\n",
            "Ttest_indResult(statistic=nan, pvalue=nan)\n",
            "RP\n",
            "Ttest_indResult(statistic=nan, pvalue=nan)\n",
            "PD\n",
            "Ttest_indResult(statistic=nan, pvalue=nan)\n",
            "FW\n",
            "Ttest_indResult(statistic=nan, pvalue=nan)\n",
            "UH\n",
            "Ttest_indResult(statistic=1.0, pvalue=0.42264973081037427)\n",
            "WD\n",
            "Ttest_indResult(statistic=nan, pvalue=nan)\n",
            "EX\n",
            "Ttest_indResult(statistic=nan, pvalue=nan)\n",
            "\n",
            "\n"
          ],
          "name": "stdout"
        }
      ]
    },
    {
      "cell_type": "markdown",
      "metadata": {
        "id": "gAkQormfKyWr"
      },
      "source": [
        "#### Body Test"
      ]
    },
    {
      "cell_type": "code",
      "metadata": {
        "id": "fmOnZWB4KyWr"
      },
      "source": [
        "pos_dict_body = {}\n",
        "for pos in body_df[\"pos\"].unique():\n",
        "  pos_dict_body[pos] = body_df[body_df[\"pos\"] == pos]\n"
      ],
      "execution_count": 50,
      "outputs": []
    },
    {
      "cell_type": "code",
      "metadata": {
        "colab": {
          "base_uri": "https://localhost:8080/"
        },
        "id": "14IVL6l1KyWs",
        "outputId": "c5932ea1-70ed-48d3-8951-719894ee0bff"
      },
      "source": [
        "pos_dict_body.keys()"
      ],
      "execution_count": 51,
      "outputs": [
        {
          "output_type": "execute_result",
          "data": {
            "text/plain": [
              "dict_keys(['NN', 'DT', 'JJ', 'VB', 'MD', 'CC', 'RB', 'IN', 'CD', 'PR', 'WR', 'WP', 'UH', 'TO', 'FW', 'WD', 'RP', 'EX', 'PD', 'PO', 'SY', '$', \"''\"])"
            ]
          },
          "metadata": {
            "tags": []
          },
          "execution_count": 51
        }
      ]
    },
    {
      "cell_type": "code",
      "metadata": {
        "colab": {
          "base_uri": "https://localhost:8080/"
        },
        "id": "efVtuQ6sKyWs",
        "outputId": "a07b961b-40ed-48f1-b59f-27cedf910226"
      },
      "source": [
        "stats.ttest_ind(body_df[\"0_per_article_left\"], body_df[\"4_per_article_right\"])"
      ],
      "execution_count": 52,
      "outputs": [
        {
          "output_type": "execute_result",
          "data": {
            "text/plain": [
              "Ttest_indResult(statistic=-0.5636709868055977, pvalue=0.5729802770919314)"
            ]
          },
          "metadata": {
            "tags": []
          },
          "execution_count": 52
        }
      ]
    },
    {
      "cell_type": "code",
      "metadata": {
        "colab": {
          "base_uri": "https://localhost:8080/"
        },
        "id": "JLWrpGmqKyWs",
        "outputId": "325b9365-5848-4b2e-e7cf-10950a1a26b9"
      },
      "source": [
        "body_df.shape # Large Sample of over 28000 words compared"
      ],
      "execution_count": 54,
      "outputs": [
        {
          "output_type": "execute_result",
          "data": {
            "text/plain": [
              "(28585, 18)"
            ]
          },
          "metadata": {
            "tags": []
          },
          "execution_count": 54
        }
      ]
    },
    {
      "cell_type": "code",
      "metadata": {
        "colab": {
          "base_uri": "https://localhost:8080/"
        },
        "id": "Ay_Hkz7PKyWt",
        "outputId": "6d2f8144-3bab-415b-86e8-2e784774a412"
      },
      "source": [
        "for pair in combinations(position_list, 2):\n",
        "  print(f\"Overall T-test for Variables: {pair}\")\n",
        "  print(stats.ttest_ind(body_df[pair[0]], body_df[pair[1]]))\n",
        "  print()\n",
        "  print(\"Specific T-test per POS\")\n",
        "  for k in pos_dict_body.keys():\n",
        "    print(k)\n",
        "    print(stats.ttest_ind(pos_dict_body[k][pair[0]], pos_dict_body[k][pair[1]]))\n",
        "  print()\n",
        "  print()"
      ],
      "execution_count": 55,
      "outputs": [
        {
          "output_type": "stream",
          "text": [
            "Overall T-test for Variables: ('0_per_article_left', '1_per_article_lean_left')\n",
            "Ttest_indResult(statistic=-4.946439245989056, pvalue=7.57973432965504e-07)\n",
            "\n",
            "Specific T-test per POS\n",
            "NN\n",
            "Ttest_indResult(statistic=-3.452794134944741, pvalue=0.0005555427386611427)\n",
            "DT\n",
            "Ttest_indResult(statistic=-0.24302379423320522, pvalue=0.8090225181574375)\n",
            "JJ\n",
            "Ttest_indResult(statistic=-1.3740774072918245, pvalue=0.16944282120185813)\n",
            "VB\n",
            "Ttest_indResult(statistic=-2.8938497592486074, pvalue=0.0038152397044397247)\n",
            "MD\n",
            "Ttest_indResult(statistic=-0.5258477240931495, pvalue=0.6028598294750085)\n",
            "CC\n",
            "Ttest_indResult(statistic=-0.8767279388343904, pvalue=0.3835503104910384)\n",
            "RB\n",
            "Ttest_indResult(statistic=-1.4291691444973258, pvalue=0.15310978690787191)\n",
            "IN\n",
            "Ttest_indResult(statistic=-0.9747491174672792, pvalue=0.3303617903919188)\n",
            "CD\n",
            "Ttest_indResult(statistic=-0.812863910451297, pvalue=0.41638317169309713)\n",
            "PR\n",
            "Ttest_indResult(statistic=-0.7194941384875915, pvalue=0.4749389811453104)\n",
            "WR\n",
            "Ttest_indResult(statistic=0.10133964527871418, pvalue=0.9212839761492655)\n",
            "WP\n",
            "Ttest_indResult(statistic=-0.5375061398807622, pvalue=0.5983150410883167)\n",
            "UH\n",
            "Ttest_indResult(statistic=-0.48016332059837463, pvalue=0.6348413060269481)\n",
            "TO\n",
            "Ttest_indResult(statistic=0.22145750643257417, pvalue=0.8452912689065741)\n",
            "FW\n",
            "Ttest_indResult(statistic=1.4611328799780523, pvalue=0.14902872462843075)\n",
            "WD\n",
            "Ttest_indResult(statistic=-1.0145540698534599, pvalue=0.3224357020100055)\n",
            "RP\n",
            "Ttest_indResult(statistic=0.05410509818995612, pvalue=0.957075997913429)\n",
            "EX\n",
            "Ttest_indResult(statistic=-0.24798502847733206, pvalue=0.8163562344455297)\n",
            "PD\n",
            "Ttest_indResult(statistic=0.31506353835560547, pvalue=0.7591894776719424)\n",
            "PO\n",
            "Ttest_indResult(statistic=-1.7320508075688774, pvalue=0.13397459621556118)\n",
            "SY\n",
            "Ttest_indResult(statistic=-0.9999999999999998, pvalue=0.34659350708733405)\n",
            "$\n",
            "Ttest_indResult(statistic=-1.5491933384829666, pvalue=0.14729429508701025)\n",
            "''\n",
            "Ttest_indResult(statistic=nan, pvalue=nan)\n",
            "\n",
            "\n",
            "Overall T-test for Variables: ('0_per_article_left', '2_per_article_center')\n",
            "Ttest_indResult(statistic=-3.1596370401824814, pvalue=0.0015804807640844225)\n",
            "\n",
            "Specific T-test per POS\n",
            "NN\n",
            "Ttest_indResult(statistic=-2.5056312792718765, pvalue=0.012228317924488566)\n",
            "DT\n",
            "Ttest_indResult(statistic=-0.09971086203046751, pvalue=0.9209891651184849)\n",
            "JJ\n",
            "Ttest_indResult(statistic=-0.609408798983403, pvalue=0.5422648221381081)\n",
            "VB\n",
            "Ttest_indResult(statistic=-1.8794396154154087, pvalue=0.06021889142121649)\n",
            "MD\n",
            "Ttest_indResult(statistic=-0.1211106336131507, pvalue=0.904410965419093)\n",
            "CC\n",
            "Ttest_indResult(statistic=-0.5694762893579185, pvalue=0.5708054346474152)\n",
            "RB\n",
            "Ttest_indResult(statistic=-0.714088185241851, pvalue=0.4752549091037145)\n",
            "IN\n",
            "Ttest_indResult(statistic=-0.3815582584716633, pvalue=0.7030219133144633)\n",
            "CD\n",
            "Ttest_indResult(statistic=-0.4385492861166496, pvalue=0.6610307847176851)\n",
            "PR\n",
            "Ttest_indResult(statistic=-0.3456006807335258, pvalue=0.730985592977736)\n",
            "WR\n",
            "Ttest_indResult(statistic=0.4780610854873083, pvalue=0.6428855349113531)\n",
            "WP\n",
            "Ttest_indResult(statistic=-0.20885529766592037, pvalue=0.8371969732392008)\n",
            "UH\n",
            "Ttest_indResult(statistic=-0.13075493248220096, pvalue=0.8969041048360015)\n",
            "TO\n",
            "Ttest_indResult(statistic=0.2089944755814855, pvalue=0.8538063537405356)\n",
            "FW\n",
            "Ttest_indResult(statistic=1.0275328241374164, pvalue=0.3081618250691021)\n",
            "WD\n",
            "Ttest_indResult(statistic=-0.6027236505039079, pvalue=0.5534660910561724)\n",
            "RP\n",
            "Ttest_indResult(statistic=0.44849133996809104, pvalue=0.6558167445181149)\n",
            "EX\n",
            "Ttest_indResult(statistic=-0.0968527584749073, pvalue=0.9275020392072816)\n",
            "PD\n",
            "Ttest_indResult(statistic=0.672970210735882, pvalue=0.5162159420514296)\n",
            "PO\n",
            "Ttest_indResult(statistic=-1.7320508075688776, pvalue=0.13397459621556113)\n",
            "SY\n",
            "Ttest_indResult(statistic=-2.4494897427831788, pvalue=0.03996852371395765)\n",
            "$\n",
            "Ttest_indResult(statistic=-2.8284271247461903, pvalue=0.015220093028079175)\n",
            "''\n",
            "Ttest_indResult(statistic=nan, pvalue=nan)\n",
            "\n",
            "\n",
            "Overall T-test for Variables: ('0_per_article_left', '3_per_article_lean_right')\n",
            "Ttest_indResult(statistic=3.0086300905798353, pvalue=0.002625426600223151)\n",
            "\n",
            "Specific T-test per POS\n",
            "NN\n",
            "Ttest_indResult(statistic=2.759692835076046, pvalue=0.005788924116338426)\n",
            "DT\n",
            "Ttest_indResult(statistic=0.2600547885126874, pvalue=0.7959338052445698)\n",
            "JJ\n",
            "Ttest_indResult(statistic=1.9495907788399547, pvalue=0.05124772537356358)\n",
            "VB\n",
            "Ttest_indResult(statistic=0.6515629037440046, pvalue=0.5147009133368843)\n",
            "MD\n",
            "Ttest_indResult(statistic=0.24586856400461737, pvalue=0.8074583733444873)\n",
            "CC\n",
            "Ttest_indResult(statistic=-0.5101275699709439, pvalue=0.6115224149169374)\n",
            "RB\n",
            "Ttest_indResult(statistic=-0.2835252524999917, pvalue=0.7768031953789121)\n",
            "IN\n",
            "Ttest_indResult(statistic=0.7370031224298205, pvalue=0.46161703131529197)\n",
            "CD\n",
            "Ttest_indResult(statistic=1.5665745512196418, pvalue=0.11735656195814154)\n",
            "PR\n",
            "Ttest_indResult(statistic=-0.040735142547491755, pvalue=0.9676572847665499)\n",
            "WR\n",
            "Ttest_indResult(statistic=0.14040518796117846, pvalue=0.891127719634774)\n",
            "WP\n",
            "Ttest_indResult(statistic=-0.4088114836193694, pvalue=0.688097669132606)\n",
            "UH\n",
            "Ttest_indResult(statistic=-0.9356973981703302, pvalue=0.3574295638230873)\n",
            "TO\n",
            "Ttest_indResult(statistic=-0.009356315590374921, pvalue=0.9933842305847147)\n",
            "FW\n",
            "Ttest_indResult(statistic=2.7838821814150108, pvalue=0.007111954974251751)\n",
            "WD\n",
            "Ttest_indResult(statistic=-0.5333599527457545, pvalue=0.5996621948766139)\n",
            "RP\n",
            "Ttest_indResult(statistic=0.5977982634060113, pvalue=0.5527846718116793)\n",
            "EX\n",
            "Ttest_indResult(statistic=-0.053128393269417325, pvalue=0.9601771191986842)\n",
            "PD\n",
            "Ttest_indResult(statistic=0.2675841262962234, pvalue=0.7944573872639297)\n",
            "PO\n",
            "Ttest_indResult(statistic=nan, pvalue=nan)\n",
            "SY\n",
            "Ttest_indResult(statistic=nan, pvalue=nan)\n",
            "$\n",
            "Ttest_indResult(statistic=nan, pvalue=nan)\n",
            "''\n",
            "Ttest_indResult(statistic=nan, pvalue=nan)\n",
            "\n",
            "\n",
            "Overall T-test for Variables: ('0_per_article_left', '4_per_article_right')\n",
            "Ttest_indResult(statistic=-0.5636709868055977, pvalue=0.5729802770919314)\n",
            "\n",
            "Specific T-test per POS\n",
            "NN\n",
            "Ttest_indResult(statistic=-0.7401352108855598, pvalue=0.45922348630871157)\n",
            "DT\n",
            "Ttest_indResult(statistic=0.09975204550433851, pvalue=0.9209566416647224)\n",
            "JJ\n",
            "Ttest_indResult(statistic=0.6629156421251058, pvalue=0.5073970702174045)\n",
            "VB\n",
            "Ttest_indResult(statistic=-0.5813269460437508, pvalue=0.5610356360995976)\n",
            "MD\n",
            "Ttest_indResult(statistic=0.12669257577451332, pvalue=0.900029064302283)\n",
            "CC\n",
            "Ttest_indResult(statistic=-0.25117813668187583, pvalue=0.8023918653261051)\n",
            "RB\n",
            "Ttest_indResult(statistic=-0.03226200840344169, pvalue=0.9742662841568175)\n",
            "IN\n",
            "Ttest_indResult(statistic=-0.08712915593182924, pvalue=0.9306189625651585)\n",
            "CD\n",
            "Ttest_indResult(statistic=-0.19833878236149455, pvalue=0.8427981544252797)\n",
            "PR\n",
            "Ttest_indResult(statistic=0.16210893095184306, pvalue=0.8718251416175288)\n",
            "WR\n",
            "Ttest_indResult(statistic=0.22180961110549471, pvalue=0.8289262142450823)\n",
            "WP\n",
            "Ttest_indResult(statistic=0.2075760704952596, pvalue=0.8381789862545334)\n",
            "UH\n",
            "Ttest_indResult(statistic=-0.11524627445349996, pvalue=0.9090724460891875)\n",
            "TO\n",
            "Ttest_indResult(statistic=0.09980008974138921, pvalue=0.9296057448088959)\n",
            "FW\n",
            "Ttest_indResult(statistic=0.574471402312573, pvalue=0.5677274567044762)\n",
            "WD\n",
            "Ttest_indResult(statistic=-0.20454992849492545, pvalue=0.8399910445648637)\n",
            "RP\n",
            "Ttest_indResult(statistic=0.0464067056002952, pvalue=0.9631786327985457)\n",
            "EX\n",
            "Ttest_indResult(statistic=0.10846522890932808, pvalue=0.9188498491176675)\n",
            "PD\n",
            "Ttest_indResult(statistic=0.7707711280857874, pvalue=0.4586662048751037)\n",
            "PO\n",
            "Ttest_indResult(statistic=nan, pvalue=nan)\n",
            "SY\n",
            "Ttest_indResult(statistic=-0.9999999999999998, pvalue=0.34659350708733405)\n",
            "$\n",
            "Ttest_indResult(statistic=-1.549193338482967, pvalue=0.1472942950870102)\n",
            "''\n",
            "Ttest_indResult(statistic=nan, pvalue=nan)\n",
            "\n",
            "\n",
            "Overall T-test for Variables: ('1_per_article_lean_left', '2_per_article_center')\n",
            "Ttest_indResult(statistic=1.8934314523680382, pvalue=0.058305560717763855)\n",
            "\n",
            "Specific T-test per POS\n",
            "NN\n",
            "Ttest_indResult(statistic=1.0952898174156818, pvalue=0.2733980837553415)\n",
            "DT\n",
            "Ttest_indResult(statistic=0.1397346080065724, pvalue=0.8894543695065585)\n",
            "JJ\n",
            "Ttest_indResult(statistic=0.8099812402394388, pvalue=0.41796670930420665)\n",
            "VB\n",
            "Ttest_indResult(statistic=0.9484865776912762, pvalue=0.34290893986247795)\n",
            "MD\n",
            "Ttest_indResult(statistic=0.40326041553614106, pvalue=0.6896164304843344)\n",
            "CC\n",
            "Ttest_indResult(statistic=0.4293625745697389, pvalue=0.6689415098822904)\n",
            "RB\n",
            "Ttest_indResult(statistic=0.7345328450908724, pvalue=0.4627090540448556)\n",
            "IN\n",
            "Ttest_indResult(statistic=0.6134858959330366, pvalue=0.5399558765997386)\n",
            "CD\n",
            "Ttest_indResult(statistic=0.38480006254989546, pvalue=0.7004223791678259)\n",
            "PR\n",
            "Ttest_indResult(statistic=0.4162639730187355, pvalue=0.6788667130201365)\n",
            "WR\n",
            "Ttest_indResult(statistic=0.3170426470837488, pvalue=0.7577312385860824)\n",
            "WP\n",
            "Ttest_indResult(statistic=0.3515473847945342, pvalue=0.729764610454608)\n",
            "UH\n",
            "Ttest_indResult(statistic=0.4363432296443482, pvalue=0.6659338771950956)\n",
            "TO\n",
            "Ttest_indResult(statistic=-0.025706762844441303, pvalue=0.9818255760082917)\n",
            "FW\n",
            "Ttest_indResult(statistic=-0.9151391580727806, pvalue=0.36366418663035904)\n",
            "WD\n",
            "Ttest_indResult(statistic=0.509515081813623, pvalue=0.6159673551508791)\n",
            "RP\n",
            "Ttest_indResult(statistic=0.4418388860510218, pvalue=0.6605900687020803)\n",
            "EX\n",
            "Ttest_indResult(statistic=0.15757454062855888, pvalue=0.8824264697736548)\n",
            "PD\n",
            "Ttest_indResult(statistic=0.3756339378091374, pvalue=0.7150344248638432)\n",
            "PO\n",
            "Ttest_indResult(statistic=0.3217521148567887, pvalue=0.7585546736981281)\n",
            "SY\n",
            "Ttest_indResult(statistic=-0.9466300591384439, pvalue=0.3715388833536466)\n",
            "$\n",
            "Ttest_indResult(statistic=-0.6313479831687043, pvalue=0.539653254058581)\n",
            "''\n",
            "Ttest_indResult(statistic=nan, pvalue=nan)\n",
            "\n",
            "\n",
            "Overall T-test for Variables: ('1_per_article_lean_left', '3_per_article_lean_right')\n",
            "Ttest_indResult(statistic=7.661906456243865, pvalue=1.86067648448322e-14)\n",
            "\n",
            "Specific T-test per POS\n",
            "NN\n",
            "Ttest_indResult(statistic=6.197696586493115, pvalue=5.800662640083083e-10)\n",
            "DT\n",
            "Ttest_indResult(statistic=0.4820841722368423, pvalue=0.6319371684329851)\n",
            "JJ\n",
            "Ttest_indResult(statistic=3.4440129711225387, pvalue=0.0005750686876248934)\n",
            "VB\n",
            "Ttest_indResult(statistic=3.3731285098708685, pvalue=0.000746533055955507)\n",
            "MD\n",
            "Ttest_indResult(statistic=0.7175678182134109, pvalue=0.4785744961315531)\n",
            "CC\n",
            "Ttest_indResult(statistic=0.5054794952007824, pvalue=0.6147660659876995)\n",
            "RB\n",
            "Ttest_indResult(statistic=1.0974413154320173, pvalue=0.27257893501936753)\n",
            "IN\n",
            "Ttest_indResult(statistic=1.6248897471909345, pvalue=0.10509134841891957)\n",
            "CD\n",
            "Ttest_indResult(statistic=2.029675520536062, pvalue=0.04250847830315258)\n",
            "PR\n",
            "Ttest_indResult(statistic=0.6563725069656468, pvalue=0.5143718639163983)\n",
            "WR\n",
            "Ttest_indResult(statistic=0.039302055064018376, pvalue=0.9694231405209078)\n",
            "WP\n",
            "Ttest_indResult(statistic=0.1378244127113738, pvalue=0.8920987784399669)\n",
            "UH\n",
            "Ttest_indResult(statistic=-0.4907934929691796, pvalue=0.6273971280932858)\n",
            "TO\n",
            "Ttest_indResult(statistic=-0.25270252259524434, pvalue=0.8240984723182383)\n",
            "FW\n",
            "Ttest_indResult(statistic=3.9472610206594387, pvalue=0.00020441955990462585)\n",
            "WD\n",
            "Ttest_indResult(statistic=0.5625663261990377, pvalue=0.5799820597220143)\n",
            "RP\n",
            "Ttest_indResult(statistic=0.609214629185861, pvalue=0.5452550635808957)\n",
            "EX\n",
            "Ttest_indResult(statistic=0.19808920481981745, pvalue=0.852635230413342)\n",
            "PD\n",
            "Ttest_indResult(statistic=0.051719468969491034, pvalue=0.9597707697763489)\n",
            "PO\n",
            "Ttest_indResult(statistic=1.7320508075688774, pvalue=0.13397459621556118)\n",
            "SY\n",
            "Ttest_indResult(statistic=0.9999999999999998, pvalue=0.34659350708733405)\n",
            "$\n",
            "Ttest_indResult(statistic=1.5491933384829666, pvalue=0.14729429508701025)\n",
            "''\n",
            "Ttest_indResult(statistic=nan, pvalue=nan)\n",
            "\n",
            "\n",
            "Overall T-test for Variables: ('1_per_article_lean_left', '4_per_article_right')\n"
          ],
          "name": "stdout"
        },
        {
          "output_type": "stream",
          "text": [
            "/usr/local/lib/python3.7/dist-packages/numpy/core/fromnumeric.py:3622: RuntimeWarning: Degrees of freedom <= 0 for slice\n",
            "  **kwargs)\n",
            "/usr/local/lib/python3.7/dist-packages/numpy/core/_methods.py:226: RuntimeWarning: invalid value encountered in double_scalars\n",
            "  ret = ret.dtype.type(ret / rcount)\n"
          ],
          "name": "stderr"
        },
        {
          "output_type": "stream",
          "text": [
            "Ttest_indResult(statistic=4.498117658371786, pvalue=6.869250949950739e-06)\n",
            "\n",
            "Specific T-test per POS\n",
            "NN\n",
            "Ttest_indResult(statistic=2.807972952656325, pvalue=0.004988515258527418)\n",
            "DT\n",
            "Ttest_indResult(statistic=0.32954279904368106, pvalue=0.7431792308550771)\n",
            "JJ\n",
            "Ttest_indResult(statistic=2.108517195514633, pvalue=0.035006549456218485)\n",
            "VB\n",
            "Ttest_indResult(statistic=2.459086733534797, pvalue=0.013949003602343387)\n",
            "MD\n",
            "Ttest_indResult(statistic=0.6256232343075516, pvalue=0.5362929196514105)\n",
            "CC\n",
            "Ttest_indResult(statistic=0.6968823228719935, pvalue=0.48812040803896983)\n",
            "RB\n",
            "Ttest_indResult(statistic=1.4149446613430616, pvalue=0.1572383980537484)\n",
            "IN\n",
            "Ttest_indResult(statistic=0.863385128977583, pvalue=0.3885204013992011)\n",
            "CD\n",
            "Ttest_indResult(statistic=0.6064609757657068, pvalue=0.5442706413040665)\n",
            "PR\n",
            "Ttest_indResult(statistic=0.846479097073887, pvalue=0.40102126431217333)\n",
            "WR\n",
            "Ttest_indResult(statistic=0.10541633794215217, pvalue=0.9181300111235793)\n",
            "WP\n",
            "Ttest_indResult(statistic=0.7099754534695972, pvalue=0.4879386890833297)\n",
            "UH\n",
            "Ttest_indResult(statistic=0.30424637301168905, pvalue=0.7631899123666023)\n",
            "TO\n",
            "Ttest_indResult(statistic=-0.12011687231392845, pvalue=0.9153692608912639)\n",
            "FW\n",
            "Ttest_indResult(statistic=-0.8036643296674759, pvalue=0.42466143315066696)\n",
            "WD\n",
            "Ttest_indResult(statistic=0.8464545462966531, pvalue=0.4073136564126498)\n",
            "RP\n",
            "Ttest_indResult(statistic=-0.007925435802862387, pvalue=0.9937093317009482)\n",
            "EX\n",
            "Ttest_indResult(statistic=0.3450461766852647, pvalue=0.7474397333564169)\n",
            "PD\n",
            "Ttest_indResult(statistic=0.4763048393814506, pvalue=0.6440930878677975)\n",
            "PO\n",
            "Ttest_indResult(statistic=1.7320508075688774, pvalue=0.13397459621556118)\n",
            "SY\n",
            "Ttest_indResult(statistic=-0.762554148179003, pvalue=0.46761520049190897)\n",
            "$\n",
            "Ttest_indResult(statistic=-1.181343806591465, pvalue=0.2603497776302492)\n",
            "''\n",
            "Ttest_indResult(statistic=nan, pvalue=nan)\n",
            "\n",
            "\n",
            "Overall T-test for Variables: ('2_per_article_center', '3_per_article_lean_right')\n",
            "Ttest_indResult(statistic=6.044614567707783, pvalue=1.5069171253721017e-09)\n",
            "\n",
            "Specific T-test per POS\n",
            "NN\n",
            "Ttest_indResult(statistic=5.428997511636281, pvalue=5.709076155919337e-08)\n",
            "DT\n",
            "Ttest_indResult(statistic=0.34439885770040113, pvalue=0.732050710725143)\n",
            "JJ\n",
            "Ttest_indResult(statistic=2.7091669063767294, pvalue=0.0067546280421132785)\n",
            "VB\n",
            "Ttest_indResult(statistic=2.380592301091564, pvalue=0.017306876234443394)\n",
            "MD\n",
            "Ttest_indResult(statistic=0.34726494683158704, pvalue=0.7308167552154321)\n",
            "CC\n",
            "Ttest_indResult(statistic=0.08427868431323252, pvalue=0.9330687570225609)\n",
            "RB\n",
            "Ttest_indResult(statistic=0.39641973218923404, pvalue=0.6918371592108277)\n",
            "IN\n",
            "Ttest_indResult(statistic=1.0986323045463102, pvalue=0.2726879847110234)\n",
            "CD\n",
            "Ttest_indResult(statistic=1.8002031000690666, pvalue=0.07196415600440752)\n",
            "PR\n",
            "Ttest_indResult(statistic=0.2851201698424684, pvalue=0.7766427961094272)\n",
            "WR\n",
            "Ttest_indResult(statistic=-0.2605962337075919, pvalue=0.7996915190392342)\n",
            "WP\n",
            "Ttest_indResult(statistic=-0.21498076471082467, pvalue=0.8324985705845481)\n",
            "UH\n",
            "Ttest_indResult(statistic=-0.9719645882574074, pvalue=0.3393904303579771)\n",
            "TO\n",
            "Ttest_indResult(statistic=-0.24070172539091603, pvalue=0.8322111367332973)\n",
            "FW\n",
            "Ttest_indResult(statistic=4.6760243542731335, pvalue=1.6274060050564995e-05)\n",
            "WD\n",
            "Ttest_indResult(statistic=0.06424655906507738, pvalue=0.9494117201011755)\n",
            "RP\n",
            "Ttest_indResult(statistic=0.2346605790901118, pvalue=0.8154703318248119)\n",
            "EX\n",
            "Ttest_indResult(statistic=0.04349945029512013, pvalue=0.9673882667929888)\n",
            "PD\n",
            "Ttest_indResult(statistic=-0.17552879968071108, pvalue=0.8641675255009253)\n",
            "PO\n",
            "Ttest_indResult(statistic=1.7320508075688776, pvalue=0.13397459621556113)\n",
            "SY\n",
            "Ttest_indResult(statistic=2.4494897427831788, pvalue=0.03996852371395765)\n",
            "$\n",
            "Ttest_indResult(statistic=2.8284271247461903, pvalue=0.015220093028079175)\n",
            "''\n",
            "Ttest_indResult(statistic=nan, pvalue=nan)\n",
            "\n",
            "\n",
            "Overall T-test for Variables: ('2_per_article_center', '4_per_article_right')\n",
            "Ttest_indResult(statistic=2.6657010821467373, pvalue=0.00768495644826806)\n",
            "\n",
            "Specific T-test per POS\n",
            "NN\n",
            "Ttest_indResult(statistic=1.8063464214763685, pvalue=0.07087381050499125)\n",
            "DT\n",
            "Ttest_indResult(statistic=0.19156978712987777, pvalue=0.848887297931633)\n",
            "JJ\n",
            "Ttest_indResult(statistic=1.3342533310816587, pvalue=0.18214567680255359)\n",
            "VB\n",
            "Ttest_indResult(statistic=1.4260691120190254, pvalue=0.15388535260988792)\n",
            "MD\n",
            "Ttest_indResult(statistic=0.23804353995925304, pvalue=0.8134657226191166)\n",
            "CC\n",
            "Ttest_indResult(statistic=0.3278300894749513, pvalue=0.7439915261819833)\n",
            "RB\n",
            "Ttest_indResult(statistic=0.6924764876272198, pvalue=0.4887175062655488)\n",
            "IN\n",
            "Ttest_indResult(statistic=0.280014720388306, pvalue=0.7796325803315741)\n",
            "CD\n",
            "Ttest_indResult(statistic=0.23153911600643273, pvalue=0.816917320055391)\n",
            "PR\n",
            "Ttest_indResult(statistic=0.49907855185992195, pvalue=0.619751238010039)\n",
            "WR\n",
            "Ttest_indResult(statistic=-0.2074420695499102, pvalue=0.8398280959912486)\n",
            "WP\n",
            "Ttest_indResult(statistic=0.4119594246737429, pvalue=0.6858354674806922)\n",
            "UH\n",
            "Ttest_indResult(statistic=-0.01879169963505075, pvalue=0.9851405462362176)\n",
            "TO\n",
            "Ttest_indResult(statistic=-0.10356867261449296, pvalue=0.9269614887141407)\n",
            "FW\n",
            "Ttest_indResult(statistic=-0.334056842356818, pvalue=0.7394639917922682)\n",
            "WD\n",
            "Ttest_indResult(statistic=0.39784019928212144, pvalue=0.6949625584106385)\n",
            "RP\n",
            "Ttest_indResult(statistic=-0.44424452270772563, pvalue=0.658862298360857)\n",
            "EX\n",
            "Ttest_indResult(statistic=0.20389238181263994, pvalue=0.8483908316773869)\n",
            "PD\n",
            "Ttest_indResult(statistic=0.09222124130937484, pvalue=0.9283435995975938)\n",
            "PO\n",
            "Ttest_indResult(statistic=1.7320508075688776, pvalue=0.13397459621556113)\n",
            "SY\n",
            "Ttest_indResult(statistic=-0.4858227049150084, pvalue=0.6401195714149694)\n",
            "$\n",
            "Ttest_indResult(statistic=-1.0116749241767804, pvalue=0.33165814894733947)\n",
            "''\n",
            "Ttest_indResult(statistic=nan, pvalue=nan)\n",
            "\n",
            "\n",
            "Overall T-test for Variables: ('3_per_article_lean_right', '4_per_article_right')\n",
            "Ttest_indResult(statistic=-3.6366710511254006, pvalue=0.0002764267958393293)\n",
            "\n",
            "Specific T-test per POS\n",
            "NN\n",
            "Ttest_indResult(statistic=-3.6119984677470662, pvalue=0.00030431978437969845)\n",
            "DT\n",
            "Ttest_indResult(statistic=-0.1499849469949716, pvalue=0.8814049604788377)\n",
            "JJ\n",
            "Ttest_indResult(statistic=-1.3593943921443343, pvalue=0.17404669858079327)\n",
            "VB\n",
            "Ttest_indResult(statistic=-1.2318111068301936, pvalue=0.21805394706383863)\n",
            "MD\n",
            "Ttest_indResult(statistic=-0.11965108319661057, pvalue=0.9055572429078816)\n",
            "CC\n",
            "Ttest_indResult(statistic=0.2541523455688695, pvalue=0.8001022921432398)\n",
            "RB\n",
            "Ttest_indResult(statistic=0.2574472701086475, pvalue=0.7968596604227286)\n",
            "IN\n",
            "Ttest_indResult(statistic=-0.7831202444807369, pvalue=0.434089112840809)\n",
            "CD\n",
            "Ttest_indResult(statistic=-1.6281326787283126, pvalue=0.10363852330286369)\n",
            "PR\n",
            "Ttest_indResult(statistic=0.1898970611792813, pvalue=0.8501018347761508)\n",
            "WR\n",
            "Ttest_indResult(statistic=0.06158782372706968, pvalue=0.9521046275706606)\n",
            "WP\n",
            "Ttest_indResult(statistic=0.5912102033045683, pvalue=0.5626395990602935)\n",
            "UH\n",
            "Ttest_indResult(statistic=0.715103207473292, pvalue=0.48046591920229187)\n",
            "TO\n",
            "Ttest_indResult(statistic=0.11662997246940718, pvalue=0.9178091831292796)\n",
            "FW\n",
            "Ttest_indResult(statistic=-2.252271580588644, pvalue=0.027855801368304418)\n",
            "WD\n",
            "Ttest_indResult(statistic=0.33052478757823256, pvalue=0.7444409308621289)\n",
            "RP\n",
            "Ttest_indResult(statistic=-0.6093362687368524, pvalue=0.5451751203594942)\n",
            "EX\n",
            "Ttest_indResult(statistic=0.1604420085396684, pvalue=0.880309481689731)\n",
            "PD\n",
            "Ttest_indResult(statistic=0.22537160608411028, pvalue=0.8262292074973485)\n",
            "PO\n",
            "Ttest_indResult(statistic=nan, pvalue=nan)\n",
            "SY\n",
            "Ttest_indResult(statistic=-0.9999999999999998, pvalue=0.34659350708733405)\n",
            "$\n",
            "Ttest_indResult(statistic=-1.549193338482967, pvalue=0.1472942950870102)\n",
            "''\n",
            "Ttest_indResult(statistic=nan, pvalue=nan)\n",
            "\n",
            "\n"
          ],
          "name": "stdout"
        }
      ]
    },
    {
      "cell_type": "markdown",
      "metadata": {
        "id": "HaJSrkxCKyWt"
      },
      "source": [
        "### Concept and Category"
      ]
    },
    {
      "cell_type": "markdown",
      "metadata": {
        "id": "f0O8fUA8KyWt"
      },
      "source": [
        "#### Category T-testing"
      ]
    },
    {
      "cell_type": "code",
      "metadata": {
        "colab": {
          "base_uri": "https://localhost:8080/"
        },
        "id": "eAxKJXSFKyWt",
        "outputId": "baf2b764-c329-4d45-c7e3-2ffd9c486b9d"
      },
      "source": [
        "for pair in combinations(position_list, 2):\n",
        "  print(pair)\n",
        "  print()\n",
        "  print(stats.ttest_ind(category_df[pair[0]], category_df[pair[1]]))\n",
        "  print()\n"
      ],
      "execution_count": 56,
      "outputs": [
        {
          "output_type": "stream",
          "text": [
            "('0_per_article_left', '1_per_article_lean_left')\n",
            "\n",
            "Ttest_indResult(statistic=0.11910929102935064, pvalue=0.905213230626936)\n",
            "\n",
            "('0_per_article_left', '2_per_article_center')\n",
            "\n",
            "Ttest_indResult(statistic=0.08398714370955504, pvalue=0.93308384123984)\n",
            "\n",
            "('0_per_article_left', '3_per_article_lean_right')\n",
            "\n",
            "Ttest_indResult(statistic=0.05081768310325707, pvalue=0.9594811767144604)\n",
            "\n",
            "('0_per_article_left', '4_per_article_right')\n",
            "\n",
            "Ttest_indResult(statistic=0.13923258024572122, pvalue=0.8892950291064238)\n",
            "\n",
            "('1_per_article_lean_left', '2_per_article_center')\n",
            "\n",
            "Ttest_indResult(statistic=-0.03443929667596678, pvalue=0.9725338752687913)\n",
            "\n",
            "('1_per_article_lean_left', '3_per_article_lean_right')\n",
            "\n",
            "Ttest_indResult(statistic=-0.06545456485248671, pvalue=0.9478254574978042)\n",
            "\n",
            "('1_per_article_lean_left', '4_per_article_right')\n",
            "\n",
            "Ttest_indResult(statistic=0.020565377162670834, pvalue=0.9835965544705494)\n",
            "\n",
            "('2_per_article_center', '3_per_article_lean_right')\n",
            "\n",
            "Ttest_indResult(statistic=-0.031464535919386846, pvalue=0.9749054941722353)\n",
            "\n",
            "('2_per_article_center', '4_per_article_right')\n",
            "\n",
            "Ttest_indResult(statistic=0.054763619912859385, pvalue=0.9563379687581883)\n",
            "\n",
            "('3_per_article_lean_right', '4_per_article_right')\n",
            "\n",
            "Ttest_indResult(statistic=0.08530881620298403, pvalue=0.9320333429261561)\n",
            "\n"
          ],
          "name": "stdout"
        }
      ]
    },
    {
      "cell_type": "markdown",
      "metadata": {
        "id": "lrOs1AO8KyWu"
      },
      "source": [
        "#### Concept T-testing"
      ]
    },
    {
      "cell_type": "code",
      "metadata": {
        "colab": {
          "base_uri": "https://localhost:8080/"
        },
        "id": "YSEfN4NnKyWu",
        "outputId": "889d128b-5f28-476a-9aae-4b40a66eb4cd"
      },
      "source": [
        "# General T-test\n",
        "for pair in combinations(position_list, 2):\n",
        "  print(pair)\n",
        "  print()\n",
        "  print(stats.ttest_ind(concept_df[pair[0]], concept_df[pair[1]]))\n",
        "  print()"
      ],
      "execution_count": 57,
      "outputs": [
        {
          "output_type": "stream",
          "text": [
            "('0_per_article_left', '1_per_article_lean_left')\n",
            "\n",
            "Ttest_indResult(statistic=0.3911235206589717, pvalue=0.6957115873782251)\n",
            "\n",
            "('0_per_article_left', '2_per_article_center')\n",
            "\n",
            "Ttest_indResult(statistic=0.2790545247717716, pvalue=0.7802068951763172)\n",
            "\n",
            "('0_per_article_left', '3_per_article_lean_right')\n",
            "\n",
            "Ttest_indResult(statistic=0.15708399469287487, pvalue=0.8751808022689211)\n",
            "\n",
            "('0_per_article_left', '4_per_article_right')\n",
            "\n",
            "Ttest_indResult(statistic=0.4321627707005303, pvalue=0.6656294355100755)\n",
            "\n",
            "('1_per_article_lean_left', '2_per_article_center')\n",
            "\n",
            "Ttest_indResult(statistic=-0.11865689690029321, pvalue=0.9055488029776896)\n",
            "\n",
            "('1_per_article_lean_left', '3_per_article_lean_right')\n",
            "\n",
            "Ttest_indResult(statistic=-0.20868037109822804, pvalue=0.8347006470747829)\n",
            "\n",
            "('1_per_article_lean_left', '4_per_article_right')\n",
            "\n",
            "Ttest_indResult(statistic=0.06592195553939292, pvalue=0.9474408543889479)\n",
            "\n",
            "('2_per_article_center', '3_per_article_lean_right')\n",
            "\n",
            "Ttest_indResult(statistic=-0.10139787157103018, pvalue=0.9192360048026499)\n",
            "\n",
            "('2_per_article_center', '4_per_article_right')\n",
            "\n",
            "Ttest_indResult(statistic=0.17751745231970228, pvalue=0.859104396521386)\n",
            "\n",
            "('3_per_article_lean_right', '4_per_article_right')\n",
            "\n",
            "Ttest_indResult(statistic=0.25859578617129986, pvalue=0.7959507445547764)\n",
            "\n"
          ],
          "name": "stdout"
        }
      ]
    },
    {
      "cell_type": "code",
      "metadata": {
        "id": "uClD7bJTKyWu"
      },
      "source": [
        "# Type-specific\n",
        "type_dict = {}\n",
        "for t in concept_df[\"concept_type\"].unique():\n",
        "  type_dict[t] = concept_df[concept_df[\"concept_type\"] == t]"
      ],
      "execution_count": 58,
      "outputs": []
    },
    {
      "cell_type": "code",
      "metadata": {
        "colab": {
          "base_uri": "https://localhost:8080/"
        },
        "id": "qFOmjbo0KyWu",
        "outputId": "fd766c81-bd0f-4c07-ac15-0a8f37accdad"
      },
      "source": [
        "for pair in combinations(position_list, 2):\n",
        "  print(pair)\n",
        "  for k in type_dict.keys():\n",
        "    print(k)\n",
        "    res = stats.ttest_ind(type_dict[k][pair[0]], type_dict[k][pair[1]])\n",
        "    print(res)\n",
        "  print()\n",
        "  print()"
      ],
      "execution_count": 59,
      "outputs": [
        {
          "output_type": "stream",
          "text": [
            "('0_per_article_left', '1_per_article_lean_left')\n",
            "wiki\n",
            "Ttest_indResult(statistic=0.789169031456099, pvalue=0.43004095369352346)\n",
            "org\n",
            "Ttest_indResult(statistic=0.30866611031589597, pvalue=0.7576099445944529)\n",
            "loc\n",
            "Ttest_indResult(statistic=0.3065155056705491, pvalue=0.7592328809228309)\n",
            "person\n",
            "Ttest_indResult(statistic=-1.1040317977666982, pvalue=0.2696666661047866)\n",
            "\n",
            "\n",
            "('0_per_article_left', '2_per_article_center')\n",
            "wiki\n",
            "Ttest_indResult(statistic=0.8242637325955221, pvalue=0.4098188624418797)\n",
            "org\n",
            "Ttest_indResult(statistic=0.5418882849074573, pvalue=0.5879600964636098)\n",
            "loc\n",
            "Ttest_indResult(statistic=-0.3154130412865513, pvalue=0.7524694210563648)\n",
            "person\n",
            "Ttest_indResult(statistic=-0.7552108520887743, pvalue=0.45018094470693626)\n",
            "\n",
            "\n",
            "('0_per_article_left', '3_per_article_lean_right')\n",
            "wiki\n",
            "Ttest_indResult(statistic=2.22039154324714, pvalue=0.02642530116343854)\n",
            "org\n",
            "Ttest_indResult(statistic=-1.1665464688072116, pvalue=0.24354247640751442)\n",
            "loc\n",
            "Ttest_indResult(statistic=0.4493160844178726, pvalue=0.6532352503035421)\n",
            "person\n",
            "Ttest_indResult(statistic=-1.92137420567018, pvalue=0.05477788773629609)\n",
            "\n",
            "\n",
            "('0_per_article_left', '4_per_article_right')\n",
            "wiki\n",
            "Ttest_indResult(statistic=1.4472960841889562, pvalue=0.14786048184395878)\n",
            "org\n",
            "Ttest_indResult(statistic=-0.09174815335134265, pvalue=0.9269079753412078)\n",
            "loc\n",
            "Ttest_indResult(statistic=0.08831111839888403, pvalue=0.9296351398156619)\n",
            "person\n",
            "Ttest_indResult(statistic=-1.3673578494599536, pvalue=0.1716141869591587)\n",
            "\n",
            "\n",
            "('1_per_article_lean_left', '2_per_article_center')\n",
            "wiki\n",
            "Ttest_indResult(statistic=0.0051349015763887075, pvalue=0.9959031111476337)\n",
            "org\n",
            "Ttest_indResult(statistic=0.1699002128796991, pvalue=0.865107011171616)\n",
            "loc\n",
            "Ttest_indResult(statistic=-0.8153747057023735, pvalue=0.4149208639571992)\n",
            "person\n",
            "Ttest_indResult(statistic=0.23389142419302594, pvalue=0.8150850097743131)\n",
            "\n",
            "\n",
            "('1_per_article_lean_left', '3_per_article_lean_right')\n",
            "wiki\n",
            "Ttest_indResult(statistic=1.3754280996011525, pvalue=0.1690444317100974)\n",
            "org\n",
            "Ttest_indResult(statistic=-1.3291200602751512, pvalue=0.1839706724834787)\n",
            "loc\n",
            "Ttest_indResult(statistic=0.2121123135482162, pvalue=0.832033439588435)\n",
            "person\n",
            "Ttest_indResult(statistic=-1.0102466903287173, pvalue=0.3124574623645969)\n",
            "\n",
            "\n",
            "('1_per_article_lean_left', '4_per_article_right')\n",
            "wiki\n",
            "Ttest_indResult(statistic=0.6413987675998325, pvalue=0.5212854238870004)\n",
            "org\n",
            "Ttest_indResult(statistic=-0.31854868859845664, pvalue=0.7501043795494434)\n",
            "loc\n",
            "Ttest_indResult(statistic=-0.24081211544826134, pvalue=0.809716756713384)\n",
            "person\n",
            "Ttest_indResult(statistic=-0.32300962437476755, pvalue=0.7467101536947698)\n",
            "\n",
            "\n",
            "('2_per_article_center', '3_per_article_lean_right')\n",
            "wiki\n",
            "Ttest_indResult(statistic=1.4300019651785625, pvalue=0.15276276600663052)\n",
            "org\n",
            "Ttest_indResult(statistic=-1.525392720197729, pvalue=0.12733045450299027)\n",
            "loc\n",
            "Ttest_indResult(statistic=0.9496065415631082, pvalue=0.34238666906384607)\n",
            "person\n",
            "Ttest_indResult(statistic=-1.1437703292212313, pvalue=0.2528088937302249)\n",
            "\n",
            "\n",
            "('2_per_article_center', '4_per_article_right')\n",
            "wiki\n",
            "Ttest_indResult(statistic=0.6615324571062113, pvalue=0.5082935006777588)\n",
            "org\n",
            "Ttest_indResult(statistic=-0.4743274580561302, pvalue=0.6353218539110382)\n",
            "loc\n",
            "Ttest_indResult(statistic=0.46551603763412097, pvalue=0.6415948466459365)\n",
            "person\n",
            "Ttest_indResult(statistic=-0.5191718390081488, pvalue=0.6036786833135372)\n",
            "\n",
            "\n",
            "('3_per_article_lean_right', '4_per_article_right')\n",
            "wiki\n",
            "Ttest_indResult(statistic=-0.7200917273744115, pvalue=0.47149346861999075)\n",
            "org\n",
            "Ttest_indResult(statistic=0.9215140139279498, pvalue=0.35690112415465736)\n",
            "loc\n",
            "Ttest_indResult(statistic=-0.4051316544387765, pvalue=0.6854088577069535)\n",
            "person\n",
            "Ttest_indResult(statistic=0.701253870235375, pvalue=0.48319823571236364)\n",
            "\n",
            "\n"
          ],
          "name": "stdout"
        }
      ]
    },
    {
      "cell_type": "markdown",
      "metadata": {
        "id": "5P_fPDQOLsDo"
      },
      "source": [
        "## Top Picks"
      ]
    },
    {
      "cell_type": "markdown",
      "metadata": {
        "id": "eSLtljLVMyb5"
      },
      "source": [
        "### ML Model POS Analysis and Weightage"
      ]
    },
    {
      "cell_type": "markdown",
      "metadata": {
        "id": "yqgqV-_sM_ua"
      },
      "source": [
        "#### Logistic Regression (Accuracy of 0.748)"
      ]
    },
    {
      "cell_type": "code",
      "metadata": {
        "id": "fJRZW4rtM_ub"
      },
      "source": [
        "log_reg_features = list(sorted(zip(wider_df[pos_cols].columns.values, clf_pred_df['clf'].iloc[0].coef_[0]), key = lambda x: x[1], reverse = True))"
      ],
      "execution_count": 68,
      "outputs": []
    },
    {
      "cell_type": "code",
      "metadata": {
        "colab": {
          "base_uri": "https://localhost:8080/"
        },
        "id": "UkTQwPUKM_ub",
        "outputId": "896d9e72-a783-45bb-887e-c9ef47ddf471"
      },
      "source": [
        "log_reg_features[:5] # Most Indicative of Left Media"
      ],
      "execution_count": 69,
      "outputs": [
        {
          "output_type": "execute_result",
          "data": {
            "text/plain": [
              "[('body_VBN_per_word', 1.1674468522354657),\n",
              " ('body_NNS_per_word', 0.8781102790301596),\n",
              " ('body_VB_per_word', 0.801485109578832),\n",
              " ('body_MD_per_word', 0.797643887216918),\n",
              " ('body_CD_per_word', 0.6829500255430481)]"
            ]
          },
          "metadata": {
            "tags": []
          },
          "execution_count": 69
        }
      ]
    },
    {
      "cell_type": "code",
      "metadata": {
        "colab": {
          "base_uri": "https://localhost:8080/"
        },
        "id": "oVR7dnzLM_ud",
        "outputId": "3eb1f366-50b4-449a-a268-e672ccfee0c2"
      },
      "source": [
        "log_reg_features[-5:] # Most Indicative of Right Media"
      ],
      "execution_count": 70,
      "outputs": [
        {
          "output_type": "execute_result",
          "data": {
            "text/plain": [
              "[('body_UH_per_word', -0.8301971506749934),\n",
              " ('body_NNPS_per_word', -0.907292209794988),\n",
              " ('body_WRB_per_word', -1.2720236422648346),\n",
              " ('body_NNP_per_word', -1.4823595072181228),\n",
              " (\"body_''_per_word\", -1.7481230006308661)]"
            ]
          },
          "metadata": {
            "tags": []
          },
          "execution_count": 70
        }
      ]
    },
    {
      "cell_type": "markdown",
      "metadata": {
        "id": "qRue_4IBNhOJ"
      },
      "source": [
        "#### Random Forest Features (Accuracy of 0.756)"
      ]
    },
    {
      "cell_type": "code",
      "metadata": {
        "id": "GEwUnkOMNhOK"
      },
      "source": [
        "random_forest_features = list(sorted(zip(wider_df[pos_cols].columns.values, clf_pred_df['clf'].iloc[2].feature_importances_), key = lambda x: x[1], reverse = True))"
      ],
      "execution_count": 73,
      "outputs": []
    },
    {
      "cell_type": "code",
      "metadata": {
        "colab": {
          "base_uri": "https://localhost:8080/"
        },
        "id": "iuNmh6nnNhOK",
        "outputId": "f15cb300-623a-489a-83c9-24440b6378f8"
      },
      "source": [
        "random_forest_features[:10] # 10 Most Considered Features by Random Forest"
      ],
      "execution_count": 83,
      "outputs": [
        {
          "output_type": "execute_result",
          "data": {
            "text/plain": [
              "[(\"body_''_per_word\", 0.05099454552407479),\n",
              " ('body_NNP_per_word', 0.039212959796272054),\n",
              " ('body_NNS_per_word', 0.03653873220208446),\n",
              " ('body_)_per_word', 0.033938690217596615),\n",
              " ('body_:_per_word', 0.027509688684404895),\n",
              " ('body_VBZ_per_word', 0.027094574450475407),\n",
              " ('body_NN_per_word', 0.02659751213350846),\n",
              " ('body_negation_per_word', 0.026475958774348),\n",
              " ('body_VB_per_word', 0.02641401789161207),\n",
              " ('body_VBN_per_word', 0.025760791139495795)]"
            ]
          },
          "metadata": {
            "tags": []
          },
          "execution_count": 83
        }
      ]
    },
    {
      "cell_type": "markdown",
      "metadata": {
        "id": "Omdb0aIbM_ud"
      },
      "source": [
        "#### Gradient Boosting Classifier (Accuracy of 0.724)"
      ]
    },
    {
      "cell_type": "code",
      "metadata": {
        "id": "Kh2XDvG2M_ud"
      },
      "source": [
        "gradient_boost_features = list(sorted(zip(wider_df[pos_cols].columns.values, clf_pred_df['clf'].iloc[3].feature_importances_), key = lambda x: x[1], reverse = True))"
      ],
      "execution_count": 75,
      "outputs": []
    },
    {
      "cell_type": "code",
      "metadata": {
        "colab": {
          "base_uri": "https://localhost:8080/"
        },
        "id": "ZLgby3LvM_ue",
        "outputId": "ead96386-9706-461c-b237-34cc7a75eecb"
      },
      "source": [
        "gradient_boost_features[:10] # 10 Most Considered Features by Gradient Boosting"
      ],
      "execution_count": 82,
      "outputs": [
        {
          "output_type": "execute_result",
          "data": {
            "text/plain": [
              "[(\"body_''_per_word\", 0.09375567313854265),\n",
              " ('body_VBZ_per_word', 0.05413732589512485),\n",
              " ('body_:_per_word', 0.04894621648049664),\n",
              " ('body_NNP_per_word', 0.04872399065623992),\n",
              " ('body_NN_per_word', 0.04186178533396248),\n",
              " ('body_)_per_word', 0.04113428999120324),\n",
              " ('body_NNS_per_word', 0.03942757324032609),\n",
              " ('body_(_per_word', 0.03887790355969938),\n",
              " ('body_PRP_per_word', 0.036592493360624805),\n",
              " ('body_VBN_per_word', 0.03506124665174997)]"
            ]
          },
          "metadata": {
            "tags": []
          },
          "execution_count": 82
        }
      ]
    },
    {
      "cell_type": "markdown",
      "metadata": {
        "id": "mPeZWlGyNvuJ"
      },
      "source": [
        "#### Multinomial Naive Bayes Features (Accuracy of 0.715)"
      ]
    },
    {
      "cell_type": "code",
      "metadata": {
        "colab": {
          "base_uri": "https://localhost:8080/"
        },
        "id": "wCcZ-GhYNvuJ",
        "outputId": "ebc485d9-4421-448c-f875-9f8f2ca4bad7"
      },
      "source": [
        "clf_pred_df['clf'].iloc[5]._get_coef().shape"
      ],
      "execution_count": 77,
      "outputs": [
        {
          "output_type": "execute_result",
          "data": {
            "text/plain": [
              "(1, 83)"
            ]
          },
          "metadata": {
            "tags": []
          },
          "execution_count": 77
        }
      ]
    },
    {
      "cell_type": "code",
      "metadata": {
        "id": "fwGvVwLENvuK"
      },
      "source": [
        "mult_nb_features = list(sorted(zip(wider_df[pos_cols].columns.values, clf_pred_df['clf'].iloc[5]._get_coef()[0]), key = lambda x: x[1], reverse = True))"
      ],
      "execution_count": 78,
      "outputs": []
    },
    {
      "cell_type": "code",
      "metadata": {
        "colab": {
          "base_uri": "https://localhost:8080/"
        },
        "id": "i0AXY_OBNvuK",
        "outputId": "4183cc76-15b0-406e-8632-6978392ac398"
      },
      "source": [
        "mult_nb_features[:5]"
      ],
      "execution_count": 79,
      "outputs": [
        {
          "output_type": "execute_result",
          "data": {
            "text/plain": [
              "[('body_,_per_word', -3.0265866339879217),\n",
              " ('body_VBD_per_word', -3.1015232134951667),\n",
              " ('body_NN_per_word', -3.1475804096362223),\n",
              " ('body_JJ_per_word', -3.2040476359128522),\n",
              " ('body_VBG_per_word', -3.219074482066837)]"
            ]
          },
          "metadata": {
            "tags": []
          },
          "execution_count": 79
        }
      ]
    },
    {
      "cell_type": "code",
      "metadata": {
        "colab": {
          "base_uri": "https://localhost:8080/"
        },
        "id": "28gEpl4yNvuK",
        "outputId": "9d978bf7-08b4-4b7e-f2a9-e0289317f0ae"
      },
      "source": [
        "mult_nb_features[-5:]"
      ],
      "execution_count": 80,
      "outputs": [
        {
          "output_type": "execute_result",
          "data": {
            "text/plain": [
              "[('title_$_per_word', -7.58252326639459),\n",
              " ('body_RBS_per_word', -7.643368638298299),\n",
              " ('title_JJR_per_word', -8.249002199872374),\n",
              " ('title_PDT_per_word', -8.249002199872374),\n",
              " ('title_RBS_per_word', -8.249002199872374)]"
            ]
          },
          "metadata": {
            "tags": []
          },
          "execution_count": 80
        }
      ]
    },
    {
      "cell_type": "markdown",
      "metadata": {
        "id": "U9DUNsRUMwJF"
      },
      "source": [
        "### T-Testing"
      ]
    },
    {
      "cell_type": "code",
      "metadata": {
        "colab": {
          "base_uri": "https://localhost:8080/"
        },
        "id": "KUCJIjHLKyWv",
        "outputId": "0dfd329f-23ab-4d60-b0c3-bd8493647424"
      },
      "source": [
        "stats.ttest_ind(body_df['1_per_article_lean_left'], body_df['3_per_article_lean_right'])"
      ],
      "execution_count": 61,
      "outputs": [
        {
          "output_type": "execute_result",
          "data": {
            "text/plain": [
              "Ttest_indResult(statistic=7.661906456243865, pvalue=1.86067648448322e-14)"
            ]
          },
          "metadata": {
            "tags": []
          },
          "execution_count": 61
        }
      ]
    },
    {
      "cell_type": "code",
      "metadata": {
        "colab": {
          "base_uri": "https://localhost:8080/"
        },
        "id": "fFhLpii_MD0V",
        "outputId": "251baa4f-037c-4715-b347-f1442bd1155a"
      },
      "source": [
        "stats.ttest_ind(body_df['0_per_article_left'], body_df['3_per_article_lean_right'])"
      ],
      "execution_count": 62,
      "outputs": [
        {
          "output_type": "execute_result",
          "data": {
            "text/plain": [
              "Ttest_indResult(statistic=3.0086300905798353, pvalue=0.002625426600223151)"
            ]
          },
          "metadata": {
            "tags": []
          },
          "execution_count": 62
        }
      ]
    },
    {
      "cell_type": "code",
      "metadata": {
        "colab": {
          "base_uri": "https://localhost:8080/"
        },
        "id": "frHAGXDzMK8l",
        "outputId": "2b150f91-d765-41fc-c096-61ad7fdb5205"
      },
      "source": [
        "stats.ttest_ind(body_df['1_per_article_lean_left'], body_df['4_per_article_right'])"
      ],
      "execution_count": 63,
      "outputs": [
        {
          "output_type": "execute_result",
          "data": {
            "text/plain": [
              "Ttest_indResult(statistic=4.498117658371786, pvalue=6.869250949950739e-06)"
            ]
          },
          "metadata": {
            "tags": []
          },
          "execution_count": 63
        }
      ]
    },
    {
      "cell_type": "code",
      "metadata": {
        "colab": {
          "base_uri": "https://localhost:8080/"
        },
        "id": "2HxBWillMPFY",
        "outputId": "52c251cf-ec62-472c-a007-04146f213390"
      },
      "source": [
        "stats.ttest_ind(body_df['0_per_article_left'], body_df['2_per_article_center'])"
      ],
      "execution_count": 64,
      "outputs": [
        {
          "output_type": "execute_result",
          "data": {
            "text/plain": [
              "Ttest_indResult(statistic=-3.1596370401824814, pvalue=0.0015804807640844225)"
            ]
          },
          "metadata": {
            "tags": []
          },
          "execution_count": 64
        }
      ]
    },
    {
      "cell_type": "code",
      "metadata": {
        "colab": {
          "base_uri": "https://localhost:8080/"
        },
        "id": "OTSBczP8MYic",
        "outputId": "4fe59614-e866-468c-a335-3b4cea78d61f"
      },
      "source": [
        "stats.ttest_ind(body_df['4_per_article_right'], body_df['2_per_article_center'])"
      ],
      "execution_count": 66,
      "outputs": [
        {
          "output_type": "execute_result",
          "data": {
            "text/plain": [
              "Ttest_indResult(statistic=-2.6657010821467373, pvalue=0.00768495644826806)"
            ]
          },
          "metadata": {
            "tags": []
          },
          "execution_count": 66
        }
      ]
    },
    {
      "cell_type": "code",
      "metadata": {
        "colab": {
          "base_uri": "https://localhost:8080/"
        },
        "id": "dZ7O2laiMaig",
        "outputId": "128855ca-c0b6-4918-ce0a-c640ccb18861"
      },
      "source": [
        "stats.ttest_ind(body_df['3_per_article_lean_right'], body_df['2_per_article_center'])"
      ],
      "execution_count": 67,
      "outputs": [
        {
          "output_type": "execute_result",
          "data": {
            "text/plain": [
              "Ttest_indResult(statistic=-6.044614567707783, pvalue=1.5069171253721017e-09)"
            ]
          },
          "metadata": {
            "tags": []
          },
          "execution_count": 67
        }
      ]
    },
    {
      "cell_type": "markdown",
      "metadata": {
        "id": "pDld1ONyOJyz"
      },
      "source": [
        "# Important Difference Between Experiment and Control Groups"
      ]
    },
    {
      "cell_type": "markdown",
      "metadata": {
        "id": "Qq1QBFb3O5ne"
      },
      "source": [
        "## Setup"
      ]
    },
    {
      "cell_type": "code",
      "metadata": {
        "id": "nSJLrv1PO2rY"
      },
      "source": [
        "from google.colab import drive\n",
        "drive.mount(\"/content/gdrive\")"
      ],
      "execution_count": null,
      "outputs": []
    },
    {
      "cell_type": "code",
      "metadata": {
        "id": "QJ7D1TY5Oxc2"
      },
      "source": [
        "import os\n",
        "import numpy as np, pandas as pd, matplotlib.pyplot as plt, seaborn as sns, os\n",
        "from sklearn.preprocessing import MinMaxScaler\n",
        "from sklearn.linear_model import LogisticRegression\n",
        "from sklearn.tree import DecisionTreeClassifier\n",
        "from sklearn.ensemble import RandomForestClassifier, GradientBoostingClassifier\n",
        "from sklearn.naive_bayes import GaussianNB, MultinomialNB\n",
        "from sklearn.model_selection import train_test_split"
      ],
      "execution_count": 84,
      "outputs": []
    },
    {
      "cell_type": "code",
      "metadata": {
        "id": "gzFOc8gTOTiM"
      },
      "source": [
        "experiment_path = \"/content/gdrive/MyDrive/AAPI_text_analysis_project\"\n",
        "control_path = \"/content/gdrive/MyDrive/AAPI_text_analysis_project/control_group_data\""
      ],
      "execution_count": 85,
      "outputs": []
    },
    {
      "cell_type": "markdown",
      "metadata": {
        "id": "fYRMjqCzPTxG"
      },
      "source": [
        "## Load Data"
      ]
    },
    {
      "cell_type": "code",
      "metadata": {
        "colab": {
          "base_uri": "https://localhost:8080/",
          "height": 678
        },
        "id": "LXQHV3LRO4xS",
        "outputId": "8da1bd22-a34b-42ab-9d8a-f1a4092e459b"
      },
      "source": [
        "experiment_df = pd.read_csv(os.path.join(experiment_path, \"full_df_7_5_2021.csv\"))\n",
        "experiment_df.head()"
      ],
      "execution_count": 86,
      "outputs": [
        {
          "output_type": "execute_result",
          "data": {
            "text/html": [
              "<div>\n",
              "<style scoped>\n",
              "    .dataframe tbody tr th:only-of-type {\n",
              "        vertical-align: middle;\n",
              "    }\n",
              "\n",
              "    .dataframe tbody tr th {\n",
              "        vertical-align: top;\n",
              "    }\n",
              "\n",
              "    .dataframe thead th {\n",
              "        text-align: right;\n",
              "    }\n",
              "</style>\n",
              "<table border=\"1\" class=\"dataframe\">\n",
              "  <thead>\n",
              "    <tr style=\"text-align: right;\">\n",
              "      <th></th>\n",
              "      <th>sentiment</th>\n",
              "      <th>relevance</th>\n",
              "      <th>uri</th>\n",
              "      <th>title</th>\n",
              "      <th>body</th>\n",
              "      <th>source_uri</th>\n",
              "      <th>source_name</th>\n",
              "      <th>source_alexaCountryRank</th>\n",
              "      <th>source_alexaGlobalRank</th>\n",
              "      <th>source_importanceRank</th>\n",
              "      <th>source_valid_location</th>\n",
              "      <th>date</th>\n",
              "      <th>location</th>\n",
              "      <th>title_length</th>\n",
              "      <th>body_length</th>\n",
              "      <th>source_score</th>\n",
              "      <th>source_link</th>\n",
              "      <th>source_position</th>\n",
              "      <th>source_pos_int</th>\n",
              "      <th>title_doc</th>\n",
              "      <th>body_doc</th>\n",
              "      <th>title_JJ</th>\n",
              "      <th>title_NNS</th>\n",
              "      <th>title_VBP</th>\n",
              "      <th>title_NN</th>\n",
              "      <th>title_NNP</th>\n",
              "      <th>title_:</th>\n",
              "      <th>title_VBZ</th>\n",
              "      <th>title_JJR</th>\n",
              "      <th>title_MD</th>\n",
              "      <th>title_VBN</th>\n",
              "      <th>title_VB</th>\n",
              "      <th>title_VBD</th>\n",
              "      <th>title_NNPS</th>\n",
              "      <th>title_VBG</th>\n",
              "      <th>title_IN</th>\n",
              "      <th>title_,</th>\n",
              "      <th>title_POS</th>\n",
              "      <th>title_''</th>\n",
              "      <th>title_DT</th>\n",
              "      <th>...</th>\n",
              "      <th>title_''_per_word</th>\n",
              "      <th>title_DT_per_word</th>\n",
              "      <th>title_CD_per_word</th>\n",
              "      <th>title_WRB_per_word</th>\n",
              "      <th>title_RB_per_word</th>\n",
              "      <th>title_PRP_per_word</th>\n",
              "      <th>title_PRP$_per_word</th>\n",
              "      <th>title_RP_per_word</th>\n",
              "      <th>title_PDT_per_word</th>\n",
              "      <th>title_TO_per_word</th>\n",
              "      <th>title_``_per_word</th>\n",
              "      <th>title_FW_per_word</th>\n",
              "      <th>title_CC_per_word</th>\n",
              "      <th>title_._per_word</th>\n",
              "      <th>title_WP_per_word</th>\n",
              "      <th>title_JJS_per_word</th>\n",
              "      <th>title_(_per_word</th>\n",
              "      <th>title_)_per_word</th>\n",
              "      <th>title_$_per_word</th>\n",
              "      <th>title_UH_per_word</th>\n",
              "      <th>title_RBS_per_word</th>\n",
              "      <th>position_adjusted</th>\n",
              "      <th>nltk_body_sentiment_compound</th>\n",
              "      <th>nltk_title_sentiment_compound</th>\n",
              "      <th>nltk_body_sentiment_neg</th>\n",
              "      <th>nltk_title_sentiment_neg</th>\n",
              "      <th>nltk_body_sentiment_neu</th>\n",
              "      <th>nltk_title_sentiment_neu</th>\n",
              "      <th>nltk_body_sentiment_pos</th>\n",
              "      <th>nltk_title_sentiment_pos</th>\n",
              "      <th>title_negation</th>\n",
              "      <th>body_negation</th>\n",
              "      <th>title_negation_per_word</th>\n",
              "      <th>body_negation_per_word</th>\n",
              "      <th>title_stem</th>\n",
              "      <th>title_stem_pos</th>\n",
              "      <th>body_stem</th>\n",
              "      <th>body_stem_pos</th>\n",
              "      <th>categories</th>\n",
              "      <th>concepts</th>\n",
              "    </tr>\n",
              "  </thead>\n",
              "  <tbody>\n",
              "    <tr>\n",
              "      <th>0</th>\n",
              "      <td>-0.168627</td>\n",
              "      <td>38</td>\n",
              "      <td>6601183495</td>\n",
              "      <td>Racial tensions simmer as Southern Baptists ho...</td>\n",
              "      <td>NASHVILLE, Tenn. -- Race-related tensions with...</td>\n",
              "      <td>abcnews.go.com</td>\n",
              "      <td>ABC News</td>\n",
              "      <td>171</td>\n",
              "      <td>615</td>\n",
              "      <td>150359</td>\n",
              "      <td>True</td>\n",
              "      <td>2021-06-11</td>\n",
              "      <td>Nashville, Tennessee</td>\n",
              "      <td>9</td>\n",
              "      <td>1454</td>\n",
              "      <td>355101</td>\n",
              "      <td>/news-source/abc-news-media-bias</td>\n",
              "      <td>Lean Left</td>\n",
              "      <td>0</td>\n",
              "      <td>[\"Racial\", \"tensions\", \"simmer\", \"as\", \"Southe...</td>\n",
              "      <td>[\"NASHVILLE\", \",\", \"Tenn.\", \"--\", \"Race-relate...</td>\n",
              "      <td>3</td>\n",
              "      <td>2</td>\n",
              "      <td>2</td>\n",
              "      <td>1</td>\n",
              "      <td>0</td>\n",
              "      <td>0</td>\n",
              "      <td>0</td>\n",
              "      <td>0</td>\n",
              "      <td>0</td>\n",
              "      <td>0</td>\n",
              "      <td>0</td>\n",
              "      <td>0</td>\n",
              "      <td>0</td>\n",
              "      <td>0</td>\n",
              "      <td>0</td>\n",
              "      <td>0</td>\n",
              "      <td>0</td>\n",
              "      <td>0</td>\n",
              "      <td>0</td>\n",
              "      <td>...</td>\n",
              "      <td>0.0</td>\n",
              "      <td>0.0</td>\n",
              "      <td>0.0</td>\n",
              "      <td>0.0</td>\n",
              "      <td>0.0</td>\n",
              "      <td>0.0</td>\n",
              "      <td>0.0</td>\n",
              "      <td>0.0</td>\n",
              "      <td>0.0</td>\n",
              "      <td>0.0</td>\n",
              "      <td>0.0</td>\n",
              "      <td>0.0</td>\n",
              "      <td>0.0</td>\n",
              "      <td>0.0</td>\n",
              "      <td>0.0</td>\n",
              "      <td>0.0</td>\n",
              "      <td>0.0</td>\n",
              "      <td>0.0</td>\n",
              "      <td>0.0</td>\n",
              "      <td>0.0</td>\n",
              "      <td>0.0</td>\n",
              "      <td>left</td>\n",
              "      <td>0.9906</td>\n",
              "      <td>-0.4019</td>\n",
              "      <td>0.075</td>\n",
              "      <td>0.252</td>\n",
              "      <td>0.824</td>\n",
              "      <td>0.748</td>\n",
              "      <td>0.100</td>\n",
              "      <td>0.0</td>\n",
              "      <td>0</td>\n",
              "      <td>140</td>\n",
              "      <td>0.0</td>\n",
              "      <td>0.096286</td>\n",
              "      <td>[\"racial\", \"tension\", \"simmer\", \"southern\", \"b...</td>\n",
              "      <td>[\"JJ\", \"NN\", \"VB\", \"JJ\", \"NN\", \"VB\", \"JJ\", \"NN\"]</td>\n",
              "      <td>[\"nashvil\", \"tenn.\", \"race-rel\", \"tension\", \"w...</td>\n",
              "      <td>[\"NN\", \"NN\", \"JJ\", \"NN\", \"IN\", \"JJ\", \"NN\", \"NN...</td>\n",
              "      <td>[{\"uri\": \"dmoz/Society\", \"label\": \"dmoz/Societ...</td>\n",
              "      <td>[{\"uri\": \"http://en.wikipedia.org/wiki/Black_c...</td>\n",
              "    </tr>\n",
              "    <tr>\n",
              "      <th>1</th>\n",
              "      <td>-0.498039</td>\n",
              "      <td>64</td>\n",
              "      <td>6589548036</td>\n",
              "      <td>Asian American and Pacific Islander hate: Grap...</td>\n",
              "      <td>The U.S. has seen a disturbing surge in hate i...</td>\n",
              "      <td>abcnews.go.com</td>\n",
              "      <td>ABC News</td>\n",
              "      <td>171</td>\n",
              "      <td>615</td>\n",
              "      <td>150359</td>\n",
              "      <td>True</td>\n",
              "      <td>2021-06-03</td>\n",
              "      <td>United States</td>\n",
              "      <td>13</td>\n",
              "      <td>156</td>\n",
              "      <td>355101</td>\n",
              "      <td>/news-source/abc-news-media-bias</td>\n",
              "      <td>Lean Left</td>\n",
              "      <td>0</td>\n",
              "      <td>[\"Asian\", \"American\", \"and\", \"Pacific\", \"Islan...</td>\n",
              "      <td>[\"The\", \"U.S.\", \"has\", \"seen\", \"a\", \"disturbin...</td>\n",
              "      <td>1</td>\n",
              "      <td>2</td>\n",
              "      <td>0</td>\n",
              "      <td>1</td>\n",
              "      <td>4</td>\n",
              "      <td>1</td>\n",
              "      <td>1</td>\n",
              "      <td>0</td>\n",
              "      <td>0</td>\n",
              "      <td>0</td>\n",
              "      <td>0</td>\n",
              "      <td>0</td>\n",
              "      <td>0</td>\n",
              "      <td>0</td>\n",
              "      <td>0</td>\n",
              "      <td>0</td>\n",
              "      <td>0</td>\n",
              "      <td>0</td>\n",
              "      <td>0</td>\n",
              "      <td>...</td>\n",
              "      <td>0.0</td>\n",
              "      <td>0.0</td>\n",
              "      <td>0.0</td>\n",
              "      <td>0.0</td>\n",
              "      <td>0.0</td>\n",
              "      <td>0.0</td>\n",
              "      <td>0.0</td>\n",
              "      <td>0.0</td>\n",
              "      <td>0.0</td>\n",
              "      <td>0.0</td>\n",
              "      <td>0.0</td>\n",
              "      <td>0.0</td>\n",
              "      <td>0.0</td>\n",
              "      <td>0.0</td>\n",
              "      <td>0.0</td>\n",
              "      <td>0.0</td>\n",
              "      <td>0.0</td>\n",
              "      <td>0.0</td>\n",
              "      <td>0.0</td>\n",
              "      <td>0.0</td>\n",
              "      <td>0.0</td>\n",
              "      <td>left</td>\n",
              "      <td>-0.9833</td>\n",
              "      <td>-0.7184</td>\n",
              "      <td>0.201</td>\n",
              "      <td>0.375</td>\n",
              "      <td>0.778</td>\n",
              "      <td>0.625</td>\n",
              "      <td>0.021</td>\n",
              "      <td>0.0</td>\n",
              "      <td>0</td>\n",
              "      <td>0</td>\n",
              "      <td>0.0</td>\n",
              "      <td>0.000000</td>\n",
              "      <td>[\"asian\", \"american\", \"pacif\", \"island\", \"hate...</td>\n",
              "      <td>[\"JJ\", \"NN\", \"NN\", \"NN\", \"NN\", \"NN\", \"VB\", \"NN...</td>\n",
              "      <td>[\"the\", \"u.s.\", \"seen\", \"disturb\", \"surg\", \"ha...</td>\n",
              "      <td>[\"DT\", \"NN\", \"VB\", \"VB\", \"NN\", \"JJ\", \"NN\", \"JJ...</td>\n",
              "      <td>[{\"uri\": \"dmoz/Society/Issues\", \"label\": \"dmoz...</td>\n",
              "      <td>[{\"uri\": \"http://en.wikipedia.org/wiki/United_...</td>\n",
              "    </tr>\n",
              "    <tr>\n",
              "      <th>2</th>\n",
              "      <td>0.003922</td>\n",
              "      <td>118</td>\n",
              "      <td>6578408470</td>\n",
              "      <td>AP-NORC poll: More Americans believe anti-Asia...</td>\n",
              "      <td>WASHINGTON -- A majority of Americans across r...</td>\n",
              "      <td>abcnews.go.com</td>\n",
              "      <td>ABC News</td>\n",
              "      <td>171</td>\n",
              "      <td>615</td>\n",
              "      <td>150359</td>\n",
              "      <td>True</td>\n",
              "      <td>2021-05-26</td>\n",
              "      <td>Washington (state)</td>\n",
              "      <td>9</td>\n",
              "      <td>1091</td>\n",
              "      <td>355101</td>\n",
              "      <td>/news-source/abc-news-media-bias</td>\n",
              "      <td>Lean Left</td>\n",
              "      <td>0</td>\n",
              "      <td>[\"AP-NORC\", \"poll\", \":\", \"More\", \"Americans\", ...</td>\n",
              "      <td>[\"WASHINGTON\", \"--\", \"A\", \"majority\", \"of\", \"A...</td>\n",
              "      <td>2</td>\n",
              "      <td>1</td>\n",
              "      <td>1</td>\n",
              "      <td>3</td>\n",
              "      <td>0</td>\n",
              "      <td>1</td>\n",
              "      <td>0</td>\n",
              "      <td>1</td>\n",
              "      <td>0</td>\n",
              "      <td>0</td>\n",
              "      <td>0</td>\n",
              "      <td>0</td>\n",
              "      <td>0</td>\n",
              "      <td>0</td>\n",
              "      <td>0</td>\n",
              "      <td>0</td>\n",
              "      <td>0</td>\n",
              "      <td>0</td>\n",
              "      <td>0</td>\n",
              "      <td>...</td>\n",
              "      <td>0.0</td>\n",
              "      <td>0.0</td>\n",
              "      <td>0.0</td>\n",
              "      <td>0.0</td>\n",
              "      <td>0.0</td>\n",
              "      <td>0.0</td>\n",
              "      <td>0.0</td>\n",
              "      <td>0.0</td>\n",
              "      <td>0.0</td>\n",
              "      <td>0.0</td>\n",
              "      <td>0.0</td>\n",
              "      <td>0.0</td>\n",
              "      <td>0.0</td>\n",
              "      <td>0.0</td>\n",
              "      <td>0.0</td>\n",
              "      <td>0.0</td>\n",
              "      <td>0.0</td>\n",
              "      <td>0.0</td>\n",
              "      <td>0.0</td>\n",
              "      <td>0.0</td>\n",
              "      <td>0.0</td>\n",
              "      <td>left</td>\n",
              "      <td>-0.9982</td>\n",
              "      <td>-0.5719</td>\n",
              "      <td>0.141</td>\n",
              "      <td>0.346</td>\n",
              "      <td>0.795</td>\n",
              "      <td>0.654</td>\n",
              "      <td>0.065</td>\n",
              "      <td>0.0</td>\n",
              "      <td>0</td>\n",
              "      <td>91</td>\n",
              "      <td>0.0</td>\n",
              "      <td>0.083410</td>\n",
              "      <td>[\"ap-norc\", \"poll\", \"more\", \"american\", \"belie...</td>\n",
              "      <td>[\"JJ\", \"NN\", \"JJ\", \"NN\", \"VB\", \"JJ\", \"NN\", \"NN\"]</td>\n",
              "      <td>[\"washington\", \"A\", \"major\", \"american\", \"acro...</td>\n",
              "      <td>[\"NN\", \"DT\", \"NN\", \"NN\", \"IN\", \"JJ\", \"JJ\", \"NN...</td>\n",
              "      <td>[{\"uri\": \"news/Politics\", \"label\": \"news/Polit...</td>\n",
              "      <td>[{\"uri\": \"http://en.wikipedia.org/wiki/Asian_A...</td>\n",
              "    </tr>\n",
              "    <tr>\n",
              "      <th>3</th>\n",
              "      <td>-0.325490</td>\n",
              "      <td>39</td>\n",
              "      <td>6573140750</td>\n",
              "      <td>Floyd legislation reveals divide in police-ref...</td>\n",
              "      <td>NEW YORK -- Monifa Bandele became a community ...</td>\n",
              "      <td>abcnews.go.com</td>\n",
              "      <td>ABC News</td>\n",
              "      <td>171</td>\n",
              "      <td>615</td>\n",
              "      <td>150359</td>\n",
              "      <td>True</td>\n",
              "      <td>2021-05-22</td>\n",
              "      <td>New York City</td>\n",
              "      <td>7</td>\n",
              "      <td>1409</td>\n",
              "      <td>355101</td>\n",
              "      <td>/news-source/abc-news-media-bias</td>\n",
              "      <td>Lean Left</td>\n",
              "      <td>0</td>\n",
              "      <td>[\"Floyd\", \"legislation\", \"reveals\", \"divide\", ...</td>\n",
              "      <td>[\"NEW\", \"YORK\", \"--\", \"Monifa\", \"Bandele\", \"be...</td>\n",
              "      <td>1</td>\n",
              "      <td>1</td>\n",
              "      <td>1</td>\n",
              "      <td>2</td>\n",
              "      <td>1</td>\n",
              "      <td>0</td>\n",
              "      <td>0</td>\n",
              "      <td>0</td>\n",
              "      <td>0</td>\n",
              "      <td>0</td>\n",
              "      <td>0</td>\n",
              "      <td>0</td>\n",
              "      <td>0</td>\n",
              "      <td>0</td>\n",
              "      <td>0</td>\n",
              "      <td>0</td>\n",
              "      <td>0</td>\n",
              "      <td>0</td>\n",
              "      <td>0</td>\n",
              "      <td>...</td>\n",
              "      <td>0.0</td>\n",
              "      <td>0.0</td>\n",
              "      <td>0.0</td>\n",
              "      <td>0.0</td>\n",
              "      <td>0.0</td>\n",
              "      <td>0.0</td>\n",
              "      <td>0.0</td>\n",
              "      <td>0.0</td>\n",
              "      <td>0.0</td>\n",
              "      <td>0.0</td>\n",
              "      <td>0.0</td>\n",
              "      <td>0.0</td>\n",
              "      <td>0.0</td>\n",
              "      <td>0.0</td>\n",
              "      <td>0.0</td>\n",
              "      <td>0.0</td>\n",
              "      <td>0.0</td>\n",
              "      <td>0.0</td>\n",
              "      <td>0.0</td>\n",
              "      <td>0.0</td>\n",
              "      <td>0.0</td>\n",
              "      <td>left</td>\n",
              "      <td>0.9601</td>\n",
              "      <td>0.0000</td>\n",
              "      <td>0.073</td>\n",
              "      <td>0.000</td>\n",
              "      <td>0.838</td>\n",
              "      <td>1.000</td>\n",
              "      <td>0.089</td>\n",
              "      <td>0.0</td>\n",
              "      <td>0</td>\n",
              "      <td>94</td>\n",
              "      <td>0.0</td>\n",
              "      <td>0.066714</td>\n",
              "      <td>[\"floyd\", \"legisl\", \"reveal\", \"divid\", \"police...</td>\n",
              "      <td>[\"NN\", \"NN\", \"NN\", \"VB\", \"JJ\", \"NN\"]</td>\n",
              "      <td>[\"new\", \"york\", \"monifa\", \"bandel\", \"becam\", \"...</td>\n",
              "      <td>[\"NN\", \"NN\", \"NN\", \"NN\", \"VB\", \"NN\", \"NN\", \"JJ...</td>\n",
              "      <td>[{\"uri\": \"dmoz/Society/Issues/Crime_and_Justic...</td>\n",
              "      <td>[{\"uri\": \"http://en.wikipedia.org/wiki/George_...</td>\n",
              "    </tr>\n",
              "    <tr>\n",
              "      <th>4</th>\n",
              "      <td>-0.152941</td>\n",
              "      <td>15</td>\n",
              "      <td>6571115219</td>\n",
              "      <td>Police say antisemitic attacks in Los Angeles ...</td>\n",
              "      <td>LOS ANGELES -- Los Angeles police are investig...</td>\n",
              "      <td>abcnews.go.com</td>\n",
              "      <td>ABC News</td>\n",
              "      <td>171</td>\n",
              "      <td>615</td>\n",
              "      <td>150359</td>\n",
              "      <td>True</td>\n",
              "      <td>2021-05-21</td>\n",
              "      <td>Los Angeles</td>\n",
              "      <td>10</td>\n",
              "      <td>612</td>\n",
              "      <td>355101</td>\n",
              "      <td>/news-source/abc-news-media-bias</td>\n",
              "      <td>Lean Left</td>\n",
              "      <td>0</td>\n",
              "      <td>[\"Police\", \"say\", \"antisemitic\", \"attacks\", \"i...</td>\n",
              "      <td>[\"LOS\", \"ANGELES\", \"--\", \"Los\", \"Angeles\", \"po...</td>\n",
              "      <td>1</td>\n",
              "      <td>2</td>\n",
              "      <td>1</td>\n",
              "      <td>0</td>\n",
              "      <td>2</td>\n",
              "      <td>0</td>\n",
              "      <td>0</td>\n",
              "      <td>0</td>\n",
              "      <td>1</td>\n",
              "      <td>1</td>\n",
              "      <td>0</td>\n",
              "      <td>0</td>\n",
              "      <td>0</td>\n",
              "      <td>0</td>\n",
              "      <td>0</td>\n",
              "      <td>0</td>\n",
              "      <td>0</td>\n",
              "      <td>0</td>\n",
              "      <td>0</td>\n",
              "      <td>...</td>\n",
              "      <td>0.0</td>\n",
              "      <td>0.0</td>\n",
              "      <td>0.0</td>\n",
              "      <td>0.0</td>\n",
              "      <td>0.0</td>\n",
              "      <td>0.0</td>\n",
              "      <td>0.0</td>\n",
              "      <td>0.0</td>\n",
              "      <td>0.0</td>\n",
              "      <td>0.0</td>\n",
              "      <td>0.0</td>\n",
              "      <td>0.0</td>\n",
              "      <td>0.0</td>\n",
              "      <td>0.0</td>\n",
              "      <td>0.0</td>\n",
              "      <td>0.0</td>\n",
              "      <td>0.0</td>\n",
              "      <td>0.0</td>\n",
              "      <td>0.0</td>\n",
              "      <td>0.0</td>\n",
              "      <td>0.0</td>\n",
              "      <td>left</td>\n",
              "      <td>-0.9868</td>\n",
              "      <td>-0.4404</td>\n",
              "      <td>0.117</td>\n",
              "      <td>0.244</td>\n",
              "      <td>0.814</td>\n",
              "      <td>0.756</td>\n",
              "      <td>0.068</td>\n",
              "      <td>0.0</td>\n",
              "      <td>0</td>\n",
              "      <td>44</td>\n",
              "      <td>0.0</td>\n",
              "      <td>0.071895</td>\n",
              "      <td>[\"polic\", \"say\", \"antisemit\", \"attack\", \"lo\", ...</td>\n",
              "      <td>[\"NN\", \"VB\", \"JJ\", \"NN\", \"NN\", \"NN\", \"MD\", \"VB\"]</td>\n",
              "      <td>[\"lo\", \"angel\", \"lo\", \"angel\", \"polic\", \"inves...</td>\n",
              "      <td>[\"NN\", \"NN\", \"NN\", \"NN\", \"NN\", \"VB\", \"JJ\", \"NN...</td>\n",
              "      <td>[{\"uri\": \"dmoz/Society/Crime\", \"label\": \"dmoz/...</td>\n",
              "      <td>[{\"uri\": \"http://en.wikipedia.org/wiki/Los_Ang...</td>\n",
              "    </tr>\n",
              "  </tbody>\n",
              "</table>\n",
              "<p>5 rows × 204 columns</p>\n",
              "</div>"
            ],
            "text/plain": [
              "   sentiment  ...                                           concepts\n",
              "0  -0.168627  ...  [{\"uri\": \"http://en.wikipedia.org/wiki/Black_c...\n",
              "1  -0.498039  ...  [{\"uri\": \"http://en.wikipedia.org/wiki/United_...\n",
              "2   0.003922  ...  [{\"uri\": \"http://en.wikipedia.org/wiki/Asian_A...\n",
              "3  -0.325490  ...  [{\"uri\": \"http://en.wikipedia.org/wiki/George_...\n",
              "4  -0.152941  ...  [{\"uri\": \"http://en.wikipedia.org/wiki/Los_Ang...\n",
              "\n",
              "[5 rows x 204 columns]"
            ]
          },
          "metadata": {
            "tags": []
          },
          "execution_count": 86
        }
      ]
    },
    {
      "cell_type": "code",
      "metadata": {
        "colab": {
          "base_uri": "https://localhost:8080/",
          "height": 593
        },
        "id": "BeDfR3gHPBO-",
        "outputId": "34d19e52-dc68-4f78-f5cb-069e3b5ff389"
      },
      "source": [
        "control_df = pd.read_csv(os.path.join(control_path, \"section_6_full_df.csv\"))\n",
        "control_df.head()"
      ],
      "execution_count": 87,
      "outputs": [
        {
          "output_type": "execute_result",
          "data": {
            "text/html": [
              "<div>\n",
              "<style scoped>\n",
              "    .dataframe tbody tr th:only-of-type {\n",
              "        vertical-align: middle;\n",
              "    }\n",
              "\n",
              "    .dataframe tbody tr th {\n",
              "        vertical-align: top;\n",
              "    }\n",
              "\n",
              "    .dataframe thead th {\n",
              "        text-align: right;\n",
              "    }\n",
              "</style>\n",
              "<table border=\"1\" class=\"dataframe\">\n",
              "  <thead>\n",
              "    <tr style=\"text-align: right;\">\n",
              "      <th></th>\n",
              "      <th>sentiment</th>\n",
              "      <th>relevance</th>\n",
              "      <th>uri</th>\n",
              "      <th>title</th>\n",
              "      <th>body</th>\n",
              "      <th>source_uri</th>\n",
              "      <th>source_name</th>\n",
              "      <th>source_alexaCountryRank</th>\n",
              "      <th>source_alexaGlobalRank</th>\n",
              "      <th>source_importanceRank</th>\n",
              "      <th>source_valid_location</th>\n",
              "      <th>date</th>\n",
              "      <th>json_data</th>\n",
              "      <th>title_length</th>\n",
              "      <th>body_length</th>\n",
              "      <th>source_score</th>\n",
              "      <th>source_link</th>\n",
              "      <th>source_position</th>\n",
              "      <th>source_pos_int</th>\n",
              "      <th>title_doc</th>\n",
              "      <th>body_doc</th>\n",
              "      <th>title_NNP</th>\n",
              "      <th>title_VBZ</th>\n",
              "      <th>title_NNS</th>\n",
              "      <th>title_MD</th>\n",
              "      <th>title_VB</th>\n",
              "      <th>title_NN</th>\n",
              "      <th>title_VBP</th>\n",
              "      <th>title_$</th>\n",
              "      <th>title_CD</th>\n",
              "      <th>title_VBD</th>\n",
              "      <th>title_:</th>\n",
              "      <th>title_VBG</th>\n",
              "      <th>title_JJ</th>\n",
              "      <th>title_,</th>\n",
              "      <th>title_''</th>\n",
              "      <th>title_RB</th>\n",
              "      <th>title_IN</th>\n",
              "      <th>title_POS</th>\n",
              "      <th>title_``</th>\n",
              "      <th>...</th>\n",
              "      <th>title_''_per_word</th>\n",
              "      <th>title_DT_per_word</th>\n",
              "      <th>title_CD_per_word</th>\n",
              "      <th>title_WRB_per_word</th>\n",
              "      <th>title_RB_per_word</th>\n",
              "      <th>title_PRP_per_word</th>\n",
              "      <th>title_PRP$_per_word</th>\n",
              "      <th>title_RP_per_word</th>\n",
              "      <th>title_PDT_per_word</th>\n",
              "      <th>title_TO_per_word</th>\n",
              "      <th>title_``_per_word</th>\n",
              "      <th>title_FW_per_word</th>\n",
              "      <th>title_CC_per_word</th>\n",
              "      <th>title_._per_word</th>\n",
              "      <th>title_WP_per_word</th>\n",
              "      <th>title_JJS_per_word</th>\n",
              "      <th>title_(_per_word</th>\n",
              "      <th>title_)_per_word</th>\n",
              "      <th>title_$_per_word</th>\n",
              "      <th>title_UH_per_word</th>\n",
              "      <th>title_RBS_per_word</th>\n",
              "      <th>position_adjusted</th>\n",
              "      <th>nltk_body_sentiment_compound</th>\n",
              "      <th>nltk_title_sentiment_compound</th>\n",
              "      <th>nltk_body_sentiment_neg</th>\n",
              "      <th>nltk_title_sentiment_neg</th>\n",
              "      <th>nltk_body_sentiment_neu</th>\n",
              "      <th>nltk_title_sentiment_neu</th>\n",
              "      <th>nltk_body_sentiment_pos</th>\n",
              "      <th>nltk_title_sentiment_pos</th>\n",
              "      <th>title_negation</th>\n",
              "      <th>body_negation</th>\n",
              "      <th>title_negation_per_word</th>\n",
              "      <th>body_negation_per_word</th>\n",
              "      <th>title_stem</th>\n",
              "      <th>title_stem_pos</th>\n",
              "      <th>body_stem</th>\n",
              "      <th>body_stem_pos</th>\n",
              "      <th>categories</th>\n",
              "      <th>concepts</th>\n",
              "    </tr>\n",
              "  </thead>\n",
              "  <tbody>\n",
              "    <tr>\n",
              "      <th>0</th>\n",
              "      <td>-0.411765</td>\n",
              "      <td>6</td>\n",
              "      <td>6562271338</td>\n",
              "      <td>U.S. warns that extremists may strike as virus...</td>\n",
              "      <td>WASHINGTON -- A national terrorism alert issue...</td>\n",
              "      <td>pressherald.com</td>\n",
              "      <td>Portland Press Herald</td>\n",
              "      <td>12299</td>\n",
              "      <td>39825</td>\n",
              "      <td>313417</td>\n",
              "      <td>True</td>\n",
              "      <td>2021-05-14</td>\n",
              "      <td>{\"uri\": \"6562271338\", \"lang\": \"eng\", \"isDuplic...</td>\n",
              "      <td>10</td>\n",
              "      <td>748</td>\n",
              "      <td>145605</td>\n",
              "      <td>/news-source/portland-press-herarld</td>\n",
              "      <td>Center</td>\n",
              "      <td>0</td>\n",
              "      <td>[\"U.S.\", \"warns\", \"that\", \"extremists\", \"may\",...</td>\n",
              "      <td>[\"WASHINGTON\", \"--\", \"A\", \"national\", \"terrori...</td>\n",
              "      <td>1</td>\n",
              "      <td>1</td>\n",
              "      <td>2</td>\n",
              "      <td>1</td>\n",
              "      <td>1</td>\n",
              "      <td>1</td>\n",
              "      <td>1</td>\n",
              "      <td>0</td>\n",
              "      <td>0</td>\n",
              "      <td>0</td>\n",
              "      <td>0</td>\n",
              "      <td>0</td>\n",
              "      <td>0</td>\n",
              "      <td>0</td>\n",
              "      <td>0</td>\n",
              "      <td>0</td>\n",
              "      <td>0</td>\n",
              "      <td>0</td>\n",
              "      <td>0</td>\n",
              "      <td>...</td>\n",
              "      <td>0.0</td>\n",
              "      <td>0.0</td>\n",
              "      <td>0.000000</td>\n",
              "      <td>0.0</td>\n",
              "      <td>0.000000</td>\n",
              "      <td>0.0</td>\n",
              "      <td>0.0</td>\n",
              "      <td>0.0</td>\n",
              "      <td>0.0</td>\n",
              "      <td>0.0</td>\n",
              "      <td>0.0</td>\n",
              "      <td>0.0</td>\n",
              "      <td>0.0</td>\n",
              "      <td>0.0</td>\n",
              "      <td>0.0</td>\n",
              "      <td>0.0</td>\n",
              "      <td>0.0</td>\n",
              "      <td>0.0</td>\n",
              "      <td>0.000000</td>\n",
              "      <td>0.0</td>\n",
              "      <td>0.0</td>\n",
              "      <td>center</td>\n",
              "      <td>-0.9964</td>\n",
              "      <td>0.1531</td>\n",
              "      <td>0.173</td>\n",
              "      <td>0.234</td>\n",
              "      <td>0.724</td>\n",
              "      <td>0.565</td>\n",
              "      <td>0.103</td>\n",
              "      <td>0.202</td>\n",
              "      <td>0</td>\n",
              "      <td>4</td>\n",
              "      <td>0.0</td>\n",
              "      <td>0.005348</td>\n",
              "      <td>[\"u.s.\", \"warn\", \"extremist\", \"may\", \"strike\",...</td>\n",
              "      <td>[\"NN\", \"VB\", \"NN\", \"MD\", \"VB\", \"NN\", \"NN\", \"VB\"]</td>\n",
              "      <td>[\"washington\", \"A\", \"nation\", \"terror\", \"alert...</td>\n",
              "      <td>[\"NN\", \"DT\", \"JJ\", \"NN\", \"JJ\", \"VB\", \"NN\", \"VB...</td>\n",
              "      <td>[{\"uri\": \"news/Politics\", \"label\": \"news/Polit...</td>\n",
              "      <td>[{\"uri\": \"http://en.wikipedia.org/wiki/Violent...</td>\n",
              "    </tr>\n",
              "    <tr>\n",
              "      <th>1</th>\n",
              "      <td>0.121569</td>\n",
              "      <td>7</td>\n",
              "      <td>6478206548</td>\n",
              "      <td>Jesuits pledge $100 million for descendants of...</td>\n",
              "      <td>WASHINGTON -- One of the Catholic Church's mos...</td>\n",
              "      <td>pressherald.com</td>\n",
              "      <td>Portland Press Herald</td>\n",
              "      <td>12299</td>\n",
              "      <td>39825</td>\n",
              "      <td>313417</td>\n",
              "      <td>True</td>\n",
              "      <td>2021-03-17</td>\n",
              "      <td>{\"uri\": \"6478206548\", \"lang\": \"eng\", \"isDuplic...</td>\n",
              "      <td>18</td>\n",
              "      <td>1080</td>\n",
              "      <td>145605</td>\n",
              "      <td>/news-source/portland-press-herarld</td>\n",
              "      <td>Center</td>\n",
              "      <td>0</td>\n",
              "      <td>[\"Jesuits\", \"pledge\", \"$\", \"100\", \"million\", \"...</td>\n",
              "      <td>[\"WASHINGTON\", \"--\", \"One\", \"of\", \"the\", \"Cath...</td>\n",
              "      <td>4</td>\n",
              "      <td>0</td>\n",
              "      <td>3</td>\n",
              "      <td>0</td>\n",
              "      <td>0</td>\n",
              "      <td>1</td>\n",
              "      <td>1</td>\n",
              "      <td>1</td>\n",
              "      <td>2</td>\n",
              "      <td>1</td>\n",
              "      <td>1</td>\n",
              "      <td>0</td>\n",
              "      <td>0</td>\n",
              "      <td>0</td>\n",
              "      <td>0</td>\n",
              "      <td>0</td>\n",
              "      <td>0</td>\n",
              "      <td>0</td>\n",
              "      <td>0</td>\n",
              "      <td>...</td>\n",
              "      <td>0.0</td>\n",
              "      <td>0.0</td>\n",
              "      <td>0.111111</td>\n",
              "      <td>0.0</td>\n",
              "      <td>0.000000</td>\n",
              "      <td>0.0</td>\n",
              "      <td>0.0</td>\n",
              "      <td>0.0</td>\n",
              "      <td>0.0</td>\n",
              "      <td>0.0</td>\n",
              "      <td>0.0</td>\n",
              "      <td>0.0</td>\n",
              "      <td>0.0</td>\n",
              "      <td>0.0</td>\n",
              "      <td>0.0</td>\n",
              "      <td>0.0</td>\n",
              "      <td>0.0</td>\n",
              "      <td>0.0</td>\n",
              "      <td>0.055556</td>\n",
              "      <td>0.0</td>\n",
              "      <td>0.0</td>\n",
              "      <td>center</td>\n",
              "      <td>-0.7845</td>\n",
              "      <td>-0.4019</td>\n",
              "      <td>0.087</td>\n",
              "      <td>0.153</td>\n",
              "      <td>0.821</td>\n",
              "      <td>0.847</td>\n",
              "      <td>0.092</td>\n",
              "      <td>0.000</td>\n",
              "      <td>0</td>\n",
              "      <td>53</td>\n",
              "      <td>0.0</td>\n",
              "      <td>0.049074</td>\n",
              "      <td>[\"jesuit\", \"pledg\", \"100\", \"million\", \"descend...</td>\n",
              "      <td>[\"NN\", \"VB\", \"CD\", \"CD\", \"NN\", \"NN\", \"NN\", \"NN...</td>\n",
              "      <td>[\"washington\", \"one\", \"cathol\", \"church\", \"wel...</td>\n",
              "      <td>[\"NN\", \"CD\", \"NN\", \"NN\", \"JJ\", \"JJ\", \"NN\", \"VB...</td>\n",
              "      <td>[{\"uri\": \"news/Politics\", \"label\": \"news/Polit...</td>\n",
              "      <td>[{\"uri\": \"http://en.wikipedia.org/wiki/Salvati...</td>\n",
              "    </tr>\n",
              "    <tr>\n",
              "      <th>2</th>\n",
              "      <td>0.043137</td>\n",
              "      <td>6</td>\n",
              "      <td>6198522667</td>\n",
              "      <td>NFL teams huddling up to devise plans for soci...</td>\n",
              "      <td>Florham Park, New Jersey - Sam Darnold watched...</td>\n",
              "      <td>japantimes.co.jp</td>\n",
              "      <td>The Japan Times</td>\n",
              "      <td>688</td>\n",
              "      <td>4954</td>\n",
              "      <td>207467</td>\n",
              "      <td>True</td>\n",
              "      <td>2020-08-30</td>\n",
              "      <td>{\"uri\": \"6198522667\", \"lang\": \"eng\", \"isDuplic...</td>\n",
              "      <td>10</td>\n",
              "      <td>1189</td>\n",
              "      <td>109816</td>\n",
              "      <td>/news-source/japan-times-media-bias</td>\n",
              "      <td>Center</td>\n",
              "      <td>0</td>\n",
              "      <td>[\"NFL\", \"teams\", \"huddling\", \"up\", \"to\", \"devi...</td>\n",
              "      <td>[\"Florham\", \"Park\", \",\", \"New\", \"Jersey\", \"-\",...</td>\n",
              "      <td>1</td>\n",
              "      <td>0</td>\n",
              "      <td>2</td>\n",
              "      <td>0</td>\n",
              "      <td>1</td>\n",
              "      <td>1</td>\n",
              "      <td>0</td>\n",
              "      <td>0</td>\n",
              "      <td>0</td>\n",
              "      <td>0</td>\n",
              "      <td>0</td>\n",
              "      <td>1</td>\n",
              "      <td>1</td>\n",
              "      <td>0</td>\n",
              "      <td>0</td>\n",
              "      <td>0</td>\n",
              "      <td>0</td>\n",
              "      <td>0</td>\n",
              "      <td>0</td>\n",
              "      <td>...</td>\n",
              "      <td>0.0</td>\n",
              "      <td>0.0</td>\n",
              "      <td>0.000000</td>\n",
              "      <td>0.0</td>\n",
              "      <td>0.000000</td>\n",
              "      <td>0.0</td>\n",
              "      <td>0.0</td>\n",
              "      <td>0.0</td>\n",
              "      <td>0.0</td>\n",
              "      <td>0.0</td>\n",
              "      <td>0.0</td>\n",
              "      <td>0.0</td>\n",
              "      <td>0.0</td>\n",
              "      <td>0.0</td>\n",
              "      <td>0.0</td>\n",
              "      <td>0.0</td>\n",
              "      <td>0.0</td>\n",
              "      <td>0.0</td>\n",
              "      <td>0.000000</td>\n",
              "      <td>0.0</td>\n",
              "      <td>0.0</td>\n",
              "      <td>center</td>\n",
              "      <td>0.9266</td>\n",
              "      <td>0.0000</td>\n",
              "      <td>0.057</td>\n",
              "      <td>0.000</td>\n",
              "      <td>0.863</td>\n",
              "      <td>1.000</td>\n",
              "      <td>0.080</td>\n",
              "      <td>0.000</td>\n",
              "      <td>0</td>\n",
              "      <td>113</td>\n",
              "      <td>0.0</td>\n",
              "      <td>0.095038</td>\n",
              "      <td>[\"nfl\", \"team\", \"huddl\", \"devis\", \"plan\", \"soc...</td>\n",
              "      <td>[\"NN\", \"NN\", \"VB\", \"VB\", \"NN\", \"JJ\", \"NN\"]</td>\n",
              "      <td>[\"florham\", \"park\", \"new\", \"jersey\", \"sam\", \"d...</td>\n",
              "      <td>[\"NN\", \"NN\", \"NN\", \"NN\", \"NN\", \"NN\", \"VB\", \"JJ...</td>\n",
              "      <td>[{\"uri\": \"news/Sports\", \"label\": \"news/Sports\"...</td>\n",
              "      <td>[{\"uri\": \"http://en.wikipedia.org/wiki/Sam_Dar...</td>\n",
              "    </tr>\n",
              "    <tr>\n",
              "      <th>3</th>\n",
              "      <td>-0.364706</td>\n",
              "      <td>16</td>\n",
              "      <td>6582206716</td>\n",
              "      <td>Biden: antisemitic attacks 'despicable, uncons...</td>\n",
              "      <td>WASHINGTON - US President Joe Biden released a...</td>\n",
              "      <td>jpost.com</td>\n",
              "      <td>The Jerusalem Post</td>\n",
              "      <td>2613</td>\n",
              "      <td>5628</td>\n",
              "      <td>211617</td>\n",
              "      <td>True</td>\n",
              "      <td>2021-05-28</td>\n",
              "      <td>{\"uri\": \"6582206716\", \"lang\": \"eng\", \"isDuplic...</td>\n",
              "      <td>10</td>\n",
              "      <td>326</td>\n",
              "      <td>126779</td>\n",
              "      <td>/news-source/jerusalem-post-media-bias</td>\n",
              "      <td>Center</td>\n",
              "      <td>0</td>\n",
              "      <td>[\"Biden\", \":\", \"antisemitic\", \"attacks\", \"'des...</td>\n",
              "      <td>[\"WASHINGTON\", \"-\", \"US\", \"President\", \"Joe\", ...</td>\n",
              "      <td>1</td>\n",
              "      <td>0</td>\n",
              "      <td>1</td>\n",
              "      <td>0</td>\n",
              "      <td>0</td>\n",
              "      <td>0</td>\n",
              "      <td>0</td>\n",
              "      <td>0</td>\n",
              "      <td>0</td>\n",
              "      <td>0</td>\n",
              "      <td>1</td>\n",
              "      <td>0</td>\n",
              "      <td>4</td>\n",
              "      <td>2</td>\n",
              "      <td>1</td>\n",
              "      <td>0</td>\n",
              "      <td>0</td>\n",
              "      <td>0</td>\n",
              "      <td>0</td>\n",
              "      <td>...</td>\n",
              "      <td>0.1</td>\n",
              "      <td>0.0</td>\n",
              "      <td>0.000000</td>\n",
              "      <td>0.0</td>\n",
              "      <td>0.000000</td>\n",
              "      <td>0.0</td>\n",
              "      <td>0.0</td>\n",
              "      <td>0.0</td>\n",
              "      <td>0.0</td>\n",
              "      <td>0.0</td>\n",
              "      <td>0.0</td>\n",
              "      <td>0.0</td>\n",
              "      <td>0.0</td>\n",
              "      <td>0.0</td>\n",
              "      <td>0.0</td>\n",
              "      <td>0.0</td>\n",
              "      <td>0.0</td>\n",
              "      <td>0.0</td>\n",
              "      <td>0.000000</td>\n",
              "      <td>0.0</td>\n",
              "      <td>0.0</td>\n",
              "      <td>center</td>\n",
              "      <td>-0.9913</td>\n",
              "      <td>-0.4404</td>\n",
              "      <td>0.219</td>\n",
              "      <td>0.367</td>\n",
              "      <td>0.694</td>\n",
              "      <td>0.633</td>\n",
              "      <td>0.086</td>\n",
              "      <td>0.000</td>\n",
              "      <td>0</td>\n",
              "      <td>57</td>\n",
              "      <td>0.0</td>\n",
              "      <td>0.174847</td>\n",
              "      <td>[\"biden\", \"antisemit\", \"attack\", \"unconscion\",...</td>\n",
              "      <td>[\"NN\", \"JJ\", \"NN\", \"JJ\", \"JJ\"]</td>\n",
              "      <td>[\"washington\", \"US\", \"presid\", \"joe\", \"biden\",...</td>\n",
              "      <td>[\"NN\", \"NN\", \"NN\", \"NN\", \"NN\", \"VB\", \"NN\", \"NN...</td>\n",
              "      <td>[{\"uri\": \"news/Politics\", \"label\": \"news/Polit...</td>\n",
              "      <td>[{\"uri\": \"http://en.wikipedia.org/wiki/Antisem...</td>\n",
              "    </tr>\n",
              "    <tr>\n",
              "      <th>4</th>\n",
              "      <td>-0.388235</td>\n",
              "      <td>11</td>\n",
              "      <td>6491967421</td>\n",
              "      <td>Wallingford teen organizes rally in respon...</td>\n",
              "      <td>WALLINGFORD -- When Amy Bui first heard of the...</td>\n",
              "      <td>myrecordjournal.com</td>\n",
              "      <td>My Record Journal</td>\n",
              "      <td>72913</td>\n",
              "      <td>312056</td>\n",
              "      <td>499522</td>\n",
              "      <td>False</td>\n",
              "      <td>2021-03-25</td>\n",
              "      <td>{\"uri\": \"6491967421\", \"lang\": \"eng\", \"isDuplic...</td>\n",
              "      <td>9</td>\n",
              "      <td>393</td>\n",
              "      <td>9967</td>\n",
              "      <td>/news-source/record-journal</td>\n",
              "      <td>Center</td>\n",
              "      <td>0</td>\n",
              "      <td>[\"Wallingford\", \"teen\", \"organizes\", \"rally\", ...</td>\n",
              "      <td>[\"WALLINGFORD\", \"--\", \"When\", \"Amy\", \"Bui\", \"f...</td>\n",
              "      <td>1</td>\n",
              "      <td>1</td>\n",
              "      <td>1</td>\n",
              "      <td>0</td>\n",
              "      <td>0</td>\n",
              "      <td>2</td>\n",
              "      <td>0</td>\n",
              "      <td>0</td>\n",
              "      <td>0</td>\n",
              "      <td>0</td>\n",
              "      <td>0</td>\n",
              "      <td>0</td>\n",
              "      <td>1</td>\n",
              "      <td>0</td>\n",
              "      <td>0</td>\n",
              "      <td>1</td>\n",
              "      <td>0</td>\n",
              "      <td>0</td>\n",
              "      <td>0</td>\n",
              "      <td>...</td>\n",
              "      <td>0.0</td>\n",
              "      <td>0.0</td>\n",
              "      <td>0.000000</td>\n",
              "      <td>0.0</td>\n",
              "      <td>0.111111</td>\n",
              "      <td>0.0</td>\n",
              "      <td>0.0</td>\n",
              "      <td>0.0</td>\n",
              "      <td>0.0</td>\n",
              "      <td>0.0</td>\n",
              "      <td>0.0</td>\n",
              "      <td>0.0</td>\n",
              "      <td>0.0</td>\n",
              "      <td>0.0</td>\n",
              "      <td>0.0</td>\n",
              "      <td>0.0</td>\n",
              "      <td>0.0</td>\n",
              "      <td>0.0</td>\n",
              "      <td>0.000000</td>\n",
              "      <td>0.0</td>\n",
              "      <td>0.0</td>\n",
              "      <td>center</td>\n",
              "      <td>-0.9782</td>\n",
              "      <td>-0.6705</td>\n",
              "      <td>0.112</td>\n",
              "      <td>0.360</td>\n",
              "      <td>0.847</td>\n",
              "      <td>0.640</td>\n",
              "      <td>0.041</td>\n",
              "      <td>0.000</td>\n",
              "      <td>0</td>\n",
              "      <td>75</td>\n",
              "      <td>0.0</td>\n",
              "      <td>0.190840</td>\n",
              "      <td>[\"wallingford\", \"teen\", \"organ\", \"ralli\", \"res...</td>\n",
              "      <td>[\"NN\", \"NN\", \"VB\", \"RB\", \"NN\", \"JJ\", \"NN\"]</td>\n",
              "      <td>[\"wallingford\", \"when\", \"ami\", \"bui\", \"first\",...</td>\n",
              "      <td>[\"NN\", \"WR\", \"NN\", \"NN\", \"RB\", \"NN\", \"JJ\", \"NN...</td>\n",
              "      <td>[{\"uri\": \"news/Arts_and_Entertainment\", \"label...</td>\n",
              "      <td>[{\"uri\": \"http://en.wikipedia.org/wiki/Atlanta...</td>\n",
              "    </tr>\n",
              "  </tbody>\n",
              "</table>\n",
              "<p>5 rows × 209 columns</p>\n",
              "</div>"
            ],
            "text/plain": [
              "   sentiment  ...                                           concepts\n",
              "0  -0.411765  ...  [{\"uri\": \"http://en.wikipedia.org/wiki/Violent...\n",
              "1   0.121569  ...  [{\"uri\": \"http://en.wikipedia.org/wiki/Salvati...\n",
              "2   0.043137  ...  [{\"uri\": \"http://en.wikipedia.org/wiki/Sam_Dar...\n",
              "3  -0.364706  ...  [{\"uri\": \"http://en.wikipedia.org/wiki/Antisem...\n",
              "4  -0.388235  ...  [{\"uri\": \"http://en.wikipedia.org/wiki/Atlanta...\n",
              "\n",
              "[5 rows x 209 columns]"
            ]
          },
          "metadata": {
            "tags": []
          },
          "execution_count": 87
        }
      ]
    },
    {
      "cell_type": "code",
      "metadata": {
        "colab": {
          "base_uri": "https://localhost:8080/",
          "height": 678
        },
        "id": "YHGyA1hvPIAa",
        "outputId": "00346234-16fb-4c10-f700-36b676d5ef96"
      },
      "source": [
        "exp_wide_df = experiment_df[experiment_df['source_position'] != 'Center'].copy()\n",
        "exp_wide_df['y_'] = np.where(exp_wide_df['source_position'].isin([\"Left\", \"Lean Left\"]), 1, 0)\n",
        "exp_wide_df.head()"
      ],
      "execution_count": 88,
      "outputs": [
        {
          "output_type": "execute_result",
          "data": {
            "text/html": [
              "<div>\n",
              "<style scoped>\n",
              "    .dataframe tbody tr th:only-of-type {\n",
              "        vertical-align: middle;\n",
              "    }\n",
              "\n",
              "    .dataframe tbody tr th {\n",
              "        vertical-align: top;\n",
              "    }\n",
              "\n",
              "    .dataframe thead th {\n",
              "        text-align: right;\n",
              "    }\n",
              "</style>\n",
              "<table border=\"1\" class=\"dataframe\">\n",
              "  <thead>\n",
              "    <tr style=\"text-align: right;\">\n",
              "      <th></th>\n",
              "      <th>sentiment</th>\n",
              "      <th>relevance</th>\n",
              "      <th>uri</th>\n",
              "      <th>title</th>\n",
              "      <th>body</th>\n",
              "      <th>source_uri</th>\n",
              "      <th>source_name</th>\n",
              "      <th>source_alexaCountryRank</th>\n",
              "      <th>source_alexaGlobalRank</th>\n",
              "      <th>source_importanceRank</th>\n",
              "      <th>source_valid_location</th>\n",
              "      <th>date</th>\n",
              "      <th>location</th>\n",
              "      <th>title_length</th>\n",
              "      <th>body_length</th>\n",
              "      <th>source_score</th>\n",
              "      <th>source_link</th>\n",
              "      <th>source_position</th>\n",
              "      <th>source_pos_int</th>\n",
              "      <th>title_doc</th>\n",
              "      <th>body_doc</th>\n",
              "      <th>title_JJ</th>\n",
              "      <th>title_NNS</th>\n",
              "      <th>title_VBP</th>\n",
              "      <th>title_NN</th>\n",
              "      <th>title_NNP</th>\n",
              "      <th>title_:</th>\n",
              "      <th>title_VBZ</th>\n",
              "      <th>title_JJR</th>\n",
              "      <th>title_MD</th>\n",
              "      <th>title_VBN</th>\n",
              "      <th>title_VB</th>\n",
              "      <th>title_VBD</th>\n",
              "      <th>title_NNPS</th>\n",
              "      <th>title_VBG</th>\n",
              "      <th>title_IN</th>\n",
              "      <th>title_,</th>\n",
              "      <th>title_POS</th>\n",
              "      <th>title_''</th>\n",
              "      <th>title_DT</th>\n",
              "      <th>...</th>\n",
              "      <th>title_DT_per_word</th>\n",
              "      <th>title_CD_per_word</th>\n",
              "      <th>title_WRB_per_word</th>\n",
              "      <th>title_RB_per_word</th>\n",
              "      <th>title_PRP_per_word</th>\n",
              "      <th>title_PRP$_per_word</th>\n",
              "      <th>title_RP_per_word</th>\n",
              "      <th>title_PDT_per_word</th>\n",
              "      <th>title_TO_per_word</th>\n",
              "      <th>title_``_per_word</th>\n",
              "      <th>title_FW_per_word</th>\n",
              "      <th>title_CC_per_word</th>\n",
              "      <th>title_._per_word</th>\n",
              "      <th>title_WP_per_word</th>\n",
              "      <th>title_JJS_per_word</th>\n",
              "      <th>title_(_per_word</th>\n",
              "      <th>title_)_per_word</th>\n",
              "      <th>title_$_per_word</th>\n",
              "      <th>title_UH_per_word</th>\n",
              "      <th>title_RBS_per_word</th>\n",
              "      <th>position_adjusted</th>\n",
              "      <th>nltk_body_sentiment_compound</th>\n",
              "      <th>nltk_title_sentiment_compound</th>\n",
              "      <th>nltk_body_sentiment_neg</th>\n",
              "      <th>nltk_title_sentiment_neg</th>\n",
              "      <th>nltk_body_sentiment_neu</th>\n",
              "      <th>nltk_title_sentiment_neu</th>\n",
              "      <th>nltk_body_sentiment_pos</th>\n",
              "      <th>nltk_title_sentiment_pos</th>\n",
              "      <th>title_negation</th>\n",
              "      <th>body_negation</th>\n",
              "      <th>title_negation_per_word</th>\n",
              "      <th>body_negation_per_word</th>\n",
              "      <th>title_stem</th>\n",
              "      <th>title_stem_pos</th>\n",
              "      <th>body_stem</th>\n",
              "      <th>body_stem_pos</th>\n",
              "      <th>categories</th>\n",
              "      <th>concepts</th>\n",
              "      <th>y_</th>\n",
              "    </tr>\n",
              "  </thead>\n",
              "  <tbody>\n",
              "    <tr>\n",
              "      <th>0</th>\n",
              "      <td>-0.168627</td>\n",
              "      <td>38</td>\n",
              "      <td>6601183495</td>\n",
              "      <td>Racial tensions simmer as Southern Baptists ho...</td>\n",
              "      <td>NASHVILLE, Tenn. -- Race-related tensions with...</td>\n",
              "      <td>abcnews.go.com</td>\n",
              "      <td>ABC News</td>\n",
              "      <td>171</td>\n",
              "      <td>615</td>\n",
              "      <td>150359</td>\n",
              "      <td>True</td>\n",
              "      <td>2021-06-11</td>\n",
              "      <td>Nashville, Tennessee</td>\n",
              "      <td>9</td>\n",
              "      <td>1454</td>\n",
              "      <td>355101</td>\n",
              "      <td>/news-source/abc-news-media-bias</td>\n",
              "      <td>Lean Left</td>\n",
              "      <td>0</td>\n",
              "      <td>[\"Racial\", \"tensions\", \"simmer\", \"as\", \"Southe...</td>\n",
              "      <td>[\"NASHVILLE\", \",\", \"Tenn.\", \"--\", \"Race-relate...</td>\n",
              "      <td>3</td>\n",
              "      <td>2</td>\n",
              "      <td>2</td>\n",
              "      <td>1</td>\n",
              "      <td>0</td>\n",
              "      <td>0</td>\n",
              "      <td>0</td>\n",
              "      <td>0</td>\n",
              "      <td>0</td>\n",
              "      <td>0</td>\n",
              "      <td>0</td>\n",
              "      <td>0</td>\n",
              "      <td>0</td>\n",
              "      <td>0</td>\n",
              "      <td>0</td>\n",
              "      <td>0</td>\n",
              "      <td>0</td>\n",
              "      <td>0</td>\n",
              "      <td>0</td>\n",
              "      <td>...</td>\n",
              "      <td>0.0</td>\n",
              "      <td>0.0</td>\n",
              "      <td>0.0</td>\n",
              "      <td>0.0</td>\n",
              "      <td>0.0</td>\n",
              "      <td>0.0</td>\n",
              "      <td>0.0</td>\n",
              "      <td>0.0</td>\n",
              "      <td>0.0</td>\n",
              "      <td>0.0</td>\n",
              "      <td>0.0</td>\n",
              "      <td>0.0</td>\n",
              "      <td>0.0</td>\n",
              "      <td>0.0</td>\n",
              "      <td>0.0</td>\n",
              "      <td>0.0</td>\n",
              "      <td>0.0</td>\n",
              "      <td>0.0</td>\n",
              "      <td>0.0</td>\n",
              "      <td>0.0</td>\n",
              "      <td>left</td>\n",
              "      <td>0.9906</td>\n",
              "      <td>-0.4019</td>\n",
              "      <td>0.075</td>\n",
              "      <td>0.252</td>\n",
              "      <td>0.824</td>\n",
              "      <td>0.748</td>\n",
              "      <td>0.100</td>\n",
              "      <td>0.0</td>\n",
              "      <td>0</td>\n",
              "      <td>140</td>\n",
              "      <td>0.0</td>\n",
              "      <td>0.096286</td>\n",
              "      <td>[\"racial\", \"tension\", \"simmer\", \"southern\", \"b...</td>\n",
              "      <td>[\"JJ\", \"NN\", \"VB\", \"JJ\", \"NN\", \"VB\", \"JJ\", \"NN\"]</td>\n",
              "      <td>[\"nashvil\", \"tenn.\", \"race-rel\", \"tension\", \"w...</td>\n",
              "      <td>[\"NN\", \"NN\", \"JJ\", \"NN\", \"IN\", \"JJ\", \"NN\", \"NN...</td>\n",
              "      <td>[{\"uri\": \"dmoz/Society\", \"label\": \"dmoz/Societ...</td>\n",
              "      <td>[{\"uri\": \"http://en.wikipedia.org/wiki/Black_c...</td>\n",
              "      <td>1</td>\n",
              "    </tr>\n",
              "    <tr>\n",
              "      <th>1</th>\n",
              "      <td>-0.498039</td>\n",
              "      <td>64</td>\n",
              "      <td>6589548036</td>\n",
              "      <td>Asian American and Pacific Islander hate: Grap...</td>\n",
              "      <td>The U.S. has seen a disturbing surge in hate i...</td>\n",
              "      <td>abcnews.go.com</td>\n",
              "      <td>ABC News</td>\n",
              "      <td>171</td>\n",
              "      <td>615</td>\n",
              "      <td>150359</td>\n",
              "      <td>True</td>\n",
              "      <td>2021-06-03</td>\n",
              "      <td>United States</td>\n",
              "      <td>13</td>\n",
              "      <td>156</td>\n",
              "      <td>355101</td>\n",
              "      <td>/news-source/abc-news-media-bias</td>\n",
              "      <td>Lean Left</td>\n",
              "      <td>0</td>\n",
              "      <td>[\"Asian\", \"American\", \"and\", \"Pacific\", \"Islan...</td>\n",
              "      <td>[\"The\", \"U.S.\", \"has\", \"seen\", \"a\", \"disturbin...</td>\n",
              "      <td>1</td>\n",
              "      <td>2</td>\n",
              "      <td>0</td>\n",
              "      <td>1</td>\n",
              "      <td>4</td>\n",
              "      <td>1</td>\n",
              "      <td>1</td>\n",
              "      <td>0</td>\n",
              "      <td>0</td>\n",
              "      <td>0</td>\n",
              "      <td>0</td>\n",
              "      <td>0</td>\n",
              "      <td>0</td>\n",
              "      <td>0</td>\n",
              "      <td>0</td>\n",
              "      <td>0</td>\n",
              "      <td>0</td>\n",
              "      <td>0</td>\n",
              "      <td>0</td>\n",
              "      <td>...</td>\n",
              "      <td>0.0</td>\n",
              "      <td>0.0</td>\n",
              "      <td>0.0</td>\n",
              "      <td>0.0</td>\n",
              "      <td>0.0</td>\n",
              "      <td>0.0</td>\n",
              "      <td>0.0</td>\n",
              "      <td>0.0</td>\n",
              "      <td>0.0</td>\n",
              "      <td>0.0</td>\n",
              "      <td>0.0</td>\n",
              "      <td>0.0</td>\n",
              "      <td>0.0</td>\n",
              "      <td>0.0</td>\n",
              "      <td>0.0</td>\n",
              "      <td>0.0</td>\n",
              "      <td>0.0</td>\n",
              "      <td>0.0</td>\n",
              "      <td>0.0</td>\n",
              "      <td>0.0</td>\n",
              "      <td>left</td>\n",
              "      <td>-0.9833</td>\n",
              "      <td>-0.7184</td>\n",
              "      <td>0.201</td>\n",
              "      <td>0.375</td>\n",
              "      <td>0.778</td>\n",
              "      <td>0.625</td>\n",
              "      <td>0.021</td>\n",
              "      <td>0.0</td>\n",
              "      <td>0</td>\n",
              "      <td>0</td>\n",
              "      <td>0.0</td>\n",
              "      <td>0.000000</td>\n",
              "      <td>[\"asian\", \"american\", \"pacif\", \"island\", \"hate...</td>\n",
              "      <td>[\"JJ\", \"NN\", \"NN\", \"NN\", \"NN\", \"NN\", \"VB\", \"NN...</td>\n",
              "      <td>[\"the\", \"u.s.\", \"seen\", \"disturb\", \"surg\", \"ha...</td>\n",
              "      <td>[\"DT\", \"NN\", \"VB\", \"VB\", \"NN\", \"JJ\", \"NN\", \"JJ...</td>\n",
              "      <td>[{\"uri\": \"dmoz/Society/Issues\", \"label\": \"dmoz...</td>\n",
              "      <td>[{\"uri\": \"http://en.wikipedia.org/wiki/United_...</td>\n",
              "      <td>1</td>\n",
              "    </tr>\n",
              "    <tr>\n",
              "      <th>2</th>\n",
              "      <td>0.003922</td>\n",
              "      <td>118</td>\n",
              "      <td>6578408470</td>\n",
              "      <td>AP-NORC poll: More Americans believe anti-Asia...</td>\n",
              "      <td>WASHINGTON -- A majority of Americans across r...</td>\n",
              "      <td>abcnews.go.com</td>\n",
              "      <td>ABC News</td>\n",
              "      <td>171</td>\n",
              "      <td>615</td>\n",
              "      <td>150359</td>\n",
              "      <td>True</td>\n",
              "      <td>2021-05-26</td>\n",
              "      <td>Washington (state)</td>\n",
              "      <td>9</td>\n",
              "      <td>1091</td>\n",
              "      <td>355101</td>\n",
              "      <td>/news-source/abc-news-media-bias</td>\n",
              "      <td>Lean Left</td>\n",
              "      <td>0</td>\n",
              "      <td>[\"AP-NORC\", \"poll\", \":\", \"More\", \"Americans\", ...</td>\n",
              "      <td>[\"WASHINGTON\", \"--\", \"A\", \"majority\", \"of\", \"A...</td>\n",
              "      <td>2</td>\n",
              "      <td>1</td>\n",
              "      <td>1</td>\n",
              "      <td>3</td>\n",
              "      <td>0</td>\n",
              "      <td>1</td>\n",
              "      <td>0</td>\n",
              "      <td>1</td>\n",
              "      <td>0</td>\n",
              "      <td>0</td>\n",
              "      <td>0</td>\n",
              "      <td>0</td>\n",
              "      <td>0</td>\n",
              "      <td>0</td>\n",
              "      <td>0</td>\n",
              "      <td>0</td>\n",
              "      <td>0</td>\n",
              "      <td>0</td>\n",
              "      <td>0</td>\n",
              "      <td>...</td>\n",
              "      <td>0.0</td>\n",
              "      <td>0.0</td>\n",
              "      <td>0.0</td>\n",
              "      <td>0.0</td>\n",
              "      <td>0.0</td>\n",
              "      <td>0.0</td>\n",
              "      <td>0.0</td>\n",
              "      <td>0.0</td>\n",
              "      <td>0.0</td>\n",
              "      <td>0.0</td>\n",
              "      <td>0.0</td>\n",
              "      <td>0.0</td>\n",
              "      <td>0.0</td>\n",
              "      <td>0.0</td>\n",
              "      <td>0.0</td>\n",
              "      <td>0.0</td>\n",
              "      <td>0.0</td>\n",
              "      <td>0.0</td>\n",
              "      <td>0.0</td>\n",
              "      <td>0.0</td>\n",
              "      <td>left</td>\n",
              "      <td>-0.9982</td>\n",
              "      <td>-0.5719</td>\n",
              "      <td>0.141</td>\n",
              "      <td>0.346</td>\n",
              "      <td>0.795</td>\n",
              "      <td>0.654</td>\n",
              "      <td>0.065</td>\n",
              "      <td>0.0</td>\n",
              "      <td>0</td>\n",
              "      <td>91</td>\n",
              "      <td>0.0</td>\n",
              "      <td>0.083410</td>\n",
              "      <td>[\"ap-norc\", \"poll\", \"more\", \"american\", \"belie...</td>\n",
              "      <td>[\"JJ\", \"NN\", \"JJ\", \"NN\", \"VB\", \"JJ\", \"NN\", \"NN\"]</td>\n",
              "      <td>[\"washington\", \"A\", \"major\", \"american\", \"acro...</td>\n",
              "      <td>[\"NN\", \"DT\", \"NN\", \"NN\", \"IN\", \"JJ\", \"JJ\", \"NN...</td>\n",
              "      <td>[{\"uri\": \"news/Politics\", \"label\": \"news/Polit...</td>\n",
              "      <td>[{\"uri\": \"http://en.wikipedia.org/wiki/Asian_A...</td>\n",
              "      <td>1</td>\n",
              "    </tr>\n",
              "    <tr>\n",
              "      <th>3</th>\n",
              "      <td>-0.325490</td>\n",
              "      <td>39</td>\n",
              "      <td>6573140750</td>\n",
              "      <td>Floyd legislation reveals divide in police-ref...</td>\n",
              "      <td>NEW YORK -- Monifa Bandele became a community ...</td>\n",
              "      <td>abcnews.go.com</td>\n",
              "      <td>ABC News</td>\n",
              "      <td>171</td>\n",
              "      <td>615</td>\n",
              "      <td>150359</td>\n",
              "      <td>True</td>\n",
              "      <td>2021-05-22</td>\n",
              "      <td>New York City</td>\n",
              "      <td>7</td>\n",
              "      <td>1409</td>\n",
              "      <td>355101</td>\n",
              "      <td>/news-source/abc-news-media-bias</td>\n",
              "      <td>Lean Left</td>\n",
              "      <td>0</td>\n",
              "      <td>[\"Floyd\", \"legislation\", \"reveals\", \"divide\", ...</td>\n",
              "      <td>[\"NEW\", \"YORK\", \"--\", \"Monifa\", \"Bandele\", \"be...</td>\n",
              "      <td>1</td>\n",
              "      <td>1</td>\n",
              "      <td>1</td>\n",
              "      <td>2</td>\n",
              "      <td>1</td>\n",
              "      <td>0</td>\n",
              "      <td>0</td>\n",
              "      <td>0</td>\n",
              "      <td>0</td>\n",
              "      <td>0</td>\n",
              "      <td>0</td>\n",
              "      <td>0</td>\n",
              "      <td>0</td>\n",
              "      <td>0</td>\n",
              "      <td>0</td>\n",
              "      <td>0</td>\n",
              "      <td>0</td>\n",
              "      <td>0</td>\n",
              "      <td>0</td>\n",
              "      <td>...</td>\n",
              "      <td>0.0</td>\n",
              "      <td>0.0</td>\n",
              "      <td>0.0</td>\n",
              "      <td>0.0</td>\n",
              "      <td>0.0</td>\n",
              "      <td>0.0</td>\n",
              "      <td>0.0</td>\n",
              "      <td>0.0</td>\n",
              "      <td>0.0</td>\n",
              "      <td>0.0</td>\n",
              "      <td>0.0</td>\n",
              "      <td>0.0</td>\n",
              "      <td>0.0</td>\n",
              "      <td>0.0</td>\n",
              "      <td>0.0</td>\n",
              "      <td>0.0</td>\n",
              "      <td>0.0</td>\n",
              "      <td>0.0</td>\n",
              "      <td>0.0</td>\n",
              "      <td>0.0</td>\n",
              "      <td>left</td>\n",
              "      <td>0.9601</td>\n",
              "      <td>0.0000</td>\n",
              "      <td>0.073</td>\n",
              "      <td>0.000</td>\n",
              "      <td>0.838</td>\n",
              "      <td>1.000</td>\n",
              "      <td>0.089</td>\n",
              "      <td>0.0</td>\n",
              "      <td>0</td>\n",
              "      <td>94</td>\n",
              "      <td>0.0</td>\n",
              "      <td>0.066714</td>\n",
              "      <td>[\"floyd\", \"legisl\", \"reveal\", \"divid\", \"police...</td>\n",
              "      <td>[\"NN\", \"NN\", \"NN\", \"VB\", \"JJ\", \"NN\"]</td>\n",
              "      <td>[\"new\", \"york\", \"monifa\", \"bandel\", \"becam\", \"...</td>\n",
              "      <td>[\"NN\", \"NN\", \"NN\", \"NN\", \"VB\", \"NN\", \"NN\", \"JJ...</td>\n",
              "      <td>[{\"uri\": \"dmoz/Society/Issues/Crime_and_Justic...</td>\n",
              "      <td>[{\"uri\": \"http://en.wikipedia.org/wiki/George_...</td>\n",
              "      <td>1</td>\n",
              "    </tr>\n",
              "    <tr>\n",
              "      <th>4</th>\n",
              "      <td>-0.152941</td>\n",
              "      <td>15</td>\n",
              "      <td>6571115219</td>\n",
              "      <td>Police say antisemitic attacks in Los Angeles ...</td>\n",
              "      <td>LOS ANGELES -- Los Angeles police are investig...</td>\n",
              "      <td>abcnews.go.com</td>\n",
              "      <td>ABC News</td>\n",
              "      <td>171</td>\n",
              "      <td>615</td>\n",
              "      <td>150359</td>\n",
              "      <td>True</td>\n",
              "      <td>2021-05-21</td>\n",
              "      <td>Los Angeles</td>\n",
              "      <td>10</td>\n",
              "      <td>612</td>\n",
              "      <td>355101</td>\n",
              "      <td>/news-source/abc-news-media-bias</td>\n",
              "      <td>Lean Left</td>\n",
              "      <td>0</td>\n",
              "      <td>[\"Police\", \"say\", \"antisemitic\", \"attacks\", \"i...</td>\n",
              "      <td>[\"LOS\", \"ANGELES\", \"--\", \"Los\", \"Angeles\", \"po...</td>\n",
              "      <td>1</td>\n",
              "      <td>2</td>\n",
              "      <td>1</td>\n",
              "      <td>0</td>\n",
              "      <td>2</td>\n",
              "      <td>0</td>\n",
              "      <td>0</td>\n",
              "      <td>0</td>\n",
              "      <td>1</td>\n",
              "      <td>1</td>\n",
              "      <td>0</td>\n",
              "      <td>0</td>\n",
              "      <td>0</td>\n",
              "      <td>0</td>\n",
              "      <td>0</td>\n",
              "      <td>0</td>\n",
              "      <td>0</td>\n",
              "      <td>0</td>\n",
              "      <td>0</td>\n",
              "      <td>...</td>\n",
              "      <td>0.0</td>\n",
              "      <td>0.0</td>\n",
              "      <td>0.0</td>\n",
              "      <td>0.0</td>\n",
              "      <td>0.0</td>\n",
              "      <td>0.0</td>\n",
              "      <td>0.0</td>\n",
              "      <td>0.0</td>\n",
              "      <td>0.0</td>\n",
              "      <td>0.0</td>\n",
              "      <td>0.0</td>\n",
              "      <td>0.0</td>\n",
              "      <td>0.0</td>\n",
              "      <td>0.0</td>\n",
              "      <td>0.0</td>\n",
              "      <td>0.0</td>\n",
              "      <td>0.0</td>\n",
              "      <td>0.0</td>\n",
              "      <td>0.0</td>\n",
              "      <td>0.0</td>\n",
              "      <td>left</td>\n",
              "      <td>-0.9868</td>\n",
              "      <td>-0.4404</td>\n",
              "      <td>0.117</td>\n",
              "      <td>0.244</td>\n",
              "      <td>0.814</td>\n",
              "      <td>0.756</td>\n",
              "      <td>0.068</td>\n",
              "      <td>0.0</td>\n",
              "      <td>0</td>\n",
              "      <td>44</td>\n",
              "      <td>0.0</td>\n",
              "      <td>0.071895</td>\n",
              "      <td>[\"polic\", \"say\", \"antisemit\", \"attack\", \"lo\", ...</td>\n",
              "      <td>[\"NN\", \"VB\", \"JJ\", \"NN\", \"NN\", \"NN\", \"MD\", \"VB\"]</td>\n",
              "      <td>[\"lo\", \"angel\", \"lo\", \"angel\", \"polic\", \"inves...</td>\n",
              "      <td>[\"NN\", \"NN\", \"NN\", \"NN\", \"NN\", \"VB\", \"JJ\", \"NN...</td>\n",
              "      <td>[{\"uri\": \"dmoz/Society/Crime\", \"label\": \"dmoz/...</td>\n",
              "      <td>[{\"uri\": \"http://en.wikipedia.org/wiki/Los_Ang...</td>\n",
              "      <td>1</td>\n",
              "    </tr>\n",
              "  </tbody>\n",
              "</table>\n",
              "<p>5 rows × 205 columns</p>\n",
              "</div>"
            ],
            "text/plain": [
              "   sentiment  relevance  ...                                           concepts y_\n",
              "0  -0.168627         38  ...  [{\"uri\": \"http://en.wikipedia.org/wiki/Black_c...  1\n",
              "1  -0.498039         64  ...  [{\"uri\": \"http://en.wikipedia.org/wiki/United_...  1\n",
              "2   0.003922        118  ...  [{\"uri\": \"http://en.wikipedia.org/wiki/Asian_A...  1\n",
              "3  -0.325490         39  ...  [{\"uri\": \"http://en.wikipedia.org/wiki/George_...  1\n",
              "4  -0.152941         15  ...  [{\"uri\": \"http://en.wikipedia.org/wiki/Los_Ang...  1\n",
              "\n",
              "[5 rows x 205 columns]"
            ]
          },
          "metadata": {
            "tags": []
          },
          "execution_count": 88
        }
      ]
    },
    {
      "cell_type": "code",
      "metadata": {
        "colab": {
          "base_uri": "https://localhost:8080/",
          "height": 746
        },
        "id": "L6w7lGV_PbO6",
        "outputId": "184a707b-8b50-4d84-9484-d9b0579745b3"
      },
      "source": [
        "con_wide_df = control_df[control_df['source_position'] != 'Center'].copy()\n",
        "con_wide_df['y_'] = np.where(con_wide_df['source_position'].isin([\"Left\", \"Lean Left\"]), 1, 0)\n",
        "con_wide_df.head()"
      ],
      "execution_count": 89,
      "outputs": [
        {
          "output_type": "execute_result",
          "data": {
            "text/html": [
              "<div>\n",
              "<style scoped>\n",
              "    .dataframe tbody tr th:only-of-type {\n",
              "        vertical-align: middle;\n",
              "    }\n",
              "\n",
              "    .dataframe tbody tr th {\n",
              "        vertical-align: top;\n",
              "    }\n",
              "\n",
              "    .dataframe thead th {\n",
              "        text-align: right;\n",
              "    }\n",
              "</style>\n",
              "<table border=\"1\" class=\"dataframe\">\n",
              "  <thead>\n",
              "    <tr style=\"text-align: right;\">\n",
              "      <th></th>\n",
              "      <th>sentiment</th>\n",
              "      <th>relevance</th>\n",
              "      <th>uri</th>\n",
              "      <th>title</th>\n",
              "      <th>body</th>\n",
              "      <th>source_uri</th>\n",
              "      <th>source_name</th>\n",
              "      <th>source_alexaCountryRank</th>\n",
              "      <th>source_alexaGlobalRank</th>\n",
              "      <th>source_importanceRank</th>\n",
              "      <th>source_valid_location</th>\n",
              "      <th>date</th>\n",
              "      <th>json_data</th>\n",
              "      <th>title_length</th>\n",
              "      <th>body_length</th>\n",
              "      <th>source_score</th>\n",
              "      <th>source_link</th>\n",
              "      <th>source_position</th>\n",
              "      <th>source_pos_int</th>\n",
              "      <th>title_doc</th>\n",
              "      <th>body_doc</th>\n",
              "      <th>title_NNP</th>\n",
              "      <th>title_VBZ</th>\n",
              "      <th>title_NNS</th>\n",
              "      <th>title_MD</th>\n",
              "      <th>title_VB</th>\n",
              "      <th>title_NN</th>\n",
              "      <th>title_VBP</th>\n",
              "      <th>title_$</th>\n",
              "      <th>title_CD</th>\n",
              "      <th>title_VBD</th>\n",
              "      <th>title_:</th>\n",
              "      <th>title_VBG</th>\n",
              "      <th>title_JJ</th>\n",
              "      <th>title_,</th>\n",
              "      <th>title_''</th>\n",
              "      <th>title_RB</th>\n",
              "      <th>title_IN</th>\n",
              "      <th>title_POS</th>\n",
              "      <th>title_``</th>\n",
              "      <th>...</th>\n",
              "      <th>title_DT_per_word</th>\n",
              "      <th>title_CD_per_word</th>\n",
              "      <th>title_WRB_per_word</th>\n",
              "      <th>title_RB_per_word</th>\n",
              "      <th>title_PRP_per_word</th>\n",
              "      <th>title_PRP$_per_word</th>\n",
              "      <th>title_RP_per_word</th>\n",
              "      <th>title_PDT_per_word</th>\n",
              "      <th>title_TO_per_word</th>\n",
              "      <th>title_``_per_word</th>\n",
              "      <th>title_FW_per_word</th>\n",
              "      <th>title_CC_per_word</th>\n",
              "      <th>title_._per_word</th>\n",
              "      <th>title_WP_per_word</th>\n",
              "      <th>title_JJS_per_word</th>\n",
              "      <th>title_(_per_word</th>\n",
              "      <th>title_)_per_word</th>\n",
              "      <th>title_$_per_word</th>\n",
              "      <th>title_UH_per_word</th>\n",
              "      <th>title_RBS_per_word</th>\n",
              "      <th>position_adjusted</th>\n",
              "      <th>nltk_body_sentiment_compound</th>\n",
              "      <th>nltk_title_sentiment_compound</th>\n",
              "      <th>nltk_body_sentiment_neg</th>\n",
              "      <th>nltk_title_sentiment_neg</th>\n",
              "      <th>nltk_body_sentiment_neu</th>\n",
              "      <th>nltk_title_sentiment_neu</th>\n",
              "      <th>nltk_body_sentiment_pos</th>\n",
              "      <th>nltk_title_sentiment_pos</th>\n",
              "      <th>title_negation</th>\n",
              "      <th>body_negation</th>\n",
              "      <th>title_negation_per_word</th>\n",
              "      <th>body_negation_per_word</th>\n",
              "      <th>title_stem</th>\n",
              "      <th>title_stem_pos</th>\n",
              "      <th>body_stem</th>\n",
              "      <th>body_stem_pos</th>\n",
              "      <th>categories</th>\n",
              "      <th>concepts</th>\n",
              "      <th>y_</th>\n",
              "    </tr>\n",
              "  </thead>\n",
              "  <tbody>\n",
              "    <tr>\n",
              "      <th>500</th>\n",
              "      <td>0.011765</td>\n",
              "      <td>6</td>\n",
              "      <td>6498699517</td>\n",
              "      <td>Who Are the Jurors in the Derek Chauvin Trial?</td>\n",
              "      <td>MINNEAPOLIS -- A white intensive care nurse wh...</td>\n",
              "      <td>nytimes.com</td>\n",
              "      <td>The New York Times</td>\n",
              "      <td>30</td>\n",
              "      <td>90</td>\n",
              "      <td>7746</td>\n",
              "      <td>True</td>\n",
              "      <td>2021-03-30</td>\n",
              "      <td>{\"uri\": \"6498699517\", \"lang\": \"eng\", \"isDuplic...</td>\n",
              "      <td>10</td>\n",
              "      <td>1686</td>\n",
              "      <td>325384</td>\n",
              "      <td>/news-source/new-york-times</td>\n",
              "      <td>Lean Left</td>\n",
              "      <td>1</td>\n",
              "      <td>[\"Who\", \"Are\", \"the\", \"Jurors\", \"in\", \"the\", \"...</td>\n",
              "      <td>[\"MINNEAPOLIS\", \"--\", \"A\", \"white\", \"intensive...</td>\n",
              "      <td>3</td>\n",
              "      <td>0</td>\n",
              "      <td>1</td>\n",
              "      <td>0</td>\n",
              "      <td>0</td>\n",
              "      <td>0</td>\n",
              "      <td>1</td>\n",
              "      <td>0</td>\n",
              "      <td>0</td>\n",
              "      <td>0</td>\n",
              "      <td>0</td>\n",
              "      <td>0</td>\n",
              "      <td>0</td>\n",
              "      <td>0</td>\n",
              "      <td>0</td>\n",
              "      <td>0</td>\n",
              "      <td>0</td>\n",
              "      <td>0</td>\n",
              "      <td>0</td>\n",
              "      <td>...</td>\n",
              "      <td>0.0</td>\n",
              "      <td>0.0</td>\n",
              "      <td>0.000000</td>\n",
              "      <td>0.000000</td>\n",
              "      <td>0.0</td>\n",
              "      <td>0.0</td>\n",
              "      <td>0.0</td>\n",
              "      <td>0.0</td>\n",
              "      <td>0.0</td>\n",
              "      <td>0.0</td>\n",
              "      <td>0.0</td>\n",
              "      <td>0.0</td>\n",
              "      <td>0.1</td>\n",
              "      <td>0.1</td>\n",
              "      <td>0.0</td>\n",
              "      <td>0.0</td>\n",
              "      <td>0.0</td>\n",
              "      <td>0.0</td>\n",
              "      <td>0.0</td>\n",
              "      <td>0.0</td>\n",
              "      <td>left</td>\n",
              "      <td>-0.9992</td>\n",
              "      <td>0.0000</td>\n",
              "      <td>0.130</td>\n",
              "      <td>0.00</td>\n",
              "      <td>0.819</td>\n",
              "      <td>1.00</td>\n",
              "      <td>0.051</td>\n",
              "      <td>0.0</td>\n",
              "      <td>0</td>\n",
              "      <td>160</td>\n",
              "      <td>0.000000</td>\n",
              "      <td>0.094899</td>\n",
              "      <td>[\"who\", \"are\", \"juror\", \"derek\", \"chauvin\", \"t...</td>\n",
              "      <td>[\"WP\", \"VB\", \"NN\", \"NN\", \"NN\", \"NN\"]</td>\n",
              "      <td>[\"minneapoli\", \"A\", \"white\", \"intens\", \"care\",...</td>\n",
              "      <td>[\"NN\", \"NN\", \"JJ\", \"JJ\", \"NN\", \"NN\", \"VB\", \"VB...</td>\n",
              "      <td>[{\"uri\": \"news/Arts_and_Entertainment\", \"label...</td>\n",
              "      <td>[{\"uri\": \"http://en.wikipedia.org/wiki/Jury\", ...</td>\n",
              "      <td>1</td>\n",
              "    </tr>\n",
              "    <tr>\n",
              "      <th>501</th>\n",
              "      <td>-0.184314</td>\n",
              "      <td>5</td>\n",
              "      <td>6551179774</td>\n",
              "      <td>Keisha Lance Bottoms Won't Seek Second Term as...</td>\n",
              "      <td>ATLANTA -- Keisha Lance Bottoms, the first-ter...</td>\n",
              "      <td>nytimes.com</td>\n",
              "      <td>The New York Times</td>\n",
              "      <td>30</td>\n",
              "      <td>90</td>\n",
              "      <td>7746</td>\n",
              "      <td>True</td>\n",
              "      <td>2021-05-07</td>\n",
              "      <td>{\"uri\": \"6551179774\", \"lang\": \"eng\", \"isDuplic...</td>\n",
              "      <td>11</td>\n",
              "      <td>523</td>\n",
              "      <td>325384</td>\n",
              "      <td>/news-source/new-york-times</td>\n",
              "      <td>Lean Left</td>\n",
              "      <td>1</td>\n",
              "      <td>[\"Keisha\", \"Lance\", \"Bottoms\", \"Wo\", \"n't\", \"S...</td>\n",
              "      <td>[\"ATLANTA\", \"--\", \"Keisha\", \"Lance\", \"Bottoms\"...</td>\n",
              "      <td>8</td>\n",
              "      <td>0</td>\n",
              "      <td>0</td>\n",
              "      <td>0</td>\n",
              "      <td>0</td>\n",
              "      <td>0</td>\n",
              "      <td>0</td>\n",
              "      <td>0</td>\n",
              "      <td>0</td>\n",
              "      <td>0</td>\n",
              "      <td>0</td>\n",
              "      <td>0</td>\n",
              "      <td>1</td>\n",
              "      <td>0</td>\n",
              "      <td>0</td>\n",
              "      <td>1</td>\n",
              "      <td>0</td>\n",
              "      <td>0</td>\n",
              "      <td>0</td>\n",
              "      <td>...</td>\n",
              "      <td>0.0</td>\n",
              "      <td>0.0</td>\n",
              "      <td>0.000000</td>\n",
              "      <td>0.090909</td>\n",
              "      <td>0.0</td>\n",
              "      <td>0.0</td>\n",
              "      <td>0.0</td>\n",
              "      <td>0.0</td>\n",
              "      <td>0.0</td>\n",
              "      <td>0.0</td>\n",
              "      <td>0.0</td>\n",
              "      <td>0.0</td>\n",
              "      <td>0.0</td>\n",
              "      <td>0.0</td>\n",
              "      <td>0.0</td>\n",
              "      <td>0.0</td>\n",
              "      <td>0.0</td>\n",
              "      <td>0.0</td>\n",
              "      <td>0.0</td>\n",
              "      <td>0.0</td>\n",
              "      <td>left</td>\n",
              "      <td>-0.9746</td>\n",
              "      <td>0.0000</td>\n",
              "      <td>0.129</td>\n",
              "      <td>0.00</td>\n",
              "      <td>0.781</td>\n",
              "      <td>1.00</td>\n",
              "      <td>0.089</td>\n",
              "      <td>0.0</td>\n",
              "      <td>6</td>\n",
              "      <td>42</td>\n",
              "      <td>0.545455</td>\n",
              "      <td>0.080306</td>\n",
              "      <td>[\"keisha\", \"lanc\", \"bottom\", \"Wo\", \"n't\", \"see...</td>\n",
              "      <td>[\"NN\", \"NN\", \"NN\", \"NN\", \"RB\", \"NN\", \"JJ\", \"NN...</td>\n",
              "      <td>[\"atlanta\", \"keisha\", \"lanc\", \"bottom\", \"first...</td>\n",
              "      <td>[\"NN\", \"NN\", \"NN\", \"NN\", \"JJ\", \"NN\", \"NN\", \"VB...</td>\n",
              "      <td>[{\"uri\": \"news/Politics\", \"label\": \"news/Polit...</td>\n",
              "      <td>[{\"uri\": \"http://en.wikipedia.org/wiki/Keisha_...</td>\n",
              "      <td>1</td>\n",
              "    </tr>\n",
              "    <tr>\n",
              "      <th>502</th>\n",
              "      <td>-0.066667</td>\n",
              "      <td>5</td>\n",
              "      <td>6169235469</td>\n",
              "      <td>White House-USAID liaison fired after series o...</td>\n",
              "      <td>WASHINGTON -- Deputy White House Liaison to th...</td>\n",
              "      <td>nbcnews.com</td>\n",
              "      <td>NBC News</td>\n",
              "      <td>221</td>\n",
              "      <td>759</td>\n",
              "      <td>154140</td>\n",
              "      <td>True</td>\n",
              "      <td>2020-08-03</td>\n",
              "      <td>{\"uri\": \"6169235469\", \"lang\": \"eng\", \"isDuplic...</td>\n",
              "      <td>9</td>\n",
              "      <td>298</td>\n",
              "      <td>113020</td>\n",
              "      <td>/news-source/nbc-news-media-bias</td>\n",
              "      <td>Lean Left</td>\n",
              "      <td>1</td>\n",
              "      <td>[\"White\", \"House-USAID\", \"liaison\", \"fired\", \"...</td>\n",
              "      <td>[\"WASHINGTON\", \"--\", \"Deputy\", \"White\", \"House...</td>\n",
              "      <td>2</td>\n",
              "      <td>0</td>\n",
              "      <td>1</td>\n",
              "      <td>0</td>\n",
              "      <td>0</td>\n",
              "      <td>2</td>\n",
              "      <td>0</td>\n",
              "      <td>0</td>\n",
              "      <td>0</td>\n",
              "      <td>1</td>\n",
              "      <td>0</td>\n",
              "      <td>0</td>\n",
              "      <td>1</td>\n",
              "      <td>0</td>\n",
              "      <td>0</td>\n",
              "      <td>0</td>\n",
              "      <td>0</td>\n",
              "      <td>0</td>\n",
              "      <td>0</td>\n",
              "      <td>...</td>\n",
              "      <td>0.0</td>\n",
              "      <td>0.0</td>\n",
              "      <td>0.000000</td>\n",
              "      <td>0.000000</td>\n",
              "      <td>0.0</td>\n",
              "      <td>0.0</td>\n",
              "      <td>0.0</td>\n",
              "      <td>0.0</td>\n",
              "      <td>0.0</td>\n",
              "      <td>0.0</td>\n",
              "      <td>0.0</td>\n",
              "      <td>0.0</td>\n",
              "      <td>0.0</td>\n",
              "      <td>0.0</td>\n",
              "      <td>0.0</td>\n",
              "      <td>0.0</td>\n",
              "      <td>0.0</td>\n",
              "      <td>0.0</td>\n",
              "      <td>0.0</td>\n",
              "      <td>0.0</td>\n",
              "      <td>left</td>\n",
              "      <td>-0.2732</td>\n",
              "      <td>-0.5574</td>\n",
              "      <td>0.110</td>\n",
              "      <td>0.31</td>\n",
              "      <td>0.799</td>\n",
              "      <td>0.69</td>\n",
              "      <td>0.091</td>\n",
              "      <td>0.0</td>\n",
              "      <td>0</td>\n",
              "      <td>52</td>\n",
              "      <td>0.000000</td>\n",
              "      <td>0.174497</td>\n",
              "      <td>[\"white\", \"house-usaid\", \"liaison\", \"fire\", \"s...</td>\n",
              "      <td>[\"NN\", \"NN\", \"NN\", \"VB\", \"NN\", \"JJ\", \"NN\"]</td>\n",
              "      <td>[\"washington\", \"deputi\", \"white\", \"hous\", \"lia...</td>\n",
              "      <td>[\"NN\", \"NN\", \"NN\", \"NN\", \"NN\", \"NN\", \"NN\", \"NN...</td>\n",
              "      <td>[{\"uri\": \"news/Politics\", \"label\": \"news/Polit...</td>\n",
              "      <td>[{\"uri\": \"http://en.wikipedia.org/wiki/United_...</td>\n",
              "      <td>1</td>\n",
              "    </tr>\n",
              "    <tr>\n",
              "      <th>503</th>\n",
              "      <td>0.286275</td>\n",
              "      <td>7</td>\n",
              "      <td>6277127744</td>\n",
              "      <td>In Nashville the reasons vary, the candidate o...</td>\n",
              "      <td>NASHVILLE, Tenn. -- Marcus Henderson, an entre...</td>\n",
              "      <td>nbcnews.com</td>\n",
              "      <td>NBC News</td>\n",
              "      <td>221</td>\n",
              "      <td>759</td>\n",
              "      <td>154140</td>\n",
              "      <td>True</td>\n",
              "      <td>2020-10-31</td>\n",
              "      <td>{\"uri\": \"6277127744\", \"lang\": \"eng\", \"isDuplic...</td>\n",
              "      <td>12</td>\n",
              "      <td>2656</td>\n",
              "      <td>113020</td>\n",
              "      <td>/news-source/nbc-news-media-bias</td>\n",
              "      <td>Lean Left</td>\n",
              "      <td>1</td>\n",
              "      <td>[\"In\", \"Nashville\", \"the\", \"reasons\", \"vary\", ...</td>\n",
              "      <td>[\"NASHVILLE\", \",\", \"Tenn.\", \"--\", \"Marcus\", \"H...</td>\n",
              "      <td>1</td>\n",
              "      <td>0</td>\n",
              "      <td>1</td>\n",
              "      <td>0</td>\n",
              "      <td>0</td>\n",
              "      <td>2</td>\n",
              "      <td>1</td>\n",
              "      <td>0</td>\n",
              "      <td>0</td>\n",
              "      <td>0</td>\n",
              "      <td>0</td>\n",
              "      <td>0</td>\n",
              "      <td>0</td>\n",
              "      <td>1</td>\n",
              "      <td>0</td>\n",
              "      <td>1</td>\n",
              "      <td>1</td>\n",
              "      <td>0</td>\n",
              "      <td>0</td>\n",
              "      <td>...</td>\n",
              "      <td>0.0</td>\n",
              "      <td>0.0</td>\n",
              "      <td>0.000000</td>\n",
              "      <td>0.083333</td>\n",
              "      <td>0.0</td>\n",
              "      <td>0.0</td>\n",
              "      <td>0.0</td>\n",
              "      <td>0.0</td>\n",
              "      <td>0.0</td>\n",
              "      <td>0.0</td>\n",
              "      <td>0.0</td>\n",
              "      <td>0.0</td>\n",
              "      <td>0.0</td>\n",
              "      <td>0.0</td>\n",
              "      <td>0.0</td>\n",
              "      <td>0.0</td>\n",
              "      <td>0.0</td>\n",
              "      <td>0.0</td>\n",
              "      <td>0.0</td>\n",
              "      <td>0.0</td>\n",
              "      <td>left</td>\n",
              "      <td>0.9962</td>\n",
              "      <td>0.0000</td>\n",
              "      <td>0.047</td>\n",
              "      <td>0.00</td>\n",
              "      <td>0.875</td>\n",
              "      <td>1.00</td>\n",
              "      <td>0.078</td>\n",
              "      <td>0.0</td>\n",
              "      <td>0</td>\n",
              "      <td>200</td>\n",
              "      <td>0.000000</td>\n",
              "      <td>0.075301</td>\n",
              "      <td>[\"In\", \"nashvil\", \"reason\", \"vari\", \"candid\", ...</td>\n",
              "      <td>[\"IN\", \"NN\", \"NN\", \"VB\", \"NN\", \"NN\", \"RB\"]</td>\n",
              "      <td>[\"nashvil\", \"tenn.\", \"marcu\", \"henderson\", \"en...</td>\n",
              "      <td>[\"NN\", \"NN\", \"NN\", \"NN\", \"NN\", \"VB\", \"NN\", \"NN...</td>\n",
              "      <td>[{\"uri\": \"news/Politics\", \"label\": \"news/Polit...</td>\n",
              "      <td>[{\"uri\": \"http://en.wikipedia.org/wiki/East_Na...</td>\n",
              "      <td>1</td>\n",
              "    </tr>\n",
              "    <tr>\n",
              "      <th>504</th>\n",
              "      <td>-0.113725</td>\n",
              "      <td>6</td>\n",
              "      <td>6205746602</td>\n",
              "      <td>Kentucky Derby: Why Black residents say the ra...</td>\n",
              "      <td>LOUISVILLE, Ky. -- The Kentucky Derby was alwa...</td>\n",
              "      <td>courier-journal.com</td>\n",
              "      <td>The Courier-Journal</td>\n",
              "      <td>7730</td>\n",
              "      <td>27457</td>\n",
              "      <td>291351</td>\n",
              "      <td>True</td>\n",
              "      <td>2020-09-04</td>\n",
              "      <td>{\"uri\": \"6205746602\", \"lang\": \"eng\", \"isDuplic...</td>\n",
              "      <td>14</td>\n",
              "      <td>1367</td>\n",
              "      <td>25500</td>\n",
              "      <td>/news-source/courier-journal</td>\n",
              "      <td>Lean Left</td>\n",
              "      <td>1</td>\n",
              "      <td>[\"Kentucky\", \"Derby\", \":\", \"Why\", \"Black\", \"re...</td>\n",
              "      <td>[\"LOUISVILLE\", \",\", \"Ky.\", \"--\", \"The\", \"Kentu...</td>\n",
              "      <td>3</td>\n",
              "      <td>0</td>\n",
              "      <td>1</td>\n",
              "      <td>0</td>\n",
              "      <td>0</td>\n",
              "      <td>3</td>\n",
              "      <td>1</td>\n",
              "      <td>0</td>\n",
              "      <td>0</td>\n",
              "      <td>0</td>\n",
              "      <td>1</td>\n",
              "      <td>0</td>\n",
              "      <td>0</td>\n",
              "      <td>0</td>\n",
              "      <td>0</td>\n",
              "      <td>1</td>\n",
              "      <td>0</td>\n",
              "      <td>0</td>\n",
              "      <td>0</td>\n",
              "      <td>...</td>\n",
              "      <td>0.0</td>\n",
              "      <td>0.0</td>\n",
              "      <td>0.071429</td>\n",
              "      <td>0.071429</td>\n",
              "      <td>0.0</td>\n",
              "      <td>0.0</td>\n",
              "      <td>0.0</td>\n",
              "      <td>0.0</td>\n",
              "      <td>0.0</td>\n",
              "      <td>0.0</td>\n",
              "      <td>0.0</td>\n",
              "      <td>0.0</td>\n",
              "      <td>0.0</td>\n",
              "      <td>0.0</td>\n",
              "      <td>0.0</td>\n",
              "      <td>0.0</td>\n",
              "      <td>0.0</td>\n",
              "      <td>0.0</td>\n",
              "      <td>0.0</td>\n",
              "      <td>0.0</td>\n",
              "      <td>left</td>\n",
              "      <td>0.8390</td>\n",
              "      <td>0.0000</td>\n",
              "      <td>0.065</td>\n",
              "      <td>0.00</td>\n",
              "      <td>0.867</td>\n",
              "      <td>1.00</td>\n",
              "      <td>0.068</td>\n",
              "      <td>0.0</td>\n",
              "      <td>3</td>\n",
              "      <td>131</td>\n",
              "      <td>0.214286</td>\n",
              "      <td>0.095830</td>\n",
              "      <td>[\"kentucki\", \"derbi\", \"whi\", \"black\", \"resid\",...</td>\n",
              "      <td>[\"NN\", \"NN\", \"WR\", \"NN\", \"NN\", \"VB\", \"NN\", \"RB...</td>\n",
              "      <td>[\"louisvil\", \"ky.\", \"the\", \"kentucki\", \"derbi\"...</td>\n",
              "      <td>[\"NN\", \"NN\", \"DT\", \"NN\", \"NN\", \"RB\", \"NN\", \"NN...</td>\n",
              "      <td>[{\"uri\": \"news/Arts_and_Entertainment\", \"label...</td>\n",
              "      <td>[{\"uri\": \"http://en.wikipedia.org/wiki/Churchi...</td>\n",
              "      <td>1</td>\n",
              "    </tr>\n",
              "  </tbody>\n",
              "</table>\n",
              "<p>5 rows × 210 columns</p>\n",
              "</div>"
            ],
            "text/plain": [
              "     sentiment  ...  y_\n",
              "500   0.011765  ...   1\n",
              "501  -0.184314  ...   1\n",
              "502  -0.066667  ...   1\n",
              "503   0.286275  ...   1\n",
              "504  -0.113725  ...   1\n",
              "\n",
              "[5 rows x 210 columns]"
            ]
          },
          "metadata": {
            "tags": []
          },
          "execution_count": 89
        }
      ]
    },
    {
      "cell_type": "markdown",
      "metadata": {
        "id": "CVIOdWeMPmQd"
      },
      "source": [
        "## Data Preprocessing"
      ]
    },
    {
      "cell_type": "code",
      "metadata": {
        "colab": {
          "base_uri": "https://localhost:8080/"
        },
        "id": "wD9xRcMAPhEs",
        "outputId": "952d4358-a179-4c85-b3f4-55c2a0d472cc"
      },
      "source": [
        "# Select all part of speech columns\n",
        "pos_cols = [i for i in con_wide_df.columns.values if i.endswith('per_word')]\n",
        "pos_cols[:5]"
      ],
      "execution_count": 90,
      "outputs": [
        {
          "output_type": "execute_result",
          "data": {
            "text/plain": [
              "['body_NNP_per_word',\n",
              " 'body_,_per_word',\n",
              " 'body_:_per_word',\n",
              " 'body_JJ_per_word',\n",
              " 'body_NNS_per_word']"
            ]
          },
          "metadata": {
            "tags": []
          },
          "execution_count": 90
        }
      ]
    },
    {
      "cell_type": "code",
      "metadata": {
        "colab": {
          "base_uri": "https://localhost:8080/"
        },
        "id": "Rx1D3y72Pq4w",
        "outputId": "9b6d798b-b7b4-4474-b3b7-918d13c09727"
      },
      "source": [
        "# Scale \n",
        "minmax = MinMaxScaler()\n",
        "con_pos_X = minmax.fit_transform(con_wide_df[pos_cols])\n",
        "con_pos_X.shape"
      ],
      "execution_count": 91,
      "outputs": [
        {
          "output_type": "execute_result",
          "data": {
            "text/plain": [
              "(612, 83)"
            ]
          },
          "metadata": {
            "tags": []
          },
          "execution_count": 91
        }
      ]
    },
    {
      "cell_type": "code",
      "metadata": {
        "colab": {
          "base_uri": "https://localhost:8080/"
        },
        "id": "NJwFxbJePxTM",
        "outputId": "f052ddbc-d563-4e72-a7ef-cc2ad17ecb72"
      },
      "source": [
        "# Scale \n",
        "minmax = MinMaxScaler()\n",
        "exp_pos_X = minmax.fit_transform(exp_wide_df[pos_cols])\n",
        "exp_pos_X.shape"
      ],
      "execution_count": 92,
      "outputs": [
        {
          "output_type": "execute_result",
          "data": {
            "text/plain": [
              "(277, 83)"
            ]
          },
          "metadata": {
            "tags": []
          },
          "execution_count": 92
        }
      ]
    },
    {
      "cell_type": "markdown",
      "metadata": {
        "id": "3jROL0yWP5t8"
      },
      "source": [
        "### ML Analysis"
      ]
    },
    {
      "cell_type": "code",
      "metadata": {
        "id": "cjdQdNGXP1Qz"
      },
      "source": [
        "X_train_con, X_test_con, y_train_con, y_test_con = train_test_split(con_pos_X, con_wide_df['y_'], random_state=0, train_size=0.8)\n",
        "X_train_exp, X_test_exp, y_train_exp, y_test_exp = train_test_split(exp_pos_X, exp_wide_df['y_'], random_state=0, train_size=0.8)\n"
      ],
      "execution_count": 93,
      "outputs": []
    },
    {
      "cell_type": "code",
      "metadata": {
        "colab": {
          "base_uri": "https://localhost:8080/",
          "height": 204
        },
        "id": "H3DAGoi-QICr",
        "outputId": "06159f93-17d5-40ce-aedc-a5d340619562"
      },
      "source": [
        "# Define and Train ML Models\n",
        "con_clfs = [\n",
        "        LogisticRegression(),\n",
        "        DecisionTreeClassifier(),\n",
        "        RandomForestClassifier(),\n",
        "        GradientBoostingClassifier(),\n",
        "        GaussianNB(),\n",
        "        MultinomialNB()\n",
        "]\n",
        "\n",
        "con_clf_pred_data = []\n",
        "\n",
        "for clf in con_clfs:\n",
        "  clf.fit(X_train_con, y_train_con)\n",
        "  sc = clf.score(X_test_con, y_test_con)\n",
        "  con_clf_pred_data.append([str(clf), sc, clf])\n",
        "\n",
        "con_pred_df = pd.DataFrame(con_clf_pred_data, columns = [\"clf_name\", \"score\", \"clf\"])\n",
        "con_pred_df.head()"
      ],
      "execution_count": 95,
      "outputs": [
        {
          "output_type": "execute_result",
          "data": {
            "text/html": [
              "<div>\n",
              "<style scoped>\n",
              "    .dataframe tbody tr th:only-of-type {\n",
              "        vertical-align: middle;\n",
              "    }\n",
              "\n",
              "    .dataframe tbody tr th {\n",
              "        vertical-align: top;\n",
              "    }\n",
              "\n",
              "    .dataframe thead th {\n",
              "        text-align: right;\n",
              "    }\n",
              "</style>\n",
              "<table border=\"1\" class=\"dataframe\">\n",
              "  <thead>\n",
              "    <tr style=\"text-align: right;\">\n",
              "      <th></th>\n",
              "      <th>clf_name</th>\n",
              "      <th>score</th>\n",
              "      <th>clf</th>\n",
              "    </tr>\n",
              "  </thead>\n",
              "  <tbody>\n",
              "    <tr>\n",
              "      <th>0</th>\n",
              "      <td>LogisticRegression(C=1.0, class_weight=None, d...</td>\n",
              "      <td>0.747967</td>\n",
              "      <td>LogisticRegression(C=1.0, class_weight=None, d...</td>\n",
              "    </tr>\n",
              "    <tr>\n",
              "      <th>1</th>\n",
              "      <td>DecisionTreeClassifier(ccp_alpha=0.0, class_we...</td>\n",
              "      <td>0.601626</td>\n",
              "      <td>DecisionTreeClassifier(ccp_alpha=0.0, class_we...</td>\n",
              "    </tr>\n",
              "    <tr>\n",
              "      <th>2</th>\n",
              "      <td>RandomForestClassifier(bootstrap=True, ccp_alp...</td>\n",
              "      <td>0.747967</td>\n",
              "      <td>(DecisionTreeClassifier(ccp_alpha=0.0, class_w...</td>\n",
              "    </tr>\n",
              "    <tr>\n",
              "      <th>3</th>\n",
              "      <td>GradientBoostingClassifier(ccp_alpha=0.0, crit...</td>\n",
              "      <td>0.715447</td>\n",
              "      <td>([DecisionTreeRegressor(ccp_alpha=0.0, criteri...</td>\n",
              "    </tr>\n",
              "    <tr>\n",
              "      <th>4</th>\n",
              "      <td>GaussianNB(priors=None, var_smoothing=1e-09)</td>\n",
              "      <td>0.382114</td>\n",
              "      <td>GaussianNB(priors=None, var_smoothing=1e-09)</td>\n",
              "    </tr>\n",
              "  </tbody>\n",
              "</table>\n",
              "</div>"
            ],
            "text/plain": [
              "                                            clf_name  ...                                                clf\n",
              "0  LogisticRegression(C=1.0, class_weight=None, d...  ...  LogisticRegression(C=1.0, class_weight=None, d...\n",
              "1  DecisionTreeClassifier(ccp_alpha=0.0, class_we...  ...  DecisionTreeClassifier(ccp_alpha=0.0, class_we...\n",
              "2  RandomForestClassifier(bootstrap=True, ccp_alp...  ...  (DecisionTreeClassifier(ccp_alpha=0.0, class_w...\n",
              "3  GradientBoostingClassifier(ccp_alpha=0.0, crit...  ...  ([DecisionTreeRegressor(ccp_alpha=0.0, criteri...\n",
              "4       GaussianNB(priors=None, var_smoothing=1e-09)  ...       GaussianNB(priors=None, var_smoothing=1e-09)\n",
              "\n",
              "[5 rows x 3 columns]"
            ]
          },
          "metadata": {
            "tags": []
          },
          "execution_count": 95
        }
      ]
    },
    {
      "cell_type": "code",
      "metadata": {
        "colab": {
          "base_uri": "https://localhost:8080/",
          "height": 204
        },
        "id": "wGTvvWoJQgN6",
        "outputId": "e27d6a4d-91fd-447d-8a16-20fcbe3eed8b"
      },
      "source": [
        "# Define and Train ML Models\n",
        "exp_clfs = [\n",
        "        LogisticRegression(),\n",
        "        DecisionTreeClassifier(),\n",
        "        RandomForestClassifier(),\n",
        "        GradientBoostingClassifier(),\n",
        "        GaussianNB(),\n",
        "        MultinomialNB()\n",
        "]\n",
        "\n",
        "exp_clf_pred_data = []\n",
        "\n",
        "for clf in exp_clfs:\n",
        "  clf.fit(X_train_exp, y_train_exp)\n",
        "  sc = clf.score(X_test_exp, y_test_exp)\n",
        "  exp_clf_pred_data.append([str(clf), sc, clf])\n",
        "\n",
        "exp_pred_df = pd.DataFrame(exp_clf_pred_data, columns = [\"clf_name\", \"score\", \"clf\"])\n",
        "exp_pred_df.head()"
      ],
      "execution_count": 96,
      "outputs": [
        {
          "output_type": "execute_result",
          "data": {
            "text/html": [
              "<div>\n",
              "<style scoped>\n",
              "    .dataframe tbody tr th:only-of-type {\n",
              "        vertical-align: middle;\n",
              "    }\n",
              "\n",
              "    .dataframe tbody tr th {\n",
              "        vertical-align: top;\n",
              "    }\n",
              "\n",
              "    .dataframe thead th {\n",
              "        text-align: right;\n",
              "    }\n",
              "</style>\n",
              "<table border=\"1\" class=\"dataframe\">\n",
              "  <thead>\n",
              "    <tr style=\"text-align: right;\">\n",
              "      <th></th>\n",
              "      <th>clf_name</th>\n",
              "      <th>score</th>\n",
              "      <th>clf</th>\n",
              "    </tr>\n",
              "  </thead>\n",
              "  <tbody>\n",
              "    <tr>\n",
              "      <th>0</th>\n",
              "      <td>LogisticRegression(C=1.0, class_weight=None, d...</td>\n",
              "      <td>0.678571</td>\n",
              "      <td>LogisticRegression(C=1.0, class_weight=None, d...</td>\n",
              "    </tr>\n",
              "    <tr>\n",
              "      <th>1</th>\n",
              "      <td>DecisionTreeClassifier(ccp_alpha=0.0, class_we...</td>\n",
              "      <td>0.625000</td>\n",
              "      <td>DecisionTreeClassifier(ccp_alpha=0.0, class_we...</td>\n",
              "    </tr>\n",
              "    <tr>\n",
              "      <th>2</th>\n",
              "      <td>RandomForestClassifier(bootstrap=True, ccp_alp...</td>\n",
              "      <td>0.660714</td>\n",
              "      <td>(DecisionTreeClassifier(ccp_alpha=0.0, class_w...</td>\n",
              "    </tr>\n",
              "    <tr>\n",
              "      <th>3</th>\n",
              "      <td>GradientBoostingClassifier(ccp_alpha=0.0, crit...</td>\n",
              "      <td>0.678571</td>\n",
              "      <td>([DecisionTreeRegressor(ccp_alpha=0.0, criteri...</td>\n",
              "    </tr>\n",
              "    <tr>\n",
              "      <th>4</th>\n",
              "      <td>GaussianNB(priors=None, var_smoothing=1e-09)</td>\n",
              "      <td>0.410714</td>\n",
              "      <td>GaussianNB(priors=None, var_smoothing=1e-09)</td>\n",
              "    </tr>\n",
              "  </tbody>\n",
              "</table>\n",
              "</div>"
            ],
            "text/plain": [
              "                                            clf_name  ...                                                clf\n",
              "0  LogisticRegression(C=1.0, class_weight=None, d...  ...  LogisticRegression(C=1.0, class_weight=None, d...\n",
              "1  DecisionTreeClassifier(ccp_alpha=0.0, class_we...  ...  DecisionTreeClassifier(ccp_alpha=0.0, class_we...\n",
              "2  RandomForestClassifier(bootstrap=True, ccp_alp...  ...  (DecisionTreeClassifier(ccp_alpha=0.0, class_w...\n",
              "3  GradientBoostingClassifier(ccp_alpha=0.0, crit...  ...  ([DecisionTreeRegressor(ccp_alpha=0.0, criteri...\n",
              "4       GaussianNB(priors=None, var_smoothing=1e-09)  ...       GaussianNB(priors=None, var_smoothing=1e-09)\n",
              "\n",
              "[5 rows x 3 columns]"
            ]
          },
          "metadata": {
            "tags": []
          },
          "execution_count": 96
        }
      ]
    },
    {
      "cell_type": "markdown",
      "metadata": {
        "id": "QqWdyH9XQ4Ct"
      },
      "source": [
        "### T-Testing"
      ]
    },
    {
      "cell_type": "code",
      "metadata": {
        "id": "kbiZ1ilJRCZS"
      },
      "source": [
        "from scipy import stats\n",
        "from itertools import combinations"
      ],
      "execution_count": 97,
      "outputs": []
    },
    {
      "cell_type": "code",
      "metadata": {
        "id": "6_BVklQXRCZT"
      },
      "source": [
        "position_list = [\"0_per_article_left\", \"1_per_article_lean_left\", \"2_per_article_center\", \"3_per_article_lean_right\", \"4_per_article_right\"]"
      ],
      "execution_count": 98,
      "outputs": []
    },
    {
      "cell_type": "code",
      "metadata": {
        "id": "0JF60cJoRCZT"
      },
      "source": [
        "con_title_df = pd.read_csv(os.path.join(control_path, \"title_stem_dataframe.csv\"))\n",
        "exp_title_df = pd.read_csv(os.path.join(experiment_path, \"title_stem_dataframe.csv\"))"
      ],
      "execution_count": 99,
      "outputs": []
    },
    {
      "cell_type": "code",
      "metadata": {
        "id": "utcF-ScVRCZT"
      },
      "source": [
        "con_body_df = pd.read_csv(os.path.join(control_path, \"body_stem_dataframe.csv\"))\n",
        "exp_body_df = pd.read_csv(os.path.join(experiment_path, \"body_stem_dataframe.csv\"))"
      ],
      "execution_count": 100,
      "outputs": []
    },
    {
      "cell_type": "code",
      "metadata": {
        "id": "Dj-oujH4RCZT"
      },
      "source": [
        "con_concept_df = pd.read_csv(os.path.join(control_path, \"concept_dataframe.csv\"))\n",
        "exp_concept_df = pd.read_csv(os.path.join(experiment_path, \"concept_dataframe.csv\"))"
      ],
      "execution_count": 101,
      "outputs": []
    },
    {
      "cell_type": "code",
      "metadata": {
        "id": "pB4LM4RORCZU"
      },
      "source": [
        "con_cat_df = pd.read_csv(os.path.join(control_path, \"category_dataframe.csv\"))\n",
        "exp_cat_df = pd.read_csv(os.path.join(experiment_path, \"category_dataframe.csv\"))"
      ],
      "execution_count": 102,
      "outputs": []
    },
    {
      "cell_type": "code",
      "metadata": {
        "id": "1DmZJTy8Qz_8"
      },
      "source": [
        "# Type-specific\n",
        "con_type_dict = {}\n",
        "for t in con_concept_df[\"concept_type\"].unique():\n",
        "  con_type_dict[t] = con_concept_df[con_concept_df[\"concept_type\"] == t]\n",
        "\n",
        "exp_type_dict = {}\n",
        "for t in exp_concept_df[\"concept_type\"].unique():\n",
        "  exp_type_dict[t] = exp_concept_df[exp_concept_df[\"concept_type\"] == t]"
      ],
      "execution_count": 106,
      "outputs": []
    },
    {
      "cell_type": "code",
      "metadata": {
        "id": "NX490y1jR-C3"
      },
      "source": [
        ""
      ],
      "execution_count": null,
      "outputs": []
    },
    {
      "cell_type": "markdown",
      "metadata": {
        "id": "0wTH5LGaSQgE"
      },
      "source": [
        "## Top Comparisons"
      ]
    },
    {
      "cell_type": "markdown",
      "metadata": {
        "id": "EMY7oyq_Sadn"
      },
      "source": [
        "### ML Model POS Analysis and Weightage"
      ]
    },
    {
      "cell_type": "markdown",
      "metadata": {
        "id": "YLGZRlfYSadn"
      },
      "source": [
        "#### Logistic Regression (Exp: Accuracy of 0.679, Con: Accuracy of 0.748)"
      ]
    },
    {
      "cell_type": "code",
      "metadata": {
        "id": "BeqgLMP2Sado"
      },
      "source": [
        "log_reg_features_exp = list(sorted(zip(exp_wide_df[pos_cols].columns.values, exp_pred_df['clf'].iloc[0].coef_[0]), key = lambda x: x[1], reverse = True))"
      ],
      "execution_count": 108,
      "outputs": []
    },
    {
      "cell_type": "code",
      "metadata": {
        "id": "x5NYoIF3S4aw"
      },
      "source": [
        "log_reg_features_con = list(sorted(zip(con_wide_df[pos_cols].columns.values, con_pred_df['clf'].iloc[0].coef_[0]), key = lambda x: x[1], reverse = True))"
      ],
      "execution_count": 109,
      "outputs": []
    },
    {
      "cell_type": "code",
      "metadata": {
        "id": "Gw8ALKpvSado"
      },
      "source": [
        "log_reg_df = pd.DataFrame([[a for a, b in log_reg_features_exp],\n",
        "                           [b for a, b in log_reg_features_exp],\n",
        "                           [a for a, b in log_reg_features_con],\n",
        "                           [b for a, b in log_reg_features_con]],\n",
        "                          index = [\"Experiment POS (AAPI Articles)\",\n",
        "                                   \"Experiment Coefficient (AAPI Articles)\",\n",
        "                                   \"Control POS (Sample of All Articles)\",\n",
        "                                   \"Control Coefficient (Sample of All Articles)\"]).T"
      ],
      "execution_count": 115,
      "outputs": []
    },
    {
      "cell_type": "code",
      "metadata": {
        "colab": {
          "base_uri": "https://localhost:8080/",
          "height": 221
        },
        "id": "hCbX9PLaTzFm",
        "outputId": "de5011ed-e908-484f-f877-64ff739dc583"
      },
      "source": [
        "log_reg_df.head() # Most Indicative of Left Media"
      ],
      "execution_count": 116,
      "outputs": [
        {
          "output_type": "execute_result",
          "data": {
            "text/html": [
              "<div>\n",
              "<style scoped>\n",
              "    .dataframe tbody tr th:only-of-type {\n",
              "        vertical-align: middle;\n",
              "    }\n",
              "\n",
              "    .dataframe tbody tr th {\n",
              "        vertical-align: top;\n",
              "    }\n",
              "\n",
              "    .dataframe thead th {\n",
              "        text-align: right;\n",
              "    }\n",
              "</style>\n",
              "<table border=\"1\" class=\"dataframe\">\n",
              "  <thead>\n",
              "    <tr style=\"text-align: right;\">\n",
              "      <th></th>\n",
              "      <th>Experiment POS (AAPI Articles)</th>\n",
              "      <th>Experiment Coefficient (AAPI Articles)</th>\n",
              "      <th>Control POS (Sample of All Articles)</th>\n",
              "      <th>Control Coefficient (Sample of All Articles)</th>\n",
              "    </tr>\n",
              "  </thead>\n",
              "  <tbody>\n",
              "    <tr>\n",
              "      <th>0</th>\n",
              "      <td>body_VB_per_word</td>\n",
              "      <td>1.07717</td>\n",
              "      <td>body_VBN_per_word</td>\n",
              "      <td>1.16745</td>\n",
              "    </tr>\n",
              "    <tr>\n",
              "      <th>1</th>\n",
              "      <td>body_NN_per_word</td>\n",
              "      <td>0.998356</td>\n",
              "      <td>body_NNS_per_word</td>\n",
              "      <td>0.87811</td>\n",
              "    </tr>\n",
              "    <tr>\n",
              "      <th>2</th>\n",
              "      <td>title_RB_per_word</td>\n",
              "      <td>0.825495</td>\n",
              "      <td>body_VB_per_word</td>\n",
              "      <td>0.801485</td>\n",
              "    </tr>\n",
              "    <tr>\n",
              "      <th>3</th>\n",
              "      <td>title_VBD_per_word</td>\n",
              "      <td>0.749709</td>\n",
              "      <td>body_MD_per_word</td>\n",
              "      <td>0.797644</td>\n",
              "    </tr>\n",
              "    <tr>\n",
              "      <th>4</th>\n",
              "      <td>body_RBR_per_word</td>\n",
              "      <td>0.631863</td>\n",
              "      <td>body_CD_per_word</td>\n",
              "      <td>0.68295</td>\n",
              "    </tr>\n",
              "  </tbody>\n",
              "</table>\n",
              "</div>"
            ],
            "text/plain": [
              "  Experiment POS (AAPI Articles)  ... Control Coefficient (Sample of All Articles)\n",
              "0               body_VB_per_word  ...                                      1.16745\n",
              "1               body_NN_per_word  ...                                      0.87811\n",
              "2              title_RB_per_word  ...                                     0.801485\n",
              "3             title_VBD_per_word  ...                                     0.797644\n",
              "4              body_RBR_per_word  ...                                      0.68295\n",
              "\n",
              "[5 rows x 4 columns]"
            ]
          },
          "metadata": {
            "tags": []
          },
          "execution_count": 116
        }
      ]
    },
    {
      "cell_type": "code",
      "metadata": {
        "colab": {
          "base_uri": "https://localhost:8080/",
          "height": 221
        },
        "id": "x0ChiiDPSadp",
        "outputId": "5477b42b-cf39-4823-9acc-386041af71bc"
      },
      "source": [
        "log_reg_df.tail() # Most Indicative of Right Media"
      ],
      "execution_count": 117,
      "outputs": [
        {
          "output_type": "execute_result",
          "data": {
            "text/html": [
              "<div>\n",
              "<style scoped>\n",
              "    .dataframe tbody tr th:only-of-type {\n",
              "        vertical-align: middle;\n",
              "    }\n",
              "\n",
              "    .dataframe tbody tr th {\n",
              "        vertical-align: top;\n",
              "    }\n",
              "\n",
              "    .dataframe thead th {\n",
              "        text-align: right;\n",
              "    }\n",
              "</style>\n",
              "<table border=\"1\" class=\"dataframe\">\n",
              "  <thead>\n",
              "    <tr style=\"text-align: right;\">\n",
              "      <th></th>\n",
              "      <th>Experiment POS (AAPI Articles)</th>\n",
              "      <th>Experiment Coefficient (AAPI Articles)</th>\n",
              "      <th>Control POS (Sample of All Articles)</th>\n",
              "      <th>Control Coefficient (Sample of All Articles)</th>\n",
              "    </tr>\n",
              "  </thead>\n",
              "  <tbody>\n",
              "    <tr>\n",
              "      <th>78</th>\n",
              "      <td>body_WRB_per_word</td>\n",
              "      <td>-0.673796</td>\n",
              "      <td>body_UH_per_word</td>\n",
              "      <td>-0.830197</td>\n",
              "    </tr>\n",
              "    <tr>\n",
              "      <th>79</th>\n",
              "      <td>title_TO_per_word</td>\n",
              "      <td>-0.676876</td>\n",
              "      <td>body_NNPS_per_word</td>\n",
              "      <td>-0.907292</td>\n",
              "    </tr>\n",
              "    <tr>\n",
              "      <th>80</th>\n",
              "      <td>body_NNP_per_word</td>\n",
              "      <td>-0.892435</td>\n",
              "      <td>body_WRB_per_word</td>\n",
              "      <td>-1.27202</td>\n",
              "    </tr>\n",
              "    <tr>\n",
              "      <th>81</th>\n",
              "      <td>body_NNPS_per_word</td>\n",
              "      <td>-0.970557</td>\n",
              "      <td>body_NNP_per_word</td>\n",
              "      <td>-1.48236</td>\n",
              "    </tr>\n",
              "    <tr>\n",
              "      <th>82</th>\n",
              "      <td>title_JJR_per_word</td>\n",
              "      <td>-0.976992</td>\n",
              "      <td>body_''_per_word</td>\n",
              "      <td>-1.74812</td>\n",
              "    </tr>\n",
              "  </tbody>\n",
              "</table>\n",
              "</div>"
            ],
            "text/plain": [
              "   Experiment POS (AAPI Articles)  ... Control Coefficient (Sample of All Articles)\n",
              "78              body_WRB_per_word  ...                                    -0.830197\n",
              "79              title_TO_per_word  ...                                    -0.907292\n",
              "80              body_NNP_per_word  ...                                     -1.27202\n",
              "81             body_NNPS_per_word  ...                                     -1.48236\n",
              "82             title_JJR_per_word  ...                                     -1.74812\n",
              "\n",
              "[5 rows x 4 columns]"
            ]
          },
          "metadata": {
            "tags": []
          },
          "execution_count": 117
        }
      ]
    },
    {
      "cell_type": "markdown",
      "metadata": {
        "id": "1t2JADfCSadp"
      },
      "source": [
        "#### Gradient Boosting Classifier (Exp: Accuracy of 0.679, Con: Accuracy of 0.724)"
      ]
    },
    {
      "cell_type": "code",
      "metadata": {
        "id": "mVRQfbkQSadp"
      },
      "source": [
        "grad_boost_features_exp = list(sorted(zip(exp_wide_df[pos_cols].columns.values, exp_pred_df['clf'].iloc[3].feature_importances_), key = lambda x: x[1], reverse = True))"
      ],
      "execution_count": 119,
      "outputs": []
    },
    {
      "cell_type": "code",
      "metadata": {
        "id": "tpKFyeF_UIwJ"
      },
      "source": [
        "grad_boost_features_con = list(sorted(zip(con_wide_df[pos_cols].columns.values, con_pred_df['clf'].iloc[3].feature_importances_), key = lambda x: x[1], reverse = True))"
      ],
      "execution_count": 120,
      "outputs": []
    },
    {
      "cell_type": "code",
      "metadata": {
        "id": "6uFKMgl9Sadp"
      },
      "source": [
        "grad_boost_df = pd.DataFrame([[a for a, b in grad_boost_features_exp],\n",
        "                           [b for a, b in grad_boost_features_exp],\n",
        "                           [a for a, b in grad_boost_features_con],\n",
        "                           [b for a, b in grad_boost_features_con]],\n",
        "                          index = [\"Experiment POS (AAPI Articles)\",\n",
        "                                   \"Experiment Coefficient (AAPI Articles)\",\n",
        "                                   \"Control POS (Sample of All Articles)\",\n",
        "                                   \"Control Coefficient (Sample of All Articles)\"]).T"
      ],
      "execution_count": 121,
      "outputs": []
    },
    {
      "cell_type": "code",
      "metadata": {
        "colab": {
          "base_uri": "https://localhost:8080/",
          "height": 376
        },
        "id": "IvuyX0kdSadp",
        "outputId": "8db0e6a1-3f78-48fd-8cc3-9acd00a6ec90"
      },
      "source": [
        "grad_boost_df.head(10) # 10 Most Considered Features"
      ],
      "execution_count": 122,
      "outputs": [
        {
          "output_type": "execute_result",
          "data": {
            "text/html": [
              "<div>\n",
              "<style scoped>\n",
              "    .dataframe tbody tr th:only-of-type {\n",
              "        vertical-align: middle;\n",
              "    }\n",
              "\n",
              "    .dataframe tbody tr th {\n",
              "        vertical-align: top;\n",
              "    }\n",
              "\n",
              "    .dataframe thead th {\n",
              "        text-align: right;\n",
              "    }\n",
              "</style>\n",
              "<table border=\"1\" class=\"dataframe\">\n",
              "  <thead>\n",
              "    <tr style=\"text-align: right;\">\n",
              "      <th></th>\n",
              "      <th>Experiment POS (AAPI Articles)</th>\n",
              "      <th>Experiment Coefficient (AAPI Articles)</th>\n",
              "      <th>Control POS (Sample of All Articles)</th>\n",
              "      <th>Control Coefficient (Sample of All Articles)</th>\n",
              "    </tr>\n",
              "  </thead>\n",
              "  <tbody>\n",
              "    <tr>\n",
              "      <th>0</th>\n",
              "      <td>body_NN_per_word</td>\n",
              "      <td>0.114567</td>\n",
              "      <td>body_''_per_word</td>\n",
              "      <td>0.0895591</td>\n",
              "    </tr>\n",
              "    <tr>\n",
              "      <th>1</th>\n",
              "      <td>body_)_per_word</td>\n",
              "      <td>0.0751465</td>\n",
              "      <td>body_(_per_word</td>\n",
              "      <td>0.0546786</td>\n",
              "    </tr>\n",
              "    <tr>\n",
              "      <th>2</th>\n",
              "      <td>body_VBG_per_word</td>\n",
              "      <td>0.0674158</td>\n",
              "      <td>body_VBZ_per_word</td>\n",
              "      <td>0.0541373</td>\n",
              "    </tr>\n",
              "    <tr>\n",
              "      <th>3</th>\n",
              "      <td>body_NNPS_per_word</td>\n",
              "      <td>0.066687</td>\n",
              "      <td>body_NNP_per_word</td>\n",
              "      <td>0.0496414</td>\n",
              "    </tr>\n",
              "    <tr>\n",
              "      <th>4</th>\n",
              "      <td>body_._per_word</td>\n",
              "      <td>0.0636933</td>\n",
              "      <td>body_:_per_word</td>\n",
              "      <td>0.0487489</td>\n",
              "    </tr>\n",
              "    <tr>\n",
              "      <th>5</th>\n",
              "      <td>body_NNP_per_word</td>\n",
              "      <td>0.0570282</td>\n",
              "      <td>body_NN_per_word</td>\n",
              "      <td>0.0424754</td>\n",
              "    </tr>\n",
              "    <tr>\n",
              "      <th>6</th>\n",
              "      <td>title_NNP_per_word</td>\n",
              "      <td>0.0553456</td>\n",
              "      <td>body_NNS_per_word</td>\n",
              "      <td>0.0396343</td>\n",
              "    </tr>\n",
              "    <tr>\n",
              "      <th>7</th>\n",
              "      <td>body_(_per_word</td>\n",
              "      <td>0.053091</td>\n",
              "      <td>body_PRP_per_word</td>\n",
              "      <td>0.0360344</td>\n",
              "    </tr>\n",
              "    <tr>\n",
              "      <th>8</th>\n",
              "      <td>body_VBZ_per_word</td>\n",
              "      <td>0.0431352</td>\n",
              "      <td>body_VBN_per_word</td>\n",
              "      <td>0.0350053</td>\n",
              "    </tr>\n",
              "    <tr>\n",
              "      <th>9</th>\n",
              "      <td>body_WP$_per_word</td>\n",
              "      <td>0.0414203</td>\n",
              "      <td>body_IN_per_word</td>\n",
              "      <td>0.0337064</td>\n",
              "    </tr>\n",
              "  </tbody>\n",
              "</table>\n",
              "</div>"
            ],
            "text/plain": [
              "  Experiment POS (AAPI Articles)  ... Control Coefficient (Sample of All Articles)\n",
              "0               body_NN_per_word  ...                                    0.0895591\n",
              "1                body_)_per_word  ...                                    0.0546786\n",
              "2              body_VBG_per_word  ...                                    0.0541373\n",
              "3             body_NNPS_per_word  ...                                    0.0496414\n",
              "4                body_._per_word  ...                                    0.0487489\n",
              "5              body_NNP_per_word  ...                                    0.0424754\n",
              "6             title_NNP_per_word  ...                                    0.0396343\n",
              "7                body_(_per_word  ...                                    0.0360344\n",
              "8              body_VBZ_per_word  ...                                    0.0350053\n",
              "9              body_WP$_per_word  ...                                    0.0337064\n",
              "\n",
              "[10 rows x 4 columns]"
            ]
          },
          "metadata": {
            "tags": []
          },
          "execution_count": 122
        }
      ]
    },
    {
      "cell_type": "markdown",
      "metadata": {
        "id": "cA551-3cSadq"
      },
      "source": [
        "### T-testing"
      ]
    },
    {
      "cell_type": "markdown",
      "metadata": {
        "id": "F2hlRnlmSadq"
      },
      "source": [
        "#### Concept Analysis"
      ]
    },
    {
      "cell_type": "code",
      "metadata": {
        "id": "rNVy96h9Sadq"
      },
      "source": [
        "con_org_ttest = stats.ttest_ind(con_type_dict[\"org\"][\"1_per_article_lean_left\"], con_type_dict[\"org\"][\"3_per_article_lean_right\"])\n",
        "exp_org_ttest = stats.ttest_ind(exp_type_dict[\"org\"][\"1_per_article_lean_left\"], exp_type_dict[\"org\"][\"3_per_article_lean_right\"])"
      ],
      "execution_count": 124,
      "outputs": []
    },
    {
      "cell_type": "code",
      "metadata": {
        "colab": {
          "base_uri": "https://localhost:8080/"
        },
        "id": "usaCflDGUvKH",
        "outputId": "410c793e-a8c5-4ab4-d394-b026798a1224"
      },
      "source": [
        "print(f\"Control T-test Result: {con_org_ttest}\")\n",
        "print(f\"Experiment T-test Result: {exp_org_ttest}\")\n",
        "# Organization Concept Appearance Frequency Difference Between Lean Left and Lean Right Rejects Null Hypothesis"
      ],
      "execution_count": 125,
      "outputs": [
        {
          "output_type": "stream",
          "text": [
            "Control T-test Result: Ttest_indResult(statistic=-1.3291200602751512, pvalue=0.1839706724834787)\n",
            "Experiment T-test Result: Ttest_indResult(statistic=2.661611993602285, pvalue=0.007956181782695835)\n"
          ],
          "name": "stdout"
        }
      ]
    },
    {
      "cell_type": "markdown",
      "metadata": {
        "id": "oEPTnBvhSadq"
      },
      "source": [
        "#### Word Choice Analysis"
      ]
    },
    {
      "cell_type": "code",
      "metadata": {
        "id": "MNLIazYPSadq"
      },
      "source": [
        "con_body_ttest = stats.ttest_ind(con_body_df[\"0_per_article_left\"], con_body_df[\"4_per_article_right\"])\n",
        "exp_body_ttest = stats.ttest_ind(exp_body_df[\"0_per_article_left\"], exp_body_df[\"4_per_article_right\"])"
      ],
      "execution_count": 134,
      "outputs": []
    },
    {
      "cell_type": "code",
      "metadata": {
        "colab": {
          "base_uri": "https://localhost:8080/"
        },
        "id": "9JHRp-5nVId-",
        "outputId": "7cb01950-14ef-4cb0-fdfb-003be4b1835d"
      },
      "source": [
        "print(f\"Control T-test Result: {con_body_ttest}\")\n",
        "print(f\"Experiment T-test Result: {exp_body_ttest}\")\n",
        "\n",
        "# For Control: Cannot Reject Null Hypothesis for Word Choice Frequency Between Left and Right Media Articles\n",
        "\n",
        "# For Experiment: Reject Null Hypothesis for Word Choice Frequency Between Left and Right Media Articles"
      ],
      "execution_count": 135,
      "outputs": [
        {
          "output_type": "stream",
          "text": [
            "Control T-test Result: Ttest_indResult(statistic=-0.5636709868055977, pvalue=0.5729802770919314)\n",
            "Experiment T-test Result: Ttest_indResult(statistic=-2.037530872334374, pvalue=0.041606505612996406)\n"
          ],
          "name": "stdout"
        }
      ]
    },
    {
      "cell_type": "code",
      "metadata": {
        "id": "J3ZxJ2aySadq"
      },
      "source": [
        "con_body_ttest_lean = stats.ttest_ind(con_body_df[\"1_per_article_lean_left\"], con_body_df[\"3_per_article_lean_right\"])\n",
        "exp_body_ttest_lean = stats.ttest_ind(exp_body_df[\"1_per_article_lean_left\"], exp_body_df[\"3_per_article_lean_right\"])"
      ],
      "execution_count": 136,
      "outputs": []
    },
    {
      "cell_type": "code",
      "metadata": {
        "colab": {
          "base_uri": "https://localhost:8080/"
        },
        "id": "QS9freVMVXT2",
        "outputId": "583f5cbb-547d-4d2d-9706-2917431e9599"
      },
      "source": [
        "print(f\"Control T-test Result: {con_body_ttest_lean}\")\n",
        "print(f\"Experiment T-test Result: {exp_body_ttest_lean}\")\n",
        "\n",
        "# For Control: Reject Null Hypothesis for Word Choice Frequency Between Lean Left and Lean Right Media Articles\n",
        "\n",
        "# For Experiment: Reject Null Hypothesis for Word Choice Frequency Between Lean Left and Lean Right Media Articles"
      ],
      "execution_count": 137,
      "outputs": [
        {
          "output_type": "stream",
          "text": [
            "Control T-test Result: Ttest_indResult(statistic=7.661906456243865, pvalue=1.86067648448322e-14)\n",
            "Experiment T-test Result: Ttest_indResult(statistic=-2.650916855085785, pvalue=0.00803199777917408)\n"
          ],
          "name": "stdout"
        }
      ]
    },
    {
      "cell_type": "code",
      "metadata": {
        "id": "B-os6sD3STGH"
      },
      "source": [
        ""
      ],
      "execution_count": null,
      "outputs": []
    }
  ]
}